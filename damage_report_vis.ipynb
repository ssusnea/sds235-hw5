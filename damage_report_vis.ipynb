{
 "cells": [
  {
   "cell_type": "code",
   "execution_count": 1,
   "metadata": {},
   "outputs": [],
   "source": [
    "import pandas as pd \n",
    "import numpy as np\n",
    "import matplotlib.pyplot as plt \n",
    "import geopandas as gpd\n",
    "import plotly.express as px"
   ]
  },
  {
   "cell_type": "code",
   "execution_count": 2,
   "metadata": {},
   "outputs": [],
   "source": [
    "damage_report = pd.read_csv(\"hw05-data/Damage Reports/mc1-reports-data.csv\",low_memory=False)"
   ]
  },
  {
   "cell_type": "code",
   "execution_count": 3,
   "metadata": {},
   "outputs": [
    {
     "data": {
      "text/html": [
       "<div>\n",
       "<style scoped>\n",
       "    .dataframe tbody tr th:only-of-type {\n",
       "        vertical-align: middle;\n",
       "    }\n",
       "\n",
       "    .dataframe tbody tr th {\n",
       "        vertical-align: top;\n",
       "    }\n",
       "\n",
       "    .dataframe thead th {\n",
       "        text-align: right;\n",
       "    }\n",
       "</style>\n",
       "<table border=\"1\" class=\"dataframe\">\n",
       "  <thead>\n",
       "    <tr style=\"text-align: right;\">\n",
       "      <th></th>\n",
       "      <th>sewer_and_water</th>\n",
       "      <th>power</th>\n",
       "      <th>roads_and_bridges</th>\n",
       "      <th>medical</th>\n",
       "      <th>buildings</th>\n",
       "      <th>shake_intensity</th>\n",
       "      <th>location</th>\n",
       "    </tr>\n",
       "    <tr>\n",
       "      <th>time</th>\n",
       "      <th></th>\n",
       "      <th></th>\n",
       "      <th></th>\n",
       "      <th></th>\n",
       "      <th></th>\n",
       "      <th></th>\n",
       "      <th></th>\n",
       "    </tr>\n",
       "  </thead>\n",
       "  <tbody>\n",
       "    <tr>\n",
       "      <th>2020-04-08 17:50:00</th>\n",
       "      <td>10.0</td>\n",
       "      <td>6.0</td>\n",
       "      <td>10.0</td>\n",
       "      <td>3.0</td>\n",
       "      <td>8.0</td>\n",
       "      <td>NaN</td>\n",
       "      <td>1</td>\n",
       "    </tr>\n",
       "    <tr>\n",
       "      <th>2020-04-09 13:50:00</th>\n",
       "      <td>2.0</td>\n",
       "      <td>10.0</td>\n",
       "      <td>0.0</td>\n",
       "      <td>8.0</td>\n",
       "      <td>4.0</td>\n",
       "      <td>0.0</td>\n",
       "      <td>1</td>\n",
       "    </tr>\n",
       "    <tr>\n",
       "      <th>2020-04-09 00:20:00</th>\n",
       "      <td>7.0</td>\n",
       "      <td>10.0</td>\n",
       "      <td>10.0</td>\n",
       "      <td>9.0</td>\n",
       "      <td>10.0</td>\n",
       "      <td>0.0</td>\n",
       "      <td>1</td>\n",
       "    </tr>\n",
       "    <tr>\n",
       "      <th>2020-04-08 17:25:00</th>\n",
       "      <td>1.0</td>\n",
       "      <td>1.0</td>\n",
       "      <td>2.0</td>\n",
       "      <td>10.0</td>\n",
       "      <td>7.0</td>\n",
       "      <td>NaN</td>\n",
       "      <td>1</td>\n",
       "    </tr>\n",
       "    <tr>\n",
       "      <th>2020-04-08 02:50:00</th>\n",
       "      <td>9.0</td>\n",
       "      <td>7.0</td>\n",
       "      <td>1.0</td>\n",
       "      <td>6.0</td>\n",
       "      <td>9.0</td>\n",
       "      <td>NaN</td>\n",
       "      <td>1</td>\n",
       "    </tr>\n",
       "    <tr>\n",
       "      <th>...</th>\n",
       "      <td>...</td>\n",
       "      <td>...</td>\n",
       "      <td>...</td>\n",
       "      <td>...</td>\n",
       "      <td>...</td>\n",
       "      <td>...</td>\n",
       "      <td>...</td>\n",
       "    </tr>\n",
       "    <tr>\n",
       "      <th>2020-04-10 02:30:00</th>\n",
       "      <td>9.0</td>\n",
       "      <td>10.0</td>\n",
       "      <td>10.0</td>\n",
       "      <td>NaN</td>\n",
       "      <td>7.0</td>\n",
       "      <td>2.0</td>\n",
       "      <td>8</td>\n",
       "    </tr>\n",
       "    <tr>\n",
       "      <th>2020-04-10 02:30:00</th>\n",
       "      <td>8.0</td>\n",
       "      <td>10.0</td>\n",
       "      <td>10.0</td>\n",
       "      <td>NaN</td>\n",
       "      <td>7.0</td>\n",
       "      <td>1.0</td>\n",
       "      <td>8</td>\n",
       "    </tr>\n",
       "    <tr>\n",
       "      <th>2020-04-09 16:45:00</th>\n",
       "      <td>10.0</td>\n",
       "      <td>9.0</td>\n",
       "      <td>10.0</td>\n",
       "      <td>NaN</td>\n",
       "      <td>8.0</td>\n",
       "      <td>1.0</td>\n",
       "      <td>8</td>\n",
       "    </tr>\n",
       "    <tr>\n",
       "      <th>2020-04-09 16:55:00</th>\n",
       "      <td>8.0</td>\n",
       "      <td>8.0</td>\n",
       "      <td>9.0</td>\n",
       "      <td>NaN</td>\n",
       "      <td>7.0</td>\n",
       "      <td>0.0</td>\n",
       "      <td>8</td>\n",
       "    </tr>\n",
       "    <tr>\n",
       "      <th>2020-04-10 02:30:00</th>\n",
       "      <td>9.0</td>\n",
       "      <td>10.0</td>\n",
       "      <td>10.0</td>\n",
       "      <td>NaN</td>\n",
       "      <td>6.0</td>\n",
       "      <td>-0.0</td>\n",
       "      <td>8</td>\n",
       "    </tr>\n",
       "  </tbody>\n",
       "</table>\n",
       "<p>83070 rows × 7 columns</p>\n",
       "</div>"
      ],
      "text/plain": [
       "                     sewer_and_water  power  roads_and_bridges  medical  \\\n",
       "time                                                                      \n",
       "2020-04-08 17:50:00             10.0    6.0               10.0      3.0   \n",
       "2020-04-09 13:50:00              2.0   10.0                0.0      8.0   \n",
       "2020-04-09 00:20:00              7.0   10.0               10.0      9.0   \n",
       "2020-04-08 17:25:00              1.0    1.0                2.0     10.0   \n",
       "2020-04-08 02:50:00              9.0    7.0                1.0      6.0   \n",
       "...                              ...    ...                ...      ...   \n",
       "2020-04-10 02:30:00              9.0   10.0               10.0      NaN   \n",
       "2020-04-10 02:30:00              8.0   10.0               10.0      NaN   \n",
       "2020-04-09 16:45:00             10.0    9.0               10.0      NaN   \n",
       "2020-04-09 16:55:00              8.0    8.0                9.0      NaN   \n",
       "2020-04-10 02:30:00              9.0   10.0               10.0      NaN   \n",
       "\n",
       "                     buildings  shake_intensity  location  \n",
       "time                                                       \n",
       "2020-04-08 17:50:00        8.0              NaN         1  \n",
       "2020-04-09 13:50:00        4.0              0.0         1  \n",
       "2020-04-09 00:20:00       10.0              0.0         1  \n",
       "2020-04-08 17:25:00        7.0              NaN         1  \n",
       "2020-04-08 02:50:00        9.0              NaN         1  \n",
       "...                        ...              ...       ...  \n",
       "2020-04-10 02:30:00        7.0              2.0         8  \n",
       "2020-04-10 02:30:00        7.0              1.0         8  \n",
       "2020-04-09 16:45:00        8.0              1.0         8  \n",
       "2020-04-09 16:55:00        7.0              0.0         8  \n",
       "2020-04-10 02:30:00        6.0             -0.0         8  \n",
       "\n",
       "[83070 rows x 7 columns]"
      ]
     },
     "execution_count": 3,
     "metadata": {},
     "output_type": "execute_result"
    }
   ],
   "source": [
    "damage_report['time'] = pd.to_datetime(damage_report['time'])\n",
    "damage_report.set_index('time', inplace=True)\n",
    "damage_report"
   ]
  },
  {
   "cell_type": "code",
   "execution_count": 4,
   "metadata": {},
   "outputs": [
    {
     "data": {
      "text/html": [
       "<div>\n",
       "<style scoped>\n",
       "    .dataframe tbody tr th:only-of-type {\n",
       "        vertical-align: middle;\n",
       "    }\n",
       "\n",
       "    .dataframe tbody tr th {\n",
       "        vertical-align: top;\n",
       "    }\n",
       "\n",
       "    .dataframe thead th {\n",
       "        text-align: right;\n",
       "    }\n",
       "</style>\n",
       "<table border=\"1\" class=\"dataframe\">\n",
       "  <thead>\n",
       "    <tr style=\"text-align: right;\">\n",
       "      <th></th>\n",
       "      <th>time</th>\n",
       "      <th>location</th>\n",
       "      <th>sewer_and_water</th>\n",
       "      <th>power</th>\n",
       "      <th>roads_and_bridges</th>\n",
       "      <th>medical</th>\n",
       "      <th>buildings</th>\n",
       "      <th>shake_intensity</th>\n",
       "    </tr>\n",
       "  </thead>\n",
       "  <tbody>\n",
       "    <tr>\n",
       "      <th>0</th>\n",
       "      <td>2020-04-06</td>\n",
       "      <td>2</td>\n",
       "      <td>2.0</td>\n",
       "      <td>8.0</td>\n",
       "      <td>5.0</td>\n",
       "      <td>NaN</td>\n",
       "      <td>3.0</td>\n",
       "      <td>0.0</td>\n",
       "    </tr>\n",
       "    <tr>\n",
       "      <th>1</th>\n",
       "      <td>2020-04-06</td>\n",
       "      <td>3</td>\n",
       "      <td>6.0</td>\n",
       "      <td>3.0</td>\n",
       "      <td>10.0</td>\n",
       "      <td>10.0</td>\n",
       "      <td>9.0</td>\n",
       "      <td>NaN</td>\n",
       "    </tr>\n",
       "    <tr>\n",
       "      <th>2</th>\n",
       "      <td>2020-04-06</td>\n",
       "      <td>4</td>\n",
       "      <td>9.0</td>\n",
       "      <td>1.5</td>\n",
       "      <td>9.5</td>\n",
       "      <td>NaN</td>\n",
       "      <td>6.5</td>\n",
       "      <td>1.0</td>\n",
       "    </tr>\n",
       "    <tr>\n",
       "      <th>3</th>\n",
       "      <td>2020-04-06</td>\n",
       "      <td>8</td>\n",
       "      <td>9.0</td>\n",
       "      <td>7.0</td>\n",
       "      <td>5.0</td>\n",
       "      <td>NaN</td>\n",
       "      <td>4.0</td>\n",
       "      <td>NaN</td>\n",
       "    </tr>\n",
       "    <tr>\n",
       "      <th>4</th>\n",
       "      <td>2020-04-06</td>\n",
       "      <td>15</td>\n",
       "      <td>6.0</td>\n",
       "      <td>2.0</td>\n",
       "      <td>9.0</td>\n",
       "      <td>NaN</td>\n",
       "      <td>4.0</td>\n",
       "      <td>1.0</td>\n",
       "    </tr>\n",
       "    <tr>\n",
       "      <th>...</th>\n",
       "      <td>...</td>\n",
       "      <td>...</td>\n",
       "      <td>...</td>\n",
       "      <td>...</td>\n",
       "      <td>...</td>\n",
       "      <td>...</td>\n",
       "      <td>...</td>\n",
       "      <td>...</td>\n",
       "    </tr>\n",
       "    <tr>\n",
       "      <th>10284</th>\n",
       "      <td>2020-04-11</td>\n",
       "      <td>2</td>\n",
       "      <td>6.0</td>\n",
       "      <td>1.5</td>\n",
       "      <td>5.0</td>\n",
       "      <td>NaN</td>\n",
       "      <td>4.5</td>\n",
       "      <td>0.0</td>\n",
       "    </tr>\n",
       "    <tr>\n",
       "      <th>10285</th>\n",
       "      <td>2020-04-11</td>\n",
       "      <td>6</td>\n",
       "      <td>7.0</td>\n",
       "      <td>7.0</td>\n",
       "      <td>8.0</td>\n",
       "      <td>10.0</td>\n",
       "      <td>10.0</td>\n",
       "      <td>NaN</td>\n",
       "    </tr>\n",
       "    <tr>\n",
       "      <th>10286</th>\n",
       "      <td>2020-04-11</td>\n",
       "      <td>13</td>\n",
       "      <td>4.0</td>\n",
       "      <td>9.0</td>\n",
       "      <td>7.0</td>\n",
       "      <td>NaN</td>\n",
       "      <td>7.0</td>\n",
       "      <td>NaN</td>\n",
       "    </tr>\n",
       "    <tr>\n",
       "      <th>10287</th>\n",
       "      <td>2020-04-11</td>\n",
       "      <td>15</td>\n",
       "      <td>5.0</td>\n",
       "      <td>1.0</td>\n",
       "      <td>3.0</td>\n",
       "      <td>NaN</td>\n",
       "      <td>2.0</td>\n",
       "      <td>NaN</td>\n",
       "    </tr>\n",
       "    <tr>\n",
       "      <th>10288</th>\n",
       "      <td>2020-04-11</td>\n",
       "      <td>18</td>\n",
       "      <td>5.0</td>\n",
       "      <td>9.0</td>\n",
       "      <td>6.0</td>\n",
       "      <td>NaN</td>\n",
       "      <td>2.0</td>\n",
       "      <td>0.0</td>\n",
       "    </tr>\n",
       "  </tbody>\n",
       "</table>\n",
       "<p>10289 rows × 8 columns</p>\n",
       "</div>"
      ],
      "text/plain": [
       "            time  location  sewer_and_water  power  roads_and_bridges  \\\n",
       "0     2020-04-06         2              2.0    8.0                5.0   \n",
       "1     2020-04-06         3              6.0    3.0               10.0   \n",
       "2     2020-04-06         4              9.0    1.5                9.5   \n",
       "3     2020-04-06         8              9.0    7.0                5.0   \n",
       "4     2020-04-06        15              6.0    2.0                9.0   \n",
       "...          ...       ...              ...    ...                ...   \n",
       "10284 2020-04-11         2              6.0    1.5                5.0   \n",
       "10285 2020-04-11         6              7.0    7.0                8.0   \n",
       "10286 2020-04-11        13              4.0    9.0                7.0   \n",
       "10287 2020-04-11        15              5.0    1.0                3.0   \n",
       "10288 2020-04-11        18              5.0    9.0                6.0   \n",
       "\n",
       "       medical  buildings  shake_intensity  \n",
       "0          NaN        3.0              0.0  \n",
       "1         10.0        9.0              NaN  \n",
       "2          NaN        6.5              1.0  \n",
       "3          NaN        4.0              NaN  \n",
       "4          NaN        4.0              1.0  \n",
       "...        ...        ...              ...  \n",
       "10284      NaN        4.5              0.0  \n",
       "10285     10.0       10.0              NaN  \n",
       "10286      NaN        7.0              NaN  \n",
       "10287      NaN        2.0              NaN  \n",
       "10288      NaN        2.0              0.0  \n",
       "\n",
       "[10289 rows x 8 columns]"
      ]
     },
     "execution_count": 4,
     "metadata": {},
     "output_type": "execute_result"
    }
   ],
   "source": [
    "# Aggregate by time, location, and geometry, calculating the mean while ignoring NaN values\n",
    "damage_report_clean = damage_report.groupby(['time', 'location']).agg({\n",
    "    'sewer_and_water': lambda x: x.mean(skipna=True),\n",
    "    'power': lambda x: x.mean(skipna=True),\n",
    "    'roads_and_bridges': lambda x: x.mean(skipna=True),\n",
    "    'medical': lambda x: x.mean(skipna=True),\n",
    "    'buildings': lambda x: x.mean(skipna=True),\n",
    "    'shake_intensity': lambda x: x.mean(skipna=True)\n",
    "}).reset_index()\n",
    "\n",
    "# Output the cleaned and aggregated DataFrame\n",
    "damage_report_clean\n"
   ]
  },
  {
   "cell_type": "code",
   "execution_count": 5,
   "metadata": {},
   "outputs": [
    {
     "data": {
      "text/html": [
       "<div>\n",
       "<style scoped>\n",
       "    .dataframe tbody tr th:only-of-type {\n",
       "        vertical-align: middle;\n",
       "    }\n",
       "\n",
       "    .dataframe tbody tr th {\n",
       "        vertical-align: top;\n",
       "    }\n",
       "\n",
       "    .dataframe thead th {\n",
       "        text-align: right;\n",
       "    }\n",
       "</style>\n",
       "<table border=\"1\" class=\"dataframe\">\n",
       "  <thead>\n",
       "    <tr style=\"text-align: right;\">\n",
       "      <th></th>\n",
       "      <th>Id</th>\n",
       "      <th>Nbrhood</th>\n",
       "      <th>geometry</th>\n",
       "    </tr>\n",
       "  </thead>\n",
       "  <tbody>\n",
       "    <tr>\n",
       "      <th>0</th>\n",
       "      <td>1</td>\n",
       "      <td>Palace Hills</td>\n",
       "      <td>POLYGON ((-13351493.656 17391.306, -13352311.8...</td>\n",
       "    </tr>\n",
       "    <tr>\n",
       "      <th>1</th>\n",
       "      <td>2</td>\n",
       "      <td>Northwest</td>\n",
       "      <td>POLYGON ((-13351493.656 17391.306, -13351491.3...</td>\n",
       "    </tr>\n",
       "    <tr>\n",
       "      <th>2</th>\n",
       "      <td>3</td>\n",
       "      <td>Old Town</td>\n",
       "      <td>POLYGON ((-13346410.677 22553.433, -13346405.9...</td>\n",
       "    </tr>\n",
       "    <tr>\n",
       "      <th>3</th>\n",
       "      <td>4</td>\n",
       "      <td>Safe Town</td>\n",
       "      <td>POLYGON ((-13337755.558 23739.715, -13337518.9...</td>\n",
       "    </tr>\n",
       "    <tr>\n",
       "      <th>4</th>\n",
       "      <td>5</td>\n",
       "      <td>Southwest</td>\n",
       "      <td>POLYGON ((-13352257.891 15740.887, -13352311.8...</td>\n",
       "    </tr>\n",
       "    <tr>\n",
       "      <th>5</th>\n",
       "      <td>6</td>\n",
       "      <td>Downtown</td>\n",
       "      <td>POLYGON ((-13347322.252 13950.46, -13349992.25...</td>\n",
       "    </tr>\n",
       "    <tr>\n",
       "      <th>6</th>\n",
       "      <td>7</td>\n",
       "      <td>Wilson Forest</td>\n",
       "      <td>POLYGON ((-13326281.927 6053.222, -13328243.84...</td>\n",
       "    </tr>\n",
       "    <tr>\n",
       "      <th>7</th>\n",
       "      <td>8</td>\n",
       "      <td>Scenic Vista</td>\n",
       "      <td>POLYGON ((-13326281.927 6053.222, -13326284.92...</td>\n",
       "    </tr>\n",
       "    <tr>\n",
       "      <th>8</th>\n",
       "      <td>9</td>\n",
       "      <td>Broadview</td>\n",
       "      <td>POLYGON ((-13336454.829 1419.691, -13336684.69...</td>\n",
       "    </tr>\n",
       "    <tr>\n",
       "      <th>9</th>\n",
       "      <td>10</td>\n",
       "      <td>Chapparal</td>\n",
       "      <td>POLYGON ((-13335203.444 7716.247, -13335278.73...</td>\n",
       "    </tr>\n",
       "    <tr>\n",
       "      <th>10</th>\n",
       "      <td>11</td>\n",
       "      <td>Terrapin Springs</td>\n",
       "      <td>POLYGON ((-13332861.51 4109.331, -13332922.313...</td>\n",
       "    </tr>\n",
       "    <tr>\n",
       "      <th>11</th>\n",
       "      <td>12</td>\n",
       "      <td>Pepper Mill</td>\n",
       "      <td>POLYGON ((-13328258.717 9227.536, -13332922.31...</td>\n",
       "    </tr>\n",
       "    <tr>\n",
       "      <th>12</th>\n",
       "      <td>13</td>\n",
       "      <td>Cheddarford</td>\n",
       "      <td>POLYGON ((-13333633.544 14998.643, -13332978.0...</td>\n",
       "    </tr>\n",
       "    <tr>\n",
       "      <th>13</th>\n",
       "      <td>14</td>\n",
       "      <td>Easton</td>\n",
       "      <td>POLYGON ((-13341132.317 15067.313, -13344603.3...</td>\n",
       "    </tr>\n",
       "    <tr>\n",
       "      <th>14</th>\n",
       "      <td>15</td>\n",
       "      <td>Weston</td>\n",
       "      <td>POLYGON ((-13344655.638 18673.309, -13344617.0...</td>\n",
       "    </tr>\n",
       "    <tr>\n",
       "      <th>15</th>\n",
       "      <td>16</td>\n",
       "      <td>Southton</td>\n",
       "      <td>POLYGON ((-13344603.385 15064.405, -13344642.7...</td>\n",
       "    </tr>\n",
       "    <tr>\n",
       "      <th>16</th>\n",
       "      <td>17</td>\n",
       "      <td>Oak Willow</td>\n",
       "      <td>POLYGON ((-13344669.141 9416.998, -13344426.07...</td>\n",
       "    </tr>\n",
       "    <tr>\n",
       "      <th>17</th>\n",
       "      <td>18</td>\n",
       "      <td>East Parton</td>\n",
       "      <td>POLYGON ((-13341170.018 10044.467, -13341132.3...</td>\n",
       "    </tr>\n",
       "    <tr>\n",
       "      <th>18</th>\n",
       "      <td>19</td>\n",
       "      <td>West Parton</td>\n",
       "      <td>POLYGON ((-13341132.317 15067.313, -13341170.0...</td>\n",
       "    </tr>\n",
       "  </tbody>\n",
       "</table>\n",
       "</div>"
      ],
      "text/plain": [
       "    Id           Nbrhood                                           geometry\n",
       "0    1      Palace Hills  POLYGON ((-13351493.656 17391.306, -13352311.8...\n",
       "1    2         Northwest  POLYGON ((-13351493.656 17391.306, -13351491.3...\n",
       "2    3          Old Town  POLYGON ((-13346410.677 22553.433, -13346405.9...\n",
       "3    4         Safe Town  POLYGON ((-13337755.558 23739.715, -13337518.9...\n",
       "4    5         Southwest  POLYGON ((-13352257.891 15740.887, -13352311.8...\n",
       "5    6          Downtown  POLYGON ((-13347322.252 13950.46, -13349992.25...\n",
       "6    7     Wilson Forest  POLYGON ((-13326281.927 6053.222, -13328243.84...\n",
       "7    8      Scenic Vista  POLYGON ((-13326281.927 6053.222, -13326284.92...\n",
       "8    9         Broadview  POLYGON ((-13336454.829 1419.691, -13336684.69...\n",
       "9   10         Chapparal  POLYGON ((-13335203.444 7716.247, -13335278.73...\n",
       "10  11  Terrapin Springs  POLYGON ((-13332861.51 4109.331, -13332922.313...\n",
       "11  12       Pepper Mill  POLYGON ((-13328258.717 9227.536, -13332922.31...\n",
       "12  13       Cheddarford  POLYGON ((-13333633.544 14998.643, -13332978.0...\n",
       "13  14            Easton  POLYGON ((-13341132.317 15067.313, -13344603.3...\n",
       "14  15            Weston  POLYGON ((-13344655.638 18673.309, -13344617.0...\n",
       "15  16          Southton  POLYGON ((-13344603.385 15064.405, -13344642.7...\n",
       "16  17        Oak Willow  POLYGON ((-13344669.141 9416.998, -13344426.07...\n",
       "17  18       East Parton  POLYGON ((-13341170.018 10044.467, -13341132.3...\n",
       "18  19       West Parton  POLYGON ((-13341132.317 15067.313, -13341170.0..."
      ]
     },
     "execution_count": 5,
     "metadata": {},
     "output_type": "execute_result"
    }
   ],
   "source": [
    "sth_neighborhood = gpd.read_file( \"hw05-data/Sensor Data and Maps/StHimarkNeighborhoodShapefiles/StHimark.shp\")\n",
    "sth_neighborhood"
   ]
  },
  {
   "cell_type": "code",
   "execution_count": 6,
   "metadata": {},
   "outputs": [
    {
     "data": {
      "image/png": "[encoded data removed]",
      "text/plain": [
       "<Figure size 640x480 with 1 Axes>"
      ]
     },
     "metadata": {},
     "output_type": "display_data"
    }
   ],
   "source": [
    "sth_neighborhood.plot()\n",
    "plt.title(\"StHimark Neighborhood Visualization\")\n",
    "plt.xlabel(\"Longitude\")\n",
    "plt.ylabel(\"Latitude\")\n",
    "plt.show()"
   ]
  },
  {
   "cell_type": "code",
   "execution_count": 7,
   "metadata": {},
   "outputs": [],
   "source": [
    "# damage_report_indexed = damage_report_clean.reset_index()\n",
    "# damage_report_indexed"
   ]
  },
  {
   "cell_type": "code",
   "execution_count": 8,
   "metadata": {},
   "outputs": [
    {
     "data": {
      "text/html": [
       "<div>\n",
       "<style scoped>\n",
       "    .dataframe tbody tr th:only-of-type {\n",
       "        vertical-align: middle;\n",
       "    }\n",
       "\n",
       "    .dataframe tbody tr th {\n",
       "        vertical-align: top;\n",
       "    }\n",
       "\n",
       "    .dataframe thead th {\n",
       "        text-align: right;\n",
       "    }\n",
       "</style>\n",
       "<table border=\"1\" class=\"dataframe\">\n",
       "  <thead>\n",
       "    <tr style=\"text-align: right;\">\n",
       "      <th></th>\n",
       "      <th>time</th>\n",
       "      <th>location</th>\n",
       "      <th>sewer_and_water</th>\n",
       "      <th>power</th>\n",
       "      <th>roads_and_bridges</th>\n",
       "      <th>medical</th>\n",
       "      <th>buildings</th>\n",
       "      <th>shake_intensity</th>\n",
       "      <th>geometry</th>\n",
       "    </tr>\n",
       "  </thead>\n",
       "  <tbody>\n",
       "    <tr>\n",
       "      <th>0</th>\n",
       "      <td>2020-04-06</td>\n",
       "      <td>2</td>\n",
       "      <td>2.0</td>\n",
       "      <td>8.0</td>\n",
       "      <td>5.0</td>\n",
       "      <td>NaN</td>\n",
       "      <td>3.0</td>\n",
       "      <td>0.0</td>\n",
       "      <td>POLYGON ((-13351493.656 17391.306, -13351491.3...</td>\n",
       "    </tr>\n",
       "    <tr>\n",
       "      <th>1</th>\n",
       "      <td>2020-04-06</td>\n",
       "      <td>3</td>\n",
       "      <td>6.0</td>\n",
       "      <td>3.0</td>\n",
       "      <td>10.0</td>\n",
       "      <td>10.0</td>\n",
       "      <td>9.0</td>\n",
       "      <td>NaN</td>\n",
       "      <td>POLYGON ((-13346410.677 22553.433, -13346405.9...</td>\n",
       "    </tr>\n",
       "    <tr>\n",
       "      <th>2</th>\n",
       "      <td>2020-04-06</td>\n",
       "      <td>4</td>\n",
       "      <td>9.0</td>\n",
       "      <td>1.5</td>\n",
       "      <td>9.5</td>\n",
       "      <td>NaN</td>\n",
       "      <td>6.5</td>\n",
       "      <td>1.0</td>\n",
       "      <td>POLYGON ((-13337755.558 23739.715, -13337518.9...</td>\n",
       "    </tr>\n",
       "    <tr>\n",
       "      <th>3</th>\n",
       "      <td>2020-04-06</td>\n",
       "      <td>8</td>\n",
       "      <td>9.0</td>\n",
       "      <td>7.0</td>\n",
       "      <td>5.0</td>\n",
       "      <td>NaN</td>\n",
       "      <td>4.0</td>\n",
       "      <td>NaN</td>\n",
       "      <td>POLYGON ((-13326281.927 6053.222, -13326284.92...</td>\n",
       "    </tr>\n",
       "    <tr>\n",
       "      <th>4</th>\n",
       "      <td>2020-04-06</td>\n",
       "      <td>15</td>\n",
       "      <td>6.0</td>\n",
       "      <td>2.0</td>\n",
       "      <td>9.0</td>\n",
       "      <td>NaN</td>\n",
       "      <td>4.0</td>\n",
       "      <td>1.0</td>\n",
       "      <td>POLYGON ((-13344655.638 18673.309, -13344617.0...</td>\n",
       "    </tr>\n",
       "    <tr>\n",
       "      <th>...</th>\n",
       "      <td>...</td>\n",
       "      <td>...</td>\n",
       "      <td>...</td>\n",
       "      <td>...</td>\n",
       "      <td>...</td>\n",
       "      <td>...</td>\n",
       "      <td>...</td>\n",
       "      <td>...</td>\n",
       "      <td>...</td>\n",
       "    </tr>\n",
       "    <tr>\n",
       "      <th>10284</th>\n",
       "      <td>2020-04-11</td>\n",
       "      <td>2</td>\n",
       "      <td>6.0</td>\n",
       "      <td>1.5</td>\n",
       "      <td>5.0</td>\n",
       "      <td>NaN</td>\n",
       "      <td>4.5</td>\n",
       "      <td>0.0</td>\n",
       "      <td>POLYGON ((-13351493.656 17391.306, -13351491.3...</td>\n",
       "    </tr>\n",
       "    <tr>\n",
       "      <th>10285</th>\n",
       "      <td>2020-04-11</td>\n",
       "      <td>6</td>\n",
       "      <td>7.0</td>\n",
       "      <td>7.0</td>\n",
       "      <td>8.0</td>\n",
       "      <td>10.0</td>\n",
       "      <td>10.0</td>\n",
       "      <td>NaN</td>\n",
       "      <td>POLYGON ((-13347322.252 13950.46, -13349992.25...</td>\n",
       "    </tr>\n",
       "    <tr>\n",
       "      <th>10286</th>\n",
       "      <td>2020-04-11</td>\n",
       "      <td>13</td>\n",
       "      <td>4.0</td>\n",
       "      <td>9.0</td>\n",
       "      <td>7.0</td>\n",
       "      <td>NaN</td>\n",
       "      <td>7.0</td>\n",
       "      <td>NaN</td>\n",
       "      <td>POLYGON ((-13333633.544 14998.643, -13332978.0...</td>\n",
       "    </tr>\n",
       "    <tr>\n",
       "      <th>10287</th>\n",
       "      <td>2020-04-11</td>\n",
       "      <td>15</td>\n",
       "      <td>5.0</td>\n",
       "      <td>1.0</td>\n",
       "      <td>3.0</td>\n",
       "      <td>NaN</td>\n",
       "      <td>2.0</td>\n",
       "      <td>NaN</td>\n",
       "      <td>POLYGON ((-13344655.638 18673.309, -13344617.0...</td>\n",
       "    </tr>\n",
       "    <tr>\n",
       "      <th>10288</th>\n",
       "      <td>2020-04-11</td>\n",
       "      <td>18</td>\n",
       "      <td>5.0</td>\n",
       "      <td>9.0</td>\n",
       "      <td>6.0</td>\n",
       "      <td>NaN</td>\n",
       "      <td>2.0</td>\n",
       "      <td>0.0</td>\n",
       "      <td>POLYGON ((-13341170.018 10044.467, -13341132.3...</td>\n",
       "    </tr>\n",
       "  </tbody>\n",
       "</table>\n",
       "<p>10289 rows × 9 columns</p>\n",
       "</div>"
      ],
      "text/plain": [
       "            time  location  sewer_and_water  power  roads_and_bridges  \\\n",
       "0     2020-04-06         2              2.0    8.0                5.0   \n",
       "1     2020-04-06         3              6.0    3.0               10.0   \n",
       "2     2020-04-06         4              9.0    1.5                9.5   \n",
       "3     2020-04-06         8              9.0    7.0                5.0   \n",
       "4     2020-04-06        15              6.0    2.0                9.0   \n",
       "...          ...       ...              ...    ...                ...   \n",
       "10284 2020-04-11         2              6.0    1.5                5.0   \n",
       "10285 2020-04-11         6              7.0    7.0                8.0   \n",
       "10286 2020-04-11        13              4.0    9.0                7.0   \n",
       "10287 2020-04-11        15              5.0    1.0                3.0   \n",
       "10288 2020-04-11        18              5.0    9.0                6.0   \n",
       "\n",
       "       medical  buildings  shake_intensity  \\\n",
       "0          NaN        3.0              0.0   \n",
       "1         10.0        9.0              NaN   \n",
       "2          NaN        6.5              1.0   \n",
       "3          NaN        4.0              NaN   \n",
       "4          NaN        4.0              1.0   \n",
       "...        ...        ...              ...   \n",
       "10284      NaN        4.5              0.0   \n",
       "10285     10.0       10.0              NaN   \n",
       "10286      NaN        7.0              NaN   \n",
       "10287      NaN        2.0              NaN   \n",
       "10288      NaN        2.0              0.0   \n",
       "\n",
       "                                                geometry  \n",
       "0      POLYGON ((-13351493.656 17391.306, -13351491.3...  \n",
       "1      POLYGON ((-13346410.677 22553.433, -13346405.9...  \n",
       "2      POLYGON ((-13337755.558 23739.715, -13337518.9...  \n",
       "3      POLYGON ((-13326281.927 6053.222, -13326284.92...  \n",
       "4      POLYGON ((-13344655.638 18673.309, -13344617.0...  \n",
       "...                                                  ...  \n",
       "10284  POLYGON ((-13351493.656 17391.306, -13351491.3...  \n",
       "10285  POLYGON ((-13347322.252 13950.46, -13349992.25...  \n",
       "10286  POLYGON ((-13333633.544 14998.643, -13332978.0...  \n",
       "10287  POLYGON ((-13344655.638 18673.309, -13344617.0...  \n",
       "10288  POLYGON ((-13341170.018 10044.467, -13341132.3...  \n",
       "\n",
       "[10289 rows x 9 columns]"
      ]
     },
     "execution_count": 8,
     "metadata": {},
     "output_type": "execute_result"
    }
   ],
   "source": [
    "sth_neighborhood = sth_neighborhood.rename(columns={\"Id\": \"location\"})\n",
    "damage_report_wiz_neighborhoods = damage_report_clean.merge(sth_neighborhood[['location', 'geometry']], how='left')\n",
    "damage_report_wiz_neighborhoods"
   ]
  },
  {
   "cell_type": "code",
   "execution_count": 9,
   "metadata": {},
   "outputs": [
    {
     "data": {
      "text/html": [
       "<div>\n",
       "<style scoped>\n",
       "    .dataframe tbody tr th:only-of-type {\n",
       "        vertical-align: middle;\n",
       "    }\n",
       "\n",
       "    .dataframe tbody tr th {\n",
       "        vertical-align: top;\n",
       "    }\n",
       "\n",
       "    .dataframe thead th {\n",
       "        text-align: right;\n",
       "    }\n",
       "</style>\n",
       "<table border=\"1\" class=\"dataframe\">\n",
       "  <thead>\n",
       "    <tr style=\"text-align: right;\">\n",
       "      <th></th>\n",
       "      <th>location</th>\n",
       "      <th>sewer_and_water</th>\n",
       "      <th>power</th>\n",
       "      <th>roads_and_bridges</th>\n",
       "      <th>medical</th>\n",
       "      <th>buildings</th>\n",
       "      <th>shake_intensity</th>\n",
       "      <th>geometry</th>\n",
       "    </tr>\n",
       "    <tr>\n",
       "      <th>time</th>\n",
       "      <th></th>\n",
       "      <th></th>\n",
       "      <th></th>\n",
       "      <th></th>\n",
       "      <th></th>\n",
       "      <th></th>\n",
       "      <th></th>\n",
       "      <th></th>\n",
       "    </tr>\n",
       "  </thead>\n",
       "  <tbody>\n",
       "    <tr>\n",
       "      <th>2020-04-06</th>\n",
       "      <td>2</td>\n",
       "      <td>2.0</td>\n",
       "      <td>8.0</td>\n",
       "      <td>5.0</td>\n",
       "      <td>NaN</td>\n",
       "      <td>3.0</td>\n",
       "      <td>0.0</td>\n",
       "      <td>POLYGON ((-13351493.656 17391.306, -13351491.3...</td>\n",
       "    </tr>\n",
       "    <tr>\n",
       "      <th>2020-04-06</th>\n",
       "      <td>3</td>\n",
       "      <td>6.0</td>\n",
       "      <td>3.0</td>\n",
       "      <td>10.0</td>\n",
       "      <td>10.0</td>\n",
       "      <td>9.0</td>\n",
       "      <td>NaN</td>\n",
       "      <td>POLYGON ((-13346410.677 22553.433, -13346405.9...</td>\n",
       "    </tr>\n",
       "    <tr>\n",
       "      <th>2020-04-06</th>\n",
       "      <td>4</td>\n",
       "      <td>9.0</td>\n",
       "      <td>1.5</td>\n",
       "      <td>9.5</td>\n",
       "      <td>NaN</td>\n",
       "      <td>6.5</td>\n",
       "      <td>1.0</td>\n",
       "      <td>POLYGON ((-13337755.558 23739.715, -13337518.9...</td>\n",
       "    </tr>\n",
       "    <tr>\n",
       "      <th>2020-04-06</th>\n",
       "      <td>8</td>\n",
       "      <td>9.0</td>\n",
       "      <td>7.0</td>\n",
       "      <td>5.0</td>\n",
       "      <td>NaN</td>\n",
       "      <td>4.0</td>\n",
       "      <td>NaN</td>\n",
       "      <td>POLYGON ((-13326281.927 6053.222, -13326284.92...</td>\n",
       "    </tr>\n",
       "    <tr>\n",
       "      <th>2020-04-06</th>\n",
       "      <td>15</td>\n",
       "      <td>6.0</td>\n",
       "      <td>2.0</td>\n",
       "      <td>9.0</td>\n",
       "      <td>NaN</td>\n",
       "      <td>4.0</td>\n",
       "      <td>1.0</td>\n",
       "      <td>POLYGON ((-13344655.638 18673.309, -13344617.0...</td>\n",
       "    </tr>\n",
       "    <tr>\n",
       "      <th>...</th>\n",
       "      <td>...</td>\n",
       "      <td>...</td>\n",
       "      <td>...</td>\n",
       "      <td>...</td>\n",
       "      <td>...</td>\n",
       "      <td>...</td>\n",
       "      <td>...</td>\n",
       "      <td>...</td>\n",
       "    </tr>\n",
       "    <tr>\n",
       "      <th>2020-04-11</th>\n",
       "      <td>2</td>\n",
       "      <td>6.0</td>\n",
       "      <td>1.5</td>\n",
       "      <td>5.0</td>\n",
       "      <td>NaN</td>\n",
       "      <td>4.5</td>\n",
       "      <td>0.0</td>\n",
       "      <td>POLYGON ((-13351493.656 17391.306, -13351491.3...</td>\n",
       "    </tr>\n",
       "    <tr>\n",
       "      <th>2020-04-11</th>\n",
       "      <td>6</td>\n",
       "      <td>7.0</td>\n",
       "      <td>7.0</td>\n",
       "      <td>8.0</td>\n",
       "      <td>10.0</td>\n",
       "      <td>10.0</td>\n",
       "      <td>NaN</td>\n",
       "      <td>POLYGON ((-13347322.252 13950.46, -13349992.25...</td>\n",
       "    </tr>\n",
       "    <tr>\n",
       "      <th>2020-04-11</th>\n",
       "      <td>13</td>\n",
       "      <td>4.0</td>\n",
       "      <td>9.0</td>\n",
       "      <td>7.0</td>\n",
       "      <td>NaN</td>\n",
       "      <td>7.0</td>\n",
       "      <td>NaN</td>\n",
       "      <td>POLYGON ((-13333633.544 14998.643, -13332978.0...</td>\n",
       "    </tr>\n",
       "    <tr>\n",
       "      <th>2020-04-11</th>\n",
       "      <td>15</td>\n",
       "      <td>5.0</td>\n",
       "      <td>1.0</td>\n",
       "      <td>3.0</td>\n",
       "      <td>NaN</td>\n",
       "      <td>2.0</td>\n",
       "      <td>NaN</td>\n",
       "      <td>POLYGON ((-13344655.638 18673.309, -13344617.0...</td>\n",
       "    </tr>\n",
       "    <tr>\n",
       "      <th>2020-04-11</th>\n",
       "      <td>18</td>\n",
       "      <td>5.0</td>\n",
       "      <td>9.0</td>\n",
       "      <td>6.0</td>\n",
       "      <td>NaN</td>\n",
       "      <td>2.0</td>\n",
       "      <td>0.0</td>\n",
       "      <td>POLYGON ((-13341170.018 10044.467, -13341132.3...</td>\n",
       "    </tr>\n",
       "  </tbody>\n",
       "</table>\n",
       "<p>10289 rows × 8 columns</p>\n",
       "</div>"
      ],
      "text/plain": [
       "            location  sewer_and_water  power  roads_and_bridges  medical  \\\n",
       "time                                                                       \n",
       "2020-04-06         2              2.0    8.0                5.0      NaN   \n",
       "2020-04-06         3              6.0    3.0               10.0     10.0   \n",
       "2020-04-06         4              9.0    1.5                9.5      NaN   \n",
       "2020-04-06         8              9.0    7.0                5.0      NaN   \n",
       "2020-04-06        15              6.0    2.0                9.0      NaN   \n",
       "...              ...              ...    ...                ...      ...   \n",
       "2020-04-11         2              6.0    1.5                5.0      NaN   \n",
       "2020-04-11         6              7.0    7.0                8.0     10.0   \n",
       "2020-04-11        13              4.0    9.0                7.0      NaN   \n",
       "2020-04-11        15              5.0    1.0                3.0      NaN   \n",
       "2020-04-11        18              5.0    9.0                6.0      NaN   \n",
       "\n",
       "            buildings  shake_intensity  \\\n",
       "time                                     \n",
       "2020-04-06        3.0              0.0   \n",
       "2020-04-06        9.0              NaN   \n",
       "2020-04-06        6.5              1.0   \n",
       "2020-04-06        4.0              NaN   \n",
       "2020-04-06        4.0              1.0   \n",
       "...               ...              ...   \n",
       "2020-04-11        4.5              0.0   \n",
       "2020-04-11       10.0              NaN   \n",
       "2020-04-11        7.0              NaN   \n",
       "2020-04-11        2.0              NaN   \n",
       "2020-04-11        2.0              0.0   \n",
       "\n",
       "                                                     geometry  \n",
       "time                                                           \n",
       "2020-04-06  POLYGON ((-13351493.656 17391.306, -13351491.3...  \n",
       "2020-04-06  POLYGON ((-13346410.677 22553.433, -13346405.9...  \n",
       "2020-04-06  POLYGON ((-13337755.558 23739.715, -13337518.9...  \n",
       "2020-04-06  POLYGON ((-13326281.927 6053.222, -13326284.92...  \n",
       "2020-04-06  POLYGON ((-13344655.638 18673.309, -13344617.0...  \n",
       "...                                                       ...  \n",
       "2020-04-11  POLYGON ((-13351493.656 17391.306, -13351491.3...  \n",
       "2020-04-11  POLYGON ((-13347322.252 13950.46, -13349992.25...  \n",
       "2020-04-11  POLYGON ((-13333633.544 14998.643, -13332978.0...  \n",
       "2020-04-11  POLYGON ((-13344655.638 18673.309, -13344617.0...  \n",
       "2020-04-11  POLYGON ((-13341170.018 10044.467, -13341132.3...  \n",
       "\n",
       "[10289 rows x 8 columns]"
      ]
     },
     "execution_count": 9,
     "metadata": {},
     "output_type": "execute_result"
    }
   ],
   "source": [
    "damage_report_wiz_neighborhoods.set_index('time')"
   ]
  },
  {
   "cell_type": "code",
   "execution_count": 10,
   "metadata": {},
   "outputs": [],
   "source": [
    "damage_report_wiz_neighborhoods['geometry'] = damage_report_wiz_neighborhoods['geometry'].apply(lambda geom: geom.wkt)"
   ]
  },
  {
   "cell_type": "code",
   "execution_count": 11,
   "metadata": {},
   "outputs": [],
   "source": [
    "damage_report_wiz_neighborhoods['time'] = pd.to_datetime(damage_report_wiz_neighborhoods['time'])\n",
    "damage_report_wiz_neighborhoods.set_index('time', inplace=True)"
   ]
  },
  {
   "cell_type": "code",
   "execution_count": 12,
   "metadata": {},
   "outputs": [],
   "source": [
    "# damage_report_indexed = damage_report_clean.reset_index()\n",
    "# damage_report_indexed"
   ]
  },
  {
   "cell_type": "code",
   "execution_count": null,
   "metadata": {},
   "outputs": [
    {
     "name": "stderr",
     "output_type": "stream",
     "text": [
      "/opt/anaconda3/lib/python3.11/site-packages/_plotly_utils/basevalidators.py:106: FutureWarning: The behavior of DatetimeProperties.to_pydatetime is deprecated, in a future version this will return a Series containing python datetime objects instead of an ndarray. To retain the old behavior, call `np.array` on the result\n",
      "  v = v.dt.to_pydatetime()\n"
     ]
    }
   ],
   "source": [
    "fig = px.choropleth(damage_report_wiz_neighborhoods,\n",
    "                    geojson=damage_report_wiz_neighborhoods.geometry,\n",
    "                    locations=damage_report_wiz_neighborhoods.index,\n",
    "                    color=\"sewer_and_water\",  # or any other attribute\n",
    "                    animation_frame=damage_report_wiz_neighborhoods.index.strftime('%Y-%m-%d %H:%M:%S'),\n",
    "                    title=\"Infrastructure Status Over Time by Neighborhood\")\n",
    "\n",
    "# Update map view\n",
    "fig.update_geos(fitbounds=\"locations\", visible=False)\n",
    "fig.show()"
   ]
  },
  {
   "cell_type": "markdown",
   "metadata": {},
   "source": [
    "# SAMPLE DATA TEST"
   ]
  },
  {
   "cell_type": "code",
   "execution_count": 13,
   "metadata": {},
   "outputs": [],
   "source": [
    "# Sample 10 observations from the cleaned data\n",
    "sample_data = damage_report_wiz_neighborhoods.sample(n=10, random_state=1)"
   ]
  },
  {
   "cell_type": "code",
   "execution_count": 18,
   "metadata": {},
   "outputs": [
    {
     "data": {
      "application/vnd.plotly.v1+json": {
       "config": {
        "plotlyServerURL": "https://plot.ly"
       },
       "data": [
        {
         "coloraxis": "coloraxis",
         "geo": "geo",
         "geojson": {
          "bbox": [
           -13356433.400213113,
           949.7406152039766,
           -13326281.927027373,
           25330.81290255487
          ],
          "features": [
           {
            "bbox": [
             -13356433.400213113,
             12757.579205360264,
             -13351491.341083687,
             22271.92544165626
            ],
            "geometry": {
             "coordinates": [
              [
               [
                -13351493.65584308,
                17391.305680375546
               ],
               [
                -13352311.805856697,
                17400.277170021087
               ],
               [
                -13352257.890654525,
                15740.887058779597
               ],
               [
                -13353294.260651799,
                15369.471221614629
               ],
               [
                -13354348.60238313,
                12757.579205360264
               ],
               [
                -13355594.64261106,
                12877.390765737742
               ],
               [
                -13355426.90642653,
                13931.73249706626
               ],
               [
                -13354684.074752187,
                14123.430993683636
               ],
               [
                -13354411.58013172,
                15544.506326396018
               ],
               [
                -13355025.614378663,
                16682.71614999324
               ],
               [
                -13356433.400213113,
                16802.527710374445
               ],
               [
                -13356433.400213113,
                17296.750396937132
               ],
               [
                -13355429.97839494,
                17371.632622171193
               ],
               [
                -13355729.507295888,
                18015.619759209454
               ],
               [
                -13356133.871312166,
                19767.863829746842
               ],
               [
                -13355819.365966171,
                20606.54475240037
               ],
               [
                -13355040.59082371,
                21295.46122456342
               ],
               [
                -13354306.74501639,
                21624.94301560521
               ],
               [
                -13353452.129156219,
                22110.898704510182
               ],
               [
                -13352790.769342927,
                22271.92544165626
               ],
               [
                -13351864.865604319,
                22185.66111817211
               ],
               [
                -13351491.341083687,
                22229.943470899016
               ],
               [
                -13351493.65584308,
                17391.305680375546
               ]
              ]
             ],
             "type": "Polygon"
            },
            "id": "0",
            "properties": {
             "Nbrhood": "Palace Hills",
             "location": 1
            },
            "type": "Feature"
           },
           {
            "bbox": [
             -13351493.65584308,
             17204.90445223078,
             -13346115.925101548,
             22628.675067204982
            ],
            "geometry": {
             "coordinates": [
              [
               [
                -13351493.65584308,
                17391.305680375546
               ],
               [
                -13351491.341083687,
                22229.943470899016
               ],
               [
                -13351179.176619865,
                22490.652149640024
               ],
               [
                -13350632.835904507,
                22413.97275100276
               ],
               [
                -13350642.420829345,
                21858.04711080715
               ],
               [
                -13349866.041918047,
                22011.40590809658
               ],
               [
                -13349578.494173124,
                22308.53857785836
               ],
               [
                -13349097.330946626,
                22433.14260065183
               ],
               [
                -13348090.913839394,
                22628.675067204982
               ],
               [
                -13347699.848906301,
                22272.11586350575
               ],
               [
                -13347115.168491626,
                22371.319835502654
               ],
               [
                -13346410.676516563,
                22553.433407288045
               ],
               [
                -13346300.689504128,
                22340.168829794973
               ],
               [
                -13346151.883546134,
                22022.428571663797
               ],
               [
                -13346115.925101548,
                18770.910059832036
               ],
               [
                -13346227.781174313,
                18788.73802002147
               ],
               [
                -13346976.60342668,
                18680.907615687698
               ],
               [
                -13347300.094639698,
                18764.775707941502
               ],
               [
                -13348123.912575217,
                18966.933133535087
               ],
               [
                -13348962.593497869,
                18954.95197750628
               ],
               [
                -13349304.056444949,
                18451.743423912674
               ],
               [
                -13349357.971647115,
                17990.468916457146
               ],
               [
                -13349576.02868701,
                17660.18838166818
               ],
               [
                -13349717.406328259,
                17427.753954540938
               ],
               [
                -13350076.841009395,
                17204.90445223078
               ],
               [
                -13350364.868000543,
                17207.779929686338
               ],
               [
                -13351485.106090086,
                17274.47503162548
               ],
               [
                -13351493.65584308,
                17391.305680375546
               ]
              ]
             ],
             "type": "Polygon"
            },
            "id": "1",
            "properties": {
             "Nbrhood": "Northwest",
             "location": 2
            },
            "type": "Feature"
           },
           {
            "bbox": [
             -13346410.676516563,
             18206.749822482467,
             -13337665.843480354,
             25330.81290255487
            ],
            "geometry": {
             "coordinates": [
              [
               [
                -13346410.676516563,
                22553.433407288045
               ],
               [
                -13346405.953036554,
                23627.092513881624
               ],
               [
                -13345800.90465661,
                24100.348177406937
               ],
               [
                -13344986.186045988,
                24112.329333443195
               ],
               [
                -13344062.438915428,
                24736.547563046217
               ],
               [
                -13342567.190641824,
                25330.81290255487
               ],
               [
                -13342490.51124318,
                23931.41387725994
               ],
               [
                -13342087.944400283,
                23720.545530982316
               ],
               [
                -13341167.79161653,
                24084.77267454937
               ],
               [
                -13340611.865976345,
                23317.978688087314
               ],
               [
                -13340036.7704865,
                22301.976656023413
               ],
               [
                -13339461.67499665,
                22378.65605467558
               ],
               [
                -13339557.524244959,
                23126.280191473663
               ],
               [
                -13339960.091087848,
                23605.526433009654
               ],
               [
                -13339730.052891914,
                24161.452073201537
               ],
               [
                -13339825.902140222,
                24832.396811354905
               ],
               [
                -13338177.295069322,
                24947.41590932384
               ],
               [
                -13338138.95537,
                24180.62192285806
               ],
               [
                -13337755.558376769,
                23739.71538064629
               ],
               [
                -13337665.843480354,
                23538.892035592347
               ],
               [
                -13338384.04431837,
                21161.622399073094
               ],
               [
                -13338527.818190832,
                20298.979164298624
               ],
               [
                -13339129.998354634,
                19450.39381927997
               ],
               [
                -13339669.15037637,
                18487.108873780817
               ],
               [
                -13341272.229054319,
                18487.108873780817
               ],
               [
                -13342062.98535286,
                18221.12720972672
               ],
               [
                -13342372.099178655,
                18206.749822482467
               ],
               [
                -13342961.572055742,
                18400.84455030784
               ],
               [
                -13343879.25883004,
                18391.51190070063
               ],
               [
                -13344655.637741333,
                18673.308690719306
               ],
               [
                -13345345.75232915,
                18581.293412346393
               ],
               [
                -13346115.925101547,
                18770.91005983576
               ],
               [
                -13346151.883546134,
                22022.428571663797
               ],
               [
                -13346410.676516563,
                22553.433407288045
               ]
              ]
             ],
             "type": "Polygon"
            },
            "id": "2",
            "properties": {
             "Nbrhood": "Old Town",
             "location": 3
            },
            "type": "Feature"
           },
           {
            "bbox": [
             -13341132.317431018,
             14994.019276894629,
             -13331620.308318393,
             24272.240581881255
            ],
            "geometry": {
             "coordinates": [
              [
               [
                -13337755.558376769,
                23739.71538064629
               ],
               [
                -13337518.91470274,
                24272.240581881255
               ],
               [
                -13337263.716079118,
                24203.94799246639
               ],
               [
                -13337102.836912887,
                23453.836101733148
               ],
               [
                -13335365.569287306,
                21446.992465287447
               ],
               [
                -13335754.956858559,
                21207.36934451759
               ],
               [
                -13335545.286627889,
                20937.79333365336
               ],
               [
                -13334676.652815094,
                21087.557784136385
               ],
               [
                -13333519.720922353,
                22198.368277214468
               ],
               [
                -13333270.512876753,
                21920.40545712039
               ],
               [
                -13334018.137013558,
                20866.063725735992
               ],
               [
                -13333414.286749214,
                20252.628536563367
               ],
               [
                -13333883.948065925,
                19945.910941977054
               ],
               [
                -13333155.493778786,
                18910.73906024918
               ],
               [
                -13333136.323929127,
                17837.22747920081
               ],
               [
                -13333225.78322755,
                17473.000335633755
               ],
               [
                -13332866.348546397,
                16873.94253370911
               ],
               [
                -13332602.763113547,
                16250.922419708222
               ],
               [
                -13331620.308318393,
                15987.336986858398
               ],
               [
                -13332219.366120316,
                15508.090745322406
               ],
               [
                -13332220.005115306,
                15252.81224732846
               ],
               [
                -13333128.655989265,
                14994.019276894629
               ],
               [
                -13341132.317431018,
                15067.313280094415
               ],
               [
                -13341120.970413575,
                16561.339284081012
               ],
               [
                -13340320.629190205,
                17400.020206775516
               ],
               [
                -13339669.15037637,
                18487.108873780817
               ],
               [
                -13339129.998354634,
                19450.39381927997
               ],
               [
                -13338527.818190832,
                20298.979164298624
               ],
               [
                -13338384.04431837,
                21161.622399073094
               ],
               [
                -13337665.843480354,
                23538.892035592347
               ],
               [
                -13337755.558376769,
                23739.71538064629
               ]
              ]
             ],
             "type": "Polygon"
            },
            "id": "3",
            "properties": {
             "Nbrhood": "Safe Town",
             "location": 4
            },
            "type": "Feature"
           },
           {
            "bbox": [
             -13352311.805856697,
             9376.789099343121,
             -13343919.603254972,
             17400.277170024812
            ],
            "geometry": {
             "coordinates": [
              [
               [
                -13352257.890654525,
                15740.887058783323
               ],
               [
                -13352311.805856697,
                17400.277170024812
               ],
               [
                -13351493.655843081,
                17391.30568037927
               ],
               [
                -13351485.106090082,
                17274.475031629205
               ],
               [
                -13350364.868000543,
                17207.779929686338
               ],
               [
                -13350381.639764352,
                15138.63087495789
               ],
               [
                -13350010.223927157,
                15132.640296936035
               ],
               [
                -13349992.252193099,
                13934.524693090469
               ],
               [
                -13347322.251569912,
                13950.459630619735
               ],
               [
                -13347312.666645082,
                13777.93098366633
               ],
               [
                -13346680.06160625,
                13097.40132067725
               ],
               [
                -13345366.926904423,
                11602.153047066182
               ],
               [
                -13344724.736940756,
                10595.735939834267
               ],
               [
                -13344015.45250328,
                9742.677629888058
               ],
               [
                -13343919.603254972,
                9388.035411145538
               ],
               [
                -13344426.07068303,
                9376.789099343121
               ],
               [
                -13346326.793226724,
                9691.206583544612
               ],
               [
                -13348291.702817041,
                10805.454095125198
               ],
               [
                -13349358.025704462,
                11009.133747778833
               ],
               [
                -13351779.417339833,
                12790.132592901587
               ],
               [
                -13352261.059812574,
                14040.965283319354
               ],
               [
                -13351944.75729316,
                15730.30828474462
               ],
               [
                -13352257.890654525,
                15740.887058783323
               ]
              ]
             ],
             "type": "Polygon"
            },
            "id": "4",
            "properties": {
             "Nbrhood": "Southwest",
             "location": 5
            },
            "type": "Feature"
           },
           {
            "bbox": [
             -13350381.639764352,
             13934.524693090469,
             -13347300.0946397,
             18966.933133538812
            ],
            "geometry": {
             "coordinates": [
              [
               [
                -13347322.251569912,
                13950.459630619735
               ],
               [
                -13349992.252193099,
                13934.524693090469
               ],
               [
                -13350010.223927157,
                15132.640296936035
               ],
               [
                -13350381.639764352,
                15138.63087495789
               ],
               [
                -13350364.868000543,
                17207.779929686338
               ],
               [
                -13350076.841009393,
                17204.90445223078
               ],
               [
                -13349717.406328255,
                17427.753954540938
               ],
               [
                -13349357.971647117,
                17990.468916457146
               ],
               [
                -13349304.05644495,
                18451.743423912674
               ],
               [
                -13348962.59349787,
                18954.951977510005
               ],
               [
                -13348123.912575219,
                18966.933133538812
               ],
               [
                -13347300.0946397,
                18764.775707941502
               ],
               [
                -13347322.251569912,
                13950.459630619735
               ]
              ]
             ],
             "type": "Polygon"
            },
            "id": "5",
            "properties": {
             "Nbrhood": "Downtown",
             "location": 6
            },
            "type": "Feature"
           },
           {
            "bbox": [
             -13328287.772234162,
             6053.222041748464,
             -13326281.927027373,
             16367.30006049946
            ],
            "geometry": {
             "coordinates": [
              [
               [
                -13326281.927027373,
                6053.222041748464
               ],
               [
                -13328243.841328684,
                6053.222041748464
               ],
               [
                -13328287.772234162,
                15427.877584110945
               ],
               [
                -13326829.740426496,
                16367.30006049946
               ],
               [
                -13326283.399711132,
                16022.242766585201
               ],
               [
                -13326281.927027373,
                6053.222041748464
               ]
              ]
             ],
             "type": "Polygon"
            },
            "id": "6",
            "properties": {
             "Nbrhood": "Wilson Forest",
             "location": 7
            },
            "type": "Feature"
           },
           {
            "bbox": [
             -13336772.329994978,
             1419.691476520151,
             -13326281.927027373,
             6478.968046542257
            ],
            "geometry": {
             "coordinates": [
              [
               [
                -13326281.927027373,
                6053.222041748464
               ],
               [
                -13326284.924585544,
                5389.747372850776
               ],
               [
                -13329965.535720583,
                4282.688554890454
               ],
               [
                -13336454.829359954,
                1419.691476520151
               ],
               [
                -13336772.329994978,
                1743.1826895549893
               ],
               [
                -13336754.35826092,
                2617.807080373168
               ],
               [
                -13335658.082483398,
                2611.816502351314
               ],
               [
                -13334735.53346843,
                3360.638754762709
               ],
               [
                -13334244.306070847,
                3612.2430315688252
               ],
               [
                -13333747.088095248,
                3612.2430315688252
               ],
               [
                -13329956.250324655,
                5740.096344020218
               ],
               [
                -13329577.172296133,
                5706.232937712222
               ],
               [
                -13329589.15345217,
                6029.724150754511
               ],
               [
                -13329343.539753383,
                6455.055190123618
               ],
               [
                -13328245.836432122,
                6478.968046542257
               ],
               [
                -13328243.841328684,
                6053.222041748464
               ],
               [
                -13326281.927027373,
                6053.222041748464
               ]
              ]
             ],
             "type": "Polygon"
            },
            "id": "7",
            "properties": {
             "Nbrhood": "Scenic Vista",
             "location": 8
            },
            "type": "Feature"
           },
           {
            "bbox": [
             -13344586.416364064,
             949.7406152039766,
             -13335203.443902548,
             8852.860588606447
            ],
            "geometry": {
             "coordinates": [
              [
               [
                -13336454.829359954,
                1419.691476520151
               ],
               [
                -13336684.694192199,
                1016.835089020431
               ],
               [
                -13337930.73442021,
                949.7406152039766
               ],
               [
                -13339598.511340775,
                1793.2140003181994
               ],
               [
                -13340968.107240433,
                2125.241787035018
               ],
               [
                -13341399.428857816,
                2664.393808770925
               ],
               [
                -13341890.6562554,
                4245.90640585497
               ],
               [
                -13343472.168852484,
                5779.494378790259
               ],
               [
                -13344586.416364064,
                6414.495648834854
               ],
               [
                -13344298.868619142,
                7133.365011144429
               ],
               [
                -13344238.962838948,
                8127.800962343812
               ],
               [
                -13344382.736711409,
                8690.915296152234
               ],
               [
                -13343987.757934008,
                8852.860588606447
               ],
               [
                -13341078.493624715,
                8793.81745165214
               ],
               [
                -13341066.99171492,
                7724.139840532094
               ],
               [
                -13335203.443902548,
                7716.247253987938
               ],
               [
                -13335266.794265106,
                5044.324653685093
               ],
               [
                -13335477.662611384,
                4799.909070491791
               ],
               [
                -13336071.927950898,
                4603.418111465871
               ],
               [
                -13336474.494793795,
                4469.2291638329625
               ],
               [
                -13336704.532989737,
                4224.813580647111
               ],
               [
                -13336754.35826092,
                2617.807080373168
               ],
               [
                -13336772.329994978,
                1743.1826895549893
               ],
               [
                -13336454.829359954,
                1419.691476520151
               ]
              ]
             ],
             "type": "Polygon"
            },
            "id": "8",
            "properties": {
             "Nbrhood": "Broadview",
             "location": 9
            },
            "type": "Feature"
           },
           {
            "bbox": [
             -13336754.35826092,
             2611.816502351314,
             -13332861.510445183,
             9236.551839035004
            ],
            "geometry": {
             "coordinates": [
              [
               [
                -13335203.443902548,
                7716.247253987938
               ],
               [
                -13335278.736913722,
                9236.551839035004
               ],
               [
                -13332922.313096944,
                9210.283154420555
               ],
               [
                -13332861.510445183,
                4109.330865491182
               ],
               [
                -13333747.088095248,
                3612.2430315688252
               ],
               [
                -13334244.306070847,
                3612.2430315688252
               ],
               [
                -13334735.53346843,
                3360.638754762709
               ],
               [
                -13335658.082483398,
                2611.816502351314
               ],
               [
                -13336754.35826092,
                2617.807080373168
               ],
               [
                -13336704.532989737,
                4224.813580647111
               ],
               [
                -13336474.494793795,
                4469.2291638329625
               ],
               [
                -13335477.662611384,
                4799.909070491791
               ],
               [
                -13335266.794265106,
                5044.324653688818
               ],
               [
                -13335203.443902548,
                7716.247253987938
               ]
              ]
             ],
             "type": "Polygon"
            },
            "id": "9",
            "properties": {
             "Nbrhood": "Chapparal",
             "location": 10
            },
            "type": "Feature"
           },
           {
            "bbox": [
             -13332922.313096944,
             4109.330865491182,
             -13328245.836432122,
             9227.536083679646
            ],
            "geometry": {
             "coordinates": [
              [
               [
                -13332861.510445183,
                4109.330865491182
               ],
               [
                -13332922.313096944,
                9210.283154420555
               ],
               [
                -13328258.716594182,
                9227.536083679646
               ],
               [
                -13328245.836432122,
                6478.968046542257
               ],
               [
                -13329343.539753383,
                6455.055190123618
               ],
               [
                -13329589.15345217,
                6029.724150754511
               ],
               [
                -13329577.172296133,
                5706.232937712222
               ],
               [
                -13329956.250324655,
                5740.096344023943
               ],
               [
                -13332861.510445183,
                4109.330865491182
               ]
              ]
             ],
             "type": "Polygon"
            },
            "id": "10",
            "properties": {
             "Nbrhood": "Terrapin Springs",
             "location": 11
            },
            "type": "Feature"
           },
           {
            "bbox": [
             -13333633.54443903,
             9210.283154420555,
             -13328258.716594182,
             15252.81224732846
            ],
            "geometry": {
             "coordinates": [
              [
               [
                -13328258.716594182,
                9227.536083679646
               ],
               [
                -13332922.313096944,
                9210.283154420555
               ],
               [
                -13332978.001325656,
                14174.827906638384
               ],
               [
                -13333633.54443903,
                14998.642822746187
               ],
               [
                -13333128.655989265,
                14994.019276894629
               ],
               [
                -13332220.005115306,
                15252.81224732846
               ],
               [
                -13331958.165323649,
                14978.044607464224
               ],
               [
                -13330328.728102406,
                13288.701606027782
               ],
               [
                -13329202.499434777,
                13025.116173177958
               ],
               [
                -13328723.253193235,
                13444.45663452521
               ],
               [
                -13328723.253193235,
                14295.118713267148
               ],
               [
                -13328285.046019284,
                14846.115721732378
               ],
               [
                -13328258.716594182,
                9227.536083679646
               ]
              ]
             ],
             "type": "Polygon"
            },
            "id": "11",
            "properties": {
             "Nbrhood": "Pepper Mill",
             "location": 12
            },
            "type": "Feature"
           },
           {
            "bbox": [
             -13338406.19554747,
             7716.247253987938,
             -13332922.313096944,
             15028.610558889806
            ],
            "geometry": {
             "coordinates": [
              [
               [
                -13333633.54443903,
                14998.642822746187
               ],
               [
                -13332978.001325656,
                14174.827906638384
               ],
               [
                -13332922.313096944,
                9210.283154420555
               ],
               [
                -13335278.736913722,
                9236.551839035004
               ],
               [
                -13335203.443902548,
                7716.247253987938
               ],
               [
                -13338406.19554747,
                7720.558294907212
               ],
               [
                -13338394.216157876,
                8438.11533505842
               ],
               [
                -13338250.442285415,
                8593.870363555849
               ],
               [
                -13337843.082980104,
                8605.851519595832
               ],
               [
                -13337579.497547254,
                8833.493484333158
               ],
               [
                -13337624.929727884,
                12305.058861088008
               ],
               [
                -13336920.437752815,
                13440.872453544289
               ],
               [
                -13336906.003355103,
                15028.610558889806
               ],
               [
                -13333633.54443903,
                14998.642822746187
               ]
              ]
             ],
             "type": "Polygon"
            },
            "id": "12",
            "properties": {
             "Nbrhood": "Cheddarford",
             "location": 13
            },
            "type": "Feature"
           },
           {
            "bbox": [
             -13344655.637741333,
             15064.405022233725,
             -13339669.15037637,
             18673.308690719306
            ],
            "geometry": {
             "coordinates": [
              [
               [
                -13341132.317431018,
                15067.313280094415
               ],
               [
                -13344603.385225657,
                15064.405022233725
               ],
               [
                -13344617.043743549,
                18337.057794172317
               ],
               [
                -13344655.637741333,
                18673.308690719306
               ],
               [
                -13343879.25883004,
                18391.51190070063
               ],
               [
                -13342961.572055742,
                18400.84455030784
               ],
               [
                -13342372.099178655,
                18206.749822482467
               ],
               [
                -13342062.98535286,
                18221.12720972672
               ],
               [
                -13341272.229054319,
                18487.108873780817
               ],
               [
                -13339669.15037637,
                18487.108873780817
               ],
               [
                -13340320.629190205,
                17400.020206775516
               ],
               [
                -13341120.970413575,
                16561.339284081012
               ],
               [
                -13341132.317431018,
                15067.313280094415
               ]
              ]
             ],
             "type": "Polygon"
            },
            "id": "13",
            "properties": {
             "Nbrhood": "Easton",
             "location": 14
            },
            "type": "Feature"
           },
           {
            "bbox": [
             -13347316.97854499,
             15064.405022233725,
             -13344603.385225657,
             18788.73802002147
            ],
            "geometry": {
             "coordinates": [
              [
               [
                -13344655.637741333,
                18673.308690719306
               ],
               [
                -13344617.043743549,
                18337.057794172317
               ],
               [
                -13344603.385225657,
                15064.405022233725
               ],
               [
                -13347316.97854499,
                15096.19635527581
               ],
               [
                -13347300.0946397,
                18764.775707941502
               ],
               [
                -13346976.603426676,
                18680.907615687698
               ],
               [
                -13346227.781174313,
                18788.73802002147
               ],
               [
                -13345345.75232915,
                18581.293412346393
               ],
               [
                -13344655.637741333,
                18673.308690719306
               ]
              ]
             ],
             "type": "Polygon"
            },
            "id": "14",
            "properties": {
             "Nbrhood": "Weston",
             "location": 15
            },
            "type": "Feature"
           },
           {
            "bbox": [
             -13347316.97854499,
             10497.145950954407,
             -13344603.385225657,
             15096.19635527581
            ],
            "geometry": {
             "coordinates": [
              [
               [
                -13344603.385225657,
                15064.405022233725
               ],
               [
                -13344642.763242131,
                10497.145950954407
               ],
               [
                -13344724.736940756,
                10595.735939837992
               ],
               [
                -13345366.926904423,
                11602.153047066182
               ],
               [
                -13346680.06160625,
                13097.40132067725
               ],
               [
                -13347312.666645082,
                13777.93098366633
               ],
               [
                -13347316.97854499,
                15096.19635527581
               ],
               [
                -13344603.385225657,
                15064.405022233725
               ]
              ]
             ],
             "type": "Polygon"
            },
            "id": "15",
            "properties": {
             "Nbrhood": "Southton",
             "location": 16
            },
            "type": "Feature"
           },
           {
            "bbox": [
             -13344669.141488539,
             7720.558294907212,
             -13337579.497547254,
             11101.862514879555
            ],
            "geometry": {
             "coordinates": [
              [
               [
                -13344669.141488539,
                9416.997867006809
               ],
               [
                -13344426.07068303,
                9376.789099343121
               ],
               [
                -13343919.603254972,
                9388.035411145538
               ],
               [
                -13344015.45250328,
                9742.677629888058
               ],
               [
                -13344267.362770466,
                10045.650789070874
               ],
               [
                -13340801.609500708,
                10044.325808536261
               ],
               [
                -13339772.028825123,
                10704.088134400547
               ],
               [
                -13338276.780551504,
                11101.862514879555
               ],
               [
                -13338041.949893149,
                10876.61678135395
               ],
               [
                -13337605.917254657,
                10852.277091346681
               ],
               [
                -13337579.497547254,
                8833.493484333158
               ],
               [
                -13337843.082980104,
                8605.851519595832
               ],
               [
                -13338250.442285415,
                8593.870363555849
               ],
               [
                -13338394.216157876,
                8438.11533505842
               ],
               [
                -13338406.19554747,
                7720.558294907212
               ],
               [
                -13341066.99171492,
                7724.139840532094
               ],
               [
                -13341078.493624715,
                8793.81745165214
               ],
               [
                -13343987.757934008,
                8852.860588606447
               ],
               [
                -13344382.736711409,
                8690.915296152234
               ],
               [
                -13344669.141488539,
                9416.997867006809
               ]
              ]
             ],
             "type": "Polygon"
            },
            "id": "16",
            "properties": {
             "Nbrhood": "Oak Willow",
             "location": 17
            },
            "type": "Feature"
           },
           {
            "bbox": [
             -13341170.017549999,
             10044.325808536261,
             -13336906.003355103,
             15067.313280094415
            ],
            "geometry": {
             "coordinates": [
              [
               [
                -13341170.017549999,
                10044.466653384268
               ],
               [
                -13341132.317431018,
                15067.313280094415
               ],
               [
                -13336906.003355103,
                15028.610558889806
               ],
               [
                -13336920.437752815,
                13440.872453544289
               ],
               [
                -13337624.929727884,
                12305.058861088008
               ],
               [
                -13337605.917254657,
                10852.277091346681
               ],
               [
                -13338041.949893149,
                10876.61678135395
               ],
               [
                -13338276.780551504,
                11101.862514879555
               ],
               [
                -13339772.028825123,
                10704.088134400547
               ],
               [
                -13340801.609500708,
                10044.325808536261
               ],
               [
                -13341170.017549999,
                10044.466653384268
               ]
              ]
             ],
             "type": "Polygon"
            },
            "id": "17",
            "properties": {
             "Nbrhood": "East Parton",
             "location": 18
            },
            "type": "Feature"
           },
           {
            "bbox": [
             -13344642.763242131,
             10044.466653384268,
             -13341132.317431018,
             15067.313280094415
            ],
            "geometry": {
             "coordinates": [
              [
               [
                -13341132.317431018,
                15067.313280094415
               ],
               [
                -13341170.017549999,
                10044.466653384268
               ],
               [
                -13344267.362770466,
                10045.650789070874
               ],
               [
                -13344642.763242131,
                10497.145950954407
               ],
               [
                -13344603.385225657,
                15064.405022233725
               ],
               [
                -13341132.317431018,
                15067.313280094415
               ]
              ]
             ],
             "type": "Polygon"
            },
            "id": "18",
            "properties": {
             "Nbrhood": "West Parton",
             "location": 19
            },
            "type": "Feature"
           }
          ],
          "type": "FeatureCollection"
         },
         "hovertemplate": "<b>%{hovertext}</b><br><br>animation_frame=2020-04-07 16:50:00<br>_index=%{location}<br>sewer_and_water=%{z}<extra></extra>",
         "hovertext": [
          16
         ],
         "locations": [
          0
         ],
         "name": "",
         "type": "choropleth",
         "z": [
          9
         ]
        }
       ],
       "frames": [
        {
         "data": [
          {
           "coloraxis": "coloraxis",
           "geo": "geo",
           "geojson": {
            "bbox": [
             -13356433.400213113,
             949.7406152039766,
             -13326281.927027373,
             25330.81290255487
            ],
            "features": [
             {
              "bbox": [
               -13356433.400213113,
               12757.579205360264,
               -13351491.341083687,
               22271.92544165626
              ],
              "geometry": {
               "coordinates": [
                [
                 [
                  -13351493.65584308,
                  17391.305680375546
                 ],
                 [
                  -13352311.805856697,
                  17400.277170021087
                 ],
                 [
                  -13352257.890654525,
                  15740.887058779597
                 ],
                 [
                  -13353294.260651799,
                  15369.471221614629
                 ],
                 [
                  -13354348.60238313,
                  12757.579205360264
                 ],
                 [
                  -13355594.64261106,
                  12877.390765737742
                 ],
                 [
                  -13355426.90642653,
                  13931.73249706626
                 ],
                 [
                  -13354684.074752187,
                  14123.430993683636
                 ],
                 [
                  -13354411.58013172,
                  15544.506326396018
                 ],
                 [
                  -13355025.614378663,
                  16682.71614999324
                 ],
                 [
                  -13356433.400213113,
                  16802.527710374445
                 ],
                 [
                  -13356433.400213113,
                  17296.750396937132
                 ],
                 [
                  -13355429.97839494,
                  17371.632622171193
                 ],
                 [
                  -13355729.507295888,
                  18015.619759209454
                 ],
                 [
                  -13356133.871312166,
                  19767.863829746842
                 ],
                 [
                  -13355819.365966171,
                  20606.54475240037
                 ],
                 [
                  -13355040.59082371,
                  21295.46122456342
                 ],
                 [
                  -13354306.74501639,
                  21624.94301560521
                 ],
                 [
                  -13353452.129156219,
                  22110.898704510182
                 ],
                 [
                  -13352790.769342927,
                  22271.92544165626
                 ],
                 [
                  -13351864.865604319,
                  22185.66111817211
                 ],
                 [
                  -13351491.341083687,
                  22229.943470899016
                 ],
                 [
                  -13351493.65584308,
                  17391.305680375546
                 ]
                ]
               ],
               "type": "Polygon"
              },
              "id": "0",
              "properties": {
               "Nbrhood": "Palace Hills",
               "location": 1
              },
              "type": "Feature"
             },
             {
              "bbox": [
               -13351493.65584308,
               17204.90445223078,
               -13346115.925101548,
               22628.675067204982
              ],
              "geometry": {
               "coordinates": [
                [
                 [
                  -13351493.65584308,
                  17391.305680375546
                 ],
                 [
                  -13351491.341083687,
                  22229.943470899016
                 ],
                 [
                  -13351179.176619865,
                  22490.652149640024
                 ],
                 [
                  -13350632.835904507,
                  22413.97275100276
                 ],
                 [
                  -13350642.420829345,
                  21858.04711080715
                 ],
                 [
                  -13349866.041918047,
                  22011.40590809658
                 ],
                 [
                  -13349578.494173124,
                  22308.53857785836
                 ],
                 [
                  -13349097.330946626,
                  22433.14260065183
                 ],
                 [
                  -13348090.913839394,
                  22628.675067204982
                 ],
                 [
                  -13347699.848906301,
                  22272.11586350575
                 ],
                 [
                  -13347115.168491626,
                  22371.319835502654
                 ],
                 [
                  -13346410.676516563,
                  22553.433407288045
                 ],
                 [
                  -13346300.689504128,
                  22340.168829794973
                 ],
                 [
                  -13346151.883546134,
                  22022.428571663797
                 ],
                 [
                  -13346115.925101548,
                  18770.910059832036
                 ],
                 [
                  -13346227.781174313,
                  18788.73802002147
                 ],
                 [
                  -13346976.60342668,
                  18680.907615687698
                 ],
                 [
                  -13347300.094639698,
                  18764.775707941502
                 ],
                 [
                  -13348123.912575217,
                  18966.933133535087
                 ],
                 [
                  -13348962.593497869,
                  18954.95197750628
                 ],
                 [
                  -13349304.056444949,
                  18451.743423912674
                 ],
                 [
                  -13349357.971647115,
                  17990.468916457146
                 ],
                 [
                  -13349576.02868701,
                  17660.18838166818
                 ],
                 [
                  -13349717.406328259,
                  17427.753954540938
                 ],
                 [
                  -13350076.841009395,
                  17204.90445223078
                 ],
                 [
                  -13350364.868000543,
                  17207.779929686338
                 ],
                 [
                  -13351485.106090086,
                  17274.47503162548
                 ],
                 [
                  -13351493.65584308,
                  17391.305680375546
                 ]
                ]
               ],
               "type": "Polygon"
              },
              "id": "1",
              "properties": {
               "Nbrhood": "Northwest",
               "location": 2
              },
              "type": "Feature"
             },
             {
              "bbox": [
               -13346410.676516563,
               18206.749822482467,
               -13337665.843480354,
               25330.81290255487
              ],
              "geometry": {
               "coordinates": [
                [
                 [
                  -13346410.676516563,
                  22553.433407288045
                 ],
                 [
                  -13346405.953036554,
                  23627.092513881624
                 ],
                 [
                  -13345800.90465661,
                  24100.348177406937
                 ],
                 [
                  -13344986.186045988,
                  24112.329333443195
                 ],
                 [
                  -13344062.438915428,
                  24736.547563046217
                 ],
                 [
                  -13342567.190641824,
                  25330.81290255487
                 ],
                 [
                  -13342490.51124318,
                  23931.41387725994
                 ],
                 [
                  -13342087.944400283,
                  23720.545530982316
                 ],
                 [
                  -13341167.79161653,
                  24084.77267454937
                 ],
                 [
                  -13340611.865976345,
                  23317.978688087314
                 ],
                 [
                  -13340036.7704865,
                  22301.976656023413
                 ],
                 [
                  -13339461.67499665,
                  22378.65605467558
                 ],
                 [
                  -13339557.524244959,
                  23126.280191473663
                 ],
                 [
                  -13339960.091087848,
                  23605.526433009654
                 ],
                 [
                  -13339730.052891914,
                  24161.452073201537
                 ],
                 [
                  -13339825.902140222,
                  24832.396811354905
                 ],
                 [
                  -13338177.295069322,
                  24947.41590932384
                 ],
                 [
                  -13338138.95537,
                  24180.62192285806
                 ],
                 [
                  -13337755.558376769,
                  23739.71538064629
                 ],
                 [
                  -13337665.843480354,
                  23538.892035592347
                 ],
                 [
                  -13338384.04431837,
                  21161.622399073094
                 ],
                 [
                  -13338527.818190832,
                  20298.979164298624
                 ],
                 [
                  -13339129.998354634,
                  19450.39381927997
                 ],
                 [
                  -13339669.15037637,
                  18487.108873780817
                 ],
                 [
                  -13341272.229054319,
                  18487.108873780817
                 ],
                 [
                  -13342062.98535286,
                  18221.12720972672
                 ],
                 [
                  -13342372.099178655,
                  18206.749822482467
                 ],
                 [
                  -13342961.572055742,
                  18400.84455030784
                 ],
                 [
                  -13343879.25883004,
                  18391.51190070063
                 ],
                 [
                  -13344655.637741333,
                  18673.308690719306
                 ],
                 [
                  -13345345.75232915,
                  18581.293412346393
                 ],
                 [
                  -13346115.925101547,
                  18770.91005983576
                 ],
                 [
                  -13346151.883546134,
                  22022.428571663797
                 ],
                 [
                  -13346410.676516563,
                  22553.433407288045
                 ]
                ]
               ],
               "type": "Polygon"
              },
              "id": "2",
              "properties": {
               "Nbrhood": "Old Town",
               "location": 3
              },
              "type": "Feature"
             },
             {
              "bbox": [
               -13341132.317431018,
               14994.019276894629,
               -13331620.308318393,
               24272.240581881255
              ],
              "geometry": {
               "coordinates": [
                [
                 [
                  -13337755.558376769,
                  23739.71538064629
                 ],
                 [
                  -13337518.91470274,
                  24272.240581881255
                 ],
                 [
                  -13337263.716079118,
                  24203.94799246639
                 ],
                 [
                  -13337102.836912887,
                  23453.836101733148
                 ],
                 [
                  -13335365.569287306,
                  21446.992465287447
                 ],
                 [
                  -13335754.956858559,
                  21207.36934451759
                 ],
                 [
                  -13335545.286627889,
                  20937.79333365336
                 ],
                 [
                  -13334676.652815094,
                  21087.557784136385
                 ],
                 [
                  -13333519.720922353,
                  22198.368277214468
                 ],
                 [
                  -13333270.512876753,
                  21920.40545712039
                 ],
                 [
                  -13334018.137013558,
                  20866.063725735992
                 ],
                 [
                  -13333414.286749214,
                  20252.628536563367
                 ],
                 [
                  -13333883.948065925,
                  19945.910941977054
                 ],
                 [
                  -13333155.493778786,
                  18910.73906024918
                 ],
                 [
                  -13333136.323929127,
                  17837.22747920081
                 ],
                 [
                  -13333225.78322755,
                  17473.000335633755
                 ],
                 [
                  -13332866.348546397,
                  16873.94253370911
                 ],
                 [
                  -13332602.763113547,
                  16250.922419708222
                 ],
                 [
                  -13331620.308318393,
                  15987.336986858398
                 ],
                 [
                  -13332219.366120316,
                  15508.090745322406
                 ],
                 [
                  -13332220.005115306,
                  15252.81224732846
                 ],
                 [
                  -13333128.655989265,
                  14994.019276894629
                 ],
                 [
                  -13341132.317431018,
                  15067.313280094415
                 ],
                 [
                  -13341120.970413575,
                  16561.339284081012
                 ],
                 [
                  -13340320.629190205,
                  17400.020206775516
                 ],
                 [
                  -13339669.15037637,
                  18487.108873780817
                 ],
                 [
                  -13339129.998354634,
                  19450.39381927997
                 ],
                 [
                  -13338527.818190832,
                  20298.979164298624
                 ],
                 [
                  -13338384.04431837,
                  21161.622399073094
                 ],
                 [
                  -13337665.843480354,
                  23538.892035592347
                 ],
                 [
                  -13337755.558376769,
                  23739.71538064629
                 ]
                ]
               ],
               "type": "Polygon"
              },
              "id": "3",
              "properties": {
               "Nbrhood": "Safe Town",
               "location": 4
              },
              "type": "Feature"
             },
             {
              "bbox": [
               -13352311.805856697,
               9376.789099343121,
               -13343919.603254972,
               17400.277170024812
              ],
              "geometry": {
               "coordinates": [
                [
                 [
                  -13352257.890654525,
                  15740.887058783323
                 ],
                 [
                  -13352311.805856697,
                  17400.277170024812
                 ],
                 [
                  -13351493.655843081,
                  17391.30568037927
                 ],
                 [
                  -13351485.106090082,
                  17274.475031629205
                 ],
                 [
                  -13350364.868000543,
                  17207.779929686338
                 ],
                 [
                  -13350381.639764352,
                  15138.63087495789
                 ],
                 [
                  -13350010.223927157,
                  15132.640296936035
                 ],
                 [
                  -13349992.252193099,
                  13934.524693090469
                 ],
                 [
                  -13347322.251569912,
                  13950.459630619735
                 ],
                 [
                  -13347312.666645082,
                  13777.93098366633
                 ],
                 [
                  -13346680.06160625,
                  13097.40132067725
                 ],
                 [
                  -13345366.926904423,
                  11602.153047066182
                 ],
                 [
                  -13344724.736940756,
                  10595.735939834267
                 ],
                 [
                  -13344015.45250328,
                  9742.677629888058
                 ],
                 [
                  -13343919.603254972,
                  9388.035411145538
                 ],
                 [
                  -13344426.07068303,
                  9376.789099343121
                 ],
                 [
                  -13346326.793226724,
                  9691.206583544612
                 ],
                 [
                  -13348291.702817041,
                  10805.454095125198
                 ],
                 [
                  -13349358.025704462,
                  11009.133747778833
                 ],
                 [
                  -13351779.417339833,
                  12790.132592901587
                 ],
                 [
                  -13352261.059812574,
                  14040.965283319354
                 ],
                 [
                  -13351944.75729316,
                  15730.30828474462
                 ],
                 [
                  -13352257.890654525,
                  15740.887058783323
                 ]
                ]
               ],
               "type": "Polygon"
              },
              "id": "4",
              "properties": {
               "Nbrhood": "Southwest",
               "location": 5
              },
              "type": "Feature"
             },
             {
              "bbox": [
               -13350381.639764352,
               13934.524693090469,
               -13347300.0946397,
               18966.933133538812
              ],
              "geometry": {
               "coordinates": [
                [
                 [
                  -13347322.251569912,
                  13950.459630619735
                 ],
                 [
                  -13349992.252193099,
                  13934.524693090469
                 ],
                 [
                  -13350010.223927157,
                  15132.640296936035
                 ],
                 [
                  -13350381.639764352,
                  15138.63087495789
                 ],
                 [
                  -13350364.868000543,
                  17207.779929686338
                 ],
                 [
                  -13350076.841009393,
                  17204.90445223078
                 ],
                 [
                  -13349717.406328255,
                  17427.753954540938
                 ],
                 [
                  -13349357.971647117,
                  17990.468916457146
                 ],
                 [
                  -13349304.05644495,
                  18451.743423912674
                 ],
                 [
                  -13348962.59349787,
                  18954.951977510005
                 ],
                 [
                  -13348123.912575219,
                  18966.933133538812
                 ],
                 [
                  -13347300.0946397,
                  18764.775707941502
                 ],
                 [
                  -13347322.251569912,
                  13950.459630619735
                 ]
                ]
               ],
               "type": "Polygon"
              },
              "id": "5",
              "properties": {
               "Nbrhood": "Downtown",
               "location": 6
              },
              "type": "Feature"
             },
             {
              "bbox": [
               -13328287.772234162,
               6053.222041748464,
               -13326281.927027373,
               16367.30006049946
              ],
              "geometry": {
               "coordinates": [
                [
                 [
                  -13326281.927027373,
                  6053.222041748464
                 ],
                 [
                  -13328243.841328684,
                  6053.222041748464
                 ],
                 [
                  -13328287.772234162,
                  15427.877584110945
                 ],
                 [
                  -13326829.740426496,
                  16367.30006049946
                 ],
                 [
                  -13326283.399711132,
                  16022.242766585201
                 ],
                 [
                  -13326281.927027373,
                  6053.222041748464
                 ]
                ]
               ],
               "type": "Polygon"
              },
              "id": "6",
              "properties": {
               "Nbrhood": "Wilson Forest",
               "location": 7
              },
              "type": "Feature"
             },
             {
              "bbox": [
               -13336772.329994978,
               1419.691476520151,
               -13326281.927027373,
               6478.968046542257
              ],
              "geometry": {
               "coordinates": [
                [
                 [
                  -13326281.927027373,
                  6053.222041748464
                 ],
                 [
                  -13326284.924585544,
                  5389.747372850776
                 ],
                 [
                  -13329965.535720583,
                  4282.688554890454
                 ],
                 [
                  -13336454.829359954,
                  1419.691476520151
                 ],
                 [
                  -13336772.329994978,
                  1743.1826895549893
                 ],
                 [
                  -13336754.35826092,
                  2617.807080373168
                 ],
                 [
                  -13335658.082483398,
                  2611.816502351314
                 ],
                 [
                  -13334735.53346843,
                  3360.638754762709
                 ],
                 [
                  -13334244.306070847,
                  3612.2430315688252
                 ],
                 [
                  -13333747.088095248,
                  3612.2430315688252
                 ],
                 [
                  -13329956.250324655,
                  5740.096344020218
                 ],
                 [
                  -13329577.172296133,
                  5706.232937712222
                 ],
                 [
                  -13329589.15345217,
                  6029.724150754511
                 ],
                 [
                  -13329343.539753383,
                  6455.055190123618
                 ],
                 [
                  -13328245.836432122,
                  6478.968046542257
                 ],
                 [
                  -13328243.841328684,
                  6053.222041748464
                 ],
                 [
                  -13326281.927027373,
                  6053.222041748464
                 ]
                ]
               ],
               "type": "Polygon"
              },
              "id": "7",
              "properties": {
               "Nbrhood": "Scenic Vista",
               "location": 8
              },
              "type": "Feature"
             },
             {
              "bbox": [
               -13344586.416364064,
               949.7406152039766,
               -13335203.443902548,
               8852.860588606447
              ],
              "geometry": {
               "coordinates": [
                [
                 [
                  -13336454.829359954,
                  1419.691476520151
                 ],
                 [
                  -13336684.694192199,
                  1016.835089020431
                 ],
                 [
                  -13337930.73442021,
                  949.7406152039766
                 ],
                 [
                  -13339598.511340775,
                  1793.2140003181994
                 ],
                 [
                  -13340968.107240433,
                  2125.241787035018
                 ],
                 [
                  -13341399.428857816,
                  2664.393808770925
                 ],
                 [
                  -13341890.6562554,
                  4245.90640585497
                 ],
                 [
                  -13343472.168852484,
                  5779.494378790259
                 ],
                 [
                  -13344586.416364064,
                  6414.495648834854
                 ],
                 [
                  -13344298.868619142,
                  7133.365011144429
                 ],
                 [
                  -13344238.962838948,
                  8127.800962343812
                 ],
                 [
                  -13344382.736711409,
                  8690.915296152234
                 ],
                 [
                  -13343987.757934008,
                  8852.860588606447
                 ],
                 [
                  -13341078.493624715,
                  8793.81745165214
                 ],
                 [
                  -13341066.99171492,
                  7724.139840532094
                 ],
                 [
                  -13335203.443902548,
                  7716.247253987938
                 ],
                 [
                  -13335266.794265106,
                  5044.324653685093
                 ],
                 [
                  -13335477.662611384,
                  4799.909070491791
                 ],
                 [
                  -13336071.927950898,
                  4603.418111465871
                 ],
                 [
                  -13336474.494793795,
                  4469.2291638329625
                 ],
                 [
                  -13336704.532989737,
                  4224.813580647111
                 ],
                 [
                  -13336754.35826092,
                  2617.807080373168
                 ],
                 [
                  -13336772.329994978,
                  1743.1826895549893
                 ],
                 [
                  -13336454.829359954,
                  1419.691476520151
                 ]
                ]
               ],
               "type": "Polygon"
              },
              "id": "8",
              "properties": {
               "Nbrhood": "Broadview",
               "location": 9
              },
              "type": "Feature"
             },
             {
              "bbox": [
               -13336754.35826092,
               2611.816502351314,
               -13332861.510445183,
               9236.551839035004
              ],
              "geometry": {
               "coordinates": [
                [
                 [
                  -13335203.443902548,
                  7716.247253987938
                 ],
                 [
                  -13335278.736913722,
                  9236.551839035004
                 ],
                 [
                  -13332922.313096944,
                  9210.283154420555
                 ],
                 [
                  -13332861.510445183,
                  4109.330865491182
                 ],
                 [
                  -13333747.088095248,
                  3612.2430315688252
                 ],
                 [
                  -13334244.306070847,
                  3612.2430315688252
                 ],
                 [
                  -13334735.53346843,
                  3360.638754762709
                 ],
                 [
                  -13335658.082483398,
                  2611.816502351314
                 ],
                 [
                  -13336754.35826092,
                  2617.807080373168
                 ],
                 [
                  -13336704.532989737,
                  4224.813580647111
                 ],
                 [
                  -13336474.494793795,
                  4469.2291638329625
                 ],
                 [
                  -13335477.662611384,
                  4799.909070491791
                 ],
                 [
                  -13335266.794265106,
                  5044.324653688818
                 ],
                 [
                  -13335203.443902548,
                  7716.247253987938
                 ]
                ]
               ],
               "type": "Polygon"
              },
              "id": "9",
              "properties": {
               "Nbrhood": "Chapparal",
               "location": 10
              },
              "type": "Feature"
             },
             {
              "bbox": [
               -13332922.313096944,
               4109.330865491182,
               -13328245.836432122,
               9227.536083679646
              ],
              "geometry": {
               "coordinates": [
                [
                 [
                  -13332861.510445183,
                  4109.330865491182
                 ],
                 [
                  -13332922.313096944,
                  9210.283154420555
                 ],
                 [
                  -13328258.716594182,
                  9227.536083679646
                 ],
                 [
                  -13328245.836432122,
                  6478.968046542257
                 ],
                 [
                  -13329343.539753383,
                  6455.055190123618
                 ],
                 [
                  -13329589.15345217,
                  6029.724150754511
                 ],
                 [
                  -13329577.172296133,
                  5706.232937712222
                 ],
                 [
                  -13329956.250324655,
                  5740.096344023943
                 ],
                 [
                  -13332861.510445183,
                  4109.330865491182
                 ]
                ]
               ],
               "type": "Polygon"
              },
              "id": "10",
              "properties": {
               "Nbrhood": "Terrapin Springs",
               "location": 11
              },
              "type": "Feature"
             },
             {
              "bbox": [
               -13333633.54443903,
               9210.283154420555,
               -13328258.716594182,
               15252.81224732846
              ],
              "geometry": {
               "coordinates": [
                [
                 [
                  -13328258.716594182,
                  9227.536083679646
                 ],
                 [
                  -13332922.313096944,
                  9210.283154420555
                 ],
                 [
                  -13332978.001325656,
                  14174.827906638384
                 ],
                 [
                  -13333633.54443903,
                  14998.642822746187
                 ],
                 [
                  -13333128.655989265,
                  14994.019276894629
                 ],
                 [
                  -13332220.005115306,
                  15252.81224732846
                 ],
                 [
                  -13331958.165323649,
                  14978.044607464224
                 ],
                 [
                  -13330328.728102406,
                  13288.701606027782
                 ],
                 [
                  -13329202.499434777,
                  13025.116173177958
                 ],
                 [
                  -13328723.253193235,
                  13444.45663452521
                 ],
                 [
                  -13328723.253193235,
                  14295.118713267148
                 ],
                 [
                  -13328285.046019284,
                  14846.115721732378
                 ],
                 [
                  -13328258.716594182,
                  9227.536083679646
                 ]
                ]
               ],
               "type": "Polygon"
              },
              "id": "11",
              "properties": {
               "Nbrhood": "Pepper Mill",
               "location": 12
              },
              "type": "Feature"
             },
             {
              "bbox": [
               -13338406.19554747,
               7716.247253987938,
               -13332922.313096944,
               15028.610558889806
              ],
              "geometry": {
               "coordinates": [
                [
                 [
                  -13333633.54443903,
                  14998.642822746187
                 ],
                 [
                  -13332978.001325656,
                  14174.827906638384
                 ],
                 [
                  -13332922.313096944,
                  9210.283154420555
                 ],
                 [
                  -13335278.736913722,
                  9236.551839035004
                 ],
                 [
                  -13335203.443902548,
                  7716.247253987938
                 ],
                 [
                  -13338406.19554747,
                  7720.558294907212
                 ],
                 [
                  -13338394.216157876,
                  8438.11533505842
                 ],
                 [
                  -13338250.442285415,
                  8593.870363555849
                 ],
                 [
                  -13337843.082980104,
                  8605.851519595832
                 ],
                 [
                  -13337579.497547254,
                  8833.493484333158
                 ],
                 [
                  -13337624.929727884,
                  12305.058861088008
                 ],
                 [
                  -13336920.437752815,
                  13440.872453544289
                 ],
                 [
                  -13336906.003355103,
                  15028.610558889806
                 ],
                 [
                  -13333633.54443903,
                  14998.642822746187
                 ]
                ]
               ],
               "type": "Polygon"
              },
              "id": "12",
              "properties": {
               "Nbrhood": "Cheddarford",
               "location": 13
              },
              "type": "Feature"
             },
             {
              "bbox": [
               -13344655.637741333,
               15064.405022233725,
               -13339669.15037637,
               18673.308690719306
              ],
              "geometry": {
               "coordinates": [
                [
                 [
                  -13341132.317431018,
                  15067.313280094415
                 ],
                 [
                  -13344603.385225657,
                  15064.405022233725
                 ],
                 [
                  -13344617.043743549,
                  18337.057794172317
                 ],
                 [
                  -13344655.637741333,
                  18673.308690719306
                 ],
                 [
                  -13343879.25883004,
                  18391.51190070063
                 ],
                 [
                  -13342961.572055742,
                  18400.84455030784
                 ],
                 [
                  -13342372.099178655,
                  18206.749822482467
                 ],
                 [
                  -13342062.98535286,
                  18221.12720972672
                 ],
                 [
                  -13341272.229054319,
                  18487.108873780817
                 ],
                 [
                  -13339669.15037637,
                  18487.108873780817
                 ],
                 [
                  -13340320.629190205,
                  17400.020206775516
                 ],
                 [
                  -13341120.970413575,
                  16561.339284081012
                 ],
                 [
                  -13341132.317431018,
                  15067.313280094415
                 ]
                ]
               ],
               "type": "Polygon"
              },
              "id": "13",
              "properties": {
               "Nbrhood": "Easton",
               "location": 14
              },
              "type": "Feature"
             },
             {
              "bbox": [
               -13347316.97854499,
               15064.405022233725,
               -13344603.385225657,
               18788.73802002147
              ],
              "geometry": {
               "coordinates": [
                [
                 [
                  -13344655.637741333,
                  18673.308690719306
                 ],
                 [
                  -13344617.043743549,
                  18337.057794172317
                 ],
                 [
                  -13344603.385225657,
                  15064.405022233725
                 ],
                 [
                  -13347316.97854499,
                  15096.19635527581
                 ],
                 [
                  -13347300.0946397,
                  18764.775707941502
                 ],
                 [
                  -13346976.603426676,
                  18680.907615687698
                 ],
                 [
                  -13346227.781174313,
                  18788.73802002147
                 ],
                 [
                  -13345345.75232915,
                  18581.293412346393
                 ],
                 [
                  -13344655.637741333,
                  18673.308690719306
                 ]
                ]
               ],
               "type": "Polygon"
              },
              "id": "14",
              "properties": {
               "Nbrhood": "Weston",
               "location": 15
              },
              "type": "Feature"
             },
             {
              "bbox": [
               -13347316.97854499,
               10497.145950954407,
               -13344603.385225657,
               15096.19635527581
              ],
              "geometry": {
               "coordinates": [
                [
                 [
                  -13344603.385225657,
                  15064.405022233725
                 ],
                 [
                  -13344642.763242131,
                  10497.145950954407
                 ],
                 [
                  -13344724.736940756,
                  10595.735939837992
                 ],
                 [
                  -13345366.926904423,
                  11602.153047066182
                 ],
                 [
                  -13346680.06160625,
                  13097.40132067725
                 ],
                 [
                  -13347312.666645082,
                  13777.93098366633
                 ],
                 [
                  -13347316.97854499,
                  15096.19635527581
                 ],
                 [
                  -13344603.385225657,
                  15064.405022233725
                 ]
                ]
               ],
               "type": "Polygon"
              },
              "id": "15",
              "properties": {
               "Nbrhood": "Southton",
               "location": 16
              },
              "type": "Feature"
             },
             {
              "bbox": [
               -13344669.141488539,
               7720.558294907212,
               -13337579.497547254,
               11101.862514879555
              ],
              "geometry": {
               "coordinates": [
                [
                 [
                  -13344669.141488539,
                  9416.997867006809
                 ],
                 [
                  -13344426.07068303,
                  9376.789099343121
                 ],
                 [
                  -13343919.603254972,
                  9388.035411145538
                 ],
                 [
                  -13344015.45250328,
                  9742.677629888058
                 ],
                 [
                  -13344267.362770466,
                  10045.650789070874
                 ],
                 [
                  -13340801.609500708,
                  10044.325808536261
                 ],
                 [
                  -13339772.028825123,
                  10704.088134400547
                 ],
                 [
                  -13338276.780551504,
                  11101.862514879555
                 ],
                 [
                  -13338041.949893149,
                  10876.61678135395
                 ],
                 [
                  -13337605.917254657,
                  10852.277091346681
                 ],
                 [
                  -13337579.497547254,
                  8833.493484333158
                 ],
                 [
                  -13337843.082980104,
                  8605.851519595832
                 ],
                 [
                  -13338250.442285415,
                  8593.870363555849
                 ],
                 [
                  -13338394.216157876,
                  8438.11533505842
                 ],
                 [
                  -13338406.19554747,
                  7720.558294907212
                 ],
                 [
                  -13341066.99171492,
                  7724.139840532094
                 ],
                 [
                  -13341078.493624715,
                  8793.81745165214
                 ],
                 [
                  -13343987.757934008,
                  8852.860588606447
                 ],
                 [
                  -13344382.736711409,
                  8690.915296152234
                 ],
                 [
                  -13344669.141488539,
                  9416.997867006809
                 ]
                ]
               ],
               "type": "Polygon"
              },
              "id": "16",
              "properties": {
               "Nbrhood": "Oak Willow",
               "location": 17
              },
              "type": "Feature"
             },
             {
              "bbox": [
               -13341170.017549999,
               10044.325808536261,
               -13336906.003355103,
               15067.313280094415
              ],
              "geometry": {
               "coordinates": [
                [
                 [
                  -13341170.017549999,
                  10044.466653384268
                 ],
                 [
                  -13341132.317431018,
                  15067.313280094415
                 ],
                 [
                  -13336906.003355103,
                  15028.610558889806
                 ],
                 [
                  -13336920.437752815,
                  13440.872453544289
                 ],
                 [
                  -13337624.929727884,
                  12305.058861088008
                 ],
                 [
                  -13337605.917254657,
                  10852.277091346681
                 ],
                 [
                  -13338041.949893149,
                  10876.61678135395
                 ],
                 [
                  -13338276.780551504,
                  11101.862514879555
                 ],
                 [
                  -13339772.028825123,
                  10704.088134400547
                 ],
                 [
                  -13340801.609500708,
                  10044.325808536261
                 ],
                 [
                  -13341170.017549999,
                  10044.466653384268
                 ]
                ]
               ],
               "type": "Polygon"
              },
              "id": "17",
              "properties": {
               "Nbrhood": "East Parton",
               "location": 18
              },
              "type": "Feature"
             },
             {
              "bbox": [
               -13344642.763242131,
               10044.466653384268,
               -13341132.317431018,
               15067.313280094415
              ],
              "geometry": {
               "coordinates": [
                [
                 [
                  -13341132.317431018,
                  15067.313280094415
                 ],
                 [
                  -13341170.017549999,
                  10044.466653384268
                 ],
                 [
                  -13344267.362770466,
                  10045.650789070874
                 ],
                 [
                  -13344642.763242131,
                  10497.145950954407
                 ],
                 [
                  -13344603.385225657,
                  15064.405022233725
                 ],
                 [
                  -13341132.317431018,
                  15067.313280094415
                 ]
                ]
               ],
               "type": "Polygon"
              },
              "id": "18",
              "properties": {
               "Nbrhood": "West Parton",
               "location": 19
              },
              "type": "Feature"
             }
            ],
            "type": "FeatureCollection"
           },
           "hovertemplate": "<b>%{hovertext}</b><br><br>animation_frame=2020-04-07 16:50:00<br>_index=%{location}<br>sewer_and_water=%{z}<extra></extra>",
           "hovertext": [
            16
           ],
           "locations": [
            0
           ],
           "name": "",
           "type": "choropleth",
           "z": [
            9
           ]
          }
         ],
         "name": "2020-04-07 16:50:00"
        },
        {
         "data": [
          {
           "coloraxis": "coloraxis",
           "geo": "geo",
           "geojson": {
            "bbox": [
             -13356433.400213113,
             949.7406152039766,
             -13326281.927027373,
             25330.81290255487
            ],
            "features": [
             {
              "bbox": [
               -13356433.400213113,
               12757.579205360264,
               -13351491.341083687,
               22271.92544165626
              ],
              "geometry": {
               "coordinates": [
                [
                 [
                  -13351493.65584308,
                  17391.305680375546
                 ],
                 [
                  -13352311.805856697,
                  17400.277170021087
                 ],
                 [
                  -13352257.890654525,
                  15740.887058779597
                 ],
                 [
                  -13353294.260651799,
                  15369.471221614629
                 ],
                 [
                  -13354348.60238313,
                  12757.579205360264
                 ],
                 [
                  -13355594.64261106,
                  12877.390765737742
                 ],
                 [
                  -13355426.90642653,
                  13931.73249706626
                 ],
                 [
                  -13354684.074752187,
                  14123.430993683636
                 ],
                 [
                  -13354411.58013172,
                  15544.506326396018
                 ],
                 [
                  -13355025.614378663,
                  16682.71614999324
                 ],
                 [
                  -13356433.400213113,
                  16802.527710374445
                 ],
                 [
                  -13356433.400213113,
                  17296.750396937132
                 ],
                 [
                  -13355429.97839494,
                  17371.632622171193
                 ],
                 [
                  -13355729.507295888,
                  18015.619759209454
                 ],
                 [
                  -13356133.871312166,
                  19767.863829746842
                 ],
                 [
                  -13355819.365966171,
                  20606.54475240037
                 ],
                 [
                  -13355040.59082371,
                  21295.46122456342
                 ],
                 [
                  -13354306.74501639,
                  21624.94301560521
                 ],
                 [
                  -13353452.129156219,
                  22110.898704510182
                 ],
                 [
                  -13352790.769342927,
                  22271.92544165626
                 ],
                 [
                  -13351864.865604319,
                  22185.66111817211
                 ],
                 [
                  -13351491.341083687,
                  22229.943470899016
                 ],
                 [
                  -13351493.65584308,
                  17391.305680375546
                 ]
                ]
               ],
               "type": "Polygon"
              },
              "id": "0",
              "properties": {
               "Nbrhood": "Palace Hills",
               "location": 1
              },
              "type": "Feature"
             },
             {
              "bbox": [
               -13351493.65584308,
               17204.90445223078,
               -13346115.925101548,
               22628.675067204982
              ],
              "geometry": {
               "coordinates": [
                [
                 [
                  -13351493.65584308,
                  17391.305680375546
                 ],
                 [
                  -13351491.341083687,
                  22229.943470899016
                 ],
                 [
                  -13351179.176619865,
                  22490.652149640024
                 ],
                 [
                  -13350632.835904507,
                  22413.97275100276
                 ],
                 [
                  -13350642.420829345,
                  21858.04711080715
                 ],
                 [
                  -13349866.041918047,
                  22011.40590809658
                 ],
                 [
                  -13349578.494173124,
                  22308.53857785836
                 ],
                 [
                  -13349097.330946626,
                  22433.14260065183
                 ],
                 [
                  -13348090.913839394,
                  22628.675067204982
                 ],
                 [
                  -13347699.848906301,
                  22272.11586350575
                 ],
                 [
                  -13347115.168491626,
                  22371.319835502654
                 ],
                 [
                  -13346410.676516563,
                  22553.433407288045
                 ],
                 [
                  -13346300.689504128,
                  22340.168829794973
                 ],
                 [
                  -13346151.883546134,
                  22022.428571663797
                 ],
                 [
                  -13346115.925101548,
                  18770.910059832036
                 ],
                 [
                  -13346227.781174313,
                  18788.73802002147
                 ],
                 [
                  -13346976.60342668,
                  18680.907615687698
                 ],
                 [
                  -13347300.094639698,
                  18764.775707941502
                 ],
                 [
                  -13348123.912575217,
                  18966.933133535087
                 ],
                 [
                  -13348962.593497869,
                  18954.95197750628
                 ],
                 [
                  -13349304.056444949,
                  18451.743423912674
                 ],
                 [
                  -13349357.971647115,
                  17990.468916457146
                 ],
                 [
                  -13349576.02868701,
                  17660.18838166818
                 ],
                 [
                  -13349717.406328259,
                  17427.753954540938
                 ],
                 [
                  -13350076.841009395,
                  17204.90445223078
                 ],
                 [
                  -13350364.868000543,
                  17207.779929686338
                 ],
                 [
                  -13351485.106090086,
                  17274.47503162548
                 ],
                 [
                  -13351493.65584308,
                  17391.305680375546
                 ]
                ]
               ],
               "type": "Polygon"
              },
              "id": "1",
              "properties": {
               "Nbrhood": "Northwest",
               "location": 2
              },
              "type": "Feature"
             },
             {
              "bbox": [
               -13346410.676516563,
               18206.749822482467,
               -13337665.843480354,
               25330.81290255487
              ],
              "geometry": {
               "coordinates": [
                [
                 [
                  -13346410.676516563,
                  22553.433407288045
                 ],
                 [
                  -13346405.953036554,
                  23627.092513881624
                 ],
                 [
                  -13345800.90465661,
                  24100.348177406937
                 ],
                 [
                  -13344986.186045988,
                  24112.329333443195
                 ],
                 [
                  -13344062.438915428,
                  24736.547563046217
                 ],
                 [
                  -13342567.190641824,
                  25330.81290255487
                 ],
                 [
                  -13342490.51124318,
                  23931.41387725994
                 ],
                 [
                  -13342087.944400283,
                  23720.545530982316
                 ],
                 [
                  -13341167.79161653,
                  24084.77267454937
                 ],
                 [
                  -13340611.865976345,
                  23317.978688087314
                 ],
                 [
                  -13340036.7704865,
                  22301.976656023413
                 ],
                 [
                  -13339461.67499665,
                  22378.65605467558
                 ],
                 [
                  -13339557.524244959,
                  23126.280191473663
                 ],
                 [
                  -13339960.091087848,
                  23605.526433009654
                 ],
                 [
                  -13339730.052891914,
                  24161.452073201537
                 ],
                 [
                  -13339825.902140222,
                  24832.396811354905
                 ],
                 [
                  -13338177.295069322,
                  24947.41590932384
                 ],
                 [
                  -13338138.95537,
                  24180.62192285806
                 ],
                 [
                  -13337755.558376769,
                  23739.71538064629
                 ],
                 [
                  -13337665.843480354,
                  23538.892035592347
                 ],
                 [
                  -13338384.04431837,
                  21161.622399073094
                 ],
                 [
                  -13338527.818190832,
                  20298.979164298624
                 ],
                 [
                  -13339129.998354634,
                  19450.39381927997
                 ],
                 [
                  -13339669.15037637,
                  18487.108873780817
                 ],
                 [
                  -13341272.229054319,
                  18487.108873780817
                 ],
                 [
                  -13342062.98535286,
                  18221.12720972672
                 ],
                 [
                  -13342372.099178655,
                  18206.749822482467
                 ],
                 [
                  -13342961.572055742,
                  18400.84455030784
                 ],
                 [
                  -13343879.25883004,
                  18391.51190070063
                 ],
                 [
                  -13344655.637741333,
                  18673.308690719306
                 ],
                 [
                  -13345345.75232915,
                  18581.293412346393
                 ],
                 [
                  -13346115.925101547,
                  18770.91005983576
                 ],
                 [
                  -13346151.883546134,
                  22022.428571663797
                 ],
                 [
                  -13346410.676516563,
                  22553.433407288045
                 ]
                ]
               ],
               "type": "Polygon"
              },
              "id": "2",
              "properties": {
               "Nbrhood": "Old Town",
               "location": 3
              },
              "type": "Feature"
             },
             {
              "bbox": [
               -13341132.317431018,
               14994.019276894629,
               -13331620.308318393,
               24272.240581881255
              ],
              "geometry": {
               "coordinates": [
                [
                 [
                  -13337755.558376769,
                  23739.71538064629
                 ],
                 [
                  -13337518.91470274,
                  24272.240581881255
                 ],
                 [
                  -13337263.716079118,
                  24203.94799246639
                 ],
                 [
                  -13337102.836912887,
                  23453.836101733148
                 ],
                 [
                  -13335365.569287306,
                  21446.992465287447
                 ],
                 [
                  -13335754.956858559,
                  21207.36934451759
                 ],
                 [
                  -13335545.286627889,
                  20937.79333365336
                 ],
                 [
                  -13334676.652815094,
                  21087.557784136385
                 ],
                 [
                  -13333519.720922353,
                  22198.368277214468
                 ],
                 [
                  -13333270.512876753,
                  21920.40545712039
                 ],
                 [
                  -13334018.137013558,
                  20866.063725735992
                 ],
                 [
                  -13333414.286749214,
                  20252.628536563367
                 ],
                 [
                  -13333883.948065925,
                  19945.910941977054
                 ],
                 [
                  -13333155.493778786,
                  18910.73906024918
                 ],
                 [
                  -13333136.323929127,
                  17837.22747920081
                 ],
                 [
                  -13333225.78322755,
                  17473.000335633755
                 ],
                 [
                  -13332866.348546397,
                  16873.94253370911
                 ],
                 [
                  -13332602.763113547,
                  16250.922419708222
                 ],
                 [
                  -13331620.308318393,
                  15987.336986858398
                 ],
                 [
                  -13332219.366120316,
                  15508.090745322406
                 ],
                 [
                  -13332220.005115306,
                  15252.81224732846
                 ],
                 [
                  -13333128.655989265,
                  14994.019276894629
                 ],
                 [
                  -13341132.317431018,
                  15067.313280094415
                 ],
                 [
                  -13341120.970413575,
                  16561.339284081012
                 ],
                 [
                  -13340320.629190205,
                  17400.020206775516
                 ],
                 [
                  -13339669.15037637,
                  18487.108873780817
                 ],
                 [
                  -13339129.998354634,
                  19450.39381927997
                 ],
                 [
                  -13338527.818190832,
                  20298.979164298624
                 ],
                 [
                  -13338384.04431837,
                  21161.622399073094
                 ],
                 [
                  -13337665.843480354,
                  23538.892035592347
                 ],
                 [
                  -13337755.558376769,
                  23739.71538064629
                 ]
                ]
               ],
               "type": "Polygon"
              },
              "id": "3",
              "properties": {
               "Nbrhood": "Safe Town",
               "location": 4
              },
              "type": "Feature"
             },
             {
              "bbox": [
               -13352311.805856697,
               9376.789099343121,
               -13343919.603254972,
               17400.277170024812
              ],
              "geometry": {
               "coordinates": [
                [
                 [
                  -13352257.890654525,
                  15740.887058783323
                 ],
                 [
                  -13352311.805856697,
                  17400.277170024812
                 ],
                 [
                  -13351493.655843081,
                  17391.30568037927
                 ],
                 [
                  -13351485.106090082,
                  17274.475031629205
                 ],
                 [
                  -13350364.868000543,
                  17207.779929686338
                 ],
                 [
                  -13350381.639764352,
                  15138.63087495789
                 ],
                 [
                  -13350010.223927157,
                  15132.640296936035
                 ],
                 [
                  -13349992.252193099,
                  13934.524693090469
                 ],
                 [
                  -13347322.251569912,
                  13950.459630619735
                 ],
                 [
                  -13347312.666645082,
                  13777.93098366633
                 ],
                 [
                  -13346680.06160625,
                  13097.40132067725
                 ],
                 [
                  -13345366.926904423,
                  11602.153047066182
                 ],
                 [
                  -13344724.736940756,
                  10595.735939834267
                 ],
                 [
                  -13344015.45250328,
                  9742.677629888058
                 ],
                 [
                  -13343919.603254972,
                  9388.035411145538
                 ],
                 [
                  -13344426.07068303,
                  9376.789099343121
                 ],
                 [
                  -13346326.793226724,
                  9691.206583544612
                 ],
                 [
                  -13348291.702817041,
                  10805.454095125198
                 ],
                 [
                  -13349358.025704462,
                  11009.133747778833
                 ],
                 [
                  -13351779.417339833,
                  12790.132592901587
                 ],
                 [
                  -13352261.059812574,
                  14040.965283319354
                 ],
                 [
                  -13351944.75729316,
                  15730.30828474462
                 ],
                 [
                  -13352257.890654525,
                  15740.887058783323
                 ]
                ]
               ],
               "type": "Polygon"
              },
              "id": "4",
              "properties": {
               "Nbrhood": "Southwest",
               "location": 5
              },
              "type": "Feature"
             },
             {
              "bbox": [
               -13350381.639764352,
               13934.524693090469,
               -13347300.0946397,
               18966.933133538812
              ],
              "geometry": {
               "coordinates": [
                [
                 [
                  -13347322.251569912,
                  13950.459630619735
                 ],
                 [
                  -13349992.252193099,
                  13934.524693090469
                 ],
                 [
                  -13350010.223927157,
                  15132.640296936035
                 ],
                 [
                  -13350381.639764352,
                  15138.63087495789
                 ],
                 [
                  -13350364.868000543,
                  17207.779929686338
                 ],
                 [
                  -13350076.841009393,
                  17204.90445223078
                 ],
                 [
                  -13349717.406328255,
                  17427.753954540938
                 ],
                 [
                  -13349357.971647117,
                  17990.468916457146
                 ],
                 [
                  -13349304.05644495,
                  18451.743423912674
                 ],
                 [
                  -13348962.59349787,
                  18954.951977510005
                 ],
                 [
                  -13348123.912575219,
                  18966.933133538812
                 ],
                 [
                  -13347300.0946397,
                  18764.775707941502
                 ],
                 [
                  -13347322.251569912,
                  13950.459630619735
                 ]
                ]
               ],
               "type": "Polygon"
              },
              "id": "5",
              "properties": {
               "Nbrhood": "Downtown",
               "location": 6
              },
              "type": "Feature"
             },
             {
              "bbox": [
               -13328287.772234162,
               6053.222041748464,
               -13326281.927027373,
               16367.30006049946
              ],
              "geometry": {
               "coordinates": [
                [
                 [
                  -13326281.927027373,
                  6053.222041748464
                 ],
                 [
                  -13328243.841328684,
                  6053.222041748464
                 ],
                 [
                  -13328287.772234162,
                  15427.877584110945
                 ],
                 [
                  -13326829.740426496,
                  16367.30006049946
                 ],
                 [
                  -13326283.399711132,
                  16022.242766585201
                 ],
                 [
                  -13326281.927027373,
                  6053.222041748464
                 ]
                ]
               ],
               "type": "Polygon"
              },
              "id": "6",
              "properties": {
               "Nbrhood": "Wilson Forest",
               "location": 7
              },
              "type": "Feature"
             },
             {
              "bbox": [
               -13336772.329994978,
               1419.691476520151,
               -13326281.927027373,
               6478.968046542257
              ],
              "geometry": {
               "coordinates": [
                [
                 [
                  -13326281.927027373,
                  6053.222041748464
                 ],
                 [
                  -13326284.924585544,
                  5389.747372850776
                 ],
                 [
                  -13329965.535720583,
                  4282.688554890454
                 ],
                 [
                  -13336454.829359954,
                  1419.691476520151
                 ],
                 [
                  -13336772.329994978,
                  1743.1826895549893
                 ],
                 [
                  -13336754.35826092,
                  2617.807080373168
                 ],
                 [
                  -13335658.082483398,
                  2611.816502351314
                 ],
                 [
                  -13334735.53346843,
                  3360.638754762709
                 ],
                 [
                  -13334244.306070847,
                  3612.2430315688252
                 ],
                 [
                  -13333747.088095248,
                  3612.2430315688252
                 ],
                 [
                  -13329956.250324655,
                  5740.096344020218
                 ],
                 [
                  -13329577.172296133,
                  5706.232937712222
                 ],
                 [
                  -13329589.15345217,
                  6029.724150754511
                 ],
                 [
                  -13329343.539753383,
                  6455.055190123618
                 ],
                 [
                  -13328245.836432122,
                  6478.968046542257
                 ],
                 [
                  -13328243.841328684,
                  6053.222041748464
                 ],
                 [
                  -13326281.927027373,
                  6053.222041748464
                 ]
                ]
               ],
               "type": "Polygon"
              },
              "id": "7",
              "properties": {
               "Nbrhood": "Scenic Vista",
               "location": 8
              },
              "type": "Feature"
             },
             {
              "bbox": [
               -13344586.416364064,
               949.7406152039766,
               -13335203.443902548,
               8852.860588606447
              ],
              "geometry": {
               "coordinates": [
                [
                 [
                  -13336454.829359954,
                  1419.691476520151
                 ],
                 [
                  -13336684.694192199,
                  1016.835089020431
                 ],
                 [
                  -13337930.73442021,
                  949.7406152039766
                 ],
                 [
                  -13339598.511340775,
                  1793.2140003181994
                 ],
                 [
                  -13340968.107240433,
                  2125.241787035018
                 ],
                 [
                  -13341399.428857816,
                  2664.393808770925
                 ],
                 [
                  -13341890.6562554,
                  4245.90640585497
                 ],
                 [
                  -13343472.168852484,
                  5779.494378790259
                 ],
                 [
                  -13344586.416364064,
                  6414.495648834854
                 ],
                 [
                  -13344298.868619142,
                  7133.365011144429
                 ],
                 [
                  -13344238.962838948,
                  8127.800962343812
                 ],
                 [
                  -13344382.736711409,
                  8690.915296152234
                 ],
                 [
                  -13343987.757934008,
                  8852.860588606447
                 ],
                 [
                  -13341078.493624715,
                  8793.81745165214
                 ],
                 [
                  -13341066.99171492,
                  7724.139840532094
                 ],
                 [
                  -13335203.443902548,
                  7716.247253987938
                 ],
                 [
                  -13335266.794265106,
                  5044.324653685093
                 ],
                 [
                  -13335477.662611384,
                  4799.909070491791
                 ],
                 [
                  -13336071.927950898,
                  4603.418111465871
                 ],
                 [
                  -13336474.494793795,
                  4469.2291638329625
                 ],
                 [
                  -13336704.532989737,
                  4224.813580647111
                 ],
                 [
                  -13336754.35826092,
                  2617.807080373168
                 ],
                 [
                  -13336772.329994978,
                  1743.1826895549893
                 ],
                 [
                  -13336454.829359954,
                  1419.691476520151
                 ]
                ]
               ],
               "type": "Polygon"
              },
              "id": "8",
              "properties": {
               "Nbrhood": "Broadview",
               "location": 9
              },
              "type": "Feature"
             },
             {
              "bbox": [
               -13336754.35826092,
               2611.816502351314,
               -13332861.510445183,
               9236.551839035004
              ],
              "geometry": {
               "coordinates": [
                [
                 [
                  -13335203.443902548,
                  7716.247253987938
                 ],
                 [
                  -13335278.736913722,
                  9236.551839035004
                 ],
                 [
                  -13332922.313096944,
                  9210.283154420555
                 ],
                 [
                  -13332861.510445183,
                  4109.330865491182
                 ],
                 [
                  -13333747.088095248,
                  3612.2430315688252
                 ],
                 [
                  -13334244.306070847,
                  3612.2430315688252
                 ],
                 [
                  -13334735.53346843,
                  3360.638754762709
                 ],
                 [
                  -13335658.082483398,
                  2611.816502351314
                 ],
                 [
                  -13336754.35826092,
                  2617.807080373168
                 ],
                 [
                  -13336704.532989737,
                  4224.813580647111
                 ],
                 [
                  -13336474.494793795,
                  4469.2291638329625
                 ],
                 [
                  -13335477.662611384,
                  4799.909070491791
                 ],
                 [
                  -13335266.794265106,
                  5044.324653688818
                 ],
                 [
                  -13335203.443902548,
                  7716.247253987938
                 ]
                ]
               ],
               "type": "Polygon"
              },
              "id": "9",
              "properties": {
               "Nbrhood": "Chapparal",
               "location": 10
              },
              "type": "Feature"
             },
             {
              "bbox": [
               -13332922.313096944,
               4109.330865491182,
               -13328245.836432122,
               9227.536083679646
              ],
              "geometry": {
               "coordinates": [
                [
                 [
                  -13332861.510445183,
                  4109.330865491182
                 ],
                 [
                  -13332922.313096944,
                  9210.283154420555
                 ],
                 [
                  -13328258.716594182,
                  9227.536083679646
                 ],
                 [
                  -13328245.836432122,
                  6478.968046542257
                 ],
                 [
                  -13329343.539753383,
                  6455.055190123618
                 ],
                 [
                  -13329589.15345217,
                  6029.724150754511
                 ],
                 [
                  -13329577.172296133,
                  5706.232937712222
                 ],
                 [
                  -13329956.250324655,
                  5740.096344023943
                 ],
                 [
                  -13332861.510445183,
                  4109.330865491182
                 ]
                ]
               ],
               "type": "Polygon"
              },
              "id": "10",
              "properties": {
               "Nbrhood": "Terrapin Springs",
               "location": 11
              },
              "type": "Feature"
             },
             {
              "bbox": [
               -13333633.54443903,
               9210.283154420555,
               -13328258.716594182,
               15252.81224732846
              ],
              "geometry": {
               "coordinates": [
                [
                 [
                  -13328258.716594182,
                  9227.536083679646
                 ],
                 [
                  -13332922.313096944,
                  9210.283154420555
                 ],
                 [
                  -13332978.001325656,
                  14174.827906638384
                 ],
                 [
                  -13333633.54443903,
                  14998.642822746187
                 ],
                 [
                  -13333128.655989265,
                  14994.019276894629
                 ],
                 [
                  -13332220.005115306,
                  15252.81224732846
                 ],
                 [
                  -13331958.165323649,
                  14978.044607464224
                 ],
                 [
                  -13330328.728102406,
                  13288.701606027782
                 ],
                 [
                  -13329202.499434777,
                  13025.116173177958
                 ],
                 [
                  -13328723.253193235,
                  13444.45663452521
                 ],
                 [
                  -13328723.253193235,
                  14295.118713267148
                 ],
                 [
                  -13328285.046019284,
                  14846.115721732378
                 ],
                 [
                  -13328258.716594182,
                  9227.536083679646
                 ]
                ]
               ],
               "type": "Polygon"
              },
              "id": "11",
              "properties": {
               "Nbrhood": "Pepper Mill",
               "location": 12
              },
              "type": "Feature"
             },
             {
              "bbox": [
               -13338406.19554747,
               7716.247253987938,
               -13332922.313096944,
               15028.610558889806
              ],
              "geometry": {
               "coordinates": [
                [
                 [
                  -13333633.54443903,
                  14998.642822746187
                 ],
                 [
                  -13332978.001325656,
                  14174.827906638384
                 ],
                 [
                  -13332922.313096944,
                  9210.283154420555
                 ],
                 [
                  -13335278.736913722,
                  9236.551839035004
                 ],
                 [
                  -13335203.443902548,
                  7716.247253987938
                 ],
                 [
                  -13338406.19554747,
                  7720.558294907212
                 ],
                 [
                  -13338394.216157876,
                  8438.11533505842
                 ],
                 [
                  -13338250.442285415,
                  8593.870363555849
                 ],
                 [
                  -13337843.082980104,
                  8605.851519595832
                 ],
                 [
                  -13337579.497547254,
                  8833.493484333158
                 ],
                 [
                  -13337624.929727884,
                  12305.058861088008
                 ],
                 [
                  -13336920.437752815,
                  13440.872453544289
                 ],
                 [
                  -13336906.003355103,
                  15028.610558889806
                 ],
                 [
                  -13333633.54443903,
                  14998.642822746187
                 ]
                ]
               ],
               "type": "Polygon"
              },
              "id": "12",
              "properties": {
               "Nbrhood": "Cheddarford",
               "location": 13
              },
              "type": "Feature"
             },
             {
              "bbox": [
               -13344655.637741333,
               15064.405022233725,
               -13339669.15037637,
               18673.308690719306
              ],
              "geometry": {
               "coordinates": [
                [
                 [
                  -13341132.317431018,
                  15067.313280094415
                 ],
                 [
                  -13344603.385225657,
                  15064.405022233725
                 ],
                 [
                  -13344617.043743549,
                  18337.057794172317
                 ],
                 [
                  -13344655.637741333,
                  18673.308690719306
                 ],
                 [
                  -13343879.25883004,
                  18391.51190070063
                 ],
                 [
                  -13342961.572055742,
                  18400.84455030784
                 ],
                 [
                  -13342372.099178655,
                  18206.749822482467
                 ],
                 [
                  -13342062.98535286,
                  18221.12720972672
                 ],
                 [
                  -13341272.229054319,
                  18487.108873780817
                 ],
                 [
                  -13339669.15037637,
                  18487.108873780817
                 ],
                 [
                  -13340320.629190205,
                  17400.020206775516
                 ],
                 [
                  -13341120.970413575,
                  16561.339284081012
                 ],
                 [
                  -13341132.317431018,
                  15067.313280094415
                 ]
                ]
               ],
               "type": "Polygon"
              },
              "id": "13",
              "properties": {
               "Nbrhood": "Easton",
               "location": 14
              },
              "type": "Feature"
             },
             {
              "bbox": [
               -13347316.97854499,
               15064.405022233725,
               -13344603.385225657,
               18788.73802002147
              ],
              "geometry": {
               "coordinates": [
                [
                 [
                  -13344655.637741333,
                  18673.308690719306
                 ],
                 [
                  -13344617.043743549,
                  18337.057794172317
                 ],
                 [
                  -13344603.385225657,
                  15064.405022233725
                 ],
                 [
                  -13347316.97854499,
                  15096.19635527581
                 ],
                 [
                  -13347300.0946397,
                  18764.775707941502
                 ],
                 [
                  -13346976.603426676,
                  18680.907615687698
                 ],
                 [
                  -13346227.781174313,
                  18788.73802002147
                 ],
                 [
                  -13345345.75232915,
                  18581.293412346393
                 ],
                 [
                  -13344655.637741333,
                  18673.308690719306
                 ]
                ]
               ],
               "type": "Polygon"
              },
              "id": "14",
              "properties": {
               "Nbrhood": "Weston",
               "location": 15
              },
              "type": "Feature"
             },
             {
              "bbox": [
               -13347316.97854499,
               10497.145950954407,
               -13344603.385225657,
               15096.19635527581
              ],
              "geometry": {
               "coordinates": [
                [
                 [
                  -13344603.385225657,
                  15064.405022233725
                 ],
                 [
                  -13344642.763242131,
                  10497.145950954407
                 ],
                 [
                  -13344724.736940756,
                  10595.735939837992
                 ],
                 [
                  -13345366.926904423,
                  11602.153047066182
                 ],
                 [
                  -13346680.06160625,
                  13097.40132067725
                 ],
                 [
                  -13347312.666645082,
                  13777.93098366633
                 ],
                 [
                  -13347316.97854499,
                  15096.19635527581
                 ],
                 [
                  -13344603.385225657,
                  15064.405022233725
                 ]
                ]
               ],
               "type": "Polygon"
              },
              "id": "15",
              "properties": {
               "Nbrhood": "Southton",
               "location": 16
              },
              "type": "Feature"
             },
             {
              "bbox": [
               -13344669.141488539,
               7720.558294907212,
               -13337579.497547254,
               11101.862514879555
              ],
              "geometry": {
               "coordinates": [
                [
                 [
                  -13344669.141488539,
                  9416.997867006809
                 ],
                 [
                  -13344426.07068303,
                  9376.789099343121
                 ],
                 [
                  -13343919.603254972,
                  9388.035411145538
                 ],
                 [
                  -13344015.45250328,
                  9742.677629888058
                 ],
                 [
                  -13344267.362770466,
                  10045.650789070874
                 ],
                 [
                  -13340801.609500708,
                  10044.325808536261
                 ],
                 [
                  -13339772.028825123,
                  10704.088134400547
                 ],
                 [
                  -13338276.780551504,
                  11101.862514879555
                 ],
                 [
                  -13338041.949893149,
                  10876.61678135395
                 ],
                 [
                  -13337605.917254657,
                  10852.277091346681
                 ],
                 [
                  -13337579.497547254,
                  8833.493484333158
                 ],
                 [
                  -13337843.082980104,
                  8605.851519595832
                 ],
                 [
                  -13338250.442285415,
                  8593.870363555849
                 ],
                 [
                  -13338394.216157876,
                  8438.11533505842
                 ],
                 [
                  -13338406.19554747,
                  7720.558294907212
                 ],
                 [
                  -13341066.99171492,
                  7724.139840532094
                 ],
                 [
                  -13341078.493624715,
                  8793.81745165214
                 ],
                 [
                  -13343987.757934008,
                  8852.860588606447
                 ],
                 [
                  -13344382.736711409,
                  8690.915296152234
                 ],
                 [
                  -13344669.141488539,
                  9416.997867006809
                 ]
                ]
               ],
               "type": "Polygon"
              },
              "id": "16",
              "properties": {
               "Nbrhood": "Oak Willow",
               "location": 17
              },
              "type": "Feature"
             },
             {
              "bbox": [
               -13341170.017549999,
               10044.325808536261,
               -13336906.003355103,
               15067.313280094415
              ],
              "geometry": {
               "coordinates": [
                [
                 [
                  -13341170.017549999,
                  10044.466653384268
                 ],
                 [
                  -13341132.317431018,
                  15067.313280094415
                 ],
                 [
                  -13336906.003355103,
                  15028.610558889806
                 ],
                 [
                  -13336920.437752815,
                  13440.872453544289
                 ],
                 [
                  -13337624.929727884,
                  12305.058861088008
                 ],
                 [
                  -13337605.917254657,
                  10852.277091346681
                 ],
                 [
                  -13338041.949893149,
                  10876.61678135395
                 ],
                 [
                  -13338276.780551504,
                  11101.862514879555
                 ],
                 [
                  -13339772.028825123,
                  10704.088134400547
                 ],
                 [
                  -13340801.609500708,
                  10044.325808536261
                 ],
                 [
                  -13341170.017549999,
                  10044.466653384268
                 ]
                ]
               ],
               "type": "Polygon"
              },
              "id": "17",
              "properties": {
               "Nbrhood": "East Parton",
               "location": 18
              },
              "type": "Feature"
             },
             {
              "bbox": [
               -13344642.763242131,
               10044.466653384268,
               -13341132.317431018,
               15067.313280094415
              ],
              "geometry": {
               "coordinates": [
                [
                 [
                  -13341132.317431018,
                  15067.313280094415
                 ],
                 [
                  -13341170.017549999,
                  10044.466653384268
                 ],
                 [
                  -13344267.362770466,
                  10045.650789070874
                 ],
                 [
                  -13344642.763242131,
                  10497.145950954407
                 ],
                 [
                  -13344603.385225657,
                  15064.405022233725
                 ],
                 [
                  -13341132.317431018,
                  15067.313280094415
                 ]
                ]
               ],
               "type": "Polygon"
              },
              "id": "18",
              "properties": {
               "Nbrhood": "West Parton",
               "location": 19
              },
              "type": "Feature"
             }
            ],
            "type": "FeatureCollection"
           },
           "hovertemplate": "<b>%{hovertext}</b><br><br>animation_frame=2020-04-07 21:50:00<br>_index=%{location}<br>sewer_and_water=%{z}<extra></extra>",
           "hovertext": [
            10
           ],
           "locations": [
            1
           ],
           "name": "",
           "type": "choropleth",
           "z": [
            3
           ]
          }
         ],
         "name": "2020-04-07 21:50:00"
        },
        {
         "data": [
          {
           "coloraxis": "coloraxis",
           "geo": "geo",
           "geojson": {
            "bbox": [
             -13356433.400213113,
             949.7406152039766,
             -13326281.927027373,
             25330.81290255487
            ],
            "features": [
             {
              "bbox": [
               -13356433.400213113,
               12757.579205360264,
               -13351491.341083687,
               22271.92544165626
              ],
              "geometry": {
               "coordinates": [
                [
                 [
                  -13351493.65584308,
                  17391.305680375546
                 ],
                 [
                  -13352311.805856697,
                  17400.277170021087
                 ],
                 [
                  -13352257.890654525,
                  15740.887058779597
                 ],
                 [
                  -13353294.260651799,
                  15369.471221614629
                 ],
                 [
                  -13354348.60238313,
                  12757.579205360264
                 ],
                 [
                  -13355594.64261106,
                  12877.390765737742
                 ],
                 [
                  -13355426.90642653,
                  13931.73249706626
                 ],
                 [
                  -13354684.074752187,
                  14123.430993683636
                 ],
                 [
                  -13354411.58013172,
                  15544.506326396018
                 ],
                 [
                  -13355025.614378663,
                  16682.71614999324
                 ],
                 [
                  -13356433.400213113,
                  16802.527710374445
                 ],
                 [
                  -13356433.400213113,
                  17296.750396937132
                 ],
                 [
                  -13355429.97839494,
                  17371.632622171193
                 ],
                 [
                  -13355729.507295888,
                  18015.619759209454
                 ],
                 [
                  -13356133.871312166,
                  19767.863829746842
                 ],
                 [
                  -13355819.365966171,
                  20606.54475240037
                 ],
                 [
                  -13355040.59082371,
                  21295.46122456342
                 ],
                 [
                  -13354306.74501639,
                  21624.94301560521
                 ],
                 [
                  -13353452.129156219,
                  22110.898704510182
                 ],
                 [
                  -13352790.769342927,
                  22271.92544165626
                 ],
                 [
                  -13351864.865604319,
                  22185.66111817211
                 ],
                 [
                  -13351491.341083687,
                  22229.943470899016
                 ],
                 [
                  -13351493.65584308,
                  17391.305680375546
                 ]
                ]
               ],
               "type": "Polygon"
              },
              "id": "0",
              "properties": {
               "Nbrhood": "Palace Hills",
               "location": 1
              },
              "type": "Feature"
             },
             {
              "bbox": [
               -13351493.65584308,
               17204.90445223078,
               -13346115.925101548,
               22628.675067204982
              ],
              "geometry": {
               "coordinates": [
                [
                 [
                  -13351493.65584308,
                  17391.305680375546
                 ],
                 [
                  -13351491.341083687,
                  22229.943470899016
                 ],
                 [
                  -13351179.176619865,
                  22490.652149640024
                 ],
                 [
                  -13350632.835904507,
                  22413.97275100276
                 ],
                 [
                  -13350642.420829345,
                  21858.04711080715
                 ],
                 [
                  -13349866.041918047,
                  22011.40590809658
                 ],
                 [
                  -13349578.494173124,
                  22308.53857785836
                 ],
                 [
                  -13349097.330946626,
                  22433.14260065183
                 ],
                 [
                  -13348090.913839394,
                  22628.675067204982
                 ],
                 [
                  -13347699.848906301,
                  22272.11586350575
                 ],
                 [
                  -13347115.168491626,
                  22371.319835502654
                 ],
                 [
                  -13346410.676516563,
                  22553.433407288045
                 ],
                 [
                  -13346300.689504128,
                  22340.168829794973
                 ],
                 [
                  -13346151.883546134,
                  22022.428571663797
                 ],
                 [
                  -13346115.925101548,
                  18770.910059832036
                 ],
                 [
                  -13346227.781174313,
                  18788.73802002147
                 ],
                 [
                  -13346976.60342668,
                  18680.907615687698
                 ],
                 [
                  -13347300.094639698,
                  18764.775707941502
                 ],
                 [
                  -13348123.912575217,
                  18966.933133535087
                 ],
                 [
                  -13348962.593497869,
                  18954.95197750628
                 ],
                 [
                  -13349304.056444949,
                  18451.743423912674
                 ],
                 [
                  -13349357.971647115,
                  17990.468916457146
                 ],
                 [
                  -13349576.02868701,
                  17660.18838166818
                 ],
                 [
                  -13349717.406328259,
                  17427.753954540938
                 ],
                 [
                  -13350076.841009395,
                  17204.90445223078
                 ],
                 [
                  -13350364.868000543,
                  17207.779929686338
                 ],
                 [
                  -13351485.106090086,
                  17274.47503162548
                 ],
                 [
                  -13351493.65584308,
                  17391.305680375546
                 ]
                ]
               ],
               "type": "Polygon"
              },
              "id": "1",
              "properties": {
               "Nbrhood": "Northwest",
               "location": 2
              },
              "type": "Feature"
             },
             {
              "bbox": [
               -13346410.676516563,
               18206.749822482467,
               -13337665.843480354,
               25330.81290255487
              ],
              "geometry": {
               "coordinates": [
                [
                 [
                  -13346410.676516563,
                  22553.433407288045
                 ],
                 [
                  -13346405.953036554,
                  23627.092513881624
                 ],
                 [
                  -13345800.90465661,
                  24100.348177406937
                 ],
                 [
                  -13344986.186045988,
                  24112.329333443195
                 ],
                 [
                  -13344062.438915428,
                  24736.547563046217
                 ],
                 [
                  -13342567.190641824,
                  25330.81290255487
                 ],
                 [
                  -13342490.51124318,
                  23931.41387725994
                 ],
                 [
                  -13342087.944400283,
                  23720.545530982316
                 ],
                 [
                  -13341167.79161653,
                  24084.77267454937
                 ],
                 [
                  -13340611.865976345,
                  23317.978688087314
                 ],
                 [
                  -13340036.7704865,
                  22301.976656023413
                 ],
                 [
                  -13339461.67499665,
                  22378.65605467558
                 ],
                 [
                  -13339557.524244959,
                  23126.280191473663
                 ],
                 [
                  -13339960.091087848,
                  23605.526433009654
                 ],
                 [
                  -13339730.052891914,
                  24161.452073201537
                 ],
                 [
                  -13339825.902140222,
                  24832.396811354905
                 ],
                 [
                  -13338177.295069322,
                  24947.41590932384
                 ],
                 [
                  -13338138.95537,
                  24180.62192285806
                 ],
                 [
                  -13337755.558376769,
                  23739.71538064629
                 ],
                 [
                  -13337665.843480354,
                  23538.892035592347
                 ],
                 [
                  -13338384.04431837,
                  21161.622399073094
                 ],
                 [
                  -13338527.818190832,
                  20298.979164298624
                 ],
                 [
                  -13339129.998354634,
                  19450.39381927997
                 ],
                 [
                  -13339669.15037637,
                  18487.108873780817
                 ],
                 [
                  -13341272.229054319,
                  18487.108873780817
                 ],
                 [
                  -13342062.98535286,
                  18221.12720972672
                 ],
                 [
                  -13342372.099178655,
                  18206.749822482467
                 ],
                 [
                  -13342961.572055742,
                  18400.84455030784
                 ],
                 [
                  -13343879.25883004,
                  18391.51190070063
                 ],
                 [
                  -13344655.637741333,
                  18673.308690719306
                 ],
                 [
                  -13345345.75232915,
                  18581.293412346393
                 ],
                 [
                  -13346115.925101547,
                  18770.91005983576
                 ],
                 [
                  -13346151.883546134,
                  22022.428571663797
                 ],
                 [
                  -13346410.676516563,
                  22553.433407288045
                 ]
                ]
               ],
               "type": "Polygon"
              },
              "id": "2",
              "properties": {
               "Nbrhood": "Old Town",
               "location": 3
              },
              "type": "Feature"
             },
             {
              "bbox": [
               -13341132.317431018,
               14994.019276894629,
               -13331620.308318393,
               24272.240581881255
              ],
              "geometry": {
               "coordinates": [
                [
                 [
                  -13337755.558376769,
                  23739.71538064629
                 ],
                 [
                  -13337518.91470274,
                  24272.240581881255
                 ],
                 [
                  -13337263.716079118,
                  24203.94799246639
                 ],
                 [
                  -13337102.836912887,
                  23453.836101733148
                 ],
                 [
                  -13335365.569287306,
                  21446.992465287447
                 ],
                 [
                  -13335754.956858559,
                  21207.36934451759
                 ],
                 [
                  -13335545.286627889,
                  20937.79333365336
                 ],
                 [
                  -13334676.652815094,
                  21087.557784136385
                 ],
                 [
                  -13333519.720922353,
                  22198.368277214468
                 ],
                 [
                  -13333270.512876753,
                  21920.40545712039
                 ],
                 [
                  -13334018.137013558,
                  20866.063725735992
                 ],
                 [
                  -13333414.286749214,
                  20252.628536563367
                 ],
                 [
                  -13333883.948065925,
                  19945.910941977054
                 ],
                 [
                  -13333155.493778786,
                  18910.73906024918
                 ],
                 [
                  -13333136.323929127,
                  17837.22747920081
                 ],
                 [
                  -13333225.78322755,
                  17473.000335633755
                 ],
                 [
                  -13332866.348546397,
                  16873.94253370911
                 ],
                 [
                  -13332602.763113547,
                  16250.922419708222
                 ],
                 [
                  -13331620.308318393,
                  15987.336986858398
                 ],
                 [
                  -13332219.366120316,
                  15508.090745322406
                 ],
                 [
                  -13332220.005115306,
                  15252.81224732846
                 ],
                 [
                  -13333128.655989265,
                  14994.019276894629
                 ],
                 [
                  -13341132.317431018,
                  15067.313280094415
                 ],
                 [
                  -13341120.970413575,
                  16561.339284081012
                 ],
                 [
                  -13340320.629190205,
                  17400.020206775516
                 ],
                 [
                  -13339669.15037637,
                  18487.108873780817
                 ],
                 [
                  -13339129.998354634,
                  19450.39381927997
                 ],
                 [
                  -13338527.818190832,
                  20298.979164298624
                 ],
                 [
                  -13338384.04431837,
                  21161.622399073094
                 ],
                 [
                  -13337665.843480354,
                  23538.892035592347
                 ],
                 [
                  -13337755.558376769,
                  23739.71538064629
                 ]
                ]
               ],
               "type": "Polygon"
              },
              "id": "3",
              "properties": {
               "Nbrhood": "Safe Town",
               "location": 4
              },
              "type": "Feature"
             },
             {
              "bbox": [
               -13352311.805856697,
               9376.789099343121,
               -13343919.603254972,
               17400.277170024812
              ],
              "geometry": {
               "coordinates": [
                [
                 [
                  -13352257.890654525,
                  15740.887058783323
                 ],
                 [
                  -13352311.805856697,
                  17400.277170024812
                 ],
                 [
                  -13351493.655843081,
                  17391.30568037927
                 ],
                 [
                  -13351485.106090082,
                  17274.475031629205
                 ],
                 [
                  -13350364.868000543,
                  17207.779929686338
                 ],
                 [
                  -13350381.639764352,
                  15138.63087495789
                 ],
                 [
                  -13350010.223927157,
                  15132.640296936035
                 ],
                 [
                  -13349992.252193099,
                  13934.524693090469
                 ],
                 [
                  -13347322.251569912,
                  13950.459630619735
                 ],
                 [
                  -13347312.666645082,
                  13777.93098366633
                 ],
                 [
                  -13346680.06160625,
                  13097.40132067725
                 ],
                 [
                  -13345366.926904423,
                  11602.153047066182
                 ],
                 [
                  -13344724.736940756,
                  10595.735939834267
                 ],
                 [
                  -13344015.45250328,
                  9742.677629888058
                 ],
                 [
                  -13343919.603254972,
                  9388.035411145538
                 ],
                 [
                  -13344426.07068303,
                  9376.789099343121
                 ],
                 [
                  -13346326.793226724,
                  9691.206583544612
                 ],
                 [
                  -13348291.702817041,
                  10805.454095125198
                 ],
                 [
                  -13349358.025704462,
                  11009.133747778833
                 ],
                 [
                  -13351779.417339833,
                  12790.132592901587
                 ],
                 [
                  -13352261.059812574,
                  14040.965283319354
                 ],
                 [
                  -13351944.75729316,
                  15730.30828474462
                 ],
                 [
                  -13352257.890654525,
                  15740.887058783323
                 ]
                ]
               ],
               "type": "Polygon"
              },
              "id": "4",
              "properties": {
               "Nbrhood": "Southwest",
               "location": 5
              },
              "type": "Feature"
             },
             {
              "bbox": [
               -13350381.639764352,
               13934.524693090469,
               -13347300.0946397,
               18966.933133538812
              ],
              "geometry": {
               "coordinates": [
                [
                 [
                  -13347322.251569912,
                  13950.459630619735
                 ],
                 [
                  -13349992.252193099,
                  13934.524693090469
                 ],
                 [
                  -13350010.223927157,
                  15132.640296936035
                 ],
                 [
                  -13350381.639764352,
                  15138.63087495789
                 ],
                 [
                  -13350364.868000543,
                  17207.779929686338
                 ],
                 [
                  -13350076.841009393,
                  17204.90445223078
                 ],
                 [
                  -13349717.406328255,
                  17427.753954540938
                 ],
                 [
                  -13349357.971647117,
                  17990.468916457146
                 ],
                 [
                  -13349304.05644495,
                  18451.743423912674
                 ],
                 [
                  -13348962.59349787,
                  18954.951977510005
                 ],
                 [
                  -13348123.912575219,
                  18966.933133538812
                 ],
                 [
                  -13347300.0946397,
                  18764.775707941502
                 ],
                 [
                  -13347322.251569912,
                  13950.459630619735
                 ]
                ]
               ],
               "type": "Polygon"
              },
              "id": "5",
              "properties": {
               "Nbrhood": "Downtown",
               "location": 6
              },
              "type": "Feature"
             },
             {
              "bbox": [
               -13328287.772234162,
               6053.222041748464,
               -13326281.927027373,
               16367.30006049946
              ],
              "geometry": {
               "coordinates": [
                [
                 [
                  -13326281.927027373,
                  6053.222041748464
                 ],
                 [
                  -13328243.841328684,
                  6053.222041748464
                 ],
                 [
                  -13328287.772234162,
                  15427.877584110945
                 ],
                 [
                  -13326829.740426496,
                  16367.30006049946
                 ],
                 [
                  -13326283.399711132,
                  16022.242766585201
                 ],
                 [
                  -13326281.927027373,
                  6053.222041748464
                 ]
                ]
               ],
               "type": "Polygon"
              },
              "id": "6",
              "properties": {
               "Nbrhood": "Wilson Forest",
               "location": 7
              },
              "type": "Feature"
             },
             {
              "bbox": [
               -13336772.329994978,
               1419.691476520151,
               -13326281.927027373,
               6478.968046542257
              ],
              "geometry": {
               "coordinates": [
                [
                 [
                  -13326281.927027373,
                  6053.222041748464
                 ],
                 [
                  -13326284.924585544,
                  5389.747372850776
                 ],
                 [
                  -13329965.535720583,
                  4282.688554890454
                 ],
                 [
                  -13336454.829359954,
                  1419.691476520151
                 ],
                 [
                  -13336772.329994978,
                  1743.1826895549893
                 ],
                 [
                  -13336754.35826092,
                  2617.807080373168
                 ],
                 [
                  -13335658.082483398,
                  2611.816502351314
                 ],
                 [
                  -13334735.53346843,
                  3360.638754762709
                 ],
                 [
                  -13334244.306070847,
                  3612.2430315688252
                 ],
                 [
                  -13333747.088095248,
                  3612.2430315688252
                 ],
                 [
                  -13329956.250324655,
                  5740.096344020218
                 ],
                 [
                  -13329577.172296133,
                  5706.232937712222
                 ],
                 [
                  -13329589.15345217,
                  6029.724150754511
                 ],
                 [
                  -13329343.539753383,
                  6455.055190123618
                 ],
                 [
                  -13328245.836432122,
                  6478.968046542257
                 ],
                 [
                  -13328243.841328684,
                  6053.222041748464
                 ],
                 [
                  -13326281.927027373,
                  6053.222041748464
                 ]
                ]
               ],
               "type": "Polygon"
              },
              "id": "7",
              "properties": {
               "Nbrhood": "Scenic Vista",
               "location": 8
              },
              "type": "Feature"
             },
             {
              "bbox": [
               -13344586.416364064,
               949.7406152039766,
               -13335203.443902548,
               8852.860588606447
              ],
              "geometry": {
               "coordinates": [
                [
                 [
                  -13336454.829359954,
                  1419.691476520151
                 ],
                 [
                  -13336684.694192199,
                  1016.835089020431
                 ],
                 [
                  -13337930.73442021,
                  949.7406152039766
                 ],
                 [
                  -13339598.511340775,
                  1793.2140003181994
                 ],
                 [
                  -13340968.107240433,
                  2125.241787035018
                 ],
                 [
                  -13341399.428857816,
                  2664.393808770925
                 ],
                 [
                  -13341890.6562554,
                  4245.90640585497
                 ],
                 [
                  -13343472.168852484,
                  5779.494378790259
                 ],
                 [
                  -13344586.416364064,
                  6414.495648834854
                 ],
                 [
                  -13344298.868619142,
                  7133.365011144429
                 ],
                 [
                  -13344238.962838948,
                  8127.800962343812
                 ],
                 [
                  -13344382.736711409,
                  8690.915296152234
                 ],
                 [
                  -13343987.757934008,
                  8852.860588606447
                 ],
                 [
                  -13341078.493624715,
                  8793.81745165214
                 ],
                 [
                  -13341066.99171492,
                  7724.139840532094
                 ],
                 [
                  -13335203.443902548,
                  7716.247253987938
                 ],
                 [
                  -13335266.794265106,
                  5044.324653685093
                 ],
                 [
                  -13335477.662611384,
                  4799.909070491791
                 ],
                 [
                  -13336071.927950898,
                  4603.418111465871
                 ],
                 [
                  -13336474.494793795,
                  4469.2291638329625
                 ],
                 [
                  -13336704.532989737,
                  4224.813580647111
                 ],
                 [
                  -13336754.35826092,
                  2617.807080373168
                 ],
                 [
                  -13336772.329994978,
                  1743.1826895549893
                 ],
                 [
                  -13336454.829359954,
                  1419.691476520151
                 ]
                ]
               ],
               "type": "Polygon"
              },
              "id": "8",
              "properties": {
               "Nbrhood": "Broadview",
               "location": 9
              },
              "type": "Feature"
             },
             {
              "bbox": [
               -13336754.35826092,
               2611.816502351314,
               -13332861.510445183,
               9236.551839035004
              ],
              "geometry": {
               "coordinates": [
                [
                 [
                  -13335203.443902548,
                  7716.247253987938
                 ],
                 [
                  -13335278.736913722,
                  9236.551839035004
                 ],
                 [
                  -13332922.313096944,
                  9210.283154420555
                 ],
                 [
                  -13332861.510445183,
                  4109.330865491182
                 ],
                 [
                  -13333747.088095248,
                  3612.2430315688252
                 ],
                 [
                  -13334244.306070847,
                  3612.2430315688252
                 ],
                 [
                  -13334735.53346843,
                  3360.638754762709
                 ],
                 [
                  -13335658.082483398,
                  2611.816502351314
                 ],
                 [
                  -13336754.35826092,
                  2617.807080373168
                 ],
                 [
                  -13336704.532989737,
                  4224.813580647111
                 ],
                 [
                  -13336474.494793795,
                  4469.2291638329625
                 ],
                 [
                  -13335477.662611384,
                  4799.909070491791
                 ],
                 [
                  -13335266.794265106,
                  5044.324653688818
                 ],
                 [
                  -13335203.443902548,
                  7716.247253987938
                 ]
                ]
               ],
               "type": "Polygon"
              },
              "id": "9",
              "properties": {
               "Nbrhood": "Chapparal",
               "location": 10
              },
              "type": "Feature"
             },
             {
              "bbox": [
               -13332922.313096944,
               4109.330865491182,
               -13328245.836432122,
               9227.536083679646
              ],
              "geometry": {
               "coordinates": [
                [
                 [
                  -13332861.510445183,
                  4109.330865491182
                 ],
                 [
                  -13332922.313096944,
                  9210.283154420555
                 ],
                 [
                  -13328258.716594182,
                  9227.536083679646
                 ],
                 [
                  -13328245.836432122,
                  6478.968046542257
                 ],
                 [
                  -13329343.539753383,
                  6455.055190123618
                 ],
                 [
                  -13329589.15345217,
                  6029.724150754511
                 ],
                 [
                  -13329577.172296133,
                  5706.232937712222
                 ],
                 [
                  -13329956.250324655,
                  5740.096344023943
                 ],
                 [
                  -13332861.510445183,
                  4109.330865491182
                 ]
                ]
               ],
               "type": "Polygon"
              },
              "id": "10",
              "properties": {
               "Nbrhood": "Terrapin Springs",
               "location": 11
              },
              "type": "Feature"
             },
             {
              "bbox": [
               -13333633.54443903,
               9210.283154420555,
               -13328258.716594182,
               15252.81224732846
              ],
              "geometry": {
               "coordinates": [
                [
                 [
                  -13328258.716594182,
                  9227.536083679646
                 ],
                 [
                  -13332922.313096944,
                  9210.283154420555
                 ],
                 [
                  -13332978.001325656,
                  14174.827906638384
                 ],
                 [
                  -13333633.54443903,
                  14998.642822746187
                 ],
                 [
                  -13333128.655989265,
                  14994.019276894629
                 ],
                 [
                  -13332220.005115306,
                  15252.81224732846
                 ],
                 [
                  -13331958.165323649,
                  14978.044607464224
                 ],
                 [
                  -13330328.728102406,
                  13288.701606027782
                 ],
                 [
                  -13329202.499434777,
                  13025.116173177958
                 ],
                 [
                  -13328723.253193235,
                  13444.45663452521
                 ],
                 [
                  -13328723.253193235,
                  14295.118713267148
                 ],
                 [
                  -13328285.046019284,
                  14846.115721732378
                 ],
                 [
                  -13328258.716594182,
                  9227.536083679646
                 ]
                ]
               ],
               "type": "Polygon"
              },
              "id": "11",
              "properties": {
               "Nbrhood": "Pepper Mill",
               "location": 12
              },
              "type": "Feature"
             },
             {
              "bbox": [
               -13338406.19554747,
               7716.247253987938,
               -13332922.313096944,
               15028.610558889806
              ],
              "geometry": {
               "coordinates": [
                [
                 [
                  -13333633.54443903,
                  14998.642822746187
                 ],
                 [
                  -13332978.001325656,
                  14174.827906638384
                 ],
                 [
                  -13332922.313096944,
                  9210.283154420555
                 ],
                 [
                  -13335278.736913722,
                  9236.551839035004
                 ],
                 [
                  -13335203.443902548,
                  7716.247253987938
                 ],
                 [
                  -13338406.19554747,
                  7720.558294907212
                 ],
                 [
                  -13338394.216157876,
                  8438.11533505842
                 ],
                 [
                  -13338250.442285415,
                  8593.870363555849
                 ],
                 [
                  -13337843.082980104,
                  8605.851519595832
                 ],
                 [
                  -13337579.497547254,
                  8833.493484333158
                 ],
                 [
                  -13337624.929727884,
                  12305.058861088008
                 ],
                 [
                  -13336920.437752815,
                  13440.872453544289
                 ],
                 [
                  -13336906.003355103,
                  15028.610558889806
                 ],
                 [
                  -13333633.54443903,
                  14998.642822746187
                 ]
                ]
               ],
               "type": "Polygon"
              },
              "id": "12",
              "properties": {
               "Nbrhood": "Cheddarford",
               "location": 13
              },
              "type": "Feature"
             },
             {
              "bbox": [
               -13344655.637741333,
               15064.405022233725,
               -13339669.15037637,
               18673.308690719306
              ],
              "geometry": {
               "coordinates": [
                [
                 [
                  -13341132.317431018,
                  15067.313280094415
                 ],
                 [
                  -13344603.385225657,
                  15064.405022233725
                 ],
                 [
                  -13344617.043743549,
                  18337.057794172317
                 ],
                 [
                  -13344655.637741333,
                  18673.308690719306
                 ],
                 [
                  -13343879.25883004,
                  18391.51190070063
                 ],
                 [
                  -13342961.572055742,
                  18400.84455030784
                 ],
                 [
                  -13342372.099178655,
                  18206.749822482467
                 ],
                 [
                  -13342062.98535286,
                  18221.12720972672
                 ],
                 [
                  -13341272.229054319,
                  18487.108873780817
                 ],
                 [
                  -13339669.15037637,
                  18487.108873780817
                 ],
                 [
                  -13340320.629190205,
                  17400.020206775516
                 ],
                 [
                  -13341120.970413575,
                  16561.339284081012
                 ],
                 [
                  -13341132.317431018,
                  15067.313280094415
                 ]
                ]
               ],
               "type": "Polygon"
              },
              "id": "13",
              "properties": {
               "Nbrhood": "Easton",
               "location": 14
              },
              "type": "Feature"
             },
             {
              "bbox": [
               -13347316.97854499,
               15064.405022233725,
               -13344603.385225657,
               18788.73802002147
              ],
              "geometry": {
               "coordinates": [
                [
                 [
                  -13344655.637741333,
                  18673.308690719306
                 ],
                 [
                  -13344617.043743549,
                  18337.057794172317
                 ],
                 [
                  -13344603.385225657,
                  15064.405022233725
                 ],
                 [
                  -13347316.97854499,
                  15096.19635527581
                 ],
                 [
                  -13347300.0946397,
                  18764.775707941502
                 ],
                 [
                  -13346976.603426676,
                  18680.907615687698
                 ],
                 [
                  -13346227.781174313,
                  18788.73802002147
                 ],
                 [
                  -13345345.75232915,
                  18581.293412346393
                 ],
                 [
                  -13344655.637741333,
                  18673.308690719306
                 ]
                ]
               ],
               "type": "Polygon"
              },
              "id": "14",
              "properties": {
               "Nbrhood": "Weston",
               "location": 15
              },
              "type": "Feature"
             },
             {
              "bbox": [
               -13347316.97854499,
               10497.145950954407,
               -13344603.385225657,
               15096.19635527581
              ],
              "geometry": {
               "coordinates": [
                [
                 [
                  -13344603.385225657,
                  15064.405022233725
                 ],
                 [
                  -13344642.763242131,
                  10497.145950954407
                 ],
                 [
                  -13344724.736940756,
                  10595.735939837992
                 ],
                 [
                  -13345366.926904423,
                  11602.153047066182
                 ],
                 [
                  -13346680.06160625,
                  13097.40132067725
                 ],
                 [
                  -13347312.666645082,
                  13777.93098366633
                 ],
                 [
                  -13347316.97854499,
                  15096.19635527581
                 ],
                 [
                  -13344603.385225657,
                  15064.405022233725
                 ]
                ]
               ],
               "type": "Polygon"
              },
              "id": "15",
              "properties": {
               "Nbrhood": "Southton",
               "location": 16
              },
              "type": "Feature"
             },
             {
              "bbox": [
               -13344669.141488539,
               7720.558294907212,
               -13337579.497547254,
               11101.862514879555
              ],
              "geometry": {
               "coordinates": [
                [
                 [
                  -13344669.141488539,
                  9416.997867006809
                 ],
                 [
                  -13344426.07068303,
                  9376.789099343121
                 ],
                 [
                  -13343919.603254972,
                  9388.035411145538
                 ],
                 [
                  -13344015.45250328,
                  9742.677629888058
                 ],
                 [
                  -13344267.362770466,
                  10045.650789070874
                 ],
                 [
                  -13340801.609500708,
                  10044.325808536261
                 ],
                 [
                  -13339772.028825123,
                  10704.088134400547
                 ],
                 [
                  -13338276.780551504,
                  11101.862514879555
                 ],
                 [
                  -13338041.949893149,
                  10876.61678135395
                 ],
                 [
                  -13337605.917254657,
                  10852.277091346681
                 ],
                 [
                  -13337579.497547254,
                  8833.493484333158
                 ],
                 [
                  -13337843.082980104,
                  8605.851519595832
                 ],
                 [
                  -13338250.442285415,
                  8593.870363555849
                 ],
                 [
                  -13338394.216157876,
                  8438.11533505842
                 ],
                 [
                  -13338406.19554747,
                  7720.558294907212
                 ],
                 [
                  -13341066.99171492,
                  7724.139840532094
                 ],
                 [
                  -13341078.493624715,
                  8793.81745165214
                 ],
                 [
                  -13343987.757934008,
                  8852.860588606447
                 ],
                 [
                  -13344382.736711409,
                  8690.915296152234
                 ],
                 [
                  -13344669.141488539,
                  9416.997867006809
                 ]
                ]
               ],
               "type": "Polygon"
              },
              "id": "16",
              "properties": {
               "Nbrhood": "Oak Willow",
               "location": 17
              },
              "type": "Feature"
             },
             {
              "bbox": [
               -13341170.017549999,
               10044.325808536261,
               -13336906.003355103,
               15067.313280094415
              ],
              "geometry": {
               "coordinates": [
                [
                 [
                  -13341170.017549999,
                  10044.466653384268
                 ],
                 [
                  -13341132.317431018,
                  15067.313280094415
                 ],
                 [
                  -13336906.003355103,
                  15028.610558889806
                 ],
                 [
                  -13336920.437752815,
                  13440.872453544289
                 ],
                 [
                  -13337624.929727884,
                  12305.058861088008
                 ],
                 [
                  -13337605.917254657,
                  10852.277091346681
                 ],
                 [
                  -13338041.949893149,
                  10876.61678135395
                 ],
                 [
                  -13338276.780551504,
                  11101.862514879555
                 ],
                 [
                  -13339772.028825123,
                  10704.088134400547
                 ],
                 [
                  -13340801.609500708,
                  10044.325808536261
                 ],
                 [
                  -13341170.017549999,
                  10044.466653384268
                 ]
                ]
               ],
               "type": "Polygon"
              },
              "id": "17",
              "properties": {
               "Nbrhood": "East Parton",
               "location": 18
              },
              "type": "Feature"
             },
             {
              "bbox": [
               -13344642.763242131,
               10044.466653384268,
               -13341132.317431018,
               15067.313280094415
              ],
              "geometry": {
               "coordinates": [
                [
                 [
                  -13341132.317431018,
                  15067.313280094415
                 ],
                 [
                  -13341170.017549999,
                  10044.466653384268
                 ],
                 [
                  -13344267.362770466,
                  10045.650789070874
                 ],
                 [
                  -13344642.763242131,
                  10497.145950954407
                 ],
                 [
                  -13344603.385225657,
                  15064.405022233725
                 ],
                 [
                  -13341132.317431018,
                  15067.313280094415
                 ]
                ]
               ],
               "type": "Polygon"
              },
              "id": "18",
              "properties": {
               "Nbrhood": "West Parton",
               "location": 19
              },
              "type": "Feature"
             }
            ],
            "type": "FeatureCollection"
           },
           "hovertemplate": "<b>%{hovertext}</b><br><br>animation_frame=2020-04-08 10:15:00<br>_index=%{location}<br>sewer_and_water=%{z}<extra></extra>",
           "hovertext": [
            14
           ],
           "locations": [
            2
           ],
           "name": "",
           "type": "choropleth",
           "z": [
            6.176470588235294
           ]
          }
         ],
         "name": "2020-04-08 10:15:00"
        },
        {
         "data": [
          {
           "coloraxis": "coloraxis",
           "geo": "geo",
           "geojson": {
            "bbox": [
             -13356433.400213113,
             949.7406152039766,
             -13326281.927027373,
             25330.81290255487
            ],
            "features": [
             {
              "bbox": [
               -13356433.400213113,
               12757.579205360264,
               -13351491.341083687,
               22271.92544165626
              ],
              "geometry": {
               "coordinates": [
                [
                 [
                  -13351493.65584308,
                  17391.305680375546
                 ],
                 [
                  -13352311.805856697,
                  17400.277170021087
                 ],
                 [
                  -13352257.890654525,
                  15740.887058779597
                 ],
                 [
                  -13353294.260651799,
                  15369.471221614629
                 ],
                 [
                  -13354348.60238313,
                  12757.579205360264
                 ],
                 [
                  -13355594.64261106,
                  12877.390765737742
                 ],
                 [
                  -13355426.90642653,
                  13931.73249706626
                 ],
                 [
                  -13354684.074752187,
                  14123.430993683636
                 ],
                 [
                  -13354411.58013172,
                  15544.506326396018
                 ],
                 [
                  -13355025.614378663,
                  16682.71614999324
                 ],
                 [
                  -13356433.400213113,
                  16802.527710374445
                 ],
                 [
                  -13356433.400213113,
                  17296.750396937132
                 ],
                 [
                  -13355429.97839494,
                  17371.632622171193
                 ],
                 [
                  -13355729.507295888,
                  18015.619759209454
                 ],
                 [
                  -13356133.871312166,
                  19767.863829746842
                 ],
                 [
                  -13355819.365966171,
                  20606.54475240037
                 ],
                 [
                  -13355040.59082371,
                  21295.46122456342
                 ],
                 [
                  -13354306.74501639,
                  21624.94301560521
                 ],
                 [
                  -13353452.129156219,
                  22110.898704510182
                 ],
                 [
                  -13352790.769342927,
                  22271.92544165626
                 ],
                 [
                  -13351864.865604319,
                  22185.66111817211
                 ],
                 [
                  -13351491.341083687,
                  22229.943470899016
                 ],
                 [
                  -13351493.65584308,
                  17391.305680375546
                 ]
                ]
               ],
               "type": "Polygon"
              },
              "id": "0",
              "properties": {
               "Nbrhood": "Palace Hills",
               "location": 1
              },
              "type": "Feature"
             },
             {
              "bbox": [
               -13351493.65584308,
               17204.90445223078,
               -13346115.925101548,
               22628.675067204982
              ],
              "geometry": {
               "coordinates": [
                [
                 [
                  -13351493.65584308,
                  17391.305680375546
                 ],
                 [
                  -13351491.341083687,
                  22229.943470899016
                 ],
                 [
                  -13351179.176619865,
                  22490.652149640024
                 ],
                 [
                  -13350632.835904507,
                  22413.97275100276
                 ],
                 [
                  -13350642.420829345,
                  21858.04711080715
                 ],
                 [
                  -13349866.041918047,
                  22011.40590809658
                 ],
                 [
                  -13349578.494173124,
                  22308.53857785836
                 ],
                 [
                  -13349097.330946626,
                  22433.14260065183
                 ],
                 [
                  -13348090.913839394,
                  22628.675067204982
                 ],
                 [
                  -13347699.848906301,
                  22272.11586350575
                 ],
                 [
                  -13347115.168491626,
                  22371.319835502654
                 ],
                 [
                  -13346410.676516563,
                  22553.433407288045
                 ],
                 [
                  -13346300.689504128,
                  22340.168829794973
                 ],
                 [
                  -13346151.883546134,
                  22022.428571663797
                 ],
                 [
                  -13346115.925101548,
                  18770.910059832036
                 ],
                 [
                  -13346227.781174313,
                  18788.73802002147
                 ],
                 [
                  -13346976.60342668,
                  18680.907615687698
                 ],
                 [
                  -13347300.094639698,
                  18764.775707941502
                 ],
                 [
                  -13348123.912575217,
                  18966.933133535087
                 ],
                 [
                  -13348962.593497869,
                  18954.95197750628
                 ],
                 [
                  -13349304.056444949,
                  18451.743423912674
                 ],
                 [
                  -13349357.971647115,
                  17990.468916457146
                 ],
                 [
                  -13349576.02868701,
                  17660.18838166818
                 ],
                 [
                  -13349717.406328259,
                  17427.753954540938
                 ],
                 [
                  -13350076.841009395,
                  17204.90445223078
                 ],
                 [
                  -13350364.868000543,
                  17207.779929686338
                 ],
                 [
                  -13351485.106090086,
                  17274.47503162548
                 ],
                 [
                  -13351493.65584308,
                  17391.305680375546
                 ]
                ]
               ],
               "type": "Polygon"
              },
              "id": "1",
              "properties": {
               "Nbrhood": "Northwest",
               "location": 2
              },
              "type": "Feature"
             },
             {
              "bbox": [
               -13346410.676516563,
               18206.749822482467,
               -13337665.843480354,
               25330.81290255487
              ],
              "geometry": {
               "coordinates": [
                [
                 [
                  -13346410.676516563,
                  22553.433407288045
                 ],
                 [
                  -13346405.953036554,
                  23627.092513881624
                 ],
                 [
                  -13345800.90465661,
                  24100.348177406937
                 ],
                 [
                  -13344986.186045988,
                  24112.329333443195
                 ],
                 [
                  -13344062.438915428,
                  24736.547563046217
                 ],
                 [
                  -13342567.190641824,
                  25330.81290255487
                 ],
                 [
                  -13342490.51124318,
                  23931.41387725994
                 ],
                 [
                  -13342087.944400283,
                  23720.545530982316
                 ],
                 [
                  -13341167.79161653,
                  24084.77267454937
                 ],
                 [
                  -13340611.865976345,
                  23317.978688087314
                 ],
                 [
                  -13340036.7704865,
                  22301.976656023413
                 ],
                 [
                  -13339461.67499665,
                  22378.65605467558
                 ],
                 [
                  -13339557.524244959,
                  23126.280191473663
                 ],
                 [
                  -13339960.091087848,
                  23605.526433009654
                 ],
                 [
                  -13339730.052891914,
                  24161.452073201537
                 ],
                 [
                  -13339825.902140222,
                  24832.396811354905
                 ],
                 [
                  -13338177.295069322,
                  24947.41590932384
                 ],
                 [
                  -13338138.95537,
                  24180.62192285806
                 ],
                 [
                  -13337755.558376769,
                  23739.71538064629
                 ],
                 [
                  -13337665.843480354,
                  23538.892035592347
                 ],
                 [
                  -13338384.04431837,
                  21161.622399073094
                 ],
                 [
                  -13338527.818190832,
                  20298.979164298624
                 ],
                 [
                  -13339129.998354634,
                  19450.39381927997
                 ],
                 [
                  -13339669.15037637,
                  18487.108873780817
                 ],
                 [
                  -13341272.229054319,
                  18487.108873780817
                 ],
                 [
                  -13342062.98535286,
                  18221.12720972672
                 ],
                 [
                  -13342372.099178655,
                  18206.749822482467
                 ],
                 [
                  -13342961.572055742,
                  18400.84455030784
                 ],
                 [
                  -13343879.25883004,
                  18391.51190070063
                 ],
                 [
                  -13344655.637741333,
                  18673.308690719306
                 ],
                 [
                  -13345345.75232915,
                  18581.293412346393
                 ],
                 [
                  -13346115.925101547,
                  18770.91005983576
                 ],
                 [
                  -13346151.883546134,
                  22022.428571663797
                 ],
                 [
                  -13346410.676516563,
                  22553.433407288045
                 ]
                ]
               ],
               "type": "Polygon"
              },
              "id": "2",
              "properties": {
               "Nbrhood": "Old Town",
               "location": 3
              },
              "type": "Feature"
             },
             {
              "bbox": [
               -13341132.317431018,
               14994.019276894629,
               -13331620.308318393,
               24272.240581881255
              ],
              "geometry": {
               "coordinates": [
                [
                 [
                  -13337755.558376769,
                  23739.71538064629
                 ],
                 [
                  -13337518.91470274,
                  24272.240581881255
                 ],
                 [
                  -13337263.716079118,
                  24203.94799246639
                 ],
                 [
                  -13337102.836912887,
                  23453.836101733148
                 ],
                 [
                  -13335365.569287306,
                  21446.992465287447
                 ],
                 [
                  -13335754.956858559,
                  21207.36934451759
                 ],
                 [
                  -13335545.286627889,
                  20937.79333365336
                 ],
                 [
                  -13334676.652815094,
                  21087.557784136385
                 ],
                 [
                  -13333519.720922353,
                  22198.368277214468
                 ],
                 [
                  -13333270.512876753,
                  21920.40545712039
                 ],
                 [
                  -13334018.137013558,
                  20866.063725735992
                 ],
                 [
                  -13333414.286749214,
                  20252.628536563367
                 ],
                 [
                  -13333883.948065925,
                  19945.910941977054
                 ],
                 [
                  -13333155.493778786,
                  18910.73906024918
                 ],
                 [
                  -13333136.323929127,
                  17837.22747920081
                 ],
                 [
                  -13333225.78322755,
                  17473.000335633755
                 ],
                 [
                  -13332866.348546397,
                  16873.94253370911
                 ],
                 [
                  -13332602.763113547,
                  16250.922419708222
                 ],
                 [
                  -13331620.308318393,
                  15987.336986858398
                 ],
                 [
                  -13332219.366120316,
                  15508.090745322406
                 ],
                 [
                  -13332220.005115306,
                  15252.81224732846
                 ],
                 [
                  -13333128.655989265,
                  14994.019276894629
                 ],
                 [
                  -13341132.317431018,
                  15067.313280094415
                 ],
                 [
                  -13341120.970413575,
                  16561.339284081012
                 ],
                 [
                  -13340320.629190205,
                  17400.020206775516
                 ],
                 [
                  -13339669.15037637,
                  18487.108873780817
                 ],
                 [
                  -13339129.998354634,
                  19450.39381927997
                 ],
                 [
                  -13338527.818190832,
                  20298.979164298624
                 ],
                 [
                  -13338384.04431837,
                  21161.622399073094
                 ],
                 [
                  -13337665.843480354,
                  23538.892035592347
                 ],
                 [
                  -13337755.558376769,
                  23739.71538064629
                 ]
                ]
               ],
               "type": "Polygon"
              },
              "id": "3",
              "properties": {
               "Nbrhood": "Safe Town",
               "location": 4
              },
              "type": "Feature"
             },
             {
              "bbox": [
               -13352311.805856697,
               9376.789099343121,
               -13343919.603254972,
               17400.277170024812
              ],
              "geometry": {
               "coordinates": [
                [
                 [
                  -13352257.890654525,
                  15740.887058783323
                 ],
                 [
                  -13352311.805856697,
                  17400.277170024812
                 ],
                 [
                  -13351493.655843081,
                  17391.30568037927
                 ],
                 [
                  -13351485.106090082,
                  17274.475031629205
                 ],
                 [
                  -13350364.868000543,
                  17207.779929686338
                 ],
                 [
                  -13350381.639764352,
                  15138.63087495789
                 ],
                 [
                  -13350010.223927157,
                  15132.640296936035
                 ],
                 [
                  -13349992.252193099,
                  13934.524693090469
                 ],
                 [
                  -13347322.251569912,
                  13950.459630619735
                 ],
                 [
                  -13347312.666645082,
                  13777.93098366633
                 ],
                 [
                  -13346680.06160625,
                  13097.40132067725
                 ],
                 [
                  -13345366.926904423,
                  11602.153047066182
                 ],
                 [
                  -13344724.736940756,
                  10595.735939834267
                 ],
                 [
                  -13344015.45250328,
                  9742.677629888058
                 ],
                 [
                  -13343919.603254972,
                  9388.035411145538
                 ],
                 [
                  -13344426.07068303,
                  9376.789099343121
                 ],
                 [
                  -13346326.793226724,
                  9691.206583544612
                 ],
                 [
                  -13348291.702817041,
                  10805.454095125198
                 ],
                 [
                  -13349358.025704462,
                  11009.133747778833
                 ],
                 [
                  -13351779.417339833,
                  12790.132592901587
                 ],
                 [
                  -13352261.059812574,
                  14040.965283319354
                 ],
                 [
                  -13351944.75729316,
                  15730.30828474462
                 ],
                 [
                  -13352257.890654525,
                  15740.887058783323
                 ]
                ]
               ],
               "type": "Polygon"
              },
              "id": "4",
              "properties": {
               "Nbrhood": "Southwest",
               "location": 5
              },
              "type": "Feature"
             },
             {
              "bbox": [
               -13350381.639764352,
               13934.524693090469,
               -13347300.0946397,
               18966.933133538812
              ],
              "geometry": {
               "coordinates": [
                [
                 [
                  -13347322.251569912,
                  13950.459630619735
                 ],
                 [
                  -13349992.252193099,
                  13934.524693090469
                 ],
                 [
                  -13350010.223927157,
                  15132.640296936035
                 ],
                 [
                  -13350381.639764352,
                  15138.63087495789
                 ],
                 [
                  -13350364.868000543,
                  17207.779929686338
                 ],
                 [
                  -13350076.841009393,
                  17204.90445223078
                 ],
                 [
                  -13349717.406328255,
                  17427.753954540938
                 ],
                 [
                  -13349357.971647117,
                  17990.468916457146
                 ],
                 [
                  -13349304.05644495,
                  18451.743423912674
                 ],
                 [
                  -13348962.59349787,
                  18954.951977510005
                 ],
                 [
                  -13348123.912575219,
                  18966.933133538812
                 ],
                 [
                  -13347300.0946397,
                  18764.775707941502
                 ],
                 [
                  -13347322.251569912,
                  13950.459630619735
                 ]
                ]
               ],
               "type": "Polygon"
              },
              "id": "5",
              "properties": {
               "Nbrhood": "Downtown",
               "location": 6
              },
              "type": "Feature"
             },
             {
              "bbox": [
               -13328287.772234162,
               6053.222041748464,
               -13326281.927027373,
               16367.30006049946
              ],
              "geometry": {
               "coordinates": [
                [
                 [
                  -13326281.927027373,
                  6053.222041748464
                 ],
                 [
                  -13328243.841328684,
                  6053.222041748464
                 ],
                 [
                  -13328287.772234162,
                  15427.877584110945
                 ],
                 [
                  -13326829.740426496,
                  16367.30006049946
                 ],
                 [
                  -13326283.399711132,
                  16022.242766585201
                 ],
                 [
                  -13326281.927027373,
                  6053.222041748464
                 ]
                ]
               ],
               "type": "Polygon"
              },
              "id": "6",
              "properties": {
               "Nbrhood": "Wilson Forest",
               "location": 7
              },
              "type": "Feature"
             },
             {
              "bbox": [
               -13336772.329994978,
               1419.691476520151,
               -13326281.927027373,
               6478.968046542257
              ],
              "geometry": {
               "coordinates": [
                [
                 [
                  -13326281.927027373,
                  6053.222041748464
                 ],
                 [
                  -13326284.924585544,
                  5389.747372850776
                 ],
                 [
                  -13329965.535720583,
                  4282.688554890454
                 ],
                 [
                  -13336454.829359954,
                  1419.691476520151
                 ],
                 [
                  -13336772.329994978,
                  1743.1826895549893
                 ],
                 [
                  -13336754.35826092,
                  2617.807080373168
                 ],
                 [
                  -13335658.082483398,
                  2611.816502351314
                 ],
                 [
                  -13334735.53346843,
                  3360.638754762709
                 ],
                 [
                  -13334244.306070847,
                  3612.2430315688252
                 ],
                 [
                  -13333747.088095248,
                  3612.2430315688252
                 ],
                 [
                  -13329956.250324655,
                  5740.096344020218
                 ],
                 [
                  -13329577.172296133,
                  5706.232937712222
                 ],
                 [
                  -13329589.15345217,
                  6029.724150754511
                 ],
                 [
                  -13329343.539753383,
                  6455.055190123618
                 ],
                 [
                  -13328245.836432122,
                  6478.968046542257
                 ],
                 [
                  -13328243.841328684,
                  6053.222041748464
                 ],
                 [
                  -13326281.927027373,
                  6053.222041748464
                 ]
                ]
               ],
               "type": "Polygon"
              },
              "id": "7",
              "properties": {
               "Nbrhood": "Scenic Vista",
               "location": 8
              },
              "type": "Feature"
             },
             {
              "bbox": [
               -13344586.416364064,
               949.7406152039766,
               -13335203.443902548,
               8852.860588606447
              ],
              "geometry": {
               "coordinates": [
                [
                 [
                  -13336454.829359954,
                  1419.691476520151
                 ],
                 [
                  -13336684.694192199,
                  1016.835089020431
                 ],
                 [
                  -13337930.73442021,
                  949.7406152039766
                 ],
                 [
                  -13339598.511340775,
                  1793.2140003181994
                 ],
                 [
                  -13340968.107240433,
                  2125.241787035018
                 ],
                 [
                  -13341399.428857816,
                  2664.393808770925
                 ],
                 [
                  -13341890.6562554,
                  4245.90640585497
                 ],
                 [
                  -13343472.168852484,
                  5779.494378790259
                 ],
                 [
                  -13344586.416364064,
                  6414.495648834854
                 ],
                 [
                  -13344298.868619142,
                  7133.365011144429
                 ],
                 [
                  -13344238.962838948,
                  8127.800962343812
                 ],
                 [
                  -13344382.736711409,
                  8690.915296152234
                 ],
                 [
                  -13343987.757934008,
                  8852.860588606447
                 ],
                 [
                  -13341078.493624715,
                  8793.81745165214
                 ],
                 [
                  -13341066.99171492,
                  7724.139840532094
                 ],
                 [
                  -13335203.443902548,
                  7716.247253987938
                 ],
                 [
                  -13335266.794265106,
                  5044.324653685093
                 ],
                 [
                  -13335477.662611384,
                  4799.909070491791
                 ],
                 [
                  -13336071.927950898,
                  4603.418111465871
                 ],
                 [
                  -13336474.494793795,
                  4469.2291638329625
                 ],
                 [
                  -13336704.532989737,
                  4224.813580647111
                 ],
                 [
                  -13336754.35826092,
                  2617.807080373168
                 ],
                 [
                  -13336772.329994978,
                  1743.1826895549893
                 ],
                 [
                  -13336454.829359954,
                  1419.691476520151
                 ]
                ]
               ],
               "type": "Polygon"
              },
              "id": "8",
              "properties": {
               "Nbrhood": "Broadview",
               "location": 9
              },
              "type": "Feature"
             },
             {
              "bbox": [
               -13336754.35826092,
               2611.816502351314,
               -13332861.510445183,
               9236.551839035004
              ],
              "geometry": {
               "coordinates": [
                [
                 [
                  -13335203.443902548,
                  7716.247253987938
                 ],
                 [
                  -13335278.736913722,
                  9236.551839035004
                 ],
                 [
                  -13332922.313096944,
                  9210.283154420555
                 ],
                 [
                  -13332861.510445183,
                  4109.330865491182
                 ],
                 [
                  -13333747.088095248,
                  3612.2430315688252
                 ],
                 [
                  -13334244.306070847,
                  3612.2430315688252
                 ],
                 [
                  -13334735.53346843,
                  3360.638754762709
                 ],
                 [
                  -13335658.082483398,
                  2611.816502351314
                 ],
                 [
                  -13336754.35826092,
                  2617.807080373168
                 ],
                 [
                  -13336704.532989737,
                  4224.813580647111
                 ],
                 [
                  -13336474.494793795,
                  4469.2291638329625
                 ],
                 [
                  -13335477.662611384,
                  4799.909070491791
                 ],
                 [
                  -13335266.794265106,
                  5044.324653688818
                 ],
                 [
                  -13335203.443902548,
                  7716.247253987938
                 ]
                ]
               ],
               "type": "Polygon"
              },
              "id": "9",
              "properties": {
               "Nbrhood": "Chapparal",
               "location": 10
              },
              "type": "Feature"
             },
             {
              "bbox": [
               -13332922.313096944,
               4109.330865491182,
               -13328245.836432122,
               9227.536083679646
              ],
              "geometry": {
               "coordinates": [
                [
                 [
                  -13332861.510445183,
                  4109.330865491182
                 ],
                 [
                  -13332922.313096944,
                  9210.283154420555
                 ],
                 [
                  -13328258.716594182,
                  9227.536083679646
                 ],
                 [
                  -13328245.836432122,
                  6478.968046542257
                 ],
                 [
                  -13329343.539753383,
                  6455.055190123618
                 ],
                 [
                  -13329589.15345217,
                  6029.724150754511
                 ],
                 [
                  -13329577.172296133,
                  5706.232937712222
                 ],
                 [
                  -13329956.250324655,
                  5740.096344023943
                 ],
                 [
                  -13332861.510445183,
                  4109.330865491182
                 ]
                ]
               ],
               "type": "Polygon"
              },
              "id": "10",
              "properties": {
               "Nbrhood": "Terrapin Springs",
               "location": 11
              },
              "type": "Feature"
             },
             {
              "bbox": [
               -13333633.54443903,
               9210.283154420555,
               -13328258.716594182,
               15252.81224732846
              ],
              "geometry": {
               "coordinates": [
                [
                 [
                  -13328258.716594182,
                  9227.536083679646
                 ],
                 [
                  -13332922.313096944,
                  9210.283154420555
                 ],
                 [
                  -13332978.001325656,
                  14174.827906638384
                 ],
                 [
                  -13333633.54443903,
                  14998.642822746187
                 ],
                 [
                  -13333128.655989265,
                  14994.019276894629
                 ],
                 [
                  -13332220.005115306,
                  15252.81224732846
                 ],
                 [
                  -13331958.165323649,
                  14978.044607464224
                 ],
                 [
                  -13330328.728102406,
                  13288.701606027782
                 ],
                 [
                  -13329202.499434777,
                  13025.116173177958
                 ],
                 [
                  -13328723.253193235,
                  13444.45663452521
                 ],
                 [
                  -13328723.253193235,
                  14295.118713267148
                 ],
                 [
                  -13328285.046019284,
                  14846.115721732378
                 ],
                 [
                  -13328258.716594182,
                  9227.536083679646
                 ]
                ]
               ],
               "type": "Polygon"
              },
              "id": "11",
              "properties": {
               "Nbrhood": "Pepper Mill",
               "location": 12
              },
              "type": "Feature"
             },
             {
              "bbox": [
               -13338406.19554747,
               7716.247253987938,
               -13332922.313096944,
               15028.610558889806
              ],
              "geometry": {
               "coordinates": [
                [
                 [
                  -13333633.54443903,
                  14998.642822746187
                 ],
                 [
                  -13332978.001325656,
                  14174.827906638384
                 ],
                 [
                  -13332922.313096944,
                  9210.283154420555
                 ],
                 [
                  -13335278.736913722,
                  9236.551839035004
                 ],
                 [
                  -13335203.443902548,
                  7716.247253987938
                 ],
                 [
                  -13338406.19554747,
                  7720.558294907212
                 ],
                 [
                  -13338394.216157876,
                  8438.11533505842
                 ],
                 [
                  -13338250.442285415,
                  8593.870363555849
                 ],
                 [
                  -13337843.082980104,
                  8605.851519595832
                 ],
                 [
                  -13337579.497547254,
                  8833.493484333158
                 ],
                 [
                  -13337624.929727884,
                  12305.058861088008
                 ],
                 [
                  -13336920.437752815,
                  13440.872453544289
                 ],
                 [
                  -13336906.003355103,
                  15028.610558889806
                 ],
                 [
                  -13333633.54443903,
                  14998.642822746187
                 ]
                ]
               ],
               "type": "Polygon"
              },
              "id": "12",
              "properties": {
               "Nbrhood": "Cheddarford",
               "location": 13
              },
              "type": "Feature"
             },
             {
              "bbox": [
               -13344655.637741333,
               15064.405022233725,
               -13339669.15037637,
               18673.308690719306
              ],
              "geometry": {
               "coordinates": [
                [
                 [
                  -13341132.317431018,
                  15067.313280094415
                 ],
                 [
                  -13344603.385225657,
                  15064.405022233725
                 ],
                 [
                  -13344617.043743549,
                  18337.057794172317
                 ],
                 [
                  -13344655.637741333,
                  18673.308690719306
                 ],
                 [
                  -13343879.25883004,
                  18391.51190070063
                 ],
                 [
                  -13342961.572055742,
                  18400.84455030784
                 ],
                 [
                  -13342372.099178655,
                  18206.749822482467
                 ],
                 [
                  -13342062.98535286,
                  18221.12720972672
                 ],
                 [
                  -13341272.229054319,
                  18487.108873780817
                 ],
                 [
                  -13339669.15037637,
                  18487.108873780817
                 ],
                 [
                  -13340320.629190205,
                  17400.020206775516
                 ],
                 [
                  -13341120.970413575,
                  16561.339284081012
                 ],
                 [
                  -13341132.317431018,
                  15067.313280094415
                 ]
                ]
               ],
               "type": "Polygon"
              },
              "id": "13",
              "properties": {
               "Nbrhood": "Easton",
               "location": 14
              },
              "type": "Feature"
             },
             {
              "bbox": [
               -13347316.97854499,
               15064.405022233725,
               -13344603.385225657,
               18788.73802002147
              ],
              "geometry": {
               "coordinates": [
                [
                 [
                  -13344655.637741333,
                  18673.308690719306
                 ],
                 [
                  -13344617.043743549,
                  18337.057794172317
                 ],
                 [
                  -13344603.385225657,
                  15064.405022233725
                 ],
                 [
                  -13347316.97854499,
                  15096.19635527581
                 ],
                 [
                  -13347300.0946397,
                  18764.775707941502
                 ],
                 [
                  -13346976.603426676,
                  18680.907615687698
                 ],
                 [
                  -13346227.781174313,
                  18788.73802002147
                 ],
                 [
                  -13345345.75232915,
                  18581.293412346393
                 ],
                 [
                  -13344655.637741333,
                  18673.308690719306
                 ]
                ]
               ],
               "type": "Polygon"
              },
              "id": "14",
              "properties": {
               "Nbrhood": "Weston",
               "location": 15
              },
              "type": "Feature"
             },
             {
              "bbox": [
               -13347316.97854499,
               10497.145950954407,
               -13344603.385225657,
               15096.19635527581
              ],
              "geometry": {
               "coordinates": [
                [
                 [
                  -13344603.385225657,
                  15064.405022233725
                 ],
                 [
                  -13344642.763242131,
                  10497.145950954407
                 ],
                 [
                  -13344724.736940756,
                  10595.735939837992
                 ],
                 [
                  -13345366.926904423,
                  11602.153047066182
                 ],
                 [
                  -13346680.06160625,
                  13097.40132067725
                 ],
                 [
                  -13347312.666645082,
                  13777.93098366633
                 ],
                 [
                  -13347316.97854499,
                  15096.19635527581
                 ],
                 [
                  -13344603.385225657,
                  15064.405022233725
                 ]
                ]
               ],
               "type": "Polygon"
              },
              "id": "15",
              "properties": {
               "Nbrhood": "Southton",
               "location": 16
              },
              "type": "Feature"
             },
             {
              "bbox": [
               -13344669.141488539,
               7720.558294907212,
               -13337579.497547254,
               11101.862514879555
              ],
              "geometry": {
               "coordinates": [
                [
                 [
                  -13344669.141488539,
                  9416.997867006809
                 ],
                 [
                  -13344426.07068303,
                  9376.789099343121
                 ],
                 [
                  -13343919.603254972,
                  9388.035411145538
                 ],
                 [
                  -13344015.45250328,
                  9742.677629888058
                 ],
                 [
                  -13344267.362770466,
                  10045.650789070874
                 ],
                 [
                  -13340801.609500708,
                  10044.325808536261
                 ],
                 [
                  -13339772.028825123,
                  10704.088134400547
                 ],
                 [
                  -13338276.780551504,
                  11101.862514879555
                 ],
                 [
                  -13338041.949893149,
                  10876.61678135395
                 ],
                 [
                  -13337605.917254657,
                  10852.277091346681
                 ],
                 [
                  -13337579.497547254,
                  8833.493484333158
                 ],
                 [
                  -13337843.082980104,
                  8605.851519595832
                 ],
                 [
                  -13338250.442285415,
                  8593.870363555849
                 ],
                 [
                  -13338394.216157876,
                  8438.11533505842
                 ],
                 [
                  -13338406.19554747,
                  7720.558294907212
                 ],
                 [
                  -13341066.99171492,
                  7724.139840532094
                 ],
                 [
                  -13341078.493624715,
                  8793.81745165214
                 ],
                 [
                  -13343987.757934008,
                  8852.860588606447
                 ],
                 [
                  -13344382.736711409,
                  8690.915296152234
                 ],
                 [
                  -13344669.141488539,
                  9416.997867006809
                 ]
                ]
               ],
               "type": "Polygon"
              },
              "id": "16",
              "properties": {
               "Nbrhood": "Oak Willow",
               "location": 17
              },
              "type": "Feature"
             },
             {
              "bbox": [
               -13341170.017549999,
               10044.325808536261,
               -13336906.003355103,
               15067.313280094415
              ],
              "geometry": {
               "coordinates": [
                [
                 [
                  -13341170.017549999,
                  10044.466653384268
                 ],
                 [
                  -13341132.317431018,
                  15067.313280094415
                 ],
                 [
                  -13336906.003355103,
                  15028.610558889806
                 ],
                 [
                  -13336920.437752815,
                  13440.872453544289
                 ],
                 [
                  -13337624.929727884,
                  12305.058861088008
                 ],
                 [
                  -13337605.917254657,
                  10852.277091346681
                 ],
                 [
                  -13338041.949893149,
                  10876.61678135395
                 ],
                 [
                  -13338276.780551504,
                  11101.862514879555
                 ],
                 [
                  -13339772.028825123,
                  10704.088134400547
                 ],
                 [
                  -13340801.609500708,
                  10044.325808536261
                 ],
                 [
                  -13341170.017549999,
                  10044.466653384268
                 ]
                ]
               ],
               "type": "Polygon"
              },
              "id": "17",
              "properties": {
               "Nbrhood": "East Parton",
               "location": 18
              },
              "type": "Feature"
             },
             {
              "bbox": [
               -13344642.763242131,
               10044.466653384268,
               -13341132.317431018,
               15067.313280094415
              ],
              "geometry": {
               "coordinates": [
                [
                 [
                  -13341132.317431018,
                  15067.313280094415
                 ],
                 [
                  -13341170.017549999,
                  10044.466653384268
                 ],
                 [
                  -13344267.362770466,
                  10045.650789070874
                 ],
                 [
                  -13344642.763242131,
                  10497.145950954407
                 ],
                 [
                  -13344603.385225657,
                  15064.405022233725
                 ],
                 [
                  -13341132.317431018,
                  15067.313280094415
                 ]
                ]
               ],
               "type": "Polygon"
              },
              "id": "18",
              "properties": {
               "Nbrhood": "West Parton",
               "location": 19
              },
              "type": "Feature"
             }
            ],
            "type": "FeatureCollection"
           },
           "hovertemplate": "<b>%{hovertext}</b><br><br>animation_frame=2020-04-08 10:30:00<br>_index=%{location}<br>sewer_and_water=%{z}<extra></extra>",
           "hovertext": [
            13
           ],
           "locations": [
            3
           ],
           "name": "",
           "type": "choropleth",
           "z": [
            2.6
           ]
          }
         ],
         "name": "2020-04-08 10:30:00"
        },
        {
         "data": [
          {
           "coloraxis": "coloraxis",
           "geo": "geo",
           "geojson": {
            "bbox": [
             -13356433.400213113,
             949.7406152039766,
             -13326281.927027373,
             25330.81290255487
            ],
            "features": [
             {
              "bbox": [
               -13356433.400213113,
               12757.579205360264,
               -13351491.341083687,
               22271.92544165626
              ],
              "geometry": {
               "coordinates": [
                [
                 [
                  -13351493.65584308,
                  17391.305680375546
                 ],
                 [
                  -13352311.805856697,
                  17400.277170021087
                 ],
                 [
                  -13352257.890654525,
                  15740.887058779597
                 ],
                 [
                  -13353294.260651799,
                  15369.471221614629
                 ],
                 [
                  -13354348.60238313,
                  12757.579205360264
                 ],
                 [
                  -13355594.64261106,
                  12877.390765737742
                 ],
                 [
                  -13355426.90642653,
                  13931.73249706626
                 ],
                 [
                  -13354684.074752187,
                  14123.430993683636
                 ],
                 [
                  -13354411.58013172,
                  15544.506326396018
                 ],
                 [
                  -13355025.614378663,
                  16682.71614999324
                 ],
                 [
                  -13356433.400213113,
                  16802.527710374445
                 ],
                 [
                  -13356433.400213113,
                  17296.750396937132
                 ],
                 [
                  -13355429.97839494,
                  17371.632622171193
                 ],
                 [
                  -13355729.507295888,
                  18015.619759209454
                 ],
                 [
                  -13356133.871312166,
                  19767.863829746842
                 ],
                 [
                  -13355819.365966171,
                  20606.54475240037
                 ],
                 [
                  -13355040.59082371,
                  21295.46122456342
                 ],
                 [
                  -13354306.74501639,
                  21624.94301560521
                 ],
                 [
                  -13353452.129156219,
                  22110.898704510182
                 ],
                 [
                  -13352790.769342927,
                  22271.92544165626
                 ],
                 [
                  -13351864.865604319,
                  22185.66111817211
                 ],
                 [
                  -13351491.341083687,
                  22229.943470899016
                 ],
                 [
                  -13351493.65584308,
                  17391.305680375546
                 ]
                ]
               ],
               "type": "Polygon"
              },
              "id": "0",
              "properties": {
               "Nbrhood": "Palace Hills",
               "location": 1
              },
              "type": "Feature"
             },
             {
              "bbox": [
               -13351493.65584308,
               17204.90445223078,
               -13346115.925101548,
               22628.675067204982
              ],
              "geometry": {
               "coordinates": [
                [
                 [
                  -13351493.65584308,
                  17391.305680375546
                 ],
                 [
                  -13351491.341083687,
                  22229.943470899016
                 ],
                 [
                  -13351179.176619865,
                  22490.652149640024
                 ],
                 [
                  -13350632.835904507,
                  22413.97275100276
                 ],
                 [
                  -13350642.420829345,
                  21858.04711080715
                 ],
                 [
                  -13349866.041918047,
                  22011.40590809658
                 ],
                 [
                  -13349578.494173124,
                  22308.53857785836
                 ],
                 [
                  -13349097.330946626,
                  22433.14260065183
                 ],
                 [
                  -13348090.913839394,
                  22628.675067204982
                 ],
                 [
                  -13347699.848906301,
                  22272.11586350575
                 ],
                 [
                  -13347115.168491626,
                  22371.319835502654
                 ],
                 [
                  -13346410.676516563,
                  22553.433407288045
                 ],
                 [
                  -13346300.689504128,
                  22340.168829794973
                 ],
                 [
                  -13346151.883546134,
                  22022.428571663797
                 ],
                 [
                  -13346115.925101548,
                  18770.910059832036
                 ],
                 [
                  -13346227.781174313,
                  18788.73802002147
                 ],
                 [
                  -13346976.60342668,
                  18680.907615687698
                 ],
                 [
                  -13347300.094639698,
                  18764.775707941502
                 ],
                 [
                  -13348123.912575217,
                  18966.933133535087
                 ],
                 [
                  -13348962.593497869,
                  18954.95197750628
                 ],
                 [
                  -13349304.056444949,
                  18451.743423912674
                 ],
                 [
                  -13349357.971647115,
                  17990.468916457146
                 ],
                 [
                  -13349576.02868701,
                  17660.18838166818
                 ],
                 [
                  -13349717.406328259,
                  17427.753954540938
                 ],
                 [
                  -13350076.841009395,
                  17204.90445223078
                 ],
                 [
                  -13350364.868000543,
                  17207.779929686338
                 ],
                 [
                  -13351485.106090086,
                  17274.47503162548
                 ],
                 [
                  -13351493.65584308,
                  17391.305680375546
                 ]
                ]
               ],
               "type": "Polygon"
              },
              "id": "1",
              "properties": {
               "Nbrhood": "Northwest",
               "location": 2
              },
              "type": "Feature"
             },
             {
              "bbox": [
               -13346410.676516563,
               18206.749822482467,
               -13337665.843480354,
               25330.81290255487
              ],
              "geometry": {
               "coordinates": [
                [
                 [
                  -13346410.676516563,
                  22553.433407288045
                 ],
                 [
                  -13346405.953036554,
                  23627.092513881624
                 ],
                 [
                  -13345800.90465661,
                  24100.348177406937
                 ],
                 [
                  -13344986.186045988,
                  24112.329333443195
                 ],
                 [
                  -13344062.438915428,
                  24736.547563046217
                 ],
                 [
                  -13342567.190641824,
                  25330.81290255487
                 ],
                 [
                  -13342490.51124318,
                  23931.41387725994
                 ],
                 [
                  -13342087.944400283,
                  23720.545530982316
                 ],
                 [
                  -13341167.79161653,
                  24084.77267454937
                 ],
                 [
                  -13340611.865976345,
                  23317.978688087314
                 ],
                 [
                  -13340036.7704865,
                  22301.976656023413
                 ],
                 [
                  -13339461.67499665,
                  22378.65605467558
                 ],
                 [
                  -13339557.524244959,
                  23126.280191473663
                 ],
                 [
                  -13339960.091087848,
                  23605.526433009654
                 ],
                 [
                  -13339730.052891914,
                  24161.452073201537
                 ],
                 [
                  -13339825.902140222,
                  24832.396811354905
                 ],
                 [
                  -13338177.295069322,
                  24947.41590932384
                 ],
                 [
                  -13338138.95537,
                  24180.62192285806
                 ],
                 [
                  -13337755.558376769,
                  23739.71538064629
                 ],
                 [
                  -13337665.843480354,
                  23538.892035592347
                 ],
                 [
                  -13338384.04431837,
                  21161.622399073094
                 ],
                 [
                  -13338527.818190832,
                  20298.979164298624
                 ],
                 [
                  -13339129.998354634,
                  19450.39381927997
                 ],
                 [
                  -13339669.15037637,
                  18487.108873780817
                 ],
                 [
                  -13341272.229054319,
                  18487.108873780817
                 ],
                 [
                  -13342062.98535286,
                  18221.12720972672
                 ],
                 [
                  -13342372.099178655,
                  18206.749822482467
                 ],
                 [
                  -13342961.572055742,
                  18400.84455030784
                 ],
                 [
                  -13343879.25883004,
                  18391.51190070063
                 ],
                 [
                  -13344655.637741333,
                  18673.308690719306
                 ],
                 [
                  -13345345.75232915,
                  18581.293412346393
                 ],
                 [
                  -13346115.925101547,
                  18770.91005983576
                 ],
                 [
                  -13346151.883546134,
                  22022.428571663797
                 ],
                 [
                  -13346410.676516563,
                  22553.433407288045
                 ]
                ]
               ],
               "type": "Polygon"
              },
              "id": "2",
              "properties": {
               "Nbrhood": "Old Town",
               "location": 3
              },
              "type": "Feature"
             },
             {
              "bbox": [
               -13341132.317431018,
               14994.019276894629,
               -13331620.308318393,
               24272.240581881255
              ],
              "geometry": {
               "coordinates": [
                [
                 [
                  -13337755.558376769,
                  23739.71538064629
                 ],
                 [
                  -13337518.91470274,
                  24272.240581881255
                 ],
                 [
                  -13337263.716079118,
                  24203.94799246639
                 ],
                 [
                  -13337102.836912887,
                  23453.836101733148
                 ],
                 [
                  -13335365.569287306,
                  21446.992465287447
                 ],
                 [
                  -13335754.956858559,
                  21207.36934451759
                 ],
                 [
                  -13335545.286627889,
                  20937.79333365336
                 ],
                 [
                  -13334676.652815094,
                  21087.557784136385
                 ],
                 [
                  -13333519.720922353,
                  22198.368277214468
                 ],
                 [
                  -13333270.512876753,
                  21920.40545712039
                 ],
                 [
                  -13334018.137013558,
                  20866.063725735992
                 ],
                 [
                  -13333414.286749214,
                  20252.628536563367
                 ],
                 [
                  -13333883.948065925,
                  19945.910941977054
                 ],
                 [
                  -13333155.493778786,
                  18910.73906024918
                 ],
                 [
                  -13333136.323929127,
                  17837.22747920081
                 ],
                 [
                  -13333225.78322755,
                  17473.000335633755
                 ],
                 [
                  -13332866.348546397,
                  16873.94253370911
                 ],
                 [
                  -13332602.763113547,
                  16250.922419708222
                 ],
                 [
                  -13331620.308318393,
                  15987.336986858398
                 ],
                 [
                  -13332219.366120316,
                  15508.090745322406
                 ],
                 [
                  -13332220.005115306,
                  15252.81224732846
                 ],
                 [
                  -13333128.655989265,
                  14994.019276894629
                 ],
                 [
                  -13341132.317431018,
                  15067.313280094415
                 ],
                 [
                  -13341120.970413575,
                  16561.339284081012
                 ],
                 [
                  -13340320.629190205,
                  17400.020206775516
                 ],
                 [
                  -13339669.15037637,
                  18487.108873780817
                 ],
                 [
                  -13339129.998354634,
                  19450.39381927997
                 ],
                 [
                  -13338527.818190832,
                  20298.979164298624
                 ],
                 [
                  -13338384.04431837,
                  21161.622399073094
                 ],
                 [
                  -13337665.843480354,
                  23538.892035592347
                 ],
                 [
                  -13337755.558376769,
                  23739.71538064629
                 ]
                ]
               ],
               "type": "Polygon"
              },
              "id": "3",
              "properties": {
               "Nbrhood": "Safe Town",
               "location": 4
              },
              "type": "Feature"
             },
             {
              "bbox": [
               -13352311.805856697,
               9376.789099343121,
               -13343919.603254972,
               17400.277170024812
              ],
              "geometry": {
               "coordinates": [
                [
                 [
                  -13352257.890654525,
                  15740.887058783323
                 ],
                 [
                  -13352311.805856697,
                  17400.277170024812
                 ],
                 [
                  -13351493.655843081,
                  17391.30568037927
                 ],
                 [
                  -13351485.106090082,
                  17274.475031629205
                 ],
                 [
                  -13350364.868000543,
                  17207.779929686338
                 ],
                 [
                  -13350381.639764352,
                  15138.63087495789
                 ],
                 [
                  -13350010.223927157,
                  15132.640296936035
                 ],
                 [
                  -13349992.252193099,
                  13934.524693090469
                 ],
                 [
                  -13347322.251569912,
                  13950.459630619735
                 ],
                 [
                  -13347312.666645082,
                  13777.93098366633
                 ],
                 [
                  -13346680.06160625,
                  13097.40132067725
                 ],
                 [
                  -13345366.926904423,
                  11602.153047066182
                 ],
                 [
                  -13344724.736940756,
                  10595.735939834267
                 ],
                 [
                  -13344015.45250328,
                  9742.677629888058
                 ],
                 [
                  -13343919.603254972,
                  9388.035411145538
                 ],
                 [
                  -13344426.07068303,
                  9376.789099343121
                 ],
                 [
                  -13346326.793226724,
                  9691.206583544612
                 ],
                 [
                  -13348291.702817041,
                  10805.454095125198
                 ],
                 [
                  -13349358.025704462,
                  11009.133747778833
                 ],
                 [
                  -13351779.417339833,
                  12790.132592901587
                 ],
                 [
                  -13352261.059812574,
                  14040.965283319354
                 ],
                 [
                  -13351944.75729316,
                  15730.30828474462
                 ],
                 [
                  -13352257.890654525,
                  15740.887058783323
                 ]
                ]
               ],
               "type": "Polygon"
              },
              "id": "4",
              "properties": {
               "Nbrhood": "Southwest",
               "location": 5
              },
              "type": "Feature"
             },
             {
              "bbox": [
               -13350381.639764352,
               13934.524693090469,
               -13347300.0946397,
               18966.933133538812
              ],
              "geometry": {
               "coordinates": [
                [
                 [
                  -13347322.251569912,
                  13950.459630619735
                 ],
                 [
                  -13349992.252193099,
                  13934.524693090469
                 ],
                 [
                  -13350010.223927157,
                  15132.640296936035
                 ],
                 [
                  -13350381.639764352,
                  15138.63087495789
                 ],
                 [
                  -13350364.868000543,
                  17207.779929686338
                 ],
                 [
                  -13350076.841009393,
                  17204.90445223078
                 ],
                 [
                  -13349717.406328255,
                  17427.753954540938
                 ],
                 [
                  -13349357.971647117,
                  17990.468916457146
                 ],
                 [
                  -13349304.05644495,
                  18451.743423912674
                 ],
                 [
                  -13348962.59349787,
                  18954.951977510005
                 ],
                 [
                  -13348123.912575219,
                  18966.933133538812
                 ],
                 [
                  -13347300.0946397,
                  18764.775707941502
                 ],
                 [
                  -13347322.251569912,
                  13950.459630619735
                 ]
                ]
               ],
               "type": "Polygon"
              },
              "id": "5",
              "properties": {
               "Nbrhood": "Downtown",
               "location": 6
              },
              "type": "Feature"
             },
             {
              "bbox": [
               -13328287.772234162,
               6053.222041748464,
               -13326281.927027373,
               16367.30006049946
              ],
              "geometry": {
               "coordinates": [
                [
                 [
                  -13326281.927027373,
                  6053.222041748464
                 ],
                 [
                  -13328243.841328684,
                  6053.222041748464
                 ],
                 [
                  -13328287.772234162,
                  15427.877584110945
                 ],
                 [
                  -13326829.740426496,
                  16367.30006049946
                 ],
                 [
                  -13326283.399711132,
                  16022.242766585201
                 ],
                 [
                  -13326281.927027373,
                  6053.222041748464
                 ]
                ]
               ],
               "type": "Polygon"
              },
              "id": "6",
              "properties": {
               "Nbrhood": "Wilson Forest",
               "location": 7
              },
              "type": "Feature"
             },
             {
              "bbox": [
               -13336772.329994978,
               1419.691476520151,
               -13326281.927027373,
               6478.968046542257
              ],
              "geometry": {
               "coordinates": [
                [
                 [
                  -13326281.927027373,
                  6053.222041748464
                 ],
                 [
                  -13326284.924585544,
                  5389.747372850776
                 ],
                 [
                  -13329965.535720583,
                  4282.688554890454
                 ],
                 [
                  -13336454.829359954,
                  1419.691476520151
                 ],
                 [
                  -13336772.329994978,
                  1743.1826895549893
                 ],
                 [
                  -13336754.35826092,
                  2617.807080373168
                 ],
                 [
                  -13335658.082483398,
                  2611.816502351314
                 ],
                 [
                  -13334735.53346843,
                  3360.638754762709
                 ],
                 [
                  -13334244.306070847,
                  3612.2430315688252
                 ],
                 [
                  -13333747.088095248,
                  3612.2430315688252
                 ],
                 [
                  -13329956.250324655,
                  5740.096344020218
                 ],
                 [
                  -13329577.172296133,
                  5706.232937712222
                 ],
                 [
                  -13329589.15345217,
                  6029.724150754511
                 ],
                 [
                  -13329343.539753383,
                  6455.055190123618
                 ],
                 [
                  -13328245.836432122,
                  6478.968046542257
                 ],
                 [
                  -13328243.841328684,
                  6053.222041748464
                 ],
                 [
                  -13326281.927027373,
                  6053.222041748464
                 ]
                ]
               ],
               "type": "Polygon"
              },
              "id": "7",
              "properties": {
               "Nbrhood": "Scenic Vista",
               "location": 8
              },
              "type": "Feature"
             },
             {
              "bbox": [
               -13344586.416364064,
               949.7406152039766,
               -13335203.443902548,
               8852.860588606447
              ],
              "geometry": {
               "coordinates": [
                [
                 [
                  -13336454.829359954,
                  1419.691476520151
                 ],
                 [
                  -13336684.694192199,
                  1016.835089020431
                 ],
                 [
                  -13337930.73442021,
                  949.7406152039766
                 ],
                 [
                  -13339598.511340775,
                  1793.2140003181994
                 ],
                 [
                  -13340968.107240433,
                  2125.241787035018
                 ],
                 [
                  -13341399.428857816,
                  2664.393808770925
                 ],
                 [
                  -13341890.6562554,
                  4245.90640585497
                 ],
                 [
                  -13343472.168852484,
                  5779.494378790259
                 ],
                 [
                  -13344586.416364064,
                  6414.495648834854
                 ],
                 [
                  -13344298.868619142,
                  7133.365011144429
                 ],
                 [
                  -13344238.962838948,
                  8127.800962343812
                 ],
                 [
                  -13344382.736711409,
                  8690.915296152234
                 ],
                 [
                  -13343987.757934008,
                  8852.860588606447
                 ],
                 [
                  -13341078.493624715,
                  8793.81745165214
                 ],
                 [
                  -13341066.99171492,
                  7724.139840532094
                 ],
                 [
                  -13335203.443902548,
                  7716.247253987938
                 ],
                 [
                  -13335266.794265106,
                  5044.324653685093
                 ],
                 [
                  -13335477.662611384,
                  4799.909070491791
                 ],
                 [
                  -13336071.927950898,
                  4603.418111465871
                 ],
                 [
                  -13336474.494793795,
                  4469.2291638329625
                 ],
                 [
                  -13336704.532989737,
                  4224.813580647111
                 ],
                 [
                  -13336754.35826092,
                  2617.807080373168
                 ],
                 [
                  -13336772.329994978,
                  1743.1826895549893
                 ],
                 [
                  -13336454.829359954,
                  1419.691476520151
                 ]
                ]
               ],
               "type": "Polygon"
              },
              "id": "8",
              "properties": {
               "Nbrhood": "Broadview",
               "location": 9
              },
              "type": "Feature"
             },
             {
              "bbox": [
               -13336754.35826092,
               2611.816502351314,
               -13332861.510445183,
               9236.551839035004
              ],
              "geometry": {
               "coordinates": [
                [
                 [
                  -13335203.443902548,
                  7716.247253987938
                 ],
                 [
                  -13335278.736913722,
                  9236.551839035004
                 ],
                 [
                  -13332922.313096944,
                  9210.283154420555
                 ],
                 [
                  -13332861.510445183,
                  4109.330865491182
                 ],
                 [
                  -13333747.088095248,
                  3612.2430315688252
                 ],
                 [
                  -13334244.306070847,
                  3612.2430315688252
                 ],
                 [
                  -13334735.53346843,
                  3360.638754762709
                 ],
                 [
                  -13335658.082483398,
                  2611.816502351314
                 ],
                 [
                  -13336754.35826092,
                  2617.807080373168
                 ],
                 [
                  -13336704.532989737,
                  4224.813580647111
                 ],
                 [
                  -13336474.494793795,
                  4469.2291638329625
                 ],
                 [
                  -13335477.662611384,
                  4799.909070491791
                 ],
                 [
                  -13335266.794265106,
                  5044.324653688818
                 ],
                 [
                  -13335203.443902548,
                  7716.247253987938
                 ]
                ]
               ],
               "type": "Polygon"
              },
              "id": "9",
              "properties": {
               "Nbrhood": "Chapparal",
               "location": 10
              },
              "type": "Feature"
             },
             {
              "bbox": [
               -13332922.313096944,
               4109.330865491182,
               -13328245.836432122,
               9227.536083679646
              ],
              "geometry": {
               "coordinates": [
                [
                 [
                  -13332861.510445183,
                  4109.330865491182
                 ],
                 [
                  -13332922.313096944,
                  9210.283154420555
                 ],
                 [
                  -13328258.716594182,
                  9227.536083679646
                 ],
                 [
                  -13328245.836432122,
                  6478.968046542257
                 ],
                 [
                  -13329343.539753383,
                  6455.055190123618
                 ],
                 [
                  -13329589.15345217,
                  6029.724150754511
                 ],
                 [
                  -13329577.172296133,
                  5706.232937712222
                 ],
                 [
                  -13329956.250324655,
                  5740.096344023943
                 ],
                 [
                  -13332861.510445183,
                  4109.330865491182
                 ]
                ]
               ],
               "type": "Polygon"
              },
              "id": "10",
              "properties": {
               "Nbrhood": "Terrapin Springs",
               "location": 11
              },
              "type": "Feature"
             },
             {
              "bbox": [
               -13333633.54443903,
               9210.283154420555,
               -13328258.716594182,
               15252.81224732846
              ],
              "geometry": {
               "coordinates": [
                [
                 [
                  -13328258.716594182,
                  9227.536083679646
                 ],
                 [
                  -13332922.313096944,
                  9210.283154420555
                 ],
                 [
                  -13332978.001325656,
                  14174.827906638384
                 ],
                 [
                  -13333633.54443903,
                  14998.642822746187
                 ],
                 [
                  -13333128.655989265,
                  14994.019276894629
                 ],
                 [
                  -13332220.005115306,
                  15252.81224732846
                 ],
                 [
                  -13331958.165323649,
                  14978.044607464224
                 ],
                 [
                  -13330328.728102406,
                  13288.701606027782
                 ],
                 [
                  -13329202.499434777,
                  13025.116173177958
                 ],
                 [
                  -13328723.253193235,
                  13444.45663452521
                 ],
                 [
                  -13328723.253193235,
                  14295.118713267148
                 ],
                 [
                  -13328285.046019284,
                  14846.115721732378
                 ],
                 [
                  -13328258.716594182,
                  9227.536083679646
                 ]
                ]
               ],
               "type": "Polygon"
              },
              "id": "11",
              "properties": {
               "Nbrhood": "Pepper Mill",
               "location": 12
              },
              "type": "Feature"
             },
             {
              "bbox": [
               -13338406.19554747,
               7716.247253987938,
               -13332922.313096944,
               15028.610558889806
              ],
              "geometry": {
               "coordinates": [
                [
                 [
                  -13333633.54443903,
                  14998.642822746187
                 ],
                 [
                  -13332978.001325656,
                  14174.827906638384
                 ],
                 [
                  -13332922.313096944,
                  9210.283154420555
                 ],
                 [
                  -13335278.736913722,
                  9236.551839035004
                 ],
                 [
                  -13335203.443902548,
                  7716.247253987938
                 ],
                 [
                  -13338406.19554747,
                  7720.558294907212
                 ],
                 [
                  -13338394.216157876,
                  8438.11533505842
                 ],
                 [
                  -13338250.442285415,
                  8593.870363555849
                 ],
                 [
                  -13337843.082980104,
                  8605.851519595832
                 ],
                 [
                  -13337579.497547254,
                  8833.493484333158
                 ],
                 [
                  -13337624.929727884,
                  12305.058861088008
                 ],
                 [
                  -13336920.437752815,
                  13440.872453544289
                 ],
                 [
                  -13336906.003355103,
                  15028.610558889806
                 ],
                 [
                  -13333633.54443903,
                  14998.642822746187
                 ]
                ]
               ],
               "type": "Polygon"
              },
              "id": "12",
              "properties": {
               "Nbrhood": "Cheddarford",
               "location": 13
              },
              "type": "Feature"
             },
             {
              "bbox": [
               -13344655.637741333,
               15064.405022233725,
               -13339669.15037637,
               18673.308690719306
              ],
              "geometry": {
               "coordinates": [
                [
                 [
                  -13341132.317431018,
                  15067.313280094415
                 ],
                 [
                  -13344603.385225657,
                  15064.405022233725
                 ],
                 [
                  -13344617.043743549,
                  18337.057794172317
                 ],
                 [
                  -13344655.637741333,
                  18673.308690719306
                 ],
                 [
                  -13343879.25883004,
                  18391.51190070063
                 ],
                 [
                  -13342961.572055742,
                  18400.84455030784
                 ],
                 [
                  -13342372.099178655,
                  18206.749822482467
                 ],
                 [
                  -13342062.98535286,
                  18221.12720972672
                 ],
                 [
                  -13341272.229054319,
                  18487.108873780817
                 ],
                 [
                  -13339669.15037637,
                  18487.108873780817
                 ],
                 [
                  -13340320.629190205,
                  17400.020206775516
                 ],
                 [
                  -13341120.970413575,
                  16561.339284081012
                 ],
                 [
                  -13341132.317431018,
                  15067.313280094415
                 ]
                ]
               ],
               "type": "Polygon"
              },
              "id": "13",
              "properties": {
               "Nbrhood": "Easton",
               "location": 14
              },
              "type": "Feature"
             },
             {
              "bbox": [
               -13347316.97854499,
               15064.405022233725,
               -13344603.385225657,
               18788.73802002147
              ],
              "geometry": {
               "coordinates": [
                [
                 [
                  -13344655.637741333,
                  18673.308690719306
                 ],
                 [
                  -13344617.043743549,
                  18337.057794172317
                 ],
                 [
                  -13344603.385225657,
                  15064.405022233725
                 ],
                 [
                  -13347316.97854499,
                  15096.19635527581
                 ],
                 [
                  -13347300.0946397,
                  18764.775707941502
                 ],
                 [
                  -13346976.603426676,
                  18680.907615687698
                 ],
                 [
                  -13346227.781174313,
                  18788.73802002147
                 ],
                 [
                  -13345345.75232915,
                  18581.293412346393
                 ],
                 [
                  -13344655.637741333,
                  18673.308690719306
                 ]
                ]
               ],
               "type": "Polygon"
              },
              "id": "14",
              "properties": {
               "Nbrhood": "Weston",
               "location": 15
              },
              "type": "Feature"
             },
             {
              "bbox": [
               -13347316.97854499,
               10497.145950954407,
               -13344603.385225657,
               15096.19635527581
              ],
              "geometry": {
               "coordinates": [
                [
                 [
                  -13344603.385225657,
                  15064.405022233725
                 ],
                 [
                  -13344642.763242131,
                  10497.145950954407
                 ],
                 [
                  -13344724.736940756,
                  10595.735939837992
                 ],
                 [
                  -13345366.926904423,
                  11602.153047066182
                 ],
                 [
                  -13346680.06160625,
                  13097.40132067725
                 ],
                 [
                  -13347312.666645082,
                  13777.93098366633
                 ],
                 [
                  -13347316.97854499,
                  15096.19635527581
                 ],
                 [
                  -13344603.385225657,
                  15064.405022233725
                 ]
                ]
               ],
               "type": "Polygon"
              },
              "id": "15",
              "properties": {
               "Nbrhood": "Southton",
               "location": 16
              },
              "type": "Feature"
             },
             {
              "bbox": [
               -13344669.141488539,
               7720.558294907212,
               -13337579.497547254,
               11101.862514879555
              ],
              "geometry": {
               "coordinates": [
                [
                 [
                  -13344669.141488539,
                  9416.997867006809
                 ],
                 [
                  -13344426.07068303,
                  9376.789099343121
                 ],
                 [
                  -13343919.603254972,
                  9388.035411145538
                 ],
                 [
                  -13344015.45250328,
                  9742.677629888058
                 ],
                 [
                  -13344267.362770466,
                  10045.650789070874
                 ],
                 [
                  -13340801.609500708,
                  10044.325808536261
                 ],
                 [
                  -13339772.028825123,
                  10704.088134400547
                 ],
                 [
                  -13338276.780551504,
                  11101.862514879555
                 ],
                 [
                  -13338041.949893149,
                  10876.61678135395
                 ],
                 [
                  -13337605.917254657,
                  10852.277091346681
                 ],
                 [
                  -13337579.497547254,
                  8833.493484333158
                 ],
                 [
                  -13337843.082980104,
                  8605.851519595832
                 ],
                 [
                  -13338250.442285415,
                  8593.870363555849
                 ],
                 [
                  -13338394.216157876,
                  8438.11533505842
                 ],
                 [
                  -13338406.19554747,
                  7720.558294907212
                 ],
                 [
                  -13341066.99171492,
                  7724.139840532094
                 ],
                 [
                  -13341078.493624715,
                  8793.81745165214
                 ],
                 [
                  -13343987.757934008,
                  8852.860588606447
                 ],
                 [
                  -13344382.736711409,
                  8690.915296152234
                 ],
                 [
                  -13344669.141488539,
                  9416.997867006809
                 ]
                ]
               ],
               "type": "Polygon"
              },
              "id": "16",
              "properties": {
               "Nbrhood": "Oak Willow",
               "location": 17
              },
              "type": "Feature"
             },
             {
              "bbox": [
               -13341170.017549999,
               10044.325808536261,
               -13336906.003355103,
               15067.313280094415
              ],
              "geometry": {
               "coordinates": [
                [
                 [
                  -13341170.017549999,
                  10044.466653384268
                 ],
                 [
                  -13341132.317431018,
                  15067.313280094415
                 ],
                 [
                  -13336906.003355103,
                  15028.610558889806
                 ],
                 [
                  -13336920.437752815,
                  13440.872453544289
                 ],
                 [
                  -13337624.929727884,
                  12305.058861088008
                 ],
                 [
                  -13337605.917254657,
                  10852.277091346681
                 ],
                 [
                  -13338041.949893149,
                  10876.61678135395
                 ],
                 [
                  -13338276.780551504,
                  11101.862514879555
                 ],
                 [
                  -13339772.028825123,
                  10704.088134400547
                 ],
                 [
                  -13340801.609500708,
                  10044.325808536261
                 ],
                 [
                  -13341170.017549999,
                  10044.466653384268
                 ]
                ]
               ],
               "type": "Polygon"
              },
              "id": "17",
              "properties": {
               "Nbrhood": "East Parton",
               "location": 18
              },
              "type": "Feature"
             },
             {
              "bbox": [
               -13344642.763242131,
               10044.466653384268,
               -13341132.317431018,
               15067.313280094415
              ],
              "geometry": {
               "coordinates": [
                [
                 [
                  -13341132.317431018,
                  15067.313280094415
                 ],
                 [
                  -13341170.017549999,
                  10044.466653384268
                 ],
                 [
                  -13344267.362770466,
                  10045.650789070874
                 ],
                 [
                  -13344642.763242131,
                  10497.145950954407
                 ],
                 [
                  -13344603.385225657,
                  15064.405022233725
                 ],
                 [
                  -13341132.317431018,
                  15067.313280094415
                 ]
                ]
               ],
               "type": "Polygon"
              },
              "id": "18",
              "properties": {
               "Nbrhood": "West Parton",
               "location": 19
              },
              "type": "Feature"
             }
            ],
            "type": "FeatureCollection"
           },
           "hovertemplate": "<b>%{hovertext}</b><br><br>animation_frame=2020-04-09 15:05:00<br>_index=%{location}<br>sewer_and_water=%{z}<extra></extra>",
           "hovertext": [
            10
           ],
           "locations": [
            4
           ],
           "name": "",
           "type": "choropleth",
           "z": [
            7.090909090909091
           ]
          }
         ],
         "name": "2020-04-09 15:05:00"
        },
        {
         "data": [
          {
           "coloraxis": "coloraxis",
           "geo": "geo",
           "geojson": {
            "bbox": [
             -13356433.400213113,
             949.7406152039766,
             -13326281.927027373,
             25330.81290255487
            ],
            "features": [
             {
              "bbox": [
               -13356433.400213113,
               12757.579205360264,
               -13351491.341083687,
               22271.92544165626
              ],
              "geometry": {
               "coordinates": [
                [
                 [
                  -13351493.65584308,
                  17391.305680375546
                 ],
                 [
                  -13352311.805856697,
                  17400.277170021087
                 ],
                 [
                  -13352257.890654525,
                  15740.887058779597
                 ],
                 [
                  -13353294.260651799,
                  15369.471221614629
                 ],
                 [
                  -13354348.60238313,
                  12757.579205360264
                 ],
                 [
                  -13355594.64261106,
                  12877.390765737742
                 ],
                 [
                  -13355426.90642653,
                  13931.73249706626
                 ],
                 [
                  -13354684.074752187,
                  14123.430993683636
                 ],
                 [
                  -13354411.58013172,
                  15544.506326396018
                 ],
                 [
                  -13355025.614378663,
                  16682.71614999324
                 ],
                 [
                  -13356433.400213113,
                  16802.527710374445
                 ],
                 [
                  -13356433.400213113,
                  17296.750396937132
                 ],
                 [
                  -13355429.97839494,
                  17371.632622171193
                 ],
                 [
                  -13355729.507295888,
                  18015.619759209454
                 ],
                 [
                  -13356133.871312166,
                  19767.863829746842
                 ],
                 [
                  -13355819.365966171,
                  20606.54475240037
                 ],
                 [
                  -13355040.59082371,
                  21295.46122456342
                 ],
                 [
                  -13354306.74501639,
                  21624.94301560521
                 ],
                 [
                  -13353452.129156219,
                  22110.898704510182
                 ],
                 [
                  -13352790.769342927,
                  22271.92544165626
                 ],
                 [
                  -13351864.865604319,
                  22185.66111817211
                 ],
                 [
                  -13351491.341083687,
                  22229.943470899016
                 ],
                 [
                  -13351493.65584308,
                  17391.305680375546
                 ]
                ]
               ],
               "type": "Polygon"
              },
              "id": "0",
              "properties": {
               "Nbrhood": "Palace Hills",
               "location": 1
              },
              "type": "Feature"
             },
             {
              "bbox": [
               -13351493.65584308,
               17204.90445223078,
               -13346115.925101548,
               22628.675067204982
              ],
              "geometry": {
               "coordinates": [
                [
                 [
                  -13351493.65584308,
                  17391.305680375546
                 ],
                 [
                  -13351491.341083687,
                  22229.943470899016
                 ],
                 [
                  -13351179.176619865,
                  22490.652149640024
                 ],
                 [
                  -13350632.835904507,
                  22413.97275100276
                 ],
                 [
                  -13350642.420829345,
                  21858.04711080715
                 ],
                 [
                  -13349866.041918047,
                  22011.40590809658
                 ],
                 [
                  -13349578.494173124,
                  22308.53857785836
                 ],
                 [
                  -13349097.330946626,
                  22433.14260065183
                 ],
                 [
                  -13348090.913839394,
                  22628.675067204982
                 ],
                 [
                  -13347699.848906301,
                  22272.11586350575
                 ],
                 [
                  -13347115.168491626,
                  22371.319835502654
                 ],
                 [
                  -13346410.676516563,
                  22553.433407288045
                 ],
                 [
                  -13346300.689504128,
                  22340.168829794973
                 ],
                 [
                  -13346151.883546134,
                  22022.428571663797
                 ],
                 [
                  -13346115.925101548,
                  18770.910059832036
                 ],
                 [
                  -13346227.781174313,
                  18788.73802002147
                 ],
                 [
                  -13346976.60342668,
                  18680.907615687698
                 ],
                 [
                  -13347300.094639698,
                  18764.775707941502
                 ],
                 [
                  -13348123.912575217,
                  18966.933133535087
                 ],
                 [
                  -13348962.593497869,
                  18954.95197750628
                 ],
                 [
                  -13349304.056444949,
                  18451.743423912674
                 ],
                 [
                  -13349357.971647115,
                  17990.468916457146
                 ],
                 [
                  -13349576.02868701,
                  17660.18838166818
                 ],
                 [
                  -13349717.406328259,
                  17427.753954540938
                 ],
                 [
                  -13350076.841009395,
                  17204.90445223078
                 ],
                 [
                  -13350364.868000543,
                  17207.779929686338
                 ],
                 [
                  -13351485.106090086,
                  17274.47503162548
                 ],
                 [
                  -13351493.65584308,
                  17391.305680375546
                 ]
                ]
               ],
               "type": "Polygon"
              },
              "id": "1",
              "properties": {
               "Nbrhood": "Northwest",
               "location": 2
              },
              "type": "Feature"
             },
             {
              "bbox": [
               -13346410.676516563,
               18206.749822482467,
               -13337665.843480354,
               25330.81290255487
              ],
              "geometry": {
               "coordinates": [
                [
                 [
                  -13346410.676516563,
                  22553.433407288045
                 ],
                 [
                  -13346405.953036554,
                  23627.092513881624
                 ],
                 [
                  -13345800.90465661,
                  24100.348177406937
                 ],
                 [
                  -13344986.186045988,
                  24112.329333443195
                 ],
                 [
                  -13344062.438915428,
                  24736.547563046217
                 ],
                 [
                  -13342567.190641824,
                  25330.81290255487
                 ],
                 [
                  -13342490.51124318,
                  23931.41387725994
                 ],
                 [
                  -13342087.944400283,
                  23720.545530982316
                 ],
                 [
                  -13341167.79161653,
                  24084.77267454937
                 ],
                 [
                  -13340611.865976345,
                  23317.978688087314
                 ],
                 [
                  -13340036.7704865,
                  22301.976656023413
                 ],
                 [
                  -13339461.67499665,
                  22378.65605467558
                 ],
                 [
                  -13339557.524244959,
                  23126.280191473663
                 ],
                 [
                  -13339960.091087848,
                  23605.526433009654
                 ],
                 [
                  -13339730.052891914,
                  24161.452073201537
                 ],
                 [
                  -13339825.902140222,
                  24832.396811354905
                 ],
                 [
                  -13338177.295069322,
                  24947.41590932384
                 ],
                 [
                  -13338138.95537,
                  24180.62192285806
                 ],
                 [
                  -13337755.558376769,
                  23739.71538064629
                 ],
                 [
                  -13337665.843480354,
                  23538.892035592347
                 ],
                 [
                  -13338384.04431837,
                  21161.622399073094
                 ],
                 [
                  -13338527.818190832,
                  20298.979164298624
                 ],
                 [
                  -13339129.998354634,
                  19450.39381927997
                 ],
                 [
                  -13339669.15037637,
                  18487.108873780817
                 ],
                 [
                  -13341272.229054319,
                  18487.108873780817
                 ],
                 [
                  -13342062.98535286,
                  18221.12720972672
                 ],
                 [
                  -13342372.099178655,
                  18206.749822482467
                 ],
                 [
                  -13342961.572055742,
                  18400.84455030784
                 ],
                 [
                  -13343879.25883004,
                  18391.51190070063
                 ],
                 [
                  -13344655.637741333,
                  18673.308690719306
                 ],
                 [
                  -13345345.75232915,
                  18581.293412346393
                 ],
                 [
                  -13346115.925101547,
                  18770.91005983576
                 ],
                 [
                  -13346151.883546134,
                  22022.428571663797
                 ],
                 [
                  -13346410.676516563,
                  22553.433407288045
                 ]
                ]
               ],
               "type": "Polygon"
              },
              "id": "2",
              "properties": {
               "Nbrhood": "Old Town",
               "location": 3
              },
              "type": "Feature"
             },
             {
              "bbox": [
               -13341132.317431018,
               14994.019276894629,
               -13331620.308318393,
               24272.240581881255
              ],
              "geometry": {
               "coordinates": [
                [
                 [
                  -13337755.558376769,
                  23739.71538064629
                 ],
                 [
                  -13337518.91470274,
                  24272.240581881255
                 ],
                 [
                  -13337263.716079118,
                  24203.94799246639
                 ],
                 [
                  -13337102.836912887,
                  23453.836101733148
                 ],
                 [
                  -13335365.569287306,
                  21446.992465287447
                 ],
                 [
                  -13335754.956858559,
                  21207.36934451759
                 ],
                 [
                  -13335545.286627889,
                  20937.79333365336
                 ],
                 [
                  -13334676.652815094,
                  21087.557784136385
                 ],
                 [
                  -13333519.720922353,
                  22198.368277214468
                 ],
                 [
                  -13333270.512876753,
                  21920.40545712039
                 ],
                 [
                  -13334018.137013558,
                  20866.063725735992
                 ],
                 [
                  -13333414.286749214,
                  20252.628536563367
                 ],
                 [
                  -13333883.948065925,
                  19945.910941977054
                 ],
                 [
                  -13333155.493778786,
                  18910.73906024918
                 ],
                 [
                  -13333136.323929127,
                  17837.22747920081
                 ],
                 [
                  -13333225.78322755,
                  17473.000335633755
                 ],
                 [
                  -13332866.348546397,
                  16873.94253370911
                 ],
                 [
                  -13332602.763113547,
                  16250.922419708222
                 ],
                 [
                  -13331620.308318393,
                  15987.336986858398
                 ],
                 [
                  -13332219.366120316,
                  15508.090745322406
                 ],
                 [
                  -13332220.005115306,
                  15252.81224732846
                 ],
                 [
                  -13333128.655989265,
                  14994.019276894629
                 ],
                 [
                  -13341132.317431018,
                  15067.313280094415
                 ],
                 [
                  -13341120.970413575,
                  16561.339284081012
                 ],
                 [
                  -13340320.629190205,
                  17400.020206775516
                 ],
                 [
                  -13339669.15037637,
                  18487.108873780817
                 ],
                 [
                  -13339129.998354634,
                  19450.39381927997
                 ],
                 [
                  -13338527.818190832,
                  20298.979164298624
                 ],
                 [
                  -13338384.04431837,
                  21161.622399073094
                 ],
                 [
                  -13337665.843480354,
                  23538.892035592347
                 ],
                 [
                  -13337755.558376769,
                  23739.71538064629
                 ]
                ]
               ],
               "type": "Polygon"
              },
              "id": "3",
              "properties": {
               "Nbrhood": "Safe Town",
               "location": 4
              },
              "type": "Feature"
             },
             {
              "bbox": [
               -13352311.805856697,
               9376.789099343121,
               -13343919.603254972,
               17400.277170024812
              ],
              "geometry": {
               "coordinates": [
                [
                 [
                  -13352257.890654525,
                  15740.887058783323
                 ],
                 [
                  -13352311.805856697,
                  17400.277170024812
                 ],
                 [
                  -13351493.655843081,
                  17391.30568037927
                 ],
                 [
                  -13351485.106090082,
                  17274.475031629205
                 ],
                 [
                  -13350364.868000543,
                  17207.779929686338
                 ],
                 [
                  -13350381.639764352,
                  15138.63087495789
                 ],
                 [
                  -13350010.223927157,
                  15132.640296936035
                 ],
                 [
                  -13349992.252193099,
                  13934.524693090469
                 ],
                 [
                  -13347322.251569912,
                  13950.459630619735
                 ],
                 [
                  -13347312.666645082,
                  13777.93098366633
                 ],
                 [
                  -13346680.06160625,
                  13097.40132067725
                 ],
                 [
                  -13345366.926904423,
                  11602.153047066182
                 ],
                 [
                  -13344724.736940756,
                  10595.735939834267
                 ],
                 [
                  -13344015.45250328,
                  9742.677629888058
                 ],
                 [
                  -13343919.603254972,
                  9388.035411145538
                 ],
                 [
                  -13344426.07068303,
                  9376.789099343121
                 ],
                 [
                  -13346326.793226724,
                  9691.206583544612
                 ],
                 [
                  -13348291.702817041,
                  10805.454095125198
                 ],
                 [
                  -13349358.025704462,
                  11009.133747778833
                 ],
                 [
                  -13351779.417339833,
                  12790.132592901587
                 ],
                 [
                  -13352261.059812574,
                  14040.965283319354
                 ],
                 [
                  -13351944.75729316,
                  15730.30828474462
                 ],
                 [
                  -13352257.890654525,
                  15740.887058783323
                 ]
                ]
               ],
               "type": "Polygon"
              },
              "id": "4",
              "properties": {
               "Nbrhood": "Southwest",
               "location": 5
              },
              "type": "Feature"
             },
             {
              "bbox": [
               -13350381.639764352,
               13934.524693090469,
               -13347300.0946397,
               18966.933133538812
              ],
              "geometry": {
               "coordinates": [
                [
                 [
                  -13347322.251569912,
                  13950.459630619735
                 ],
                 [
                  -13349992.252193099,
                  13934.524693090469
                 ],
                 [
                  -13350010.223927157,
                  15132.640296936035
                 ],
                 [
                  -13350381.639764352,
                  15138.63087495789
                 ],
                 [
                  -13350364.868000543,
                  17207.779929686338
                 ],
                 [
                  -13350076.841009393,
                  17204.90445223078
                 ],
                 [
                  -13349717.406328255,
                  17427.753954540938
                 ],
                 [
                  -13349357.971647117,
                  17990.468916457146
                 ],
                 [
                  -13349304.05644495,
                  18451.743423912674
                 ],
                 [
                  -13348962.59349787,
                  18954.951977510005
                 ],
                 [
                  -13348123.912575219,
                  18966.933133538812
                 ],
                 [
                  -13347300.0946397,
                  18764.775707941502
                 ],
                 [
                  -13347322.251569912,
                  13950.459630619735
                 ]
                ]
               ],
               "type": "Polygon"
              },
              "id": "5",
              "properties": {
               "Nbrhood": "Downtown",
               "location": 6
              },
              "type": "Feature"
             },
             {
              "bbox": [
               -13328287.772234162,
               6053.222041748464,
               -13326281.927027373,
               16367.30006049946
              ],
              "geometry": {
               "coordinates": [
                [
                 [
                  -13326281.927027373,
                  6053.222041748464
                 ],
                 [
                  -13328243.841328684,
                  6053.222041748464
                 ],
                 [
                  -13328287.772234162,
                  15427.877584110945
                 ],
                 [
                  -13326829.740426496,
                  16367.30006049946
                 ],
                 [
                  -13326283.399711132,
                  16022.242766585201
                 ],
                 [
                  -13326281.927027373,
                  6053.222041748464
                 ]
                ]
               ],
               "type": "Polygon"
              },
              "id": "6",
              "properties": {
               "Nbrhood": "Wilson Forest",
               "location": 7
              },
              "type": "Feature"
             },
             {
              "bbox": [
               -13336772.329994978,
               1419.691476520151,
               -13326281.927027373,
               6478.968046542257
              ],
              "geometry": {
               "coordinates": [
                [
                 [
                  -13326281.927027373,
                  6053.222041748464
                 ],
                 [
                  -13326284.924585544,
                  5389.747372850776
                 ],
                 [
                  -13329965.535720583,
                  4282.688554890454
                 ],
                 [
                  -13336454.829359954,
                  1419.691476520151
                 ],
                 [
                  -13336772.329994978,
                  1743.1826895549893
                 ],
                 [
                  -13336754.35826092,
                  2617.807080373168
                 ],
                 [
                  -13335658.082483398,
                  2611.816502351314
                 ],
                 [
                  -13334735.53346843,
                  3360.638754762709
                 ],
                 [
                  -13334244.306070847,
                  3612.2430315688252
                 ],
                 [
                  -13333747.088095248,
                  3612.2430315688252
                 ],
                 [
                  -13329956.250324655,
                  5740.096344020218
                 ],
                 [
                  -13329577.172296133,
                  5706.232937712222
                 ],
                 [
                  -13329589.15345217,
                  6029.724150754511
                 ],
                 [
                  -13329343.539753383,
                  6455.055190123618
                 ],
                 [
                  -13328245.836432122,
                  6478.968046542257
                 ],
                 [
                  -13328243.841328684,
                  6053.222041748464
                 ],
                 [
                  -13326281.927027373,
                  6053.222041748464
                 ]
                ]
               ],
               "type": "Polygon"
              },
              "id": "7",
              "properties": {
               "Nbrhood": "Scenic Vista",
               "location": 8
              },
              "type": "Feature"
             },
             {
              "bbox": [
               -13344586.416364064,
               949.7406152039766,
               -13335203.443902548,
               8852.860588606447
              ],
              "geometry": {
               "coordinates": [
                [
                 [
                  -13336454.829359954,
                  1419.691476520151
                 ],
                 [
                  -13336684.694192199,
                  1016.835089020431
                 ],
                 [
                  -13337930.73442021,
                  949.7406152039766
                 ],
                 [
                  -13339598.511340775,
                  1793.2140003181994
                 ],
                 [
                  -13340968.107240433,
                  2125.241787035018
                 ],
                 [
                  -13341399.428857816,
                  2664.393808770925
                 ],
                 [
                  -13341890.6562554,
                  4245.90640585497
                 ],
                 [
                  -13343472.168852484,
                  5779.494378790259
                 ],
                 [
                  -13344586.416364064,
                  6414.495648834854
                 ],
                 [
                  -13344298.868619142,
                  7133.365011144429
                 ],
                 [
                  -13344238.962838948,
                  8127.800962343812
                 ],
                 [
                  -13344382.736711409,
                  8690.915296152234
                 ],
                 [
                  -13343987.757934008,
                  8852.860588606447
                 ],
                 [
                  -13341078.493624715,
                  8793.81745165214
                 ],
                 [
                  -13341066.99171492,
                  7724.139840532094
                 ],
                 [
                  -13335203.443902548,
                  7716.247253987938
                 ],
                 [
                  -13335266.794265106,
                  5044.324653685093
                 ],
                 [
                  -13335477.662611384,
                  4799.909070491791
                 ],
                 [
                  -13336071.927950898,
                  4603.418111465871
                 ],
                 [
                  -13336474.494793795,
                  4469.2291638329625
                 ],
                 [
                  -13336704.532989737,
                  4224.813580647111
                 ],
                 [
                  -13336754.35826092,
                  2617.807080373168
                 ],
                 [
                  -13336772.329994978,
                  1743.1826895549893
                 ],
                 [
                  -13336454.829359954,
                  1419.691476520151
                 ]
                ]
               ],
               "type": "Polygon"
              },
              "id": "8",
              "properties": {
               "Nbrhood": "Broadview",
               "location": 9
              },
              "type": "Feature"
             },
             {
              "bbox": [
               -13336754.35826092,
               2611.816502351314,
               -13332861.510445183,
               9236.551839035004
              ],
              "geometry": {
               "coordinates": [
                [
                 [
                  -13335203.443902548,
                  7716.247253987938
                 ],
                 [
                  -13335278.736913722,
                  9236.551839035004
                 ],
                 [
                  -13332922.313096944,
                  9210.283154420555
                 ],
                 [
                  -13332861.510445183,
                  4109.330865491182
                 ],
                 [
                  -13333747.088095248,
                  3612.2430315688252
                 ],
                 [
                  -13334244.306070847,
                  3612.2430315688252
                 ],
                 [
                  -13334735.53346843,
                  3360.638754762709
                 ],
                 [
                  -13335658.082483398,
                  2611.816502351314
                 ],
                 [
                  -13336754.35826092,
                  2617.807080373168
                 ],
                 [
                  -13336704.532989737,
                  4224.813580647111
                 ],
                 [
                  -13336474.494793795,
                  4469.2291638329625
                 ],
                 [
                  -13335477.662611384,
                  4799.909070491791
                 ],
                 [
                  -13335266.794265106,
                  5044.324653688818
                 ],
                 [
                  -13335203.443902548,
                  7716.247253987938
                 ]
                ]
               ],
               "type": "Polygon"
              },
              "id": "9",
              "properties": {
               "Nbrhood": "Chapparal",
               "location": 10
              },
              "type": "Feature"
             },
             {
              "bbox": [
               -13332922.313096944,
               4109.330865491182,
               -13328245.836432122,
               9227.536083679646
              ],
              "geometry": {
               "coordinates": [
                [
                 [
                  -13332861.510445183,
                  4109.330865491182
                 ],
                 [
                  -13332922.313096944,
                  9210.283154420555
                 ],
                 [
                  -13328258.716594182,
                  9227.536083679646
                 ],
                 [
                  -13328245.836432122,
                  6478.968046542257
                 ],
                 [
                  -13329343.539753383,
                  6455.055190123618
                 ],
                 [
                  -13329589.15345217,
                  6029.724150754511
                 ],
                 [
                  -13329577.172296133,
                  5706.232937712222
                 ],
                 [
                  -13329956.250324655,
                  5740.096344023943
                 ],
                 [
                  -13332861.510445183,
                  4109.330865491182
                 ]
                ]
               ],
               "type": "Polygon"
              },
              "id": "10",
              "properties": {
               "Nbrhood": "Terrapin Springs",
               "location": 11
              },
              "type": "Feature"
             },
             {
              "bbox": [
               -13333633.54443903,
               9210.283154420555,
               -13328258.716594182,
               15252.81224732846
              ],
              "geometry": {
               "coordinates": [
                [
                 [
                  -13328258.716594182,
                  9227.536083679646
                 ],
                 [
                  -13332922.313096944,
                  9210.283154420555
                 ],
                 [
                  -13332978.001325656,
                  14174.827906638384
                 ],
                 [
                  -13333633.54443903,
                  14998.642822746187
                 ],
                 [
                  -13333128.655989265,
                  14994.019276894629
                 ],
                 [
                  -13332220.005115306,
                  15252.81224732846
                 ],
                 [
                  -13331958.165323649,
                  14978.044607464224
                 ],
                 [
                  -13330328.728102406,
                  13288.701606027782
                 ],
                 [
                  -13329202.499434777,
                  13025.116173177958
                 ],
                 [
                  -13328723.253193235,
                  13444.45663452521
                 ],
                 [
                  -13328723.253193235,
                  14295.118713267148
                 ],
                 [
                  -13328285.046019284,
                  14846.115721732378
                 ],
                 [
                  -13328258.716594182,
                  9227.536083679646
                 ]
                ]
               ],
               "type": "Polygon"
              },
              "id": "11",
              "properties": {
               "Nbrhood": "Pepper Mill",
               "location": 12
              },
              "type": "Feature"
             },
             {
              "bbox": [
               -13338406.19554747,
               7716.247253987938,
               -13332922.313096944,
               15028.610558889806
              ],
              "geometry": {
               "coordinates": [
                [
                 [
                  -13333633.54443903,
                  14998.642822746187
                 ],
                 [
                  -13332978.001325656,
                  14174.827906638384
                 ],
                 [
                  -13332922.313096944,
                  9210.283154420555
                 ],
                 [
                  -13335278.736913722,
                  9236.551839035004
                 ],
                 [
                  -13335203.443902548,
                  7716.247253987938
                 ],
                 [
                  -13338406.19554747,
                  7720.558294907212
                 ],
                 [
                  -13338394.216157876,
                  8438.11533505842
                 ],
                 [
                  -13338250.442285415,
                  8593.870363555849
                 ],
                 [
                  -13337843.082980104,
                  8605.851519595832
                 ],
                 [
                  -13337579.497547254,
                  8833.493484333158
                 ],
                 [
                  -13337624.929727884,
                  12305.058861088008
                 ],
                 [
                  -13336920.437752815,
                  13440.872453544289
                 ],
                 [
                  -13336906.003355103,
                  15028.610558889806
                 ],
                 [
                  -13333633.54443903,
                  14998.642822746187
                 ]
                ]
               ],
               "type": "Polygon"
              },
              "id": "12",
              "properties": {
               "Nbrhood": "Cheddarford",
               "location": 13
              },
              "type": "Feature"
             },
             {
              "bbox": [
               -13344655.637741333,
               15064.405022233725,
               -13339669.15037637,
               18673.308690719306
              ],
              "geometry": {
               "coordinates": [
                [
                 [
                  -13341132.317431018,
                  15067.313280094415
                 ],
                 [
                  -13344603.385225657,
                  15064.405022233725
                 ],
                 [
                  -13344617.043743549,
                  18337.057794172317
                 ],
                 [
                  -13344655.637741333,
                  18673.308690719306
                 ],
                 [
                  -13343879.25883004,
                  18391.51190070063
                 ],
                 [
                  -13342961.572055742,
                  18400.84455030784
                 ],
                 [
                  -13342372.099178655,
                  18206.749822482467
                 ],
                 [
                  -13342062.98535286,
                  18221.12720972672
                 ],
                 [
                  -13341272.229054319,
                  18487.108873780817
                 ],
                 [
                  -13339669.15037637,
                  18487.108873780817
                 ],
                 [
                  -13340320.629190205,
                  17400.020206775516
                 ],
                 [
                  -13341120.970413575,
                  16561.339284081012
                 ],
                 [
                  -13341132.317431018,
                  15067.313280094415
                 ]
                ]
               ],
               "type": "Polygon"
              },
              "id": "13",
              "properties": {
               "Nbrhood": "Easton",
               "location": 14
              },
              "type": "Feature"
             },
             {
              "bbox": [
               -13347316.97854499,
               15064.405022233725,
               -13344603.385225657,
               18788.73802002147
              ],
              "geometry": {
               "coordinates": [
                [
                 [
                  -13344655.637741333,
                  18673.308690719306
                 ],
                 [
                  -13344617.043743549,
                  18337.057794172317
                 ],
                 [
                  -13344603.385225657,
                  15064.405022233725
                 ],
                 [
                  -13347316.97854499,
                  15096.19635527581
                 ],
                 [
                  -13347300.0946397,
                  18764.775707941502
                 ],
                 [
                  -13346976.603426676,
                  18680.907615687698
                 ],
                 [
                  -13346227.781174313,
                  18788.73802002147
                 ],
                 [
                  -13345345.75232915,
                  18581.293412346393
                 ],
                 [
                  -13344655.637741333,
                  18673.308690719306
                 ]
                ]
               ],
               "type": "Polygon"
              },
              "id": "14",
              "properties": {
               "Nbrhood": "Weston",
               "location": 15
              },
              "type": "Feature"
             },
             {
              "bbox": [
               -13347316.97854499,
               10497.145950954407,
               -13344603.385225657,
               15096.19635527581
              ],
              "geometry": {
               "coordinates": [
                [
                 [
                  -13344603.385225657,
                  15064.405022233725
                 ],
                 [
                  -13344642.763242131,
                  10497.145950954407
                 ],
                 [
                  -13344724.736940756,
                  10595.735939837992
                 ],
                 [
                  -13345366.926904423,
                  11602.153047066182
                 ],
                 [
                  -13346680.06160625,
                  13097.40132067725
                 ],
                 [
                  -13347312.666645082,
                  13777.93098366633
                 ],
                 [
                  -13347316.97854499,
                  15096.19635527581
                 ],
                 [
                  -13344603.385225657,
                  15064.405022233725
                 ]
                ]
               ],
               "type": "Polygon"
              },
              "id": "15",
              "properties": {
               "Nbrhood": "Southton",
               "location": 16
              },
              "type": "Feature"
             },
             {
              "bbox": [
               -13344669.141488539,
               7720.558294907212,
               -13337579.497547254,
               11101.862514879555
              ],
              "geometry": {
               "coordinates": [
                [
                 [
                  -13344669.141488539,
                  9416.997867006809
                 ],
                 [
                  -13344426.07068303,
                  9376.789099343121
                 ],
                 [
                  -13343919.603254972,
                  9388.035411145538
                 ],
                 [
                  -13344015.45250328,
                  9742.677629888058
                 ],
                 [
                  -13344267.362770466,
                  10045.650789070874
                 ],
                 [
                  -13340801.609500708,
                  10044.325808536261
                 ],
                 [
                  -13339772.028825123,
                  10704.088134400547
                 ],
                 [
                  -13338276.780551504,
                  11101.862514879555
                 ],
                 [
                  -13338041.949893149,
                  10876.61678135395
                 ],
                 [
                  -13337605.917254657,
                  10852.277091346681
                 ],
                 [
                  -13337579.497547254,
                  8833.493484333158
                 ],
                 [
                  -13337843.082980104,
                  8605.851519595832
                 ],
                 [
                  -13338250.442285415,
                  8593.870363555849
                 ],
                 [
                  -13338394.216157876,
                  8438.11533505842
                 ],
                 [
                  -13338406.19554747,
                  7720.558294907212
                 ],
                 [
                  -13341066.99171492,
                  7724.139840532094
                 ],
                 [
                  -13341078.493624715,
                  8793.81745165214
                 ],
                 [
                  -13343987.757934008,
                  8852.860588606447
                 ],
                 [
                  -13344382.736711409,
                  8690.915296152234
                 ],
                 [
                  -13344669.141488539,
                  9416.997867006809
                 ]
                ]
               ],
               "type": "Polygon"
              },
              "id": "16",
              "properties": {
               "Nbrhood": "Oak Willow",
               "location": 17
              },
              "type": "Feature"
             },
             {
              "bbox": [
               -13341170.017549999,
               10044.325808536261,
               -13336906.003355103,
               15067.313280094415
              ],
              "geometry": {
               "coordinates": [
                [
                 [
                  -13341170.017549999,
                  10044.466653384268
                 ],
                 [
                  -13341132.317431018,
                  15067.313280094415
                 ],
                 [
                  -13336906.003355103,
                  15028.610558889806
                 ],
                 [
                  -13336920.437752815,
                  13440.872453544289
                 ],
                 [
                  -13337624.929727884,
                  12305.058861088008
                 ],
                 [
                  -13337605.917254657,
                  10852.277091346681
                 ],
                 [
                  -13338041.949893149,
                  10876.61678135395
                 ],
                 [
                  -13338276.780551504,
                  11101.862514879555
                 ],
                 [
                  -13339772.028825123,
                  10704.088134400547
                 ],
                 [
                  -13340801.609500708,
                  10044.325808536261
                 ],
                 [
                  -13341170.017549999,
                  10044.466653384268
                 ]
                ]
               ],
               "type": "Polygon"
              },
              "id": "17",
              "properties": {
               "Nbrhood": "East Parton",
               "location": 18
              },
              "type": "Feature"
             },
             {
              "bbox": [
               -13344642.763242131,
               10044.466653384268,
               -13341132.317431018,
               15067.313280094415
              ],
              "geometry": {
               "coordinates": [
                [
                 [
                  -13341132.317431018,
                  15067.313280094415
                 ],
                 [
                  -13341170.017549999,
                  10044.466653384268
                 ],
                 [
                  -13344267.362770466,
                  10045.650789070874
                 ],
                 [
                  -13344642.763242131,
                  10497.145950954407
                 ],
                 [
                  -13344603.385225657,
                  15064.405022233725
                 ],
                 [
                  -13341132.317431018,
                  15067.313280094415
                 ]
                ]
               ],
               "type": "Polygon"
              },
              "id": "18",
              "properties": {
               "Nbrhood": "West Parton",
               "location": 19
              },
              "type": "Feature"
             }
            ],
            "type": "FeatureCollection"
           },
           "hovertemplate": "<b>%{hovertext}</b><br><br>animation_frame=2020-04-09 21:50:00<br>_index=%{location}<br>sewer_and_water=%{z}<extra></extra>",
           "hovertext": [
            5
           ],
           "locations": [
            5
           ],
           "name": "",
           "type": "choropleth",
           "z": [
            10
           ]
          }
         ],
         "name": "2020-04-09 21:50:00"
        },
        {
         "data": [
          {
           "coloraxis": "coloraxis",
           "geo": "geo",
           "geojson": {
            "bbox": [
             -13356433.400213113,
             949.7406152039766,
             -13326281.927027373,
             25330.81290255487
            ],
            "features": [
             {
              "bbox": [
               -13356433.400213113,
               12757.579205360264,
               -13351491.341083687,
               22271.92544165626
              ],
              "geometry": {
               "coordinates": [
                [
                 [
                  -13351493.65584308,
                  17391.305680375546
                 ],
                 [
                  -13352311.805856697,
                  17400.277170021087
                 ],
                 [
                  -13352257.890654525,
                  15740.887058779597
                 ],
                 [
                  -13353294.260651799,
                  15369.471221614629
                 ],
                 [
                  -13354348.60238313,
                  12757.579205360264
                 ],
                 [
                  -13355594.64261106,
                  12877.390765737742
                 ],
                 [
                  -13355426.90642653,
                  13931.73249706626
                 ],
                 [
                  -13354684.074752187,
                  14123.430993683636
                 ],
                 [
                  -13354411.58013172,
                  15544.506326396018
                 ],
                 [
                  -13355025.614378663,
                  16682.71614999324
                 ],
                 [
                  -13356433.400213113,
                  16802.527710374445
                 ],
                 [
                  -13356433.400213113,
                  17296.750396937132
                 ],
                 [
                  -13355429.97839494,
                  17371.632622171193
                 ],
                 [
                  -13355729.507295888,
                  18015.619759209454
                 ],
                 [
                  -13356133.871312166,
                  19767.863829746842
                 ],
                 [
                  -13355819.365966171,
                  20606.54475240037
                 ],
                 [
                  -13355040.59082371,
                  21295.46122456342
                 ],
                 [
                  -13354306.74501639,
                  21624.94301560521
                 ],
                 [
                  -13353452.129156219,
                  22110.898704510182
                 ],
                 [
                  -13352790.769342927,
                  22271.92544165626
                 ],
                 [
                  -13351864.865604319,
                  22185.66111817211
                 ],
                 [
                  -13351491.341083687,
                  22229.943470899016
                 ],
                 [
                  -13351493.65584308,
                  17391.305680375546
                 ]
                ]
               ],
               "type": "Polygon"
              },
              "id": "0",
              "properties": {
               "Nbrhood": "Palace Hills",
               "location": 1
              },
              "type": "Feature"
             },
             {
              "bbox": [
               -13351493.65584308,
               17204.90445223078,
               -13346115.925101548,
               22628.675067204982
              ],
              "geometry": {
               "coordinates": [
                [
                 [
                  -13351493.65584308,
                  17391.305680375546
                 ],
                 [
                  -13351491.341083687,
                  22229.943470899016
                 ],
                 [
                  -13351179.176619865,
                  22490.652149640024
                 ],
                 [
                  -13350632.835904507,
                  22413.97275100276
                 ],
                 [
                  -13350642.420829345,
                  21858.04711080715
                 ],
                 [
                  -13349866.041918047,
                  22011.40590809658
                 ],
                 [
                  -13349578.494173124,
                  22308.53857785836
                 ],
                 [
                  -13349097.330946626,
                  22433.14260065183
                 ],
                 [
                  -13348090.913839394,
                  22628.675067204982
                 ],
                 [
                  -13347699.848906301,
                  22272.11586350575
                 ],
                 [
                  -13347115.168491626,
                  22371.319835502654
                 ],
                 [
                  -13346410.676516563,
                  22553.433407288045
                 ],
                 [
                  -13346300.689504128,
                  22340.168829794973
                 ],
                 [
                  -13346151.883546134,
                  22022.428571663797
                 ],
                 [
                  -13346115.925101548,
                  18770.910059832036
                 ],
                 [
                  -13346227.781174313,
                  18788.73802002147
                 ],
                 [
                  -13346976.60342668,
                  18680.907615687698
                 ],
                 [
                  -13347300.094639698,
                  18764.775707941502
                 ],
                 [
                  -13348123.912575217,
                  18966.933133535087
                 ],
                 [
                  -13348962.593497869,
                  18954.95197750628
                 ],
                 [
                  -13349304.056444949,
                  18451.743423912674
                 ],
                 [
                  -13349357.971647115,
                  17990.468916457146
                 ],
                 [
                  -13349576.02868701,
                  17660.18838166818
                 ],
                 [
                  -13349717.406328259,
                  17427.753954540938
                 ],
                 [
                  -13350076.841009395,
                  17204.90445223078
                 ],
                 [
                  -13350364.868000543,
                  17207.779929686338
                 ],
                 [
                  -13351485.106090086,
                  17274.47503162548
                 ],
                 [
                  -13351493.65584308,
                  17391.305680375546
                 ]
                ]
               ],
               "type": "Polygon"
              },
              "id": "1",
              "properties": {
               "Nbrhood": "Northwest",
               "location": 2
              },
              "type": "Feature"
             },
             {
              "bbox": [
               -13346410.676516563,
               18206.749822482467,
               -13337665.843480354,
               25330.81290255487
              ],
              "geometry": {
               "coordinates": [
                [
                 [
                  -13346410.676516563,
                  22553.433407288045
                 ],
                 [
                  -13346405.953036554,
                  23627.092513881624
                 ],
                 [
                  -13345800.90465661,
                  24100.348177406937
                 ],
                 [
                  -13344986.186045988,
                  24112.329333443195
                 ],
                 [
                  -13344062.438915428,
                  24736.547563046217
                 ],
                 [
                  -13342567.190641824,
                  25330.81290255487
                 ],
                 [
                  -13342490.51124318,
                  23931.41387725994
                 ],
                 [
                  -13342087.944400283,
                  23720.545530982316
                 ],
                 [
                  -13341167.79161653,
                  24084.77267454937
                 ],
                 [
                  -13340611.865976345,
                  23317.978688087314
                 ],
                 [
                  -13340036.7704865,
                  22301.976656023413
                 ],
                 [
                  -13339461.67499665,
                  22378.65605467558
                 ],
                 [
                  -13339557.524244959,
                  23126.280191473663
                 ],
                 [
                  -13339960.091087848,
                  23605.526433009654
                 ],
                 [
                  -13339730.052891914,
                  24161.452073201537
                 ],
                 [
                  -13339825.902140222,
                  24832.396811354905
                 ],
                 [
                  -13338177.295069322,
                  24947.41590932384
                 ],
                 [
                  -13338138.95537,
                  24180.62192285806
                 ],
                 [
                  -13337755.558376769,
                  23739.71538064629
                 ],
                 [
                  -13337665.843480354,
                  23538.892035592347
                 ],
                 [
                  -13338384.04431837,
                  21161.622399073094
                 ],
                 [
                  -13338527.818190832,
                  20298.979164298624
                 ],
                 [
                  -13339129.998354634,
                  19450.39381927997
                 ],
                 [
                  -13339669.15037637,
                  18487.108873780817
                 ],
                 [
                  -13341272.229054319,
                  18487.108873780817
                 ],
                 [
                  -13342062.98535286,
                  18221.12720972672
                 ],
                 [
                  -13342372.099178655,
                  18206.749822482467
                 ],
                 [
                  -13342961.572055742,
                  18400.84455030784
                 ],
                 [
                  -13343879.25883004,
                  18391.51190070063
                 ],
                 [
                  -13344655.637741333,
                  18673.308690719306
                 ],
                 [
                  -13345345.75232915,
                  18581.293412346393
                 ],
                 [
                  -13346115.925101547,
                  18770.91005983576
                 ],
                 [
                  -13346151.883546134,
                  22022.428571663797
                 ],
                 [
                  -13346410.676516563,
                  22553.433407288045
                 ]
                ]
               ],
               "type": "Polygon"
              },
              "id": "2",
              "properties": {
               "Nbrhood": "Old Town",
               "location": 3
              },
              "type": "Feature"
             },
             {
              "bbox": [
               -13341132.317431018,
               14994.019276894629,
               -13331620.308318393,
               24272.240581881255
              ],
              "geometry": {
               "coordinates": [
                [
                 [
                  -13337755.558376769,
                  23739.71538064629
                 ],
                 [
                  -13337518.91470274,
                  24272.240581881255
                 ],
                 [
                  -13337263.716079118,
                  24203.94799246639
                 ],
                 [
                  -13337102.836912887,
                  23453.836101733148
                 ],
                 [
                  -13335365.569287306,
                  21446.992465287447
                 ],
                 [
                  -13335754.956858559,
                  21207.36934451759
                 ],
                 [
                  -13335545.286627889,
                  20937.79333365336
                 ],
                 [
                  -13334676.652815094,
                  21087.557784136385
                 ],
                 [
                  -13333519.720922353,
                  22198.368277214468
                 ],
                 [
                  -13333270.512876753,
                  21920.40545712039
                 ],
                 [
                  -13334018.137013558,
                  20866.063725735992
                 ],
                 [
                  -13333414.286749214,
                  20252.628536563367
                 ],
                 [
                  -13333883.948065925,
                  19945.910941977054
                 ],
                 [
                  -13333155.493778786,
                  18910.73906024918
                 ],
                 [
                  -13333136.323929127,
                  17837.22747920081
                 ],
                 [
                  -13333225.78322755,
                  17473.000335633755
                 ],
                 [
                  -13332866.348546397,
                  16873.94253370911
                 ],
                 [
                  -13332602.763113547,
                  16250.922419708222
                 ],
                 [
                  -13331620.308318393,
                  15987.336986858398
                 ],
                 [
                  -13332219.366120316,
                  15508.090745322406
                 ],
                 [
                  -13332220.005115306,
                  15252.81224732846
                 ],
                 [
                  -13333128.655989265,
                  14994.019276894629
                 ],
                 [
                  -13341132.317431018,
                  15067.313280094415
                 ],
                 [
                  -13341120.970413575,
                  16561.339284081012
                 ],
                 [
                  -13340320.629190205,
                  17400.020206775516
                 ],
                 [
                  -13339669.15037637,
                  18487.108873780817
                 ],
                 [
                  -13339129.998354634,
                  19450.39381927997
                 ],
                 [
                  -13338527.818190832,
                  20298.979164298624
                 ],
                 [
                  -13338384.04431837,
                  21161.622399073094
                 ],
                 [
                  -13337665.843480354,
                  23538.892035592347
                 ],
                 [
                  -13337755.558376769,
                  23739.71538064629
                 ]
                ]
               ],
               "type": "Polygon"
              },
              "id": "3",
              "properties": {
               "Nbrhood": "Safe Town",
               "location": 4
              },
              "type": "Feature"
             },
             {
              "bbox": [
               -13352311.805856697,
               9376.789099343121,
               -13343919.603254972,
               17400.277170024812
              ],
              "geometry": {
               "coordinates": [
                [
                 [
                  -13352257.890654525,
                  15740.887058783323
                 ],
                 [
                  -13352311.805856697,
                  17400.277170024812
                 ],
                 [
                  -13351493.655843081,
                  17391.30568037927
                 ],
                 [
                  -13351485.106090082,
                  17274.475031629205
                 ],
                 [
                  -13350364.868000543,
                  17207.779929686338
                 ],
                 [
                  -13350381.639764352,
                  15138.63087495789
                 ],
                 [
                  -13350010.223927157,
                  15132.640296936035
                 ],
                 [
                  -13349992.252193099,
                  13934.524693090469
                 ],
                 [
                  -13347322.251569912,
                  13950.459630619735
                 ],
                 [
                  -13347312.666645082,
                  13777.93098366633
                 ],
                 [
                  -13346680.06160625,
                  13097.40132067725
                 ],
                 [
                  -13345366.926904423,
                  11602.153047066182
                 ],
                 [
                  -13344724.736940756,
                  10595.735939834267
                 ],
                 [
                  -13344015.45250328,
                  9742.677629888058
                 ],
                 [
                  -13343919.603254972,
                  9388.035411145538
                 ],
                 [
                  -13344426.07068303,
                  9376.789099343121
                 ],
                 [
                  -13346326.793226724,
                  9691.206583544612
                 ],
                 [
                  -13348291.702817041,
                  10805.454095125198
                 ],
                 [
                  -13349358.025704462,
                  11009.133747778833
                 ],
                 [
                  -13351779.417339833,
                  12790.132592901587
                 ],
                 [
                  -13352261.059812574,
                  14040.965283319354
                 ],
                 [
                  -13351944.75729316,
                  15730.30828474462
                 ],
                 [
                  -13352257.890654525,
                  15740.887058783323
                 ]
                ]
               ],
               "type": "Polygon"
              },
              "id": "4",
              "properties": {
               "Nbrhood": "Southwest",
               "location": 5
              },
              "type": "Feature"
             },
             {
              "bbox": [
               -13350381.639764352,
               13934.524693090469,
               -13347300.0946397,
               18966.933133538812
              ],
              "geometry": {
               "coordinates": [
                [
                 [
                  -13347322.251569912,
                  13950.459630619735
                 ],
                 [
                  -13349992.252193099,
                  13934.524693090469
                 ],
                 [
                  -13350010.223927157,
                  15132.640296936035
                 ],
                 [
                  -13350381.639764352,
                  15138.63087495789
                 ],
                 [
                  -13350364.868000543,
                  17207.779929686338
                 ],
                 [
                  -13350076.841009393,
                  17204.90445223078
                 ],
                 [
                  -13349717.406328255,
                  17427.753954540938
                 ],
                 [
                  -13349357.971647117,
                  17990.468916457146
                 ],
                 [
                  -13349304.05644495,
                  18451.743423912674
                 ],
                 [
                  -13348962.59349787,
                  18954.951977510005
                 ],
                 [
                  -13348123.912575219,
                  18966.933133538812
                 ],
                 [
                  -13347300.0946397,
                  18764.775707941502
                 ],
                 [
                  -13347322.251569912,
                  13950.459630619735
                 ]
                ]
               ],
               "type": "Polygon"
              },
              "id": "5",
              "properties": {
               "Nbrhood": "Downtown",
               "location": 6
              },
              "type": "Feature"
             },
             {
              "bbox": [
               -13328287.772234162,
               6053.222041748464,
               -13326281.927027373,
               16367.30006049946
              ],
              "geometry": {
               "coordinates": [
                [
                 [
                  -13326281.927027373,
                  6053.222041748464
                 ],
                 [
                  -13328243.841328684,
                  6053.222041748464
                 ],
                 [
                  -13328287.772234162,
                  15427.877584110945
                 ],
                 [
                  -13326829.740426496,
                  16367.30006049946
                 ],
                 [
                  -13326283.399711132,
                  16022.242766585201
                 ],
                 [
                  -13326281.927027373,
                  6053.222041748464
                 ]
                ]
               ],
               "type": "Polygon"
              },
              "id": "6",
              "properties": {
               "Nbrhood": "Wilson Forest",
               "location": 7
              },
              "type": "Feature"
             },
             {
              "bbox": [
               -13336772.329994978,
               1419.691476520151,
               -13326281.927027373,
               6478.968046542257
              ],
              "geometry": {
               "coordinates": [
                [
                 [
                  -13326281.927027373,
                  6053.222041748464
                 ],
                 [
                  -13326284.924585544,
                  5389.747372850776
                 ],
                 [
                  -13329965.535720583,
                  4282.688554890454
                 ],
                 [
                  -13336454.829359954,
                  1419.691476520151
                 ],
                 [
                  -13336772.329994978,
                  1743.1826895549893
                 ],
                 [
                  -13336754.35826092,
                  2617.807080373168
                 ],
                 [
                  -13335658.082483398,
                  2611.816502351314
                 ],
                 [
                  -13334735.53346843,
                  3360.638754762709
                 ],
                 [
                  -13334244.306070847,
                  3612.2430315688252
                 ],
                 [
                  -13333747.088095248,
                  3612.2430315688252
                 ],
                 [
                  -13329956.250324655,
                  5740.096344020218
                 ],
                 [
                  -13329577.172296133,
                  5706.232937712222
                 ],
                 [
                  -13329589.15345217,
                  6029.724150754511
                 ],
                 [
                  -13329343.539753383,
                  6455.055190123618
                 ],
                 [
                  -13328245.836432122,
                  6478.968046542257
                 ],
                 [
                  -13328243.841328684,
                  6053.222041748464
                 ],
                 [
                  -13326281.927027373,
                  6053.222041748464
                 ]
                ]
               ],
               "type": "Polygon"
              },
              "id": "7",
              "properties": {
               "Nbrhood": "Scenic Vista",
               "location": 8
              },
              "type": "Feature"
             },
             {
              "bbox": [
               -13344586.416364064,
               949.7406152039766,
               -13335203.443902548,
               8852.860588606447
              ],
              "geometry": {
               "coordinates": [
                [
                 [
                  -13336454.829359954,
                  1419.691476520151
                 ],
                 [
                  -13336684.694192199,
                  1016.835089020431
                 ],
                 [
                  -13337930.73442021,
                  949.7406152039766
                 ],
                 [
                  -13339598.511340775,
                  1793.2140003181994
                 ],
                 [
                  -13340968.107240433,
                  2125.241787035018
                 ],
                 [
                  -13341399.428857816,
                  2664.393808770925
                 ],
                 [
                  -13341890.6562554,
                  4245.90640585497
                 ],
                 [
                  -13343472.168852484,
                  5779.494378790259
                 ],
                 [
                  -13344586.416364064,
                  6414.495648834854
                 ],
                 [
                  -13344298.868619142,
                  7133.365011144429
                 ],
                 [
                  -13344238.962838948,
                  8127.800962343812
                 ],
                 [
                  -13344382.736711409,
                  8690.915296152234
                 ],
                 [
                  -13343987.757934008,
                  8852.860588606447
                 ],
                 [
                  -13341078.493624715,
                  8793.81745165214
                 ],
                 [
                  -13341066.99171492,
                  7724.139840532094
                 ],
                 [
                  -13335203.443902548,
                  7716.247253987938
                 ],
                 [
                  -13335266.794265106,
                  5044.324653685093
                 ],
                 [
                  -13335477.662611384,
                  4799.909070491791
                 ],
                 [
                  -13336071.927950898,
                  4603.418111465871
                 ],
                 [
                  -13336474.494793795,
                  4469.2291638329625
                 ],
                 [
                  -13336704.532989737,
                  4224.813580647111
                 ],
                 [
                  -13336754.35826092,
                  2617.807080373168
                 ],
                 [
                  -13336772.329994978,
                  1743.1826895549893
                 ],
                 [
                  -13336454.829359954,
                  1419.691476520151
                 ]
                ]
               ],
               "type": "Polygon"
              },
              "id": "8",
              "properties": {
               "Nbrhood": "Broadview",
               "location": 9
              },
              "type": "Feature"
             },
             {
              "bbox": [
               -13336754.35826092,
               2611.816502351314,
               -13332861.510445183,
               9236.551839035004
              ],
              "geometry": {
               "coordinates": [
                [
                 [
                  -13335203.443902548,
                  7716.247253987938
                 ],
                 [
                  -13335278.736913722,
                  9236.551839035004
                 ],
                 [
                  -13332922.313096944,
                  9210.283154420555
                 ],
                 [
                  -13332861.510445183,
                  4109.330865491182
                 ],
                 [
                  -13333747.088095248,
                  3612.2430315688252
                 ],
                 [
                  -13334244.306070847,
                  3612.2430315688252
                 ],
                 [
                  -13334735.53346843,
                  3360.638754762709
                 ],
                 [
                  -13335658.082483398,
                  2611.816502351314
                 ],
                 [
                  -13336754.35826092,
                  2617.807080373168
                 ],
                 [
                  -13336704.532989737,
                  4224.813580647111
                 ],
                 [
                  -13336474.494793795,
                  4469.2291638329625
                 ],
                 [
                  -13335477.662611384,
                  4799.909070491791
                 ],
                 [
                  -13335266.794265106,
                  5044.324653688818
                 ],
                 [
                  -13335203.443902548,
                  7716.247253987938
                 ]
                ]
               ],
               "type": "Polygon"
              },
              "id": "9",
              "properties": {
               "Nbrhood": "Chapparal",
               "location": 10
              },
              "type": "Feature"
             },
             {
              "bbox": [
               -13332922.313096944,
               4109.330865491182,
               -13328245.836432122,
               9227.536083679646
              ],
              "geometry": {
               "coordinates": [
                [
                 [
                  -13332861.510445183,
                  4109.330865491182
                 ],
                 [
                  -13332922.313096944,
                  9210.283154420555
                 ],
                 [
                  -13328258.716594182,
                  9227.536083679646
                 ],
                 [
                  -13328245.836432122,
                  6478.968046542257
                 ],
                 [
                  -13329343.539753383,
                  6455.055190123618
                 ],
                 [
                  -13329589.15345217,
                  6029.724150754511
                 ],
                 [
                  -13329577.172296133,
                  5706.232937712222
                 ],
                 [
                  -13329956.250324655,
                  5740.096344023943
                 ],
                 [
                  -13332861.510445183,
                  4109.330865491182
                 ]
                ]
               ],
               "type": "Polygon"
              },
              "id": "10",
              "properties": {
               "Nbrhood": "Terrapin Springs",
               "location": 11
              },
              "type": "Feature"
             },
             {
              "bbox": [
               -13333633.54443903,
               9210.283154420555,
               -13328258.716594182,
               15252.81224732846
              ],
              "geometry": {
               "coordinates": [
                [
                 [
                  -13328258.716594182,
                  9227.536083679646
                 ],
                 [
                  -13332922.313096944,
                  9210.283154420555
                 ],
                 [
                  -13332978.001325656,
                  14174.827906638384
                 ],
                 [
                  -13333633.54443903,
                  14998.642822746187
                 ],
                 [
                  -13333128.655989265,
                  14994.019276894629
                 ],
                 [
                  -13332220.005115306,
                  15252.81224732846
                 ],
                 [
                  -13331958.165323649,
                  14978.044607464224
                 ],
                 [
                  -13330328.728102406,
                  13288.701606027782
                 ],
                 [
                  -13329202.499434777,
                  13025.116173177958
                 ],
                 [
                  -13328723.253193235,
                  13444.45663452521
                 ],
                 [
                  -13328723.253193235,
                  14295.118713267148
                 ],
                 [
                  -13328285.046019284,
                  14846.115721732378
                 ],
                 [
                  -13328258.716594182,
                  9227.536083679646
                 ]
                ]
               ],
               "type": "Polygon"
              },
              "id": "11",
              "properties": {
               "Nbrhood": "Pepper Mill",
               "location": 12
              },
              "type": "Feature"
             },
             {
              "bbox": [
               -13338406.19554747,
               7716.247253987938,
               -13332922.313096944,
               15028.610558889806
              ],
              "geometry": {
               "coordinates": [
                [
                 [
                  -13333633.54443903,
                  14998.642822746187
                 ],
                 [
                  -13332978.001325656,
                  14174.827906638384
                 ],
                 [
                  -13332922.313096944,
                  9210.283154420555
                 ],
                 [
                  -13335278.736913722,
                  9236.551839035004
                 ],
                 [
                  -13335203.443902548,
                  7716.247253987938
                 ],
                 [
                  -13338406.19554747,
                  7720.558294907212
                 ],
                 [
                  -13338394.216157876,
                  8438.11533505842
                 ],
                 [
                  -13338250.442285415,
                  8593.870363555849
                 ],
                 [
                  -13337843.082980104,
                  8605.851519595832
                 ],
                 [
                  -13337579.497547254,
                  8833.493484333158
                 ],
                 [
                  -13337624.929727884,
                  12305.058861088008
                 ],
                 [
                  -13336920.437752815,
                  13440.872453544289
                 ],
                 [
                  -13336906.003355103,
                  15028.610558889806
                 ],
                 [
                  -13333633.54443903,
                  14998.642822746187
                 ]
                ]
               ],
               "type": "Polygon"
              },
              "id": "12",
              "properties": {
               "Nbrhood": "Cheddarford",
               "location": 13
              },
              "type": "Feature"
             },
             {
              "bbox": [
               -13344655.637741333,
               15064.405022233725,
               -13339669.15037637,
               18673.308690719306
              ],
              "geometry": {
               "coordinates": [
                [
                 [
                  -13341132.317431018,
                  15067.313280094415
                 ],
                 [
                  -13344603.385225657,
                  15064.405022233725
                 ],
                 [
                  -13344617.043743549,
                  18337.057794172317
                 ],
                 [
                  -13344655.637741333,
                  18673.308690719306
                 ],
                 [
                  -13343879.25883004,
                  18391.51190070063
                 ],
                 [
                  -13342961.572055742,
                  18400.84455030784
                 ],
                 [
                  -13342372.099178655,
                  18206.749822482467
                 ],
                 [
                  -13342062.98535286,
                  18221.12720972672
                 ],
                 [
                  -13341272.229054319,
                  18487.108873780817
                 ],
                 [
                  -13339669.15037637,
                  18487.108873780817
                 ],
                 [
                  -13340320.629190205,
                  17400.020206775516
                 ],
                 [
                  -13341120.970413575,
                  16561.339284081012
                 ],
                 [
                  -13341132.317431018,
                  15067.313280094415
                 ]
                ]
               ],
               "type": "Polygon"
              },
              "id": "13",
              "properties": {
               "Nbrhood": "Easton",
               "location": 14
              },
              "type": "Feature"
             },
             {
              "bbox": [
               -13347316.97854499,
               15064.405022233725,
               -13344603.385225657,
               18788.73802002147
              ],
              "geometry": {
               "coordinates": [
                [
                 [
                  -13344655.637741333,
                  18673.308690719306
                 ],
                 [
                  -13344617.043743549,
                  18337.057794172317
                 ],
                 [
                  -13344603.385225657,
                  15064.405022233725
                 ],
                 [
                  -13347316.97854499,
                  15096.19635527581
                 ],
                 [
                  -13347300.0946397,
                  18764.775707941502
                 ],
                 [
                  -13346976.603426676,
                  18680.907615687698
                 ],
                 [
                  -13346227.781174313,
                  18788.73802002147
                 ],
                 [
                  -13345345.75232915,
                  18581.293412346393
                 ],
                 [
                  -13344655.637741333,
                  18673.308690719306
                 ]
                ]
               ],
               "type": "Polygon"
              },
              "id": "14",
              "properties": {
               "Nbrhood": "Weston",
               "location": 15
              },
              "type": "Feature"
             },
             {
              "bbox": [
               -13347316.97854499,
               10497.145950954407,
               -13344603.385225657,
               15096.19635527581
              ],
              "geometry": {
               "coordinates": [
                [
                 [
                  -13344603.385225657,
                  15064.405022233725
                 ],
                 [
                  -13344642.763242131,
                  10497.145950954407
                 ],
                 [
                  -13344724.736940756,
                  10595.735939837992
                 ],
                 [
                  -13345366.926904423,
                  11602.153047066182
                 ],
                 [
                  -13346680.06160625,
                  13097.40132067725
                 ],
                 [
                  -13347312.666645082,
                  13777.93098366633
                 ],
                 [
                  -13347316.97854499,
                  15096.19635527581
                 ],
                 [
                  -13344603.385225657,
                  15064.405022233725
                 ]
                ]
               ],
               "type": "Polygon"
              },
              "id": "15",
              "properties": {
               "Nbrhood": "Southton",
               "location": 16
              },
              "type": "Feature"
             },
             {
              "bbox": [
               -13344669.141488539,
               7720.558294907212,
               -13337579.497547254,
               11101.862514879555
              ],
              "geometry": {
               "coordinates": [
                [
                 [
                  -13344669.141488539,
                  9416.997867006809
                 ],
                 [
                  -13344426.07068303,
                  9376.789099343121
                 ],
                 [
                  -13343919.603254972,
                  9388.035411145538
                 ],
                 [
                  -13344015.45250328,
                  9742.677629888058
                 ],
                 [
                  -13344267.362770466,
                  10045.650789070874
                 ],
                 [
                  -13340801.609500708,
                  10044.325808536261
                 ],
                 [
                  -13339772.028825123,
                  10704.088134400547
                 ],
                 [
                  -13338276.780551504,
                  11101.862514879555
                 ],
                 [
                  -13338041.949893149,
                  10876.61678135395
                 ],
                 [
                  -13337605.917254657,
                  10852.277091346681
                 ],
                 [
                  -13337579.497547254,
                  8833.493484333158
                 ],
                 [
                  -13337843.082980104,
                  8605.851519595832
                 ],
                 [
                  -13338250.442285415,
                  8593.870363555849
                 ],
                 [
                  -13338394.216157876,
                  8438.11533505842
                 ],
                 [
                  -13338406.19554747,
                  7720.558294907212
                 ],
                 [
                  -13341066.99171492,
                  7724.139840532094
                 ],
                 [
                  -13341078.493624715,
                  8793.81745165214
                 ],
                 [
                  -13343987.757934008,
                  8852.860588606447
                 ],
                 [
                  -13344382.736711409,
                  8690.915296152234
                 ],
                 [
                  -13344669.141488539,
                  9416.997867006809
                 ]
                ]
               ],
               "type": "Polygon"
              },
              "id": "16",
              "properties": {
               "Nbrhood": "Oak Willow",
               "location": 17
              },
              "type": "Feature"
             },
             {
              "bbox": [
               -13341170.017549999,
               10044.325808536261,
               -13336906.003355103,
               15067.313280094415
              ],
              "geometry": {
               "coordinates": [
                [
                 [
                  -13341170.017549999,
                  10044.466653384268
                 ],
                 [
                  -13341132.317431018,
                  15067.313280094415
                 ],
                 [
                  -13336906.003355103,
                  15028.610558889806
                 ],
                 [
                  -13336920.437752815,
                  13440.872453544289
                 ],
                 [
                  -13337624.929727884,
                  12305.058861088008
                 ],
                 [
                  -13337605.917254657,
                  10852.277091346681
                 ],
                 [
                  -13338041.949893149,
                  10876.61678135395
                 ],
                 [
                  -13338276.780551504,
                  11101.862514879555
                 ],
                 [
                  -13339772.028825123,
                  10704.088134400547
                 ],
                 [
                  -13340801.609500708,
                  10044.325808536261
                 ],
                 [
                  -13341170.017549999,
                  10044.466653384268
                 ]
                ]
               ],
               "type": "Polygon"
              },
              "id": "17",
              "properties": {
               "Nbrhood": "East Parton",
               "location": 18
              },
              "type": "Feature"
             },
             {
              "bbox": [
               -13344642.763242131,
               10044.466653384268,
               -13341132.317431018,
               15067.313280094415
              ],
              "geometry": {
               "coordinates": [
                [
                 [
                  -13341132.317431018,
                  15067.313280094415
                 ],
                 [
                  -13341170.017549999,
                  10044.466653384268
                 ],
                 [
                  -13344267.362770466,
                  10045.650789070874
                 ],
                 [
                  -13344642.763242131,
                  10497.145950954407
                 ],
                 [
                  -13344603.385225657,
                  15064.405022233725
                 ],
                 [
                  -13341132.317431018,
                  15067.313280094415
                 ]
                ]
               ],
               "type": "Polygon"
              },
              "id": "18",
              "properties": {
               "Nbrhood": "West Parton",
               "location": 19
              },
              "type": "Feature"
             }
            ],
            "type": "FeatureCollection"
           },
           "hovertemplate": "<b>%{hovertext}</b><br><br>animation_frame=2020-04-09 22:40:00<br>_index=%{location}<br>sewer_and_water=%{z}<extra></extra>",
           "hovertext": [
            16
           ],
           "locations": [
            6
           ],
           "name": "",
           "type": "choropleth",
           "z": [
            6.5
           ]
          }
         ],
         "name": "2020-04-09 22:40:00"
        },
        {
         "data": [
          {
           "coloraxis": "coloraxis",
           "geo": "geo",
           "geojson": {
            "bbox": [
             -13356433.400213113,
             949.7406152039766,
             -13326281.927027373,
             25330.81290255487
            ],
            "features": [
             {
              "bbox": [
               -13356433.400213113,
               12757.579205360264,
               -13351491.341083687,
               22271.92544165626
              ],
              "geometry": {
               "coordinates": [
                [
                 [
                  -13351493.65584308,
                  17391.305680375546
                 ],
                 [
                  -13352311.805856697,
                  17400.277170021087
                 ],
                 [
                  -13352257.890654525,
                  15740.887058779597
                 ],
                 [
                  -13353294.260651799,
                  15369.471221614629
                 ],
                 [
                  -13354348.60238313,
                  12757.579205360264
                 ],
                 [
                  -13355594.64261106,
                  12877.390765737742
                 ],
                 [
                  -13355426.90642653,
                  13931.73249706626
                 ],
                 [
                  -13354684.074752187,
                  14123.430993683636
                 ],
                 [
                  -13354411.58013172,
                  15544.506326396018
                 ],
                 [
                  -13355025.614378663,
                  16682.71614999324
                 ],
                 [
                  -13356433.400213113,
                  16802.527710374445
                 ],
                 [
                  -13356433.400213113,
                  17296.750396937132
                 ],
                 [
                  -13355429.97839494,
                  17371.632622171193
                 ],
                 [
                  -13355729.507295888,
                  18015.619759209454
                 ],
                 [
                  -13356133.871312166,
                  19767.863829746842
                 ],
                 [
                  -13355819.365966171,
                  20606.54475240037
                 ],
                 [
                  -13355040.59082371,
                  21295.46122456342
                 ],
                 [
                  -13354306.74501639,
                  21624.94301560521
                 ],
                 [
                  -13353452.129156219,
                  22110.898704510182
                 ],
                 [
                  -13352790.769342927,
                  22271.92544165626
                 ],
                 [
                  -13351864.865604319,
                  22185.66111817211
                 ],
                 [
                  -13351491.341083687,
                  22229.943470899016
                 ],
                 [
                  -13351493.65584308,
                  17391.305680375546
                 ]
                ]
               ],
               "type": "Polygon"
              },
              "id": "0",
              "properties": {
               "Nbrhood": "Palace Hills",
               "location": 1
              },
              "type": "Feature"
             },
             {
              "bbox": [
               -13351493.65584308,
               17204.90445223078,
               -13346115.925101548,
               22628.675067204982
              ],
              "geometry": {
               "coordinates": [
                [
                 [
                  -13351493.65584308,
                  17391.305680375546
                 ],
                 [
                  -13351491.341083687,
                  22229.943470899016
                 ],
                 [
                  -13351179.176619865,
                  22490.652149640024
                 ],
                 [
                  -13350632.835904507,
                  22413.97275100276
                 ],
                 [
                  -13350642.420829345,
                  21858.04711080715
                 ],
                 [
                  -13349866.041918047,
                  22011.40590809658
                 ],
                 [
                  -13349578.494173124,
                  22308.53857785836
                 ],
                 [
                  -13349097.330946626,
                  22433.14260065183
                 ],
                 [
                  -13348090.913839394,
                  22628.675067204982
                 ],
                 [
                  -13347699.848906301,
                  22272.11586350575
                 ],
                 [
                  -13347115.168491626,
                  22371.319835502654
                 ],
                 [
                  -13346410.676516563,
                  22553.433407288045
                 ],
                 [
                  -13346300.689504128,
                  22340.168829794973
                 ],
                 [
                  -13346151.883546134,
                  22022.428571663797
                 ],
                 [
                  -13346115.925101548,
                  18770.910059832036
                 ],
                 [
                  -13346227.781174313,
                  18788.73802002147
                 ],
                 [
                  -13346976.60342668,
                  18680.907615687698
                 ],
                 [
                  -13347300.094639698,
                  18764.775707941502
                 ],
                 [
                  -13348123.912575217,
                  18966.933133535087
                 ],
                 [
                  -13348962.593497869,
                  18954.95197750628
                 ],
                 [
                  -13349304.056444949,
                  18451.743423912674
                 ],
                 [
                  -13349357.971647115,
                  17990.468916457146
                 ],
                 [
                  -13349576.02868701,
                  17660.18838166818
                 ],
                 [
                  -13349717.406328259,
                  17427.753954540938
                 ],
                 [
                  -13350076.841009395,
                  17204.90445223078
                 ],
                 [
                  -13350364.868000543,
                  17207.779929686338
                 ],
                 [
                  -13351485.106090086,
                  17274.47503162548
                 ],
                 [
                  -13351493.65584308,
                  17391.305680375546
                 ]
                ]
               ],
               "type": "Polygon"
              },
              "id": "1",
              "properties": {
               "Nbrhood": "Northwest",
               "location": 2
              },
              "type": "Feature"
             },
             {
              "bbox": [
               -13346410.676516563,
               18206.749822482467,
               -13337665.843480354,
               25330.81290255487
              ],
              "geometry": {
               "coordinates": [
                [
                 [
                  -13346410.676516563,
                  22553.433407288045
                 ],
                 [
                  -13346405.953036554,
                  23627.092513881624
                 ],
                 [
                  -13345800.90465661,
                  24100.348177406937
                 ],
                 [
                  -13344986.186045988,
                  24112.329333443195
                 ],
                 [
                  -13344062.438915428,
                  24736.547563046217
                 ],
                 [
                  -13342567.190641824,
                  25330.81290255487
                 ],
                 [
                  -13342490.51124318,
                  23931.41387725994
                 ],
                 [
                  -13342087.944400283,
                  23720.545530982316
                 ],
                 [
                  -13341167.79161653,
                  24084.77267454937
                 ],
                 [
                  -13340611.865976345,
                  23317.978688087314
                 ],
                 [
                  -13340036.7704865,
                  22301.976656023413
                 ],
                 [
                  -13339461.67499665,
                  22378.65605467558
                 ],
                 [
                  -13339557.524244959,
                  23126.280191473663
                 ],
                 [
                  -13339960.091087848,
                  23605.526433009654
                 ],
                 [
                  -13339730.052891914,
                  24161.452073201537
                 ],
                 [
                  -13339825.902140222,
                  24832.396811354905
                 ],
                 [
                  -13338177.295069322,
                  24947.41590932384
                 ],
                 [
                  -13338138.95537,
                  24180.62192285806
                 ],
                 [
                  -13337755.558376769,
                  23739.71538064629
                 ],
                 [
                  -13337665.843480354,
                  23538.892035592347
                 ],
                 [
                  -13338384.04431837,
                  21161.622399073094
                 ],
                 [
                  -13338527.818190832,
                  20298.979164298624
                 ],
                 [
                  -13339129.998354634,
                  19450.39381927997
                 ],
                 [
                  -13339669.15037637,
                  18487.108873780817
                 ],
                 [
                  -13341272.229054319,
                  18487.108873780817
                 ],
                 [
                  -13342062.98535286,
                  18221.12720972672
                 ],
                 [
                  -13342372.099178655,
                  18206.749822482467
                 ],
                 [
                  -13342961.572055742,
                  18400.84455030784
                 ],
                 [
                  -13343879.25883004,
                  18391.51190070063
                 ],
                 [
                  -13344655.637741333,
                  18673.308690719306
                 ],
                 [
                  -13345345.75232915,
                  18581.293412346393
                 ],
                 [
                  -13346115.925101547,
                  18770.91005983576
                 ],
                 [
                  -13346151.883546134,
                  22022.428571663797
                 ],
                 [
                  -13346410.676516563,
                  22553.433407288045
                 ]
                ]
               ],
               "type": "Polygon"
              },
              "id": "2",
              "properties": {
               "Nbrhood": "Old Town",
               "location": 3
              },
              "type": "Feature"
             },
             {
              "bbox": [
               -13341132.317431018,
               14994.019276894629,
               -13331620.308318393,
               24272.240581881255
              ],
              "geometry": {
               "coordinates": [
                [
                 [
                  -13337755.558376769,
                  23739.71538064629
                 ],
                 [
                  -13337518.91470274,
                  24272.240581881255
                 ],
                 [
                  -13337263.716079118,
                  24203.94799246639
                 ],
                 [
                  -13337102.836912887,
                  23453.836101733148
                 ],
                 [
                  -13335365.569287306,
                  21446.992465287447
                 ],
                 [
                  -13335754.956858559,
                  21207.36934451759
                 ],
                 [
                  -13335545.286627889,
                  20937.79333365336
                 ],
                 [
                  -13334676.652815094,
                  21087.557784136385
                 ],
                 [
                  -13333519.720922353,
                  22198.368277214468
                 ],
                 [
                  -13333270.512876753,
                  21920.40545712039
                 ],
                 [
                  -13334018.137013558,
                  20866.063725735992
                 ],
                 [
                  -13333414.286749214,
                  20252.628536563367
                 ],
                 [
                  -13333883.948065925,
                  19945.910941977054
                 ],
                 [
                  -13333155.493778786,
                  18910.73906024918
                 ],
                 [
                  -13333136.323929127,
                  17837.22747920081
                 ],
                 [
                  -13333225.78322755,
                  17473.000335633755
                 ],
                 [
                  -13332866.348546397,
                  16873.94253370911
                 ],
                 [
                  -13332602.763113547,
                  16250.922419708222
                 ],
                 [
                  -13331620.308318393,
                  15987.336986858398
                 ],
                 [
                  -13332219.366120316,
                  15508.090745322406
                 ],
                 [
                  -13332220.005115306,
                  15252.81224732846
                 ],
                 [
                  -13333128.655989265,
                  14994.019276894629
                 ],
                 [
                  -13341132.317431018,
                  15067.313280094415
                 ],
                 [
                  -13341120.970413575,
                  16561.339284081012
                 ],
                 [
                  -13340320.629190205,
                  17400.020206775516
                 ],
                 [
                  -13339669.15037637,
                  18487.108873780817
                 ],
                 [
                  -13339129.998354634,
                  19450.39381927997
                 ],
                 [
                  -13338527.818190832,
                  20298.979164298624
                 ],
                 [
                  -13338384.04431837,
                  21161.622399073094
                 ],
                 [
                  -13337665.843480354,
                  23538.892035592347
                 ],
                 [
                  -13337755.558376769,
                  23739.71538064629
                 ]
                ]
               ],
               "type": "Polygon"
              },
              "id": "3",
              "properties": {
               "Nbrhood": "Safe Town",
               "location": 4
              },
              "type": "Feature"
             },
             {
              "bbox": [
               -13352311.805856697,
               9376.789099343121,
               -13343919.603254972,
               17400.277170024812
              ],
              "geometry": {
               "coordinates": [
                [
                 [
                  -13352257.890654525,
                  15740.887058783323
                 ],
                 [
                  -13352311.805856697,
                  17400.277170024812
                 ],
                 [
                  -13351493.655843081,
                  17391.30568037927
                 ],
                 [
                  -13351485.106090082,
                  17274.475031629205
                 ],
                 [
                  -13350364.868000543,
                  17207.779929686338
                 ],
                 [
                  -13350381.639764352,
                  15138.63087495789
                 ],
                 [
                  -13350010.223927157,
                  15132.640296936035
                 ],
                 [
                  -13349992.252193099,
                  13934.524693090469
                 ],
                 [
                  -13347322.251569912,
                  13950.459630619735
                 ],
                 [
                  -13347312.666645082,
                  13777.93098366633
                 ],
                 [
                  -13346680.06160625,
                  13097.40132067725
                 ],
                 [
                  -13345366.926904423,
                  11602.153047066182
                 ],
                 [
                  -13344724.736940756,
                  10595.735939834267
                 ],
                 [
                  -13344015.45250328,
                  9742.677629888058
                 ],
                 [
                  -13343919.603254972,
                  9388.035411145538
                 ],
                 [
                  -13344426.07068303,
                  9376.789099343121
                 ],
                 [
                  -13346326.793226724,
                  9691.206583544612
                 ],
                 [
                  -13348291.702817041,
                  10805.454095125198
                 ],
                 [
                  -13349358.025704462,
                  11009.133747778833
                 ],
                 [
                  -13351779.417339833,
                  12790.132592901587
                 ],
                 [
                  -13352261.059812574,
                  14040.965283319354
                 ],
                 [
                  -13351944.75729316,
                  15730.30828474462
                 ],
                 [
                  -13352257.890654525,
                  15740.887058783323
                 ]
                ]
               ],
               "type": "Polygon"
              },
              "id": "4",
              "properties": {
               "Nbrhood": "Southwest",
               "location": 5
              },
              "type": "Feature"
             },
             {
              "bbox": [
               -13350381.639764352,
               13934.524693090469,
               -13347300.0946397,
               18966.933133538812
              ],
              "geometry": {
               "coordinates": [
                [
                 [
                  -13347322.251569912,
                  13950.459630619735
                 ],
                 [
                  -13349992.252193099,
                  13934.524693090469
                 ],
                 [
                  -13350010.223927157,
                  15132.640296936035
                 ],
                 [
                  -13350381.639764352,
                  15138.63087495789
                 ],
                 [
                  -13350364.868000543,
                  17207.779929686338
                 ],
                 [
                  -13350076.841009393,
                  17204.90445223078
                 ],
                 [
                  -13349717.406328255,
                  17427.753954540938
                 ],
                 [
                  -13349357.971647117,
                  17990.468916457146
                 ],
                 [
                  -13349304.05644495,
                  18451.743423912674
                 ],
                 [
                  -13348962.59349787,
                  18954.951977510005
                 ],
                 [
                  -13348123.912575219,
                  18966.933133538812
                 ],
                 [
                  -13347300.0946397,
                  18764.775707941502
                 ],
                 [
                  -13347322.251569912,
                  13950.459630619735
                 ]
                ]
               ],
               "type": "Polygon"
              },
              "id": "5",
              "properties": {
               "Nbrhood": "Downtown",
               "location": 6
              },
              "type": "Feature"
             },
             {
              "bbox": [
               -13328287.772234162,
               6053.222041748464,
               -13326281.927027373,
               16367.30006049946
              ],
              "geometry": {
               "coordinates": [
                [
                 [
                  -13326281.927027373,
                  6053.222041748464
                 ],
                 [
                  -13328243.841328684,
                  6053.222041748464
                 ],
                 [
                  -13328287.772234162,
                  15427.877584110945
                 ],
                 [
                  -13326829.740426496,
                  16367.30006049946
                 ],
                 [
                  -13326283.399711132,
                  16022.242766585201
                 ],
                 [
                  -13326281.927027373,
                  6053.222041748464
                 ]
                ]
               ],
               "type": "Polygon"
              },
              "id": "6",
              "properties": {
               "Nbrhood": "Wilson Forest",
               "location": 7
              },
              "type": "Feature"
             },
             {
              "bbox": [
               -13336772.329994978,
               1419.691476520151,
               -13326281.927027373,
               6478.968046542257
              ],
              "geometry": {
               "coordinates": [
                [
                 [
                  -13326281.927027373,
                  6053.222041748464
                 ],
                 [
                  -13326284.924585544,
                  5389.747372850776
                 ],
                 [
                  -13329965.535720583,
                  4282.688554890454
                 ],
                 [
                  -13336454.829359954,
                  1419.691476520151
                 ],
                 [
                  -13336772.329994978,
                  1743.1826895549893
                 ],
                 [
                  -13336754.35826092,
                  2617.807080373168
                 ],
                 [
                  -13335658.082483398,
                  2611.816502351314
                 ],
                 [
                  -13334735.53346843,
                  3360.638754762709
                 ],
                 [
                  -13334244.306070847,
                  3612.2430315688252
                 ],
                 [
                  -13333747.088095248,
                  3612.2430315688252
                 ],
                 [
                  -13329956.250324655,
                  5740.096344020218
                 ],
                 [
                  -13329577.172296133,
                  5706.232937712222
                 ],
                 [
                  -13329589.15345217,
                  6029.724150754511
                 ],
                 [
                  -13329343.539753383,
                  6455.055190123618
                 ],
                 [
                  -13328245.836432122,
                  6478.968046542257
                 ],
                 [
                  -13328243.841328684,
                  6053.222041748464
                 ],
                 [
                  -13326281.927027373,
                  6053.222041748464
                 ]
                ]
               ],
               "type": "Polygon"
              },
              "id": "7",
              "properties": {
               "Nbrhood": "Scenic Vista",
               "location": 8
              },
              "type": "Feature"
             },
             {
              "bbox": [
               -13344586.416364064,
               949.7406152039766,
               -13335203.443902548,
               8852.860588606447
              ],
              "geometry": {
               "coordinates": [
                [
                 [
                  -13336454.829359954,
                  1419.691476520151
                 ],
                 [
                  -13336684.694192199,
                  1016.835089020431
                 ],
                 [
                  -13337930.73442021,
                  949.7406152039766
                 ],
                 [
                  -13339598.511340775,
                  1793.2140003181994
                 ],
                 [
                  -13340968.107240433,
                  2125.241787035018
                 ],
                 [
                  -13341399.428857816,
                  2664.393808770925
                 ],
                 [
                  -13341890.6562554,
                  4245.90640585497
                 ],
                 [
                  -13343472.168852484,
                  5779.494378790259
                 ],
                 [
                  -13344586.416364064,
                  6414.495648834854
                 ],
                 [
                  -13344298.868619142,
                  7133.365011144429
                 ],
                 [
                  -13344238.962838948,
                  8127.800962343812
                 ],
                 [
                  -13344382.736711409,
                  8690.915296152234
                 ],
                 [
                  -13343987.757934008,
                  8852.860588606447
                 ],
                 [
                  -13341078.493624715,
                  8793.81745165214
                 ],
                 [
                  -13341066.99171492,
                  7724.139840532094
                 ],
                 [
                  -13335203.443902548,
                  7716.247253987938
                 ],
                 [
                  -13335266.794265106,
                  5044.324653685093
                 ],
                 [
                  -13335477.662611384,
                  4799.909070491791
                 ],
                 [
                  -13336071.927950898,
                  4603.418111465871
                 ],
                 [
                  -13336474.494793795,
                  4469.2291638329625
                 ],
                 [
                  -13336704.532989737,
                  4224.813580647111
                 ],
                 [
                  -13336754.35826092,
                  2617.807080373168
                 ],
                 [
                  -13336772.329994978,
                  1743.1826895549893
                 ],
                 [
                  -13336454.829359954,
                  1419.691476520151
                 ]
                ]
               ],
               "type": "Polygon"
              },
              "id": "8",
              "properties": {
               "Nbrhood": "Broadview",
               "location": 9
              },
              "type": "Feature"
             },
             {
              "bbox": [
               -13336754.35826092,
               2611.816502351314,
               -13332861.510445183,
               9236.551839035004
              ],
              "geometry": {
               "coordinates": [
                [
                 [
                  -13335203.443902548,
                  7716.247253987938
                 ],
                 [
                  -13335278.736913722,
                  9236.551839035004
                 ],
                 [
                  -13332922.313096944,
                  9210.283154420555
                 ],
                 [
                  -13332861.510445183,
                  4109.330865491182
                 ],
                 [
                  -13333747.088095248,
                  3612.2430315688252
                 ],
                 [
                  -13334244.306070847,
                  3612.2430315688252
                 ],
                 [
                  -13334735.53346843,
                  3360.638754762709
                 ],
                 [
                  -13335658.082483398,
                  2611.816502351314
                 ],
                 [
                  -13336754.35826092,
                  2617.807080373168
                 ],
                 [
                  -13336704.532989737,
                  4224.813580647111
                 ],
                 [
                  -13336474.494793795,
                  4469.2291638329625
                 ],
                 [
                  -13335477.662611384,
                  4799.909070491791
                 ],
                 [
                  -13335266.794265106,
                  5044.324653688818
                 ],
                 [
                  -13335203.443902548,
                  7716.247253987938
                 ]
                ]
               ],
               "type": "Polygon"
              },
              "id": "9",
              "properties": {
               "Nbrhood": "Chapparal",
               "location": 10
              },
              "type": "Feature"
             },
             {
              "bbox": [
               -13332922.313096944,
               4109.330865491182,
               -13328245.836432122,
               9227.536083679646
              ],
              "geometry": {
               "coordinates": [
                [
                 [
                  -13332861.510445183,
                  4109.330865491182
                 ],
                 [
                  -13332922.313096944,
                  9210.283154420555
                 ],
                 [
                  -13328258.716594182,
                  9227.536083679646
                 ],
                 [
                  -13328245.836432122,
                  6478.968046542257
                 ],
                 [
                  -13329343.539753383,
                  6455.055190123618
                 ],
                 [
                  -13329589.15345217,
                  6029.724150754511
                 ],
                 [
                  -13329577.172296133,
                  5706.232937712222
                 ],
                 [
                  -13329956.250324655,
                  5740.096344023943
                 ],
                 [
                  -13332861.510445183,
                  4109.330865491182
                 ]
                ]
               ],
               "type": "Polygon"
              },
              "id": "10",
              "properties": {
               "Nbrhood": "Terrapin Springs",
               "location": 11
              },
              "type": "Feature"
             },
             {
              "bbox": [
               -13333633.54443903,
               9210.283154420555,
               -13328258.716594182,
               15252.81224732846
              ],
              "geometry": {
               "coordinates": [
                [
                 [
                  -13328258.716594182,
                  9227.536083679646
                 ],
                 [
                  -13332922.313096944,
                  9210.283154420555
                 ],
                 [
                  -13332978.001325656,
                  14174.827906638384
                 ],
                 [
                  -13333633.54443903,
                  14998.642822746187
                 ],
                 [
                  -13333128.655989265,
                  14994.019276894629
                 ],
                 [
                  -13332220.005115306,
                  15252.81224732846
                 ],
                 [
                  -13331958.165323649,
                  14978.044607464224
                 ],
                 [
                  -13330328.728102406,
                  13288.701606027782
                 ],
                 [
                  -13329202.499434777,
                  13025.116173177958
                 ],
                 [
                  -13328723.253193235,
                  13444.45663452521
                 ],
                 [
                  -13328723.253193235,
                  14295.118713267148
                 ],
                 [
                  -13328285.046019284,
                  14846.115721732378
                 ],
                 [
                  -13328258.716594182,
                  9227.536083679646
                 ]
                ]
               ],
               "type": "Polygon"
              },
              "id": "11",
              "properties": {
               "Nbrhood": "Pepper Mill",
               "location": 12
              },
              "type": "Feature"
             },
             {
              "bbox": [
               -13338406.19554747,
               7716.247253987938,
               -13332922.313096944,
               15028.610558889806
              ],
              "geometry": {
               "coordinates": [
                [
                 [
                  -13333633.54443903,
                  14998.642822746187
                 ],
                 [
                  -13332978.001325656,
                  14174.827906638384
                 ],
                 [
                  -13332922.313096944,
                  9210.283154420555
                 ],
                 [
                  -13335278.736913722,
                  9236.551839035004
                 ],
                 [
                  -13335203.443902548,
                  7716.247253987938
                 ],
                 [
                  -13338406.19554747,
                  7720.558294907212
                 ],
                 [
                  -13338394.216157876,
                  8438.11533505842
                 ],
                 [
                  -13338250.442285415,
                  8593.870363555849
                 ],
                 [
                  -13337843.082980104,
                  8605.851519595832
                 ],
                 [
                  -13337579.497547254,
                  8833.493484333158
                 ],
                 [
                  -13337624.929727884,
                  12305.058861088008
                 ],
                 [
                  -13336920.437752815,
                  13440.872453544289
                 ],
                 [
                  -13336906.003355103,
                  15028.610558889806
                 ],
                 [
                  -13333633.54443903,
                  14998.642822746187
                 ]
                ]
               ],
               "type": "Polygon"
              },
              "id": "12",
              "properties": {
               "Nbrhood": "Cheddarford",
               "location": 13
              },
              "type": "Feature"
             },
             {
              "bbox": [
               -13344655.637741333,
               15064.405022233725,
               -13339669.15037637,
               18673.308690719306
              ],
              "geometry": {
               "coordinates": [
                [
                 [
                  -13341132.317431018,
                  15067.313280094415
                 ],
                 [
                  -13344603.385225657,
                  15064.405022233725
                 ],
                 [
                  -13344617.043743549,
                  18337.057794172317
                 ],
                 [
                  -13344655.637741333,
                  18673.308690719306
                 ],
                 [
                  -13343879.25883004,
                  18391.51190070063
                 ],
                 [
                  -13342961.572055742,
                  18400.84455030784
                 ],
                 [
                  -13342372.099178655,
                  18206.749822482467
                 ],
                 [
                  -13342062.98535286,
                  18221.12720972672
                 ],
                 [
                  -13341272.229054319,
                  18487.108873780817
                 ],
                 [
                  -13339669.15037637,
                  18487.108873780817
                 ],
                 [
                  -13340320.629190205,
                  17400.020206775516
                 ],
                 [
                  -13341120.970413575,
                  16561.339284081012
                 ],
                 [
                  -13341132.317431018,
                  15067.313280094415
                 ]
                ]
               ],
               "type": "Polygon"
              },
              "id": "13",
              "properties": {
               "Nbrhood": "Easton",
               "location": 14
              },
              "type": "Feature"
             },
             {
              "bbox": [
               -13347316.97854499,
               15064.405022233725,
               -13344603.385225657,
               18788.73802002147
              ],
              "geometry": {
               "coordinates": [
                [
                 [
                  -13344655.637741333,
                  18673.308690719306
                 ],
                 [
                  -13344617.043743549,
                  18337.057794172317
                 ],
                 [
                  -13344603.385225657,
                  15064.405022233725
                 ],
                 [
                  -13347316.97854499,
                  15096.19635527581
                 ],
                 [
                  -13347300.0946397,
                  18764.775707941502
                 ],
                 [
                  -13346976.603426676,
                  18680.907615687698
                 ],
                 [
                  -13346227.781174313,
                  18788.73802002147
                 ],
                 [
                  -13345345.75232915,
                  18581.293412346393
                 ],
                 [
                  -13344655.637741333,
                  18673.308690719306
                 ]
                ]
               ],
               "type": "Polygon"
              },
              "id": "14",
              "properties": {
               "Nbrhood": "Weston",
               "location": 15
              },
              "type": "Feature"
             },
             {
              "bbox": [
               -13347316.97854499,
               10497.145950954407,
               -13344603.385225657,
               15096.19635527581
              ],
              "geometry": {
               "coordinates": [
                [
                 [
                  -13344603.385225657,
                  15064.405022233725
                 ],
                 [
                  -13344642.763242131,
                  10497.145950954407
                 ],
                 [
                  -13344724.736940756,
                  10595.735939837992
                 ],
                 [
                  -13345366.926904423,
                  11602.153047066182
                 ],
                 [
                  -13346680.06160625,
                  13097.40132067725
                 ],
                 [
                  -13347312.666645082,
                  13777.93098366633
                 ],
                 [
                  -13347316.97854499,
                  15096.19635527581
                 ],
                 [
                  -13344603.385225657,
                  15064.405022233725
                 ]
                ]
               ],
               "type": "Polygon"
              },
              "id": "15",
              "properties": {
               "Nbrhood": "Southton",
               "location": 16
              },
              "type": "Feature"
             },
             {
              "bbox": [
               -13344669.141488539,
               7720.558294907212,
               -13337579.497547254,
               11101.862514879555
              ],
              "geometry": {
               "coordinates": [
                [
                 [
                  -13344669.141488539,
                  9416.997867006809
                 ],
                 [
                  -13344426.07068303,
                  9376.789099343121
                 ],
                 [
                  -13343919.603254972,
                  9388.035411145538
                 ],
                 [
                  -13344015.45250328,
                  9742.677629888058
                 ],
                 [
                  -13344267.362770466,
                  10045.650789070874
                 ],
                 [
                  -13340801.609500708,
                  10044.325808536261
                 ],
                 [
                  -13339772.028825123,
                  10704.088134400547
                 ],
                 [
                  -13338276.780551504,
                  11101.862514879555
                 ],
                 [
                  -13338041.949893149,
                  10876.61678135395
                 ],
                 [
                  -13337605.917254657,
                  10852.277091346681
                 ],
                 [
                  -13337579.497547254,
                  8833.493484333158
                 ],
                 [
                  -13337843.082980104,
                  8605.851519595832
                 ],
                 [
                  -13338250.442285415,
                  8593.870363555849
                 ],
                 [
                  -13338394.216157876,
                  8438.11533505842
                 ],
                 [
                  -13338406.19554747,
                  7720.558294907212
                 ],
                 [
                  -13341066.99171492,
                  7724.139840532094
                 ],
                 [
                  -13341078.493624715,
                  8793.81745165214
                 ],
                 [
                  -13343987.757934008,
                  8852.860588606447
                 ],
                 [
                  -13344382.736711409,
                  8690.915296152234
                 ],
                 [
                  -13344669.141488539,
                  9416.997867006809
                 ]
                ]
               ],
               "type": "Polygon"
              },
              "id": "16",
              "properties": {
               "Nbrhood": "Oak Willow",
               "location": 17
              },
              "type": "Feature"
             },
             {
              "bbox": [
               -13341170.017549999,
               10044.325808536261,
               -13336906.003355103,
               15067.313280094415
              ],
              "geometry": {
               "coordinates": [
                [
                 [
                  -13341170.017549999,
                  10044.466653384268
                 ],
                 [
                  -13341132.317431018,
                  15067.313280094415
                 ],
                 [
                  -13336906.003355103,
                  15028.610558889806
                 ],
                 [
                  -13336920.437752815,
                  13440.872453544289
                 ],
                 [
                  -13337624.929727884,
                  12305.058861088008
                 ],
                 [
                  -13337605.917254657,
                  10852.277091346681
                 ],
                 [
                  -13338041.949893149,
                  10876.61678135395
                 ],
                 [
                  -13338276.780551504,
                  11101.862514879555
                 ],
                 [
                  -13339772.028825123,
                  10704.088134400547
                 ],
                 [
                  -13340801.609500708,
                  10044.325808536261
                 ],
                 [
                  -13341170.017549999,
                  10044.466653384268
                 ]
                ]
               ],
               "type": "Polygon"
              },
              "id": "17",
              "properties": {
               "Nbrhood": "East Parton",
               "location": 18
              },
              "type": "Feature"
             },
             {
              "bbox": [
               -13344642.763242131,
               10044.466653384268,
               -13341132.317431018,
               15067.313280094415
              ],
              "geometry": {
               "coordinates": [
                [
                 [
                  -13341132.317431018,
                  15067.313280094415
                 ],
                 [
                  -13341170.017549999,
                  10044.466653384268
                 ],
                 [
                  -13344267.362770466,
                  10045.650789070874
                 ],
                 [
                  -13344642.763242131,
                  10497.145950954407
                 ],
                 [
                  -13344603.385225657,
                  15064.405022233725
                 ],
                 [
                  -13341132.317431018,
                  15067.313280094415
                 ]
                ]
               ],
               "type": "Polygon"
              },
              "id": "18",
              "properties": {
               "Nbrhood": "West Parton",
               "location": 19
              },
              "type": "Feature"
             }
            ],
            "type": "FeatureCollection"
           },
           "hovertemplate": "<b>%{hovertext}</b><br><br>animation_frame=2020-04-10 09:20:00<br>_index=%{location}<br>sewer_and_water=%{z}<extra></extra>",
           "hovertext": [
            6
           ],
           "locations": [
            7
           ],
           "name": "",
           "type": "choropleth",
           "z": [
            10
           ]
          }
         ],
         "name": "2020-04-10 09:20:00"
        },
        {
         "data": [
          {
           "coloraxis": "coloraxis",
           "geo": "geo",
           "geojson": {
            "bbox": [
             -13356433.400213113,
             949.7406152039766,
             -13326281.927027373,
             25330.81290255487
            ],
            "features": [
             {
              "bbox": [
               -13356433.400213113,
               12757.579205360264,
               -13351491.341083687,
               22271.92544165626
              ],
              "geometry": {
               "coordinates": [
                [
                 [
                  -13351493.65584308,
                  17391.305680375546
                 ],
                 [
                  -13352311.805856697,
                  17400.277170021087
                 ],
                 [
                  -13352257.890654525,
                  15740.887058779597
                 ],
                 [
                  -13353294.260651799,
                  15369.471221614629
                 ],
                 [
                  -13354348.60238313,
                  12757.579205360264
                 ],
                 [
                  -13355594.64261106,
                  12877.390765737742
                 ],
                 [
                  -13355426.90642653,
                  13931.73249706626
                 ],
                 [
                  -13354684.074752187,
                  14123.430993683636
                 ],
                 [
                  -13354411.58013172,
                  15544.506326396018
                 ],
                 [
                  -13355025.614378663,
                  16682.71614999324
                 ],
                 [
                  -13356433.400213113,
                  16802.527710374445
                 ],
                 [
                  -13356433.400213113,
                  17296.750396937132
                 ],
                 [
                  -13355429.97839494,
                  17371.632622171193
                 ],
                 [
                  -13355729.507295888,
                  18015.619759209454
                 ],
                 [
                  -13356133.871312166,
                  19767.863829746842
                 ],
                 [
                  -13355819.365966171,
                  20606.54475240037
                 ],
                 [
                  -13355040.59082371,
                  21295.46122456342
                 ],
                 [
                  -13354306.74501639,
                  21624.94301560521
                 ],
                 [
                  -13353452.129156219,
                  22110.898704510182
                 ],
                 [
                  -13352790.769342927,
                  22271.92544165626
                 ],
                 [
                  -13351864.865604319,
                  22185.66111817211
                 ],
                 [
                  -13351491.341083687,
                  22229.943470899016
                 ],
                 [
                  -13351493.65584308,
                  17391.305680375546
                 ]
                ]
               ],
               "type": "Polygon"
              },
              "id": "0",
              "properties": {
               "Nbrhood": "Palace Hills",
               "location": 1
              },
              "type": "Feature"
             },
             {
              "bbox": [
               -13351493.65584308,
               17204.90445223078,
               -13346115.925101548,
               22628.675067204982
              ],
              "geometry": {
               "coordinates": [
                [
                 [
                  -13351493.65584308,
                  17391.305680375546
                 ],
                 [
                  -13351491.341083687,
                  22229.943470899016
                 ],
                 [
                  -13351179.176619865,
                  22490.652149640024
                 ],
                 [
                  -13350632.835904507,
                  22413.97275100276
                 ],
                 [
                  -13350642.420829345,
                  21858.04711080715
                 ],
                 [
                  -13349866.041918047,
                  22011.40590809658
                 ],
                 [
                  -13349578.494173124,
                  22308.53857785836
                 ],
                 [
                  -13349097.330946626,
                  22433.14260065183
                 ],
                 [
                  -13348090.913839394,
                  22628.675067204982
                 ],
                 [
                  -13347699.848906301,
                  22272.11586350575
                 ],
                 [
                  -13347115.168491626,
                  22371.319835502654
                 ],
                 [
                  -13346410.676516563,
                  22553.433407288045
                 ],
                 [
                  -13346300.689504128,
                  22340.168829794973
                 ],
                 [
                  -13346151.883546134,
                  22022.428571663797
                 ],
                 [
                  -13346115.925101548,
                  18770.910059832036
                 ],
                 [
                  -13346227.781174313,
                  18788.73802002147
                 ],
                 [
                  -13346976.60342668,
                  18680.907615687698
                 ],
                 [
                  -13347300.094639698,
                  18764.775707941502
                 ],
                 [
                  -13348123.912575217,
                  18966.933133535087
                 ],
                 [
                  -13348962.593497869,
                  18954.95197750628
                 ],
                 [
                  -13349304.056444949,
                  18451.743423912674
                 ],
                 [
                  -13349357.971647115,
                  17990.468916457146
                 ],
                 [
                  -13349576.02868701,
                  17660.18838166818
                 ],
                 [
                  -13349717.406328259,
                  17427.753954540938
                 ],
                 [
                  -13350076.841009395,
                  17204.90445223078
                 ],
                 [
                  -13350364.868000543,
                  17207.779929686338
                 ],
                 [
                  -13351485.106090086,
                  17274.47503162548
                 ],
                 [
                  -13351493.65584308,
                  17391.305680375546
                 ]
                ]
               ],
               "type": "Polygon"
              },
              "id": "1",
              "properties": {
               "Nbrhood": "Northwest",
               "location": 2
              },
              "type": "Feature"
             },
             {
              "bbox": [
               -13346410.676516563,
               18206.749822482467,
               -13337665.843480354,
               25330.81290255487
              ],
              "geometry": {
               "coordinates": [
                [
                 [
                  -13346410.676516563,
                  22553.433407288045
                 ],
                 [
                  -13346405.953036554,
                  23627.092513881624
                 ],
                 [
                  -13345800.90465661,
                  24100.348177406937
                 ],
                 [
                  -13344986.186045988,
                  24112.329333443195
                 ],
                 [
                  -13344062.438915428,
                  24736.547563046217
                 ],
                 [
                  -13342567.190641824,
                  25330.81290255487
                 ],
                 [
                  -13342490.51124318,
                  23931.41387725994
                 ],
                 [
                  -13342087.944400283,
                  23720.545530982316
                 ],
                 [
                  -13341167.79161653,
                  24084.77267454937
                 ],
                 [
                  -13340611.865976345,
                  23317.978688087314
                 ],
                 [
                  -13340036.7704865,
                  22301.976656023413
                 ],
                 [
                  -13339461.67499665,
                  22378.65605467558
                 ],
                 [
                  -13339557.524244959,
                  23126.280191473663
                 ],
                 [
                  -13339960.091087848,
                  23605.526433009654
                 ],
                 [
                  -13339730.052891914,
                  24161.452073201537
                 ],
                 [
                  -13339825.902140222,
                  24832.396811354905
                 ],
                 [
                  -13338177.295069322,
                  24947.41590932384
                 ],
                 [
                  -13338138.95537,
                  24180.62192285806
                 ],
                 [
                  -13337755.558376769,
                  23739.71538064629
                 ],
                 [
                  -13337665.843480354,
                  23538.892035592347
                 ],
                 [
                  -13338384.04431837,
                  21161.622399073094
                 ],
                 [
                  -13338527.818190832,
                  20298.979164298624
                 ],
                 [
                  -13339129.998354634,
                  19450.39381927997
                 ],
                 [
                  -13339669.15037637,
                  18487.108873780817
                 ],
                 [
                  -13341272.229054319,
                  18487.108873780817
                 ],
                 [
                  -13342062.98535286,
                  18221.12720972672
                 ],
                 [
                  -13342372.099178655,
                  18206.749822482467
                 ],
                 [
                  -13342961.572055742,
                  18400.84455030784
                 ],
                 [
                  -13343879.25883004,
                  18391.51190070063
                 ],
                 [
                  -13344655.637741333,
                  18673.308690719306
                 ],
                 [
                  -13345345.75232915,
                  18581.293412346393
                 ],
                 [
                  -13346115.925101547,
                  18770.91005983576
                 ],
                 [
                  -13346151.883546134,
                  22022.428571663797
                 ],
                 [
                  -13346410.676516563,
                  22553.433407288045
                 ]
                ]
               ],
               "type": "Polygon"
              },
              "id": "2",
              "properties": {
               "Nbrhood": "Old Town",
               "location": 3
              },
              "type": "Feature"
             },
             {
              "bbox": [
               -13341132.317431018,
               14994.019276894629,
               -13331620.308318393,
               24272.240581881255
              ],
              "geometry": {
               "coordinates": [
                [
                 [
                  -13337755.558376769,
                  23739.71538064629
                 ],
                 [
                  -13337518.91470274,
                  24272.240581881255
                 ],
                 [
                  -13337263.716079118,
                  24203.94799246639
                 ],
                 [
                  -13337102.836912887,
                  23453.836101733148
                 ],
                 [
                  -13335365.569287306,
                  21446.992465287447
                 ],
                 [
                  -13335754.956858559,
                  21207.36934451759
                 ],
                 [
                  -13335545.286627889,
                  20937.79333365336
                 ],
                 [
                  -13334676.652815094,
                  21087.557784136385
                 ],
                 [
                  -13333519.720922353,
                  22198.368277214468
                 ],
                 [
                  -13333270.512876753,
                  21920.40545712039
                 ],
                 [
                  -13334018.137013558,
                  20866.063725735992
                 ],
                 [
                  -13333414.286749214,
                  20252.628536563367
                 ],
                 [
                  -13333883.948065925,
                  19945.910941977054
                 ],
                 [
                  -13333155.493778786,
                  18910.73906024918
                 ],
                 [
                  -13333136.323929127,
                  17837.22747920081
                 ],
                 [
                  -13333225.78322755,
                  17473.000335633755
                 ],
                 [
                  -13332866.348546397,
                  16873.94253370911
                 ],
                 [
                  -13332602.763113547,
                  16250.922419708222
                 ],
                 [
                  -13331620.308318393,
                  15987.336986858398
                 ],
                 [
                  -13332219.366120316,
                  15508.090745322406
                 ],
                 [
                  -13332220.005115306,
                  15252.81224732846
                 ],
                 [
                  -13333128.655989265,
                  14994.019276894629
                 ],
                 [
                  -13341132.317431018,
                  15067.313280094415
                 ],
                 [
                  -13341120.970413575,
                  16561.339284081012
                 ],
                 [
                  -13340320.629190205,
                  17400.020206775516
                 ],
                 [
                  -13339669.15037637,
                  18487.108873780817
                 ],
                 [
                  -13339129.998354634,
                  19450.39381927997
                 ],
                 [
                  -13338527.818190832,
                  20298.979164298624
                 ],
                 [
                  -13338384.04431837,
                  21161.622399073094
                 ],
                 [
                  -13337665.843480354,
                  23538.892035592347
                 ],
                 [
                  -13337755.558376769,
                  23739.71538064629
                 ]
                ]
               ],
               "type": "Polygon"
              },
              "id": "3",
              "properties": {
               "Nbrhood": "Safe Town",
               "location": 4
              },
              "type": "Feature"
             },
             {
              "bbox": [
               -13352311.805856697,
               9376.789099343121,
               -13343919.603254972,
               17400.277170024812
              ],
              "geometry": {
               "coordinates": [
                [
                 [
                  -13352257.890654525,
                  15740.887058783323
                 ],
                 [
                  -13352311.805856697,
                  17400.277170024812
                 ],
                 [
                  -13351493.655843081,
                  17391.30568037927
                 ],
                 [
                  -13351485.106090082,
                  17274.475031629205
                 ],
                 [
                  -13350364.868000543,
                  17207.779929686338
                 ],
                 [
                  -13350381.639764352,
                  15138.63087495789
                 ],
                 [
                  -13350010.223927157,
                  15132.640296936035
                 ],
                 [
                  -13349992.252193099,
                  13934.524693090469
                 ],
                 [
                  -13347322.251569912,
                  13950.459630619735
                 ],
                 [
                  -13347312.666645082,
                  13777.93098366633
                 ],
                 [
                  -13346680.06160625,
                  13097.40132067725
                 ],
                 [
                  -13345366.926904423,
                  11602.153047066182
                 ],
                 [
                  -13344724.736940756,
                  10595.735939834267
                 ],
                 [
                  -13344015.45250328,
                  9742.677629888058
                 ],
                 [
                  -13343919.603254972,
                  9388.035411145538
                 ],
                 [
                  -13344426.07068303,
                  9376.789099343121
                 ],
                 [
                  -13346326.793226724,
                  9691.206583544612
                 ],
                 [
                  -13348291.702817041,
                  10805.454095125198
                 ],
                 [
                  -13349358.025704462,
                  11009.133747778833
                 ],
                 [
                  -13351779.417339833,
                  12790.132592901587
                 ],
                 [
                  -13352261.059812574,
                  14040.965283319354
                 ],
                 [
                  -13351944.75729316,
                  15730.30828474462
                 ],
                 [
                  -13352257.890654525,
                  15740.887058783323
                 ]
                ]
               ],
               "type": "Polygon"
              },
              "id": "4",
              "properties": {
               "Nbrhood": "Southwest",
               "location": 5
              },
              "type": "Feature"
             },
             {
              "bbox": [
               -13350381.639764352,
               13934.524693090469,
               -13347300.0946397,
               18966.933133538812
              ],
              "geometry": {
               "coordinates": [
                [
                 [
                  -13347322.251569912,
                  13950.459630619735
                 ],
                 [
                  -13349992.252193099,
                  13934.524693090469
                 ],
                 [
                  -13350010.223927157,
                  15132.640296936035
                 ],
                 [
                  -13350381.639764352,
                  15138.63087495789
                 ],
                 [
                  -13350364.868000543,
                  17207.779929686338
                 ],
                 [
                  -13350076.841009393,
                  17204.90445223078
                 ],
                 [
                  -13349717.406328255,
                  17427.753954540938
                 ],
                 [
                  -13349357.971647117,
                  17990.468916457146
                 ],
                 [
                  -13349304.05644495,
                  18451.743423912674
                 ],
                 [
                  -13348962.59349787,
                  18954.951977510005
                 ],
                 [
                  -13348123.912575219,
                  18966.933133538812
                 ],
                 [
                  -13347300.0946397,
                  18764.775707941502
                 ],
                 [
                  -13347322.251569912,
                  13950.459630619735
                 ]
                ]
               ],
               "type": "Polygon"
              },
              "id": "5",
              "properties": {
               "Nbrhood": "Downtown",
               "location": 6
              },
              "type": "Feature"
             },
             {
              "bbox": [
               -13328287.772234162,
               6053.222041748464,
               -13326281.927027373,
               16367.30006049946
              ],
              "geometry": {
               "coordinates": [
                [
                 [
                  -13326281.927027373,
                  6053.222041748464
                 ],
                 [
                  -13328243.841328684,
                  6053.222041748464
                 ],
                 [
                  -13328287.772234162,
                  15427.877584110945
                 ],
                 [
                  -13326829.740426496,
                  16367.30006049946
                 ],
                 [
                  -13326283.399711132,
                  16022.242766585201
                 ],
                 [
                  -13326281.927027373,
                  6053.222041748464
                 ]
                ]
               ],
               "type": "Polygon"
              },
              "id": "6",
              "properties": {
               "Nbrhood": "Wilson Forest",
               "location": 7
              },
              "type": "Feature"
             },
             {
              "bbox": [
               -13336772.329994978,
               1419.691476520151,
               -13326281.927027373,
               6478.968046542257
              ],
              "geometry": {
               "coordinates": [
                [
                 [
                  -13326281.927027373,
                  6053.222041748464
                 ],
                 [
                  -13326284.924585544,
                  5389.747372850776
                 ],
                 [
                  -13329965.535720583,
                  4282.688554890454
                 ],
                 [
                  -13336454.829359954,
                  1419.691476520151
                 ],
                 [
                  -13336772.329994978,
                  1743.1826895549893
                 ],
                 [
                  -13336754.35826092,
                  2617.807080373168
                 ],
                 [
                  -13335658.082483398,
                  2611.816502351314
                 ],
                 [
                  -13334735.53346843,
                  3360.638754762709
                 ],
                 [
                  -13334244.306070847,
                  3612.2430315688252
                 ],
                 [
                  -13333747.088095248,
                  3612.2430315688252
                 ],
                 [
                  -13329956.250324655,
                  5740.096344020218
                 ],
                 [
                  -13329577.172296133,
                  5706.232937712222
                 ],
                 [
                  -13329589.15345217,
                  6029.724150754511
                 ],
                 [
                  -13329343.539753383,
                  6455.055190123618
                 ],
                 [
                  -13328245.836432122,
                  6478.968046542257
                 ],
                 [
                  -13328243.841328684,
                  6053.222041748464
                 ],
                 [
                  -13326281.927027373,
                  6053.222041748464
                 ]
                ]
               ],
               "type": "Polygon"
              },
              "id": "7",
              "properties": {
               "Nbrhood": "Scenic Vista",
               "location": 8
              },
              "type": "Feature"
             },
             {
              "bbox": [
               -13344586.416364064,
               949.7406152039766,
               -13335203.443902548,
               8852.860588606447
              ],
              "geometry": {
               "coordinates": [
                [
                 [
                  -13336454.829359954,
                  1419.691476520151
                 ],
                 [
                  -13336684.694192199,
                  1016.835089020431
                 ],
                 [
                  -13337930.73442021,
                  949.7406152039766
                 ],
                 [
                  -13339598.511340775,
                  1793.2140003181994
                 ],
                 [
                  -13340968.107240433,
                  2125.241787035018
                 ],
                 [
                  -13341399.428857816,
                  2664.393808770925
                 ],
                 [
                  -13341890.6562554,
                  4245.90640585497
                 ],
                 [
                  -13343472.168852484,
                  5779.494378790259
                 ],
                 [
                  -13344586.416364064,
                  6414.495648834854
                 ],
                 [
                  -13344298.868619142,
                  7133.365011144429
                 ],
                 [
                  -13344238.962838948,
                  8127.800962343812
                 ],
                 [
                  -13344382.736711409,
                  8690.915296152234
                 ],
                 [
                  -13343987.757934008,
                  8852.860588606447
                 ],
                 [
                  -13341078.493624715,
                  8793.81745165214
                 ],
                 [
                  -13341066.99171492,
                  7724.139840532094
                 ],
                 [
                  -13335203.443902548,
                  7716.247253987938
                 ],
                 [
                  -13335266.794265106,
                  5044.324653685093
                 ],
                 [
                  -13335477.662611384,
                  4799.909070491791
                 ],
                 [
                  -13336071.927950898,
                  4603.418111465871
                 ],
                 [
                  -13336474.494793795,
                  4469.2291638329625
                 ],
                 [
                  -13336704.532989737,
                  4224.813580647111
                 ],
                 [
                  -13336754.35826092,
                  2617.807080373168
                 ],
                 [
                  -13336772.329994978,
                  1743.1826895549893
                 ],
                 [
                  -13336454.829359954,
                  1419.691476520151
                 ]
                ]
               ],
               "type": "Polygon"
              },
              "id": "8",
              "properties": {
               "Nbrhood": "Broadview",
               "location": 9
              },
              "type": "Feature"
             },
             {
              "bbox": [
               -13336754.35826092,
               2611.816502351314,
               -13332861.510445183,
               9236.551839035004
              ],
              "geometry": {
               "coordinates": [
                [
                 [
                  -13335203.443902548,
                  7716.247253987938
                 ],
                 [
                  -13335278.736913722,
                  9236.551839035004
                 ],
                 [
                  -13332922.313096944,
                  9210.283154420555
                 ],
                 [
                  -13332861.510445183,
                  4109.330865491182
                 ],
                 [
                  -13333747.088095248,
                  3612.2430315688252
                 ],
                 [
                  -13334244.306070847,
                  3612.2430315688252
                 ],
                 [
                  -13334735.53346843,
                  3360.638754762709
                 ],
                 [
                  -13335658.082483398,
                  2611.816502351314
                 ],
                 [
                  -13336754.35826092,
                  2617.807080373168
                 ],
                 [
                  -13336704.532989737,
                  4224.813580647111
                 ],
                 [
                  -13336474.494793795,
                  4469.2291638329625
                 ],
                 [
                  -13335477.662611384,
                  4799.909070491791
                 ],
                 [
                  -13335266.794265106,
                  5044.324653688818
                 ],
                 [
                  -13335203.443902548,
                  7716.247253987938
                 ]
                ]
               ],
               "type": "Polygon"
              },
              "id": "9",
              "properties": {
               "Nbrhood": "Chapparal",
               "location": 10
              },
              "type": "Feature"
             },
             {
              "bbox": [
               -13332922.313096944,
               4109.330865491182,
               -13328245.836432122,
               9227.536083679646
              ],
              "geometry": {
               "coordinates": [
                [
                 [
                  -13332861.510445183,
                  4109.330865491182
                 ],
                 [
                  -13332922.313096944,
                  9210.283154420555
                 ],
                 [
                  -13328258.716594182,
                  9227.536083679646
                 ],
                 [
                  -13328245.836432122,
                  6478.968046542257
                 ],
                 [
                  -13329343.539753383,
                  6455.055190123618
                 ],
                 [
                  -13329589.15345217,
                  6029.724150754511
                 ],
                 [
                  -13329577.172296133,
                  5706.232937712222
                 ],
                 [
                  -13329956.250324655,
                  5740.096344023943
                 ],
                 [
                  -13332861.510445183,
                  4109.330865491182
                 ]
                ]
               ],
               "type": "Polygon"
              },
              "id": "10",
              "properties": {
               "Nbrhood": "Terrapin Springs",
               "location": 11
              },
              "type": "Feature"
             },
             {
              "bbox": [
               -13333633.54443903,
               9210.283154420555,
               -13328258.716594182,
               15252.81224732846
              ],
              "geometry": {
               "coordinates": [
                [
                 [
                  -13328258.716594182,
                  9227.536083679646
                 ],
                 [
                  -13332922.313096944,
                  9210.283154420555
                 ],
                 [
                  -13332978.001325656,
                  14174.827906638384
                 ],
                 [
                  -13333633.54443903,
                  14998.642822746187
                 ],
                 [
                  -13333128.655989265,
                  14994.019276894629
                 ],
                 [
                  -13332220.005115306,
                  15252.81224732846
                 ],
                 [
                  -13331958.165323649,
                  14978.044607464224
                 ],
                 [
                  -13330328.728102406,
                  13288.701606027782
                 ],
                 [
                  -13329202.499434777,
                  13025.116173177958
                 ],
                 [
                  -13328723.253193235,
                  13444.45663452521
                 ],
                 [
                  -13328723.253193235,
                  14295.118713267148
                 ],
                 [
                  -13328285.046019284,
                  14846.115721732378
                 ],
                 [
                  -13328258.716594182,
                  9227.536083679646
                 ]
                ]
               ],
               "type": "Polygon"
              },
              "id": "11",
              "properties": {
               "Nbrhood": "Pepper Mill",
               "location": 12
              },
              "type": "Feature"
             },
             {
              "bbox": [
               -13338406.19554747,
               7716.247253987938,
               -13332922.313096944,
               15028.610558889806
              ],
              "geometry": {
               "coordinates": [
                [
                 [
                  -13333633.54443903,
                  14998.642822746187
                 ],
                 [
                  -13332978.001325656,
                  14174.827906638384
                 ],
                 [
                  -13332922.313096944,
                  9210.283154420555
                 ],
                 [
                  -13335278.736913722,
                  9236.551839035004
                 ],
                 [
                  -13335203.443902548,
                  7716.247253987938
                 ],
                 [
                  -13338406.19554747,
                  7720.558294907212
                 ],
                 [
                  -13338394.216157876,
                  8438.11533505842
                 ],
                 [
                  -13338250.442285415,
                  8593.870363555849
                 ],
                 [
                  -13337843.082980104,
                  8605.851519595832
                 ],
                 [
                  -13337579.497547254,
                  8833.493484333158
                 ],
                 [
                  -13337624.929727884,
                  12305.058861088008
                 ],
                 [
                  -13336920.437752815,
                  13440.872453544289
                 ],
                 [
                  -13336906.003355103,
                  15028.610558889806
                 ],
                 [
                  -13333633.54443903,
                  14998.642822746187
                 ]
                ]
               ],
               "type": "Polygon"
              },
              "id": "12",
              "properties": {
               "Nbrhood": "Cheddarford",
               "location": 13
              },
              "type": "Feature"
             },
             {
              "bbox": [
               -13344655.637741333,
               15064.405022233725,
               -13339669.15037637,
               18673.308690719306
              ],
              "geometry": {
               "coordinates": [
                [
                 [
                  -13341132.317431018,
                  15067.313280094415
                 ],
                 [
                  -13344603.385225657,
                  15064.405022233725
                 ],
                 [
                  -13344617.043743549,
                  18337.057794172317
                 ],
                 [
                  -13344655.637741333,
                  18673.308690719306
                 ],
                 [
                  -13343879.25883004,
                  18391.51190070063
                 ],
                 [
                  -13342961.572055742,
                  18400.84455030784
                 ],
                 [
                  -13342372.099178655,
                  18206.749822482467
                 ],
                 [
                  -13342062.98535286,
                  18221.12720972672
                 ],
                 [
                  -13341272.229054319,
                  18487.108873780817
                 ],
                 [
                  -13339669.15037637,
                  18487.108873780817
                 ],
                 [
                  -13340320.629190205,
                  17400.020206775516
                 ],
                 [
                  -13341120.970413575,
                  16561.339284081012
                 ],
                 [
                  -13341132.317431018,
                  15067.313280094415
                 ]
                ]
               ],
               "type": "Polygon"
              },
              "id": "13",
              "properties": {
               "Nbrhood": "Easton",
               "location": 14
              },
              "type": "Feature"
             },
             {
              "bbox": [
               -13347316.97854499,
               15064.405022233725,
               -13344603.385225657,
               18788.73802002147
              ],
              "geometry": {
               "coordinates": [
                [
                 [
                  -13344655.637741333,
                  18673.308690719306
                 ],
                 [
                  -13344617.043743549,
                  18337.057794172317
                 ],
                 [
                  -13344603.385225657,
                  15064.405022233725
                 ],
                 [
                  -13347316.97854499,
                  15096.19635527581
                 ],
                 [
                  -13347300.0946397,
                  18764.775707941502
                 ],
                 [
                  -13346976.603426676,
                  18680.907615687698
                 ],
                 [
                  -13346227.781174313,
                  18788.73802002147
                 ],
                 [
                  -13345345.75232915,
                  18581.293412346393
                 ],
                 [
                  -13344655.637741333,
                  18673.308690719306
                 ]
                ]
               ],
               "type": "Polygon"
              },
              "id": "14",
              "properties": {
               "Nbrhood": "Weston",
               "location": 15
              },
              "type": "Feature"
             },
             {
              "bbox": [
               -13347316.97854499,
               10497.145950954407,
               -13344603.385225657,
               15096.19635527581
              ],
              "geometry": {
               "coordinates": [
                [
                 [
                  -13344603.385225657,
                  15064.405022233725
                 ],
                 [
                  -13344642.763242131,
                  10497.145950954407
                 ],
                 [
                  -13344724.736940756,
                  10595.735939837992
                 ],
                 [
                  -13345366.926904423,
                  11602.153047066182
                 ],
                 [
                  -13346680.06160625,
                  13097.40132067725
                 ],
                 [
                  -13347312.666645082,
                  13777.93098366633
                 ],
                 [
                  -13347316.97854499,
                  15096.19635527581
                 ],
                 [
                  -13344603.385225657,
                  15064.405022233725
                 ]
                ]
               ],
               "type": "Polygon"
              },
              "id": "15",
              "properties": {
               "Nbrhood": "Southton",
               "location": 16
              },
              "type": "Feature"
             },
             {
              "bbox": [
               -13344669.141488539,
               7720.558294907212,
               -13337579.497547254,
               11101.862514879555
              ],
              "geometry": {
               "coordinates": [
                [
                 [
                  -13344669.141488539,
                  9416.997867006809
                 ],
                 [
                  -13344426.07068303,
                  9376.789099343121
                 ],
                 [
                  -13343919.603254972,
                  9388.035411145538
                 ],
                 [
                  -13344015.45250328,
                  9742.677629888058
                 ],
                 [
                  -13344267.362770466,
                  10045.650789070874
                 ],
                 [
                  -13340801.609500708,
                  10044.325808536261
                 ],
                 [
                  -13339772.028825123,
                  10704.088134400547
                 ],
                 [
                  -13338276.780551504,
                  11101.862514879555
                 ],
                 [
                  -13338041.949893149,
                  10876.61678135395
                 ],
                 [
                  -13337605.917254657,
                  10852.277091346681
                 ],
                 [
                  -13337579.497547254,
                  8833.493484333158
                 ],
                 [
                  -13337843.082980104,
                  8605.851519595832
                 ],
                 [
                  -13338250.442285415,
                  8593.870363555849
                 ],
                 [
                  -13338394.216157876,
                  8438.11533505842
                 ],
                 [
                  -13338406.19554747,
                  7720.558294907212
                 ],
                 [
                  -13341066.99171492,
                  7724.139840532094
                 ],
                 [
                  -13341078.493624715,
                  8793.81745165214
                 ],
                 [
                  -13343987.757934008,
                  8852.860588606447
                 ],
                 [
                  -13344382.736711409,
                  8690.915296152234
                 ],
                 [
                  -13344669.141488539,
                  9416.997867006809
                 ]
                ]
               ],
               "type": "Polygon"
              },
              "id": "16",
              "properties": {
               "Nbrhood": "Oak Willow",
               "location": 17
              },
              "type": "Feature"
             },
             {
              "bbox": [
               -13341170.017549999,
               10044.325808536261,
               -13336906.003355103,
               15067.313280094415
              ],
              "geometry": {
               "coordinates": [
                [
                 [
                  -13341170.017549999,
                  10044.466653384268
                 ],
                 [
                  -13341132.317431018,
                  15067.313280094415
                 ],
                 [
                  -13336906.003355103,
                  15028.610558889806
                 ],
                 [
                  -13336920.437752815,
                  13440.872453544289
                 ],
                 [
                  -13337624.929727884,
                  12305.058861088008
                 ],
                 [
                  -13337605.917254657,
                  10852.277091346681
                 ],
                 [
                  -13338041.949893149,
                  10876.61678135395
                 ],
                 [
                  -13338276.780551504,
                  11101.862514879555
                 ],
                 [
                  -13339772.028825123,
                  10704.088134400547
                 ],
                 [
                  -13340801.609500708,
                  10044.325808536261
                 ],
                 [
                  -13341170.017549999,
                  10044.466653384268
                 ]
                ]
               ],
               "type": "Polygon"
              },
              "id": "17",
              "properties": {
               "Nbrhood": "East Parton",
               "location": 18
              },
              "type": "Feature"
             },
             {
              "bbox": [
               -13344642.763242131,
               10044.466653384268,
               -13341132.317431018,
               15067.313280094415
              ],
              "geometry": {
               "coordinates": [
                [
                 [
                  -13341132.317431018,
                  15067.313280094415
                 ],
                 [
                  -13341170.017549999,
                  10044.466653384268
                 ],
                 [
                  -13344267.362770466,
                  10045.650789070874
                 ],
                 [
                  -13344642.763242131,
                  10497.145950954407
                 ],
                 [
                  -13344603.385225657,
                  15064.405022233725
                 ],
                 [
                  -13341132.317431018,
                  15067.313280094415
                 ]
                ]
               ],
               "type": "Polygon"
              },
              "id": "18",
              "properties": {
               "Nbrhood": "West Parton",
               "location": 19
              },
              "type": "Feature"
             }
            ],
            "type": "FeatureCollection"
           },
           "hovertemplate": "<b>%{hovertext}</b><br><br>animation_frame=2020-04-10 23:00:00<br>_index=%{location}<br>sewer_and_water=%{z}<extra></extra>",
           "hovertext": [
            9
           ],
           "locations": [
            8
           ],
           "name": "",
           "type": "choropleth",
           "z": [
            2
           ]
          }
         ],
         "name": "2020-04-10 23:00:00"
        },
        {
         "data": [
          {
           "coloraxis": "coloraxis",
           "geo": "geo",
           "geojson": {
            "bbox": [
             -13356433.400213113,
             949.7406152039766,
             -13326281.927027373,
             25330.81290255487
            ],
            "features": [
             {
              "bbox": [
               -13356433.400213113,
               12757.579205360264,
               -13351491.341083687,
               22271.92544165626
              ],
              "geometry": {
               "coordinates": [
                [
                 [
                  -13351493.65584308,
                  17391.305680375546
                 ],
                 [
                  -13352311.805856697,
                  17400.277170021087
                 ],
                 [
                  -13352257.890654525,
                  15740.887058779597
                 ],
                 [
                  -13353294.260651799,
                  15369.471221614629
                 ],
                 [
                  -13354348.60238313,
                  12757.579205360264
                 ],
                 [
                  -13355594.64261106,
                  12877.390765737742
                 ],
                 [
                  -13355426.90642653,
                  13931.73249706626
                 ],
                 [
                  -13354684.074752187,
                  14123.430993683636
                 ],
                 [
                  -13354411.58013172,
                  15544.506326396018
                 ],
                 [
                  -13355025.614378663,
                  16682.71614999324
                 ],
                 [
                  -13356433.400213113,
                  16802.527710374445
                 ],
                 [
                  -13356433.400213113,
                  17296.750396937132
                 ],
                 [
                  -13355429.97839494,
                  17371.632622171193
                 ],
                 [
                  -13355729.507295888,
                  18015.619759209454
                 ],
                 [
                  -13356133.871312166,
                  19767.863829746842
                 ],
                 [
                  -13355819.365966171,
                  20606.54475240037
                 ],
                 [
                  -13355040.59082371,
                  21295.46122456342
                 ],
                 [
                  -13354306.74501639,
                  21624.94301560521
                 ],
                 [
                  -13353452.129156219,
                  22110.898704510182
                 ],
                 [
                  -13352790.769342927,
                  22271.92544165626
                 ],
                 [
                  -13351864.865604319,
                  22185.66111817211
                 ],
                 [
                  -13351491.341083687,
                  22229.943470899016
                 ],
                 [
                  -13351493.65584308,
                  17391.305680375546
                 ]
                ]
               ],
               "type": "Polygon"
              },
              "id": "0",
              "properties": {
               "Nbrhood": "Palace Hills",
               "location": 1
              },
              "type": "Feature"
             },
             {
              "bbox": [
               -13351493.65584308,
               17204.90445223078,
               -13346115.925101548,
               22628.675067204982
              ],
              "geometry": {
               "coordinates": [
                [
                 [
                  -13351493.65584308,
                  17391.305680375546
                 ],
                 [
                  -13351491.341083687,
                  22229.943470899016
                 ],
                 [
                  -13351179.176619865,
                  22490.652149640024
                 ],
                 [
                  -13350632.835904507,
                  22413.97275100276
                 ],
                 [
                  -13350642.420829345,
                  21858.04711080715
                 ],
                 [
                  -13349866.041918047,
                  22011.40590809658
                 ],
                 [
                  -13349578.494173124,
                  22308.53857785836
                 ],
                 [
                  -13349097.330946626,
                  22433.14260065183
                 ],
                 [
                  -13348090.913839394,
                  22628.675067204982
                 ],
                 [
                  -13347699.848906301,
                  22272.11586350575
                 ],
                 [
                  -13347115.168491626,
                  22371.319835502654
                 ],
                 [
                  -13346410.676516563,
                  22553.433407288045
                 ],
                 [
                  -13346300.689504128,
                  22340.168829794973
                 ],
                 [
                  -13346151.883546134,
                  22022.428571663797
                 ],
                 [
                  -13346115.925101548,
                  18770.910059832036
                 ],
                 [
                  -13346227.781174313,
                  18788.73802002147
                 ],
                 [
                  -13346976.60342668,
                  18680.907615687698
                 ],
                 [
                  -13347300.094639698,
                  18764.775707941502
                 ],
                 [
                  -13348123.912575217,
                  18966.933133535087
                 ],
                 [
                  -13348962.593497869,
                  18954.95197750628
                 ],
                 [
                  -13349304.056444949,
                  18451.743423912674
                 ],
                 [
                  -13349357.971647115,
                  17990.468916457146
                 ],
                 [
                  -13349576.02868701,
                  17660.18838166818
                 ],
                 [
                  -13349717.406328259,
                  17427.753954540938
                 ],
                 [
                  -13350076.841009395,
                  17204.90445223078
                 ],
                 [
                  -13350364.868000543,
                  17207.779929686338
                 ],
                 [
                  -13351485.106090086,
                  17274.47503162548
                 ],
                 [
                  -13351493.65584308,
                  17391.305680375546
                 ]
                ]
               ],
               "type": "Polygon"
              },
              "id": "1",
              "properties": {
               "Nbrhood": "Northwest",
               "location": 2
              },
              "type": "Feature"
             },
             {
              "bbox": [
               -13346410.676516563,
               18206.749822482467,
               -13337665.843480354,
               25330.81290255487
              ],
              "geometry": {
               "coordinates": [
                [
                 [
                  -13346410.676516563,
                  22553.433407288045
                 ],
                 [
                  -13346405.953036554,
                  23627.092513881624
                 ],
                 [
                  -13345800.90465661,
                  24100.348177406937
                 ],
                 [
                  -13344986.186045988,
                  24112.329333443195
                 ],
                 [
                  -13344062.438915428,
                  24736.547563046217
                 ],
                 [
                  -13342567.190641824,
                  25330.81290255487
                 ],
                 [
                  -13342490.51124318,
                  23931.41387725994
                 ],
                 [
                  -13342087.944400283,
                  23720.545530982316
                 ],
                 [
                  -13341167.79161653,
                  24084.77267454937
                 ],
                 [
                  -13340611.865976345,
                  23317.978688087314
                 ],
                 [
                  -13340036.7704865,
                  22301.976656023413
                 ],
                 [
                  -13339461.67499665,
                  22378.65605467558
                 ],
                 [
                  -13339557.524244959,
                  23126.280191473663
                 ],
                 [
                  -13339960.091087848,
                  23605.526433009654
                 ],
                 [
                  -13339730.052891914,
                  24161.452073201537
                 ],
                 [
                  -13339825.902140222,
                  24832.396811354905
                 ],
                 [
                  -13338177.295069322,
                  24947.41590932384
                 ],
                 [
                  -13338138.95537,
                  24180.62192285806
                 ],
                 [
                  -13337755.558376769,
                  23739.71538064629
                 ],
                 [
                  -13337665.843480354,
                  23538.892035592347
                 ],
                 [
                  -13338384.04431837,
                  21161.622399073094
                 ],
                 [
                  -13338527.818190832,
                  20298.979164298624
                 ],
                 [
                  -13339129.998354634,
                  19450.39381927997
                 ],
                 [
                  -13339669.15037637,
                  18487.108873780817
                 ],
                 [
                  -13341272.229054319,
                  18487.108873780817
                 ],
                 [
                  -13342062.98535286,
                  18221.12720972672
                 ],
                 [
                  -13342372.099178655,
                  18206.749822482467
                 ],
                 [
                  -13342961.572055742,
                  18400.84455030784
                 ],
                 [
                  -13343879.25883004,
                  18391.51190070063
                 ],
                 [
                  -13344655.637741333,
                  18673.308690719306
                 ],
                 [
                  -13345345.75232915,
                  18581.293412346393
                 ],
                 [
                  -13346115.925101547,
                  18770.91005983576
                 ],
                 [
                  -13346151.883546134,
                  22022.428571663797
                 ],
                 [
                  -13346410.676516563,
                  22553.433407288045
                 ]
                ]
               ],
               "type": "Polygon"
              },
              "id": "2",
              "properties": {
               "Nbrhood": "Old Town",
               "location": 3
              },
              "type": "Feature"
             },
             {
              "bbox": [
               -13341132.317431018,
               14994.019276894629,
               -13331620.308318393,
               24272.240581881255
              ],
              "geometry": {
               "coordinates": [
                [
                 [
                  -13337755.558376769,
                  23739.71538064629
                 ],
                 [
                  -13337518.91470274,
                  24272.240581881255
                 ],
                 [
                  -13337263.716079118,
                  24203.94799246639
                 ],
                 [
                  -13337102.836912887,
                  23453.836101733148
                 ],
                 [
                  -13335365.569287306,
                  21446.992465287447
                 ],
                 [
                  -13335754.956858559,
                  21207.36934451759
                 ],
                 [
                  -13335545.286627889,
                  20937.79333365336
                 ],
                 [
                  -13334676.652815094,
                  21087.557784136385
                 ],
                 [
                  -13333519.720922353,
                  22198.368277214468
                 ],
                 [
                  -13333270.512876753,
                  21920.40545712039
                 ],
                 [
                  -13334018.137013558,
                  20866.063725735992
                 ],
                 [
                  -13333414.286749214,
                  20252.628536563367
                 ],
                 [
                  -13333883.948065925,
                  19945.910941977054
                 ],
                 [
                  -13333155.493778786,
                  18910.73906024918
                 ],
                 [
                  -13333136.323929127,
                  17837.22747920081
                 ],
                 [
                  -13333225.78322755,
                  17473.000335633755
                 ],
                 [
                  -13332866.348546397,
                  16873.94253370911
                 ],
                 [
                  -13332602.763113547,
                  16250.922419708222
                 ],
                 [
                  -13331620.308318393,
                  15987.336986858398
                 ],
                 [
                  -13332219.366120316,
                  15508.090745322406
                 ],
                 [
                  -13332220.005115306,
                  15252.81224732846
                 ],
                 [
                  -13333128.655989265,
                  14994.019276894629
                 ],
                 [
                  -13341132.317431018,
                  15067.313280094415
                 ],
                 [
                  -13341120.970413575,
                  16561.339284081012
                 ],
                 [
                  -13340320.629190205,
                  17400.020206775516
                 ],
                 [
                  -13339669.15037637,
                  18487.108873780817
                 ],
                 [
                  -13339129.998354634,
                  19450.39381927997
                 ],
                 [
                  -13338527.818190832,
                  20298.979164298624
                 ],
                 [
                  -13338384.04431837,
                  21161.622399073094
                 ],
                 [
                  -13337665.843480354,
                  23538.892035592347
                 ],
                 [
                  -13337755.558376769,
                  23739.71538064629
                 ]
                ]
               ],
               "type": "Polygon"
              },
              "id": "3",
              "properties": {
               "Nbrhood": "Safe Town",
               "location": 4
              },
              "type": "Feature"
             },
             {
              "bbox": [
               -13352311.805856697,
               9376.789099343121,
               -13343919.603254972,
               17400.277170024812
              ],
              "geometry": {
               "coordinates": [
                [
                 [
                  -13352257.890654525,
                  15740.887058783323
                 ],
                 [
                  -13352311.805856697,
                  17400.277170024812
                 ],
                 [
                  -13351493.655843081,
                  17391.30568037927
                 ],
                 [
                  -13351485.106090082,
                  17274.475031629205
                 ],
                 [
                  -13350364.868000543,
                  17207.779929686338
                 ],
                 [
                  -13350381.639764352,
                  15138.63087495789
                 ],
                 [
                  -13350010.223927157,
                  15132.640296936035
                 ],
                 [
                  -13349992.252193099,
                  13934.524693090469
                 ],
                 [
                  -13347322.251569912,
                  13950.459630619735
                 ],
                 [
                  -13347312.666645082,
                  13777.93098366633
                 ],
                 [
                  -13346680.06160625,
                  13097.40132067725
                 ],
                 [
                  -13345366.926904423,
                  11602.153047066182
                 ],
                 [
                  -13344724.736940756,
                  10595.735939834267
                 ],
                 [
                  -13344015.45250328,
                  9742.677629888058
                 ],
                 [
                  -13343919.603254972,
                  9388.035411145538
                 ],
                 [
                  -13344426.07068303,
                  9376.789099343121
                 ],
                 [
                  -13346326.793226724,
                  9691.206583544612
                 ],
                 [
                  -13348291.702817041,
                  10805.454095125198
                 ],
                 [
                  -13349358.025704462,
                  11009.133747778833
                 ],
                 [
                  -13351779.417339833,
                  12790.132592901587
                 ],
                 [
                  -13352261.059812574,
                  14040.965283319354
                 ],
                 [
                  -13351944.75729316,
                  15730.30828474462
                 ],
                 [
                  -13352257.890654525,
                  15740.887058783323
                 ]
                ]
               ],
               "type": "Polygon"
              },
              "id": "4",
              "properties": {
               "Nbrhood": "Southwest",
               "location": 5
              },
              "type": "Feature"
             },
             {
              "bbox": [
               -13350381.639764352,
               13934.524693090469,
               -13347300.0946397,
               18966.933133538812
              ],
              "geometry": {
               "coordinates": [
                [
                 [
                  -13347322.251569912,
                  13950.459630619735
                 ],
                 [
                  -13349992.252193099,
                  13934.524693090469
                 ],
                 [
                  -13350010.223927157,
                  15132.640296936035
                 ],
                 [
                  -13350381.639764352,
                  15138.63087495789
                 ],
                 [
                  -13350364.868000543,
                  17207.779929686338
                 ],
                 [
                  -13350076.841009393,
                  17204.90445223078
                 ],
                 [
                  -13349717.406328255,
                  17427.753954540938
                 ],
                 [
                  -13349357.971647117,
                  17990.468916457146
                 ],
                 [
                  -13349304.05644495,
                  18451.743423912674
                 ],
                 [
                  -13348962.59349787,
                  18954.951977510005
                 ],
                 [
                  -13348123.912575219,
                  18966.933133538812
                 ],
                 [
                  -13347300.0946397,
                  18764.775707941502
                 ],
                 [
                  -13347322.251569912,
                  13950.459630619735
                 ]
                ]
               ],
               "type": "Polygon"
              },
              "id": "5",
              "properties": {
               "Nbrhood": "Downtown",
               "location": 6
              },
              "type": "Feature"
             },
             {
              "bbox": [
               -13328287.772234162,
               6053.222041748464,
               -13326281.927027373,
               16367.30006049946
              ],
              "geometry": {
               "coordinates": [
                [
                 [
                  -13326281.927027373,
                  6053.222041748464
                 ],
                 [
                  -13328243.841328684,
                  6053.222041748464
                 ],
                 [
                  -13328287.772234162,
                  15427.877584110945
                 ],
                 [
                  -13326829.740426496,
                  16367.30006049946
                 ],
                 [
                  -13326283.399711132,
                  16022.242766585201
                 ],
                 [
                  -13326281.927027373,
                  6053.222041748464
                 ]
                ]
               ],
               "type": "Polygon"
              },
              "id": "6",
              "properties": {
               "Nbrhood": "Wilson Forest",
               "location": 7
              },
              "type": "Feature"
             },
             {
              "bbox": [
               -13336772.329994978,
               1419.691476520151,
               -13326281.927027373,
               6478.968046542257
              ],
              "geometry": {
               "coordinates": [
                [
                 [
                  -13326281.927027373,
                  6053.222041748464
                 ],
                 [
                  -13326284.924585544,
                  5389.747372850776
                 ],
                 [
                  -13329965.535720583,
                  4282.688554890454
                 ],
                 [
                  -13336454.829359954,
                  1419.691476520151
                 ],
                 [
                  -13336772.329994978,
                  1743.1826895549893
                 ],
                 [
                  -13336754.35826092,
                  2617.807080373168
                 ],
                 [
                  -13335658.082483398,
                  2611.816502351314
                 ],
                 [
                  -13334735.53346843,
                  3360.638754762709
                 ],
                 [
                  -13334244.306070847,
                  3612.2430315688252
                 ],
                 [
                  -13333747.088095248,
                  3612.2430315688252
                 ],
                 [
                  -13329956.250324655,
                  5740.096344020218
                 ],
                 [
                  -13329577.172296133,
                  5706.232937712222
                 ],
                 [
                  -13329589.15345217,
                  6029.724150754511
                 ],
                 [
                  -13329343.539753383,
                  6455.055190123618
                 ],
                 [
                  -13328245.836432122,
                  6478.968046542257
                 ],
                 [
                  -13328243.841328684,
                  6053.222041748464
                 ],
                 [
                  -13326281.927027373,
                  6053.222041748464
                 ]
                ]
               ],
               "type": "Polygon"
              },
              "id": "7",
              "properties": {
               "Nbrhood": "Scenic Vista",
               "location": 8
              },
              "type": "Feature"
             },
             {
              "bbox": [
               -13344586.416364064,
               949.7406152039766,
               -13335203.443902548,
               8852.860588606447
              ],
              "geometry": {
               "coordinates": [
                [
                 [
                  -13336454.829359954,
                  1419.691476520151
                 ],
                 [
                  -13336684.694192199,
                  1016.835089020431
                 ],
                 [
                  -13337930.73442021,
                  949.7406152039766
                 ],
                 [
                  -13339598.511340775,
                  1793.2140003181994
                 ],
                 [
                  -13340968.107240433,
                  2125.241787035018
                 ],
                 [
                  -13341399.428857816,
                  2664.393808770925
                 ],
                 [
                  -13341890.6562554,
                  4245.90640585497
                 ],
                 [
                  -13343472.168852484,
                  5779.494378790259
                 ],
                 [
                  -13344586.416364064,
                  6414.495648834854
                 ],
                 [
                  -13344298.868619142,
                  7133.365011144429
                 ],
                 [
                  -13344238.962838948,
                  8127.800962343812
                 ],
                 [
                  -13344382.736711409,
                  8690.915296152234
                 ],
                 [
                  -13343987.757934008,
                  8852.860588606447
                 ],
                 [
                  -13341078.493624715,
                  8793.81745165214
                 ],
                 [
                  -13341066.99171492,
                  7724.139840532094
                 ],
                 [
                  -13335203.443902548,
                  7716.247253987938
                 ],
                 [
                  -13335266.794265106,
                  5044.324653685093
                 ],
                 [
                  -13335477.662611384,
                  4799.909070491791
                 ],
                 [
                  -13336071.927950898,
                  4603.418111465871
                 ],
                 [
                  -13336474.494793795,
                  4469.2291638329625
                 ],
                 [
                  -13336704.532989737,
                  4224.813580647111
                 ],
                 [
                  -13336754.35826092,
                  2617.807080373168
                 ],
                 [
                  -13336772.329994978,
                  1743.1826895549893
                 ],
                 [
                  -13336454.829359954,
                  1419.691476520151
                 ]
                ]
               ],
               "type": "Polygon"
              },
              "id": "8",
              "properties": {
               "Nbrhood": "Broadview",
               "location": 9
              },
              "type": "Feature"
             },
             {
              "bbox": [
               -13336754.35826092,
               2611.816502351314,
               -13332861.510445183,
               9236.551839035004
              ],
              "geometry": {
               "coordinates": [
                [
                 [
                  -13335203.443902548,
                  7716.247253987938
                 ],
                 [
                  -13335278.736913722,
                  9236.551839035004
                 ],
                 [
                  -13332922.313096944,
                  9210.283154420555
                 ],
                 [
                  -13332861.510445183,
                  4109.330865491182
                 ],
                 [
                  -13333747.088095248,
                  3612.2430315688252
                 ],
                 [
                  -13334244.306070847,
                  3612.2430315688252
                 ],
                 [
                  -13334735.53346843,
                  3360.638754762709
                 ],
                 [
                  -13335658.082483398,
                  2611.816502351314
                 ],
                 [
                  -13336754.35826092,
                  2617.807080373168
                 ],
                 [
                  -13336704.532989737,
                  4224.813580647111
                 ],
                 [
                  -13336474.494793795,
                  4469.2291638329625
                 ],
                 [
                  -13335477.662611384,
                  4799.909070491791
                 ],
                 [
                  -13335266.794265106,
                  5044.324653688818
                 ],
                 [
                  -13335203.443902548,
                  7716.247253987938
                 ]
                ]
               ],
               "type": "Polygon"
              },
              "id": "9",
              "properties": {
               "Nbrhood": "Chapparal",
               "location": 10
              },
              "type": "Feature"
             },
             {
              "bbox": [
               -13332922.313096944,
               4109.330865491182,
               -13328245.836432122,
               9227.536083679646
              ],
              "geometry": {
               "coordinates": [
                [
                 [
                  -13332861.510445183,
                  4109.330865491182
                 ],
                 [
                  -13332922.313096944,
                  9210.283154420555
                 ],
                 [
                  -13328258.716594182,
                  9227.536083679646
                 ],
                 [
                  -13328245.836432122,
                  6478.968046542257
                 ],
                 [
                  -13329343.539753383,
                  6455.055190123618
                 ],
                 [
                  -13329589.15345217,
                  6029.724150754511
                 ],
                 [
                  -13329577.172296133,
                  5706.232937712222
                 ],
                 [
                  -13329956.250324655,
                  5740.096344023943
                 ],
                 [
                  -13332861.510445183,
                  4109.330865491182
                 ]
                ]
               ],
               "type": "Polygon"
              },
              "id": "10",
              "properties": {
               "Nbrhood": "Terrapin Springs",
               "location": 11
              },
              "type": "Feature"
             },
             {
              "bbox": [
               -13333633.54443903,
               9210.283154420555,
               -13328258.716594182,
               15252.81224732846
              ],
              "geometry": {
               "coordinates": [
                [
                 [
                  -13328258.716594182,
                  9227.536083679646
                 ],
                 [
                  -13332922.313096944,
                  9210.283154420555
                 ],
                 [
                  -13332978.001325656,
                  14174.827906638384
                 ],
                 [
                  -13333633.54443903,
                  14998.642822746187
                 ],
                 [
                  -13333128.655989265,
                  14994.019276894629
                 ],
                 [
                  -13332220.005115306,
                  15252.81224732846
                 ],
                 [
                  -13331958.165323649,
                  14978.044607464224
                 ],
                 [
                  -13330328.728102406,
                  13288.701606027782
                 ],
                 [
                  -13329202.499434777,
                  13025.116173177958
                 ],
                 [
                  -13328723.253193235,
                  13444.45663452521
                 ],
                 [
                  -13328723.253193235,
                  14295.118713267148
                 ],
                 [
                  -13328285.046019284,
                  14846.115721732378
                 ],
                 [
                  -13328258.716594182,
                  9227.536083679646
                 ]
                ]
               ],
               "type": "Polygon"
              },
              "id": "11",
              "properties": {
               "Nbrhood": "Pepper Mill",
               "location": 12
              },
              "type": "Feature"
             },
             {
              "bbox": [
               -13338406.19554747,
               7716.247253987938,
               -13332922.313096944,
               15028.610558889806
              ],
              "geometry": {
               "coordinates": [
                [
                 [
                  -13333633.54443903,
                  14998.642822746187
                 ],
                 [
                  -13332978.001325656,
                  14174.827906638384
                 ],
                 [
                  -13332922.313096944,
                  9210.283154420555
                 ],
                 [
                  -13335278.736913722,
                  9236.551839035004
                 ],
                 [
                  -13335203.443902548,
                  7716.247253987938
                 ],
                 [
                  -13338406.19554747,
                  7720.558294907212
                 ],
                 [
                  -13338394.216157876,
                  8438.11533505842
                 ],
                 [
                  -13338250.442285415,
                  8593.870363555849
                 ],
                 [
                  -13337843.082980104,
                  8605.851519595832
                 ],
                 [
                  -13337579.497547254,
                  8833.493484333158
                 ],
                 [
                  -13337624.929727884,
                  12305.058861088008
                 ],
                 [
                  -13336920.437752815,
                  13440.872453544289
                 ],
                 [
                  -13336906.003355103,
                  15028.610558889806
                 ],
                 [
                  -13333633.54443903,
                  14998.642822746187
                 ]
                ]
               ],
               "type": "Polygon"
              },
              "id": "12",
              "properties": {
               "Nbrhood": "Cheddarford",
               "location": 13
              },
              "type": "Feature"
             },
             {
              "bbox": [
               -13344655.637741333,
               15064.405022233725,
               -13339669.15037637,
               18673.308690719306
              ],
              "geometry": {
               "coordinates": [
                [
                 [
                  -13341132.317431018,
                  15067.313280094415
                 ],
                 [
                  -13344603.385225657,
                  15064.405022233725
                 ],
                 [
                  -13344617.043743549,
                  18337.057794172317
                 ],
                 [
                  -13344655.637741333,
                  18673.308690719306
                 ],
                 [
                  -13343879.25883004,
                  18391.51190070063
                 ],
                 [
                  -13342961.572055742,
                  18400.84455030784
                 ],
                 [
                  -13342372.099178655,
                  18206.749822482467
                 ],
                 [
                  -13342062.98535286,
                  18221.12720972672
                 ],
                 [
                  -13341272.229054319,
                  18487.108873780817
                 ],
                 [
                  -13339669.15037637,
                  18487.108873780817
                 ],
                 [
                  -13340320.629190205,
                  17400.020206775516
                 ],
                 [
                  -13341120.970413575,
                  16561.339284081012
                 ],
                 [
                  -13341132.317431018,
                  15067.313280094415
                 ]
                ]
               ],
               "type": "Polygon"
              },
              "id": "13",
              "properties": {
               "Nbrhood": "Easton",
               "location": 14
              },
              "type": "Feature"
             },
             {
              "bbox": [
               -13347316.97854499,
               15064.405022233725,
               -13344603.385225657,
               18788.73802002147
              ],
              "geometry": {
               "coordinates": [
                [
                 [
                  -13344655.637741333,
                  18673.308690719306
                 ],
                 [
                  -13344617.043743549,
                  18337.057794172317
                 ],
                 [
                  -13344603.385225657,
                  15064.405022233725
                 ],
                 [
                  -13347316.97854499,
                  15096.19635527581
                 ],
                 [
                  -13347300.0946397,
                  18764.775707941502
                 ],
                 [
                  -13346976.603426676,
                  18680.907615687698
                 ],
                 [
                  -13346227.781174313,
                  18788.73802002147
                 ],
                 [
                  -13345345.75232915,
                  18581.293412346393
                 ],
                 [
                  -13344655.637741333,
                  18673.308690719306
                 ]
                ]
               ],
               "type": "Polygon"
              },
              "id": "14",
              "properties": {
               "Nbrhood": "Weston",
               "location": 15
              },
              "type": "Feature"
             },
             {
              "bbox": [
               -13347316.97854499,
               10497.145950954407,
               -13344603.385225657,
               15096.19635527581
              ],
              "geometry": {
               "coordinates": [
                [
                 [
                  -13344603.385225657,
                  15064.405022233725
                 ],
                 [
                  -13344642.763242131,
                  10497.145950954407
                 ],
                 [
                  -13344724.736940756,
                  10595.735939837992
                 ],
                 [
                  -13345366.926904423,
                  11602.153047066182
                 ],
                 [
                  -13346680.06160625,
                  13097.40132067725
                 ],
                 [
                  -13347312.666645082,
                  13777.93098366633
                 ],
                 [
                  -13347316.97854499,
                  15096.19635527581
                 ],
                 [
                  -13344603.385225657,
                  15064.405022233725
                 ]
                ]
               ],
               "type": "Polygon"
              },
              "id": "15",
              "properties": {
               "Nbrhood": "Southton",
               "location": 16
              },
              "type": "Feature"
             },
             {
              "bbox": [
               -13344669.141488539,
               7720.558294907212,
               -13337579.497547254,
               11101.862514879555
              ],
              "geometry": {
               "coordinates": [
                [
                 [
                  -13344669.141488539,
                  9416.997867006809
                 ],
                 [
                  -13344426.07068303,
                  9376.789099343121
                 ],
                 [
                  -13343919.603254972,
                  9388.035411145538
                 ],
                 [
                  -13344015.45250328,
                  9742.677629888058
                 ],
                 [
                  -13344267.362770466,
                  10045.650789070874
                 ],
                 [
                  -13340801.609500708,
                  10044.325808536261
                 ],
                 [
                  -13339772.028825123,
                  10704.088134400547
                 ],
                 [
                  -13338276.780551504,
                  11101.862514879555
                 ],
                 [
                  -13338041.949893149,
                  10876.61678135395
                 ],
                 [
                  -13337605.917254657,
                  10852.277091346681
                 ],
                 [
                  -13337579.497547254,
                  8833.493484333158
                 ],
                 [
                  -13337843.082980104,
                  8605.851519595832
                 ],
                 [
                  -13338250.442285415,
                  8593.870363555849
                 ],
                 [
                  -13338394.216157876,
                  8438.11533505842
                 ],
                 [
                  -13338406.19554747,
                  7720.558294907212
                 ],
                 [
                  -13341066.99171492,
                  7724.139840532094
                 ],
                 [
                  -13341078.493624715,
                  8793.81745165214
                 ],
                 [
                  -13343987.757934008,
                  8852.860588606447
                 ],
                 [
                  -13344382.736711409,
                  8690.915296152234
                 ],
                 [
                  -13344669.141488539,
                  9416.997867006809
                 ]
                ]
               ],
               "type": "Polygon"
              },
              "id": "16",
              "properties": {
               "Nbrhood": "Oak Willow",
               "location": 17
              },
              "type": "Feature"
             },
             {
              "bbox": [
               -13341170.017549999,
               10044.325808536261,
               -13336906.003355103,
               15067.313280094415
              ],
              "geometry": {
               "coordinates": [
                [
                 [
                  -13341170.017549999,
                  10044.466653384268
                 ],
                 [
                  -13341132.317431018,
                  15067.313280094415
                 ],
                 [
                  -13336906.003355103,
                  15028.610558889806
                 ],
                 [
                  -13336920.437752815,
                  13440.872453544289
                 ],
                 [
                  -13337624.929727884,
                  12305.058861088008
                 ],
                 [
                  -13337605.917254657,
                  10852.277091346681
                 ],
                 [
                  -13338041.949893149,
                  10876.61678135395
                 ],
                 [
                  -13338276.780551504,
                  11101.862514879555
                 ],
                 [
                  -13339772.028825123,
                  10704.088134400547
                 ],
                 [
                  -13340801.609500708,
                  10044.325808536261
                 ],
                 [
                  -13341170.017549999,
                  10044.466653384268
                 ]
                ]
               ],
               "type": "Polygon"
              },
              "id": "17",
              "properties": {
               "Nbrhood": "East Parton",
               "location": 18
              },
              "type": "Feature"
             },
             {
              "bbox": [
               -13344642.763242131,
               10044.466653384268,
               -13341132.317431018,
               15067.313280094415
              ],
              "geometry": {
               "coordinates": [
                [
                 [
                  -13341132.317431018,
                  15067.313280094415
                 ],
                 [
                  -13341170.017549999,
                  10044.466653384268
                 ],
                 [
                  -13344267.362770466,
                  10045.650789070874
                 ],
                 [
                  -13344642.763242131,
                  10497.145950954407
                 ],
                 [
                  -13344603.385225657,
                  15064.405022233725
                 ],
                 [
                  -13341132.317431018,
                  15067.313280094415
                 ]
                ]
               ],
               "type": "Polygon"
              },
              "id": "18",
              "properties": {
               "Nbrhood": "West Parton",
               "location": 19
              },
              "type": "Feature"
             }
            ],
            "type": "FeatureCollection"
           },
           "hovertemplate": "<b>%{hovertext}</b><br><br>animation_frame=2020-04-10 23:05:00<br>_index=%{location}<br>sewer_and_water=%{z}<extra></extra>",
           "hovertext": [
            10
           ],
           "locations": [
            9
           ],
           "name": "",
           "type": "choropleth",
           "z": [
            4
           ]
          }
         ],
         "name": "2020-04-10 23:05:00"
        }
       ],
       "layout": {
        "coloraxis": {
         "colorbar": {
          "title": {
           "text": "Sewer and Water Damage Intensity"
          }
         },
         "colorscale": [
          [
           0,
           "#0d0887"
          ],
          [
           0.1111111111111111,
           "#46039f"
          ],
          [
           0.2222222222222222,
           "#7201a8"
          ],
          [
           0.3333333333333333,
           "#9c179e"
          ],
          [
           0.4444444444444444,
           "#bd3786"
          ],
          [
           0.5555555555555556,
           "#d8576b"
          ],
          [
           0.6666666666666666,
           "#ed7953"
          ],
          [
           0.7777777777777778,
           "#fb9f3a"
          ],
          [
           0.8888888888888888,
           "#fdca26"
          ],
          [
           1,
           "#f0f921"
          ]
         ]
        },
        "geo": {
         "center": {},
         "domain": {
          "x": [
           0,
           1
          ],
          "y": [
           0,
           1
          ]
         },
         "fitbounds": "locations",
         "visible": false
        },
        "legend": {
         "tracegroupgap": 0
        },
        "sliders": [
         {
          "active": 0,
          "currentvalue": {
           "prefix": "Date: "
          },
          "len": 0.9,
          "pad": {
           "b": 10,
           "t": 60
          },
          "steps": [
           {
            "args": [
             [
              "2020-04-07 16:50:00"
             ],
             {
              "frame": {
               "duration": 0,
               "redraw": true
              },
              "fromcurrent": true,
              "mode": "immediate",
              "transition": {
               "duration": 0,
               "easing": "linear"
              }
             }
            ],
            "label": "2020-04-07 16:50:00",
            "method": "animate"
           },
           {
            "args": [
             [
              "2020-04-07 21:50:00"
             ],
             {
              "frame": {
               "duration": 0,
               "redraw": true
              },
              "fromcurrent": true,
              "mode": "immediate",
              "transition": {
               "duration": 0,
               "easing": "linear"
              }
             }
            ],
            "label": "2020-04-07 21:50:00",
            "method": "animate"
           },
           {
            "args": [
             [
              "2020-04-08 10:15:00"
             ],
             {
              "frame": {
               "duration": 0,
               "redraw": true
              },
              "fromcurrent": true,
              "mode": "immediate",
              "transition": {
               "duration": 0,
               "easing": "linear"
              }
             }
            ],
            "label": "2020-04-08 10:15:00",
            "method": "animate"
           },
           {
            "args": [
             [
              "2020-04-08 10:30:00"
             ],
             {
              "frame": {
               "duration": 0,
               "redraw": true
              },
              "fromcurrent": true,
              "mode": "immediate",
              "transition": {
               "duration": 0,
               "easing": "linear"
              }
             }
            ],
            "label": "2020-04-08 10:30:00",
            "method": "animate"
           },
           {
            "args": [
             [
              "2020-04-09 15:05:00"
             ],
             {
              "frame": {
               "duration": 0,
               "redraw": true
              },
              "fromcurrent": true,
              "mode": "immediate",
              "transition": {
               "duration": 0,
               "easing": "linear"
              }
             }
            ],
            "label": "2020-04-09 15:05:00",
            "method": "animate"
           },
           {
            "args": [
             [
              "2020-04-09 21:50:00"
             ],
             {
              "frame": {
               "duration": 0,
               "redraw": true
              },
              "fromcurrent": true,
              "mode": "immediate",
              "transition": {
               "duration": 0,
               "easing": "linear"
              }
             }
            ],
            "label": "2020-04-09 21:50:00",
            "method": "animate"
           },
           {
            "args": [
             [
              "2020-04-09 22:40:00"
             ],
             {
              "frame": {
               "duration": 0,
               "redraw": true
              },
              "fromcurrent": true,
              "mode": "immediate",
              "transition": {
               "duration": 0,
               "easing": "linear"
              }
             }
            ],
            "label": "2020-04-09 22:40:00",
            "method": "animate"
           },
           {
            "args": [
             [
              "2020-04-10 09:20:00"
             ],
             {
              "frame": {
               "duration": 0,
               "redraw": true
              },
              "fromcurrent": true,
              "mode": "immediate",
              "transition": {
               "duration": 0,
               "easing": "linear"
              }
             }
            ],
            "label": "2020-04-10 09:20:00",
            "method": "animate"
           },
           {
            "args": [
             [
              "2020-04-10 23:00:00"
             ],
             {
              "frame": {
               "duration": 0,
               "redraw": true
              },
              "fromcurrent": true,
              "mode": "immediate",
              "transition": {
               "duration": 0,
               "easing": "linear"
              }
             }
            ],
            "label": "2020-04-10 23:00:00",
            "method": "animate"
           },
           {
            "args": [
             [
              "2020-04-10 23:05:00"
             ],
             {
              "frame": {
               "duration": 0,
               "redraw": true
              },
              "fromcurrent": true,
              "mode": "immediate",
              "transition": {
               "duration": 0,
               "easing": "linear"
              }
             }
            ],
            "label": "2020-04-10 23:05:00",
            "method": "animate"
           }
          ],
          "x": 0.1,
          "xanchor": "left",
          "y": 0,
          "yanchor": "top"
         }
        ],
        "template": {
         "data": {
          "bar": [
           {
            "error_x": {
             "color": "#2a3f5f"
            },
            "error_y": {
             "color": "#2a3f5f"
            },
            "marker": {
             "line": {
              "color": "#E5ECF6",
              "width": 0.5
             },
             "pattern": {
              "fillmode": "overlay",
              "size": 10,
              "solidity": 0.2
             }
            },
            "type": "bar"
           }
          ],
          "barpolar": [
           {
            "marker": {
             "line": {
              "color": "#E5ECF6",
              "width": 0.5
             },
             "pattern": {
              "fillmode": "overlay",
              "size": 10,
              "solidity": 0.2
             }
            },
            "type": "barpolar"
           }
          ],
          "carpet": [
           {
            "aaxis": {
             "endlinecolor": "#2a3f5f",
             "gridcolor": "white",
             "linecolor": "white",
             "minorgridcolor": "white",
             "startlinecolor": "#2a3f5f"
            },
            "baxis": {
             "endlinecolor": "#2a3f5f",
             "gridcolor": "white",
             "linecolor": "white",
             "minorgridcolor": "white",
             "startlinecolor": "#2a3f5f"
            },
            "type": "carpet"
           }
          ],
          "choropleth": [
           {
            "colorbar": {
             "outlinewidth": 0,
             "ticks": ""
            },
            "type": "choropleth"
           }
          ],
          "contour": [
           {
            "colorbar": {
             "outlinewidth": 0,
             "ticks": ""
            },
            "colorscale": [
             [
              0,
              "#0d0887"
             ],
             [
              0.1111111111111111,
              "#46039f"
             ],
             [
              0.2222222222222222,
              "#7201a8"
             ],
             [
              0.3333333333333333,
              "#9c179e"
             ],
             [
              0.4444444444444444,
              "#bd3786"
             ],
             [
              0.5555555555555556,
              "#d8576b"
             ],
             [
              0.6666666666666666,
              "#ed7953"
             ],
             [
              0.7777777777777778,
              "#fb9f3a"
             ],
             [
              0.8888888888888888,
              "#fdca26"
             ],
             [
              1,
              "#f0f921"
             ]
            ],
            "type": "contour"
           }
          ],
          "contourcarpet": [
           {
            "colorbar": {
             "outlinewidth": 0,
             "ticks": ""
            },
            "type": "contourcarpet"
           }
          ],
          "heatmap": [
           {
            "colorbar": {
             "outlinewidth": 0,
             "ticks": ""
            },
            "colorscale": [
             [
              0,
              "#0d0887"
             ],
             [
              0.1111111111111111,
              "#46039f"
             ],
             [
              0.2222222222222222,
              "#7201a8"
             ],
             [
              0.3333333333333333,
              "#9c179e"
             ],
             [
              0.4444444444444444,
              "#bd3786"
             ],
             [
              0.5555555555555556,
              "#d8576b"
             ],
             [
              0.6666666666666666,
              "#ed7953"
             ],
             [
              0.7777777777777778,
              "#fb9f3a"
             ],
             [
              0.8888888888888888,
              "#fdca26"
             ],
             [
              1,
              "#f0f921"
             ]
            ],
            "type": "heatmap"
           }
          ],
          "heatmapgl": [
           {
            "colorbar": {
             "outlinewidth": 0,
             "ticks": ""
            },
            "colorscale": [
             [
              0,
              "#0d0887"
             ],
             [
              0.1111111111111111,
              "#46039f"
             ],
             [
              0.2222222222222222,
              "#7201a8"
             ],
             [
              0.3333333333333333,
              "#9c179e"
             ],
             [
              0.4444444444444444,
              "#bd3786"
             ],
             [
              0.5555555555555556,
              "#d8576b"
             ],
             [
              0.6666666666666666,
              "#ed7953"
             ],
             [
              0.7777777777777778,
              "#fb9f3a"
             ],
             [
              0.8888888888888888,
              "#fdca26"
             ],
             [
              1,
              "#f0f921"
             ]
            ],
            "type": "heatmapgl"
           }
          ],
          "histogram": [
           {
            "marker": {
             "pattern": {
              "fillmode": "overlay",
              "size": 10,
              "solidity": 0.2
             }
            },
            "type": "histogram"
           }
          ],
          "histogram2d": [
           {
            "colorbar": {
             "outlinewidth": 0,
             "ticks": ""
            },
            "colorscale": [
             [
              0,
              "#0d0887"
             ],
             [
              0.1111111111111111,
              "#46039f"
             ],
             [
              0.2222222222222222,
              "#7201a8"
             ],
             [
              0.3333333333333333,
              "#9c179e"
             ],
             [
              0.4444444444444444,
              "#bd3786"
             ],
             [
              0.5555555555555556,
              "#d8576b"
             ],
             [
              0.6666666666666666,
              "#ed7953"
             ],
             [
              0.7777777777777778,
              "#fb9f3a"
             ],
             [
              0.8888888888888888,
              "#fdca26"
             ],
             [
              1,
              "#f0f921"
             ]
            ],
            "type": "histogram2d"
           }
          ],
          "histogram2dcontour": [
           {
            "colorbar": {
             "outlinewidth": 0,
             "ticks": ""
            },
            "colorscale": [
             [
              0,
              "#0d0887"
             ],
             [
              0.1111111111111111,
              "#46039f"
             ],
             [
              0.2222222222222222,
              "#7201a8"
             ],
             [
              0.3333333333333333,
              "#9c179e"
             ],
             [
              0.4444444444444444,
              "#bd3786"
             ],
             [
              0.5555555555555556,
              "#d8576b"
             ],
             [
              0.6666666666666666,
              "#ed7953"
             ],
             [
              0.7777777777777778,
              "#fb9f3a"
             ],
             [
              0.8888888888888888,
              "#fdca26"
             ],
             [
              1,
              "#f0f921"
             ]
            ],
            "type": "histogram2dcontour"
           }
          ],
          "mesh3d": [
           {
            "colorbar": {
             "outlinewidth": 0,
             "ticks": ""
            },
            "type": "mesh3d"
           }
          ],
          "parcoords": [
           {
            "line": {
             "colorbar": {
              "outlinewidth": 0,
              "ticks": ""
             }
            },
            "type": "parcoords"
           }
          ],
          "pie": [
           {
            "automargin": true,
            "type": "pie"
           }
          ],
          "scatter": [
           {
            "fillpattern": {
             "fillmode": "overlay",
             "size": 10,
             "solidity": 0.2
            },
            "type": "scatter"
           }
          ],
          "scatter3d": [
           {
            "line": {
             "colorbar": {
              "outlinewidth": 0,
              "ticks": ""
             }
            },
            "marker": {
             "colorbar": {
              "outlinewidth": 0,
              "ticks": ""
             }
            },
            "type": "scatter3d"
           }
          ],
          "scattercarpet": [
           {
            "marker": {
             "colorbar": {
              "outlinewidth": 0,
              "ticks": ""
             }
            },
            "type": "scattercarpet"
           }
          ],
          "scattergeo": [
           {
            "marker": {
             "colorbar": {
              "outlinewidth": 0,
              "ticks": ""
             }
            },
            "type": "scattergeo"
           }
          ],
          "scattergl": [
           {
            "marker": {
             "colorbar": {
              "outlinewidth": 0,
              "ticks": ""
             }
            },
            "type": "scattergl"
           }
          ],
          "scattermapbox": [
           {
            "marker": {
             "colorbar": {
              "outlinewidth": 0,
              "ticks": ""
             }
            },
            "type": "scattermapbox"
           }
          ],
          "scatterpolar": [
           {
            "marker": {
             "colorbar": {
              "outlinewidth": 0,
              "ticks": ""
             }
            },
            "type": "scatterpolar"
           }
          ],
          "scatterpolargl": [
           {
            "marker": {
             "colorbar": {
              "outlinewidth": 0,
              "ticks": ""
             }
            },
            "type": "scatterpolargl"
           }
          ],
          "scatterternary": [
           {
            "marker": {
             "colorbar": {
              "outlinewidth": 0,
              "ticks": ""
             }
            },
            "type": "scatterternary"
           }
          ],
          "surface": [
           {
            "colorbar": {
             "outlinewidth": 0,
             "ticks": ""
            },
            "colorscale": [
             [
              0,
              "#0d0887"
             ],
             [
              0.1111111111111111,
              "#46039f"
             ],
             [
              0.2222222222222222,
              "#7201a8"
             ],
             [
              0.3333333333333333,
              "#9c179e"
             ],
             [
              0.4444444444444444,
              "#bd3786"
             ],
             [
              0.5555555555555556,
              "#d8576b"
             ],
             [
              0.6666666666666666,
              "#ed7953"
             ],
             [
              0.7777777777777778,
              "#fb9f3a"
             ],
             [
              0.8888888888888888,
              "#fdca26"
             ],
             [
              1,
              "#f0f921"
             ]
            ],
            "type": "surface"
           }
          ],
          "table": [
           {
            "cells": {
             "fill": {
              "color": "#EBF0F8"
             },
             "line": {
              "color": "white"
             }
            },
            "header": {
             "fill": {
              "color": "#C8D4E3"
             },
             "line": {
              "color": "white"
             }
            },
            "type": "table"
           }
          ]
         },
         "layout": {
          "annotationdefaults": {
           "arrowcolor": "#2a3f5f",
           "arrowhead": 0,
           "arrowwidth": 1
          },
          "autotypenumbers": "strict",
          "coloraxis": {
           "colorbar": {
            "outlinewidth": 0,
            "ticks": ""
           }
          },
          "colorscale": {
           "diverging": [
            [
             0,
             "#8e0152"
            ],
            [
             0.1,
             "#c51b7d"
            ],
            [
             0.2,
             "#de77ae"
            ],
            [
             0.3,
             "#f1b6da"
            ],
            [
             0.4,
             "#fde0ef"
            ],
            [
             0.5,
             "#f7f7f7"
            ],
            [
             0.6,
             "#e6f5d0"
            ],
            [
             0.7,
             "#b8e186"
            ],
            [
             0.8,
             "#7fbc41"
            ],
            [
             0.9,
             "#4d9221"
            ],
            [
             1,
             "#276419"
            ]
           ],
           "sequential": [
            [
             0,
             "#0d0887"
            ],
            [
             0.1111111111111111,
             "#46039f"
            ],
            [
             0.2222222222222222,
             "#7201a8"
            ],
            [
             0.3333333333333333,
             "#9c179e"
            ],
            [
             0.4444444444444444,
             "#bd3786"
            ],
            [
             0.5555555555555556,
             "#d8576b"
            ],
            [
             0.6666666666666666,
             "#ed7953"
            ],
            [
             0.7777777777777778,
             "#fb9f3a"
            ],
            [
             0.8888888888888888,
             "#fdca26"
            ],
            [
             1,
             "#f0f921"
            ]
           ],
           "sequentialminus": [
            [
             0,
             "#0d0887"
            ],
            [
             0.1111111111111111,
             "#46039f"
            ],
            [
             0.2222222222222222,
             "#7201a8"
            ],
            [
             0.3333333333333333,
             "#9c179e"
            ],
            [
             0.4444444444444444,
             "#bd3786"
            ],
            [
             0.5555555555555556,
             "#d8576b"
            ],
            [
             0.6666666666666666,
             "#ed7953"
            ],
            [
             0.7777777777777778,
             "#fb9f3a"
            ],
            [
             0.8888888888888888,
             "#fdca26"
            ],
            [
             1,
             "#f0f921"
            ]
           ]
          },
          "colorway": [
           "#636efa",
           "#EF553B",
           "#00cc96",
           "#ab63fa",
           "#FFA15A",
           "#19d3f3",
           "#FF6692",
           "#B6E880",
           "#FF97FF",
           "#FECB52"
          ],
          "font": {
           "color": "#2a3f5f"
          },
          "geo": {
           "bgcolor": "white",
           "lakecolor": "white",
           "landcolor": "#E5ECF6",
           "showlakes": true,
           "showland": true,
           "subunitcolor": "white"
          },
          "hoverlabel": {
           "align": "left"
          },
          "hovermode": "closest",
          "mapbox": {
           "style": "light"
          },
          "paper_bgcolor": "white",
          "plot_bgcolor": "#E5ECF6",
          "polar": {
           "angularaxis": {
            "gridcolor": "white",
            "linecolor": "white",
            "ticks": ""
           },
           "bgcolor": "#E5ECF6",
           "radialaxis": {
            "gridcolor": "white",
            "linecolor": "white",
            "ticks": ""
           }
          },
          "scene": {
           "xaxis": {
            "backgroundcolor": "#E5ECF6",
            "gridcolor": "white",
            "gridwidth": 2,
            "linecolor": "white",
            "showbackground": true,
            "ticks": "",
            "zerolinecolor": "white"
           },
           "yaxis": {
            "backgroundcolor": "#E5ECF6",
            "gridcolor": "white",
            "gridwidth": 2,
            "linecolor": "white",
            "showbackground": true,
            "ticks": "",
            "zerolinecolor": "white"
           },
           "zaxis": {
            "backgroundcolor": "#E5ECF6",
            "gridcolor": "white",
            "gridwidth": 2,
            "linecolor": "white",
            "showbackground": true,
            "ticks": "",
            "zerolinecolor": "white"
           }
          },
          "shapedefaults": {
           "line": {
            "color": "#2a3f5f"
           }
          },
          "ternary": {
           "aaxis": {
            "gridcolor": "white",
            "linecolor": "white",
            "ticks": ""
           },
           "baxis": {
            "gridcolor": "white",
            "linecolor": "white",
            "ticks": ""
           },
           "bgcolor": "#E5ECF6",
           "caxis": {
            "gridcolor": "white",
            "linecolor": "white",
            "ticks": ""
           }
          },
          "title": {
           "x": 0.05
          },
          "xaxis": {
           "automargin": true,
           "gridcolor": "white",
           "linecolor": "white",
           "ticks": "",
           "title": {
            "standoff": 15
           },
           "zerolinecolor": "white",
           "zerolinewidth": 2
          },
          "yaxis": {
           "automargin": true,
           "gridcolor": "white",
           "linecolor": "white",
           "ticks": "",
           "title": {
            "standoff": 15
           },
           "zerolinecolor": "white",
           "zerolinewidth": 2
          }
         }
        },
        "title": {
         "text": "Infrastructure Status Over Time by Neighborhood"
        },
        "updatemenus": [
         {
          "buttons": [
           {
            "args": [
             null,
             {
              "frame": {
               "duration": 500,
               "redraw": true
              },
              "fromcurrent": true,
              "mode": "immediate",
              "transition": {
               "duration": 500,
               "easing": "linear"
              }
             }
            ],
            "label": "&#9654;",
            "method": "animate"
           },
           {
            "args": [
             [
              null
             ],
             {
              "frame": {
               "duration": 0,
               "redraw": true
              },
              "fromcurrent": true,
              "mode": "immediate",
              "transition": {
               "duration": 0,
               "easing": "linear"
              }
             }
            ],
            "label": "&#9724;",
            "method": "animate"
           }
          ],
          "direction": "left",
          "pad": {
           "r": 10,
           "t": 70
          },
          "showactive": false,
          "type": "buttons",
          "x": 0.1,
          "xanchor": "right",
          "y": 0,
          "yanchor": "top"
         }
        ]
       }
      }
     },
     "metadata": {},
     "output_type": "display_data"
    }
   ],
   "source": [
    "\n",
    "# Assuming 'sth_neighborhood' is your base map (GeoDataFrame)\n",
    "# and 'sample_data' contains the columns including 'time', 'geometry', and 'sewer_and_water' for visualization\n",
    "\n",
    "# Convert 'time' in sample_data to datetime and ensure it's sorted\n",
    "sample_data = sample_data.reset_index()  # Reset index if 'time' is in the index\n",
    "sample_data['time'] = pd.to_datetime(sample_data['time'])\n",
    "sample_data = sample_data.sort_values(by='time')\n",
    "\n",
    "# Plot heat map with Plotly using 'sewer_and_water' as the intensity value and animate by 'time'\n",
    "fig = px.choropleth(\n",
    "    sample_data,\n",
    "    geojson=sth_neighborhood.__geo_interface__,  # Convert sth_neighborhood to GeoJSON format\n",
    "    locations=sample_data.index,\n",
    "    color=\"sewer_and_water\",  # Adjust this to any attribute you want to visualize as heat intensity\n",
    "    animation_frame=sample_data['time'].dt.strftime('%Y-%m-%d %H:%M:%S'),\n",
    "    title=\"Infrastructure Status Over Time by Neighborhood\",\n",
    "    hover_name=\"location\",  # Optional: show location on hover\n",
    ")\n",
    "\n",
    "# Customize map appearance\n",
    "fig.update_geos(fitbounds=\"locations\", visible=False)\n",
    "fig.update_layout(\n",
    "    coloraxis_colorbar=dict(title=\"Sewer and Water Damage Intensity\"),\n",
    "    sliders=[dict(currentvalue={\"prefix\": \"Date: \"})]\n",
    ")\n",
    "\n",
    "# Show the interactive map with time slider\n",
    "fig.show()\n"
   ]
  }
 ],
 "metadata": {
  "kernelspec": {
   "display_name": "base",
   "language": "python",
   "name": "python3"
  },
  "language_info": {
   "codemirror_mode": {
    "name": "ipython",
    "version": 3
   },
   "file_extension": ".py",
   "mimetype": "text/x-python",
   "name": "python",
   "nbconvert_exporter": "python",
   "pygments_lexer": "ipython3",
   "version": "3.11.7"
  }
 },
 "nbformat": 4,
 "nbformat_minor": 2
}
